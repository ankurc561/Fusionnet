{
 "cells": [
  {
   "cell_type": "code",
   "execution_count": null,
   "metadata": {
    "id": "xhjrHIL1hrb0"
   },
   "outputs": [],
   "source": [
    "import pandas as pd\n",
    "import json\n",
    "import gcsfs\n",
    "from tqdm.notebook import tqdm\n",
    "from concurrent.futures import ThreadPoolExecutor\n",
    "import os\n",
    "import warnings"
   ]
  },
  {
   "cell_type": "code",
   "execution_count": null,
   "metadata": {},
   "outputs": [],
   "source": [
    "os.environ[\"GOOGLE_APPLICATION_CREDENTIALS\"] = \"/mnt/disks/data/diss_bucket_key.json\"\n",
    "# Turn off all warnings\n",
    "warnings.filterwarnings('ignore')"
   ]
  },
  {
   "cell_type": "code",
   "execution_count": null,
   "metadata": {
    "id": "xJNfaheVhtne"
   },
   "outputs": [],
   "source": [
    "# ==========================\n",
    "# STEP 2: Set GCS Path\n",
    "# ==========================\n",
    "BUCKET_NAME = \"diss_market_data\"\n",
    "FOLDER_PATH = \"EXTRACTED_FILINGS/10-Q/\"\n",
    "GCS_PATH = f\"{BUCKET_NAME}/{FOLDER_PATH}\""
   ]
  },
  {
   "cell_type": "code",
   "execution_count": null,
   "metadata": {
    "id": "FH114VVuhwsA"
   },
   "outputs": [],
   "source": [
    "# ==========================\n",
    "# STEP 3: Authenticate (if needed)\n",
    "# ==========================\n",
    "from google.colab import auth\n",
    "auth.authenticate_user()"
   ]
  },
  {
   "cell_type": "code",
   "execution_count": null,
   "metadata": {
    "id": "IHTPmYAxh1BO"
   },
   "outputs": [],
   "source": [
    "# ==========================\n",
    "# STEP 4: Read Files from GCS\n",
    "# ==========================\n",
    "fs = gcsfs.GCSFileSystem(project='your-gcp-project-id')  # Replace with your GCP project ID"
   ]
  },
  {
   "cell_type": "code",
   "execution_count": null,
   "metadata": {
    "id": "s6IrkaSAh5xb"
   },
   "outputs": [],
   "source": [
    "# List all JSON files in the 10-Q folder\n",
    "file_list = fs.ls(GCS_PATH)\n",
    "json_files = [file for file in file_list if file.endswith('.json')]"
   ]
  },
  {
   "cell_type": "code",
   "execution_count": null,
   "metadata": {
    "id": "eD3og7TLjfI5"
   },
   "outputs": [],
   "source": [
    "# ==========================\n",
    "# STEP 5: Parallel File Reading Function\n",
    "# ==========================\n",
    "def load_json_file(file_path):\n",
    "    try:\n",
    "        with fs.open(file_path, 'r') as f:\n",
    "            return json.load(f)\n",
    "    except Exception as e:\n",
    "        print(f\"Failed to load {file_path}: {e}\")\n",
    "        return None"
   ]
  },
  {
   "cell_type": "code",
   "execution_count": null,
   "metadata": {
    "colab": {
     "base_uri": "https://localhost:8080/",
     "height": 49,
     "referenced_widgets": [
      "4c07bc60a7bc41f5ac4b032811b8f873",
      "773ff1be65a543b0ae8fd3bd32c713fa",
      "6ce07c17bc3e4a29948763780b247167",
      "bc2a68ced44846a499a98ee82d5fc837",
      "7e4a16e10a9c49d1b2e9e33edcd50dc4",
      "f2895de2083147e5ad70a91e3975e9d9",
      "27841e94fd214e6e96da193c82958bc9",
      "3a3d0e5c41b04c5884c89a860164657a",
      "877df1053f8542d89af2b1421ee83cf1",
      "4643279bfae140468f08fdda95340abc",
      "7f59c61ff8274750a96cb4c24dcb0ee4"
     ]
    },
    "id": "l5VlRjIQh72j",
    "outputId": "2a4281be-b966-49f0-bef2-ddc52d1e4e95"
   },
   "outputs": [],
   "source": [
    "data_rows = []\n",
    "\n",
    "with ThreadPoolExecutor(max_workers=20) as executor:\n",
    "    for result in tqdm(executor.map(load_json_file, json_files), total=len(json_files), desc=\"Reading 10-Q files\"):\n",
    "        if result is not None:\n",
    "            data_rows.append(result)\n",
    "\n",
    "df = pd.DataFrame(data_rows)"
   ]
  },
  {
   "cell_type": "code",
   "execution_count": null,
   "metadata": {
    "colab": {
     "base_uri": "https://localhost:8080/"
    },
    "id": "hrlwyGOCiZWH",
    "outputId": "52b1c646-4dde-4d0b-e84f-9cee195563e9"
   },
   "outputs": [],
   "source": [
    "# ==========================\n",
    "# STEP 6: Show & Save\n",
    "# ==========================\n",
    "print(f\"\\nLoaded {len(df)} documents from 10-Q folder.\")\n",
    "len(df)"
   ]
  },
  {
   "cell_type": "code",
   "execution_count": null,
   "metadata": {
    "id": "gacMeoCck0JO"
   },
   "outputs": [],
   "source": [
    "# Optional: Save to CSV\n",
    "df.to_csv(\"10Q_combined_dataset.csv\", index=False)"
   ]
  },
  {
   "cell_type": "markdown",
   "metadata": {
    "id": "0heCigf0kCDZ"
   },
   "source": [
    "## 8-K"
   ]
  },
  {
   "cell_type": "code",
   "execution_count": null,
   "metadata": {
    "id": "RIj_3Fjpj6mn"
   },
   "outputs": [],
   "source": [
    "FOLDER_PATH_8k = \"EXTRACTED_FILINGS/8-K/\"\n",
    "GCS_PATH_8k = f\"{BUCKET_NAME}/{FOLDER_PATH_8k}\""
   ]
  },
  {
   "cell_type": "code",
   "execution_count": null,
   "metadata": {
    "id": "CeyC3Xy_kIEn"
   },
   "outputs": [],
   "source": [
    "# List all JSON files in the 10-Q folder\n",
    "file_list_8k = fs.ls(GCS_PATH_8k)\n",
    "json_files_8k = [file for file in file_list_8k if file.endswith('.json')]"
   ]
  },
  {
   "cell_type": "code",
   "execution_count": null,
   "metadata": {
    "colab": {
     "base_uri": "https://localhost:8080/",
     "height": 49,
     "referenced_widgets": [
      "c9e74812e5224562883a5b4820abb5b2",
      "0d245933fdb24984b556969f8d1d4f2b",
      "7112ec1aa22a4acfb49b3164ea86f860",
      "68c1ec8b02304d9db2f8218e348851f5",
      "a220102737404818aad2dd591ec56776",
      "d50f862e5c9343eeb0bb050cc38938b3",
      "f6823d45abac4ddd8c3e5401a9404d10",
      "121e49bac6204ce2b25e4e209f030771",
      "a69e432319ee4d139b4aa0dab05372d8",
      "76026ceaeef8422aa75f9f770c13a0b3",
      "7462a2ebcdcb46de96c63e68b22eaa77"
     ]
    },
    "id": "Ie0u3WRekPFj",
    "outputId": "3e9842f5-2e3c-4e5b-ffe9-fcd5b6254a82"
   },
   "outputs": [],
   "source": [
    "data_rows_8k = []\n",
    "\n",
    "with ThreadPoolExecutor(max_workers=10) as executor:\n",
    "    for result in tqdm(executor.map(load_json_file, json_files_8k), total=len(json_files_8k), desc=\"Reading 8-K files\"):\n",
    "        if result is not None:\n",
    "            data_rows_8k.append(result)\n",
    "\n",
    "df_8k = pd.DataFrame(data_rows_8k)"
   ]
  },
  {
   "cell_type": "code",
   "execution_count": null,
   "metadata": {
    "colab": {
     "base_uri": "https://localhost:8080/",
     "height": 550
    },
    "id": "PaXccFbgkSFb",
    "outputId": "7206f78a-7148-4d74-cc47-3fe5a6ce49ee"
   },
   "outputs": [],
   "source": [
    "# ==========================\n",
    "# STEP 6: Show & Save\n",
    "# ==========================\n",
    "print(f\"\\nLoaded {len(df_8k)} documents from 8-K folder.\")\n",
    "df_8k.head()"
   ]
  },
  {
   "cell_type": "markdown",
   "metadata": {
    "id": "IYi8Zeuyn4Pv"
   },
   "source": [
    "# Optional: Save to CSV\n",
    "df_8k.to_csv(\"8K_combined_dataset.csv\", index=False)"
   ]
  },
  {
   "cell_type": "code",
   "execution_count": null,
   "metadata": {
    "colab": {
     "base_uri": "https://localhost:8080/"
    },
    "id": "MhADG5_5n89f",
    "outputId": "a0ae4642-038f-400f-bab3-f97dbc17843d"
   },
   "outputs": [],
   "source": [
    "!gsutil -m cp '10Q_combined_dataset.csv' 'gs://diss_market_data/10Q_combined_dataset.csv'"
   ]
  },
  {
   "cell_type": "code",
   "execution_count": null,
   "metadata": {
    "colab": {
     "base_uri": "https://localhost:8080/"
    },
    "id": "pezuqeu1oDzn",
    "outputId": "24735357-bae0-4d8d-ca8d-687ded86f240"
   },
   "outputs": [],
   "source": [
    "!gsutil -m cp '8K_combined_dataset.csv' 'gs://diss_market_data/8K_combined_dataset.csv'"
   ]
  },
  {
   "cell_type": "markdown",
   "metadata": {},
   "source": [
    "# 10-K"
   ]
  },
  {
   "cell_type": "code",
   "execution_count": null,
   "metadata": {
    "id": "xhjrHIL1hrb0"
   },
   "outputs": [],
   "source": [
    "import pandas as pd\n",
    "import json\n",
    "import gcsfs\n",
    "from tqdm.notebook import tqdm\n",
    "from concurrent.futures import ThreadPoolExecutor"
   ]
  },
  {
   "cell_type": "code",
   "execution_count": null,
   "metadata": {
    "id": "xJNfaheVhtne"
   },
   "outputs": [],
   "source": [
    "# ==========================\n",
    "# STEP 2: Set GCS Path\n",
    "# ==========================\n",
    "BUCKET_NAME = \"diss_market_data\"\n",
    "FOLDER_PATH = \"EXTRACTED_FILINGS/10-K/\"\n",
    "GCS_PATH = f\"{BUCKET_NAME}/{FOLDER_PATH}\""
   ]
  },
  {
   "cell_type": "code",
   "execution_count": null,
   "metadata": {
    "id": "IHTPmYAxh1BO"
   },
   "outputs": [],
   "source": [
    "# ==========================\n",
    "# STEP 4: Read Files from GCS\n",
    "# ==========================\n",
    "fs = gcsfs.GCSFileSystem(project='your-gcp-project-id')  # Replace with your GCP project ID"
   ]
  },
  {
   "cell_type": "code",
   "execution_count": null,
   "metadata": {
    "id": "s6IrkaSAh5xb"
   },
   "outputs": [],
   "source": [
    "# List all JSON files in the 10-Q folder\n",
    "file_list = fs.ls(GCS_PATH)\n",
    "json_files = [file for file in file_list if file.endswith('.json')]"
   ]
  },
  {
   "cell_type": "code",
   "execution_count": null,
   "metadata": {
    "id": "eD3og7TLjfI5"
   },
   "outputs": [],
   "source": [
    "# ==========================\n",
    "# STEP 5: Parallel File Reading Function\n",
    "# ==========================\n",
    "def load_json_file(file_path):\n",
    "    try:\n",
    "        with fs.open(file_path, 'r') as f:\n",
    "            return json.load(f)\n",
    "    except Exception as e:\n",
    "        print(f\"Failed to load {file_path}: {e}\")\n",
    "        return None"
   ]
  },
  {
   "cell_type": "code",
   "execution_count": null,
   "metadata": {
    "colab": {
     "base_uri": "https://localhost:8080/",
     "height": 49,
     "referenced_widgets": [
      "4c07bc60a7bc41f5ac4b032811b8f873",
      "773ff1be65a543b0ae8fd3bd32c713fa",
      "6ce07c17bc3e4a29948763780b247167",
      "bc2a68ced44846a499a98ee82d5fc837",
      "7e4a16e10a9c49d1b2e9e33edcd50dc4",
      "f2895de2083147e5ad70a91e3975e9d9",
      "27841e94fd214e6e96da193c82958bc9",
      "3a3d0e5c41b04c5884c89a860164657a",
      "877df1053f8542d89af2b1421ee83cf1",
      "4643279bfae140468f08fdda95340abc",
      "7f59c61ff8274750a96cb4c24dcb0ee4"
     ]
    },
    "id": "l5VlRjIQh72j",
    "outputId": "2a4281be-b966-49f0-bef2-ddc52d1e4e95"
   },
   "outputs": [],
   "source": [
    "data_rows = []\n",
    "\n",
    "with ThreadPoolExecutor(max_workers=20) as executor:\n",
    "    for result in tqdm(executor.map(load_json_file, json_files), total=len(json_files), desc=\"Reading 10-Q files\"):\n",
    "        if result is not None:\n",
    "            data_rows.append(result)\n",
    "\n",
    "df = pd.DataFrame(data_rows)"
   ]
  },
  {
   "cell_type": "code",
   "execution_count": null,
   "metadata": {
    "colab": {
     "base_uri": "https://localhost:8080/"
    },
    "id": "hrlwyGOCiZWH",
    "outputId": "52b1c646-4dde-4d0b-e84f-9cee195563e9"
   },
   "outputs": [],
   "source": [
    "# ==========================\n",
    "# STEP 6: Show & Save\n",
    "# ==========================\n",
    "print(f\"\\nLoaded {len(df)} documents from 10-Q folder.\")\n",
    "len(df)"
   ]
  },
  {
   "cell_type": "code",
   "execution_count": null,
   "metadata": {
    "id": "gacMeoCck0JO"
   },
   "outputs": [],
   "source": [
    "# Optional: Save to CSV\n",
    "df.to_csv(\"Data/10K_combined_dataset.csv\", index=False)"
   ]
  },
  {
   "cell_type": "code",
   "execution_count": null,
   "metadata": {
    "colab": {
     "base_uri": "https://localhost:8080/"
    },
    "id": "5R8h8eEbA0QC",
    "outputId": "d4f7fa9f-d289-405c-d041-a4cc8fb2c31e"
   },
   "outputs": [],
   "source": [
    "load_df = pd.read_csv(\"Data/10K_combined_dataset.csv\")"
   ]
  },
  {
   "cell_type": "code",
   "execution_count": null,
   "metadata": {},
   "outputs": [],
   "source": [
    "load_df.head()"
   ]
  },
  {
   "cell_type": "code",
   "execution_count": null,
   "metadata": {},
   "outputs": [],
   "source": [
    "load_df.keys()"
   ]
  },
  {
   "cell_type": "code",
   "execution_count": null,
   "metadata": {},
   "outputs": [],
   "source": [
    "!gsutil -m cp 'Data/10K_combined_dataset.csv' 'gs://diss_market_data/10K_combined_dataset.csv'"
   ]
  },
  {
   "cell_type": "code",
   "execution_count": null,
   "metadata": {},
   "outputs": [],
   "source": []
  }
 ],
 "metadata": {
  "colab": {
   "provenance": []
  },
  "kernelspec": {
   "display_name": "Python 3 (ipykernel)",
   "language": "python",
   "name": "python3"
  },
  "language_info": {
   "codemirror_mode": {
    "name": "ipython",
    "version": 3
   },
   "file_extension": ".py",
   "mimetype": "text/x-python",
   "name": "python",
   "nbconvert_exporter": "python",
   "pygments_lexer": "ipython3",
   "version": "3.10.18"
  },
  "widgets": {
   "application/vnd.jupyter.widget-state+json": {
    "0d245933fdb24984b556969f8d1d4f2b": {
     "model_module": "@jupyter-widgets/controls",
     "model_module_version": "1.5.0",
     "model_name": "HTMLModel",
     "state": {
      "_dom_classes": [],
      "_model_module": "@jupyter-widgets/controls",
      "_model_module_version": "1.5.0",
      "_model_name": "HTMLModel",
      "_view_count": null,
      "_view_module": "@jupyter-widgets/controls",
      "_view_module_version": "1.5.0",
      "_view_name": "HTMLView",
      "description": "",
      "description_tooltip": null,
      "layout": "IPY_MODEL_d50f862e5c9343eeb0bb050cc38938b3",
      "placeholder": "​",
      "style": "IPY_MODEL_f6823d45abac4ddd8c3e5401a9404d10",
      "value": "Reading 8-K files: 100%"
     }
    },
    "121e49bac6204ce2b25e4e209f030771": {
     "model_module": "@jupyter-widgets/base",
     "model_module_version": "1.2.0",
     "model_name": "LayoutModel",
     "state": {
      "_model_module": "@jupyter-widgets/base",
      "_model_module_version": "1.2.0",
      "_model_name": "LayoutModel",
      "_view_count": null,
      "_view_module": "@jupyter-widgets/base",
      "_view_module_version": "1.2.0",
      "_view_name": "LayoutView",
      "align_content": null,
      "align_items": null,
      "align_self": null,
      "border": null,
      "bottom": null,
      "display": null,
      "flex": null,
      "flex_flow": null,
      "grid_area": null,
      "grid_auto_columns": null,
      "grid_auto_flow": null,
      "grid_auto_rows": null,
      "grid_column": null,
      "grid_gap": null,
      "grid_row": null,
      "grid_template_areas": null,
      "grid_template_columns": null,
      "grid_template_rows": null,
      "height": null,
      "justify_content": null,
      "justify_items": null,
      "left": null,
      "margin": null,
      "max_height": null,
      "max_width": null,
      "min_height": null,
      "min_width": null,
      "object_fit": null,
      "object_position": null,
      "order": null,
      "overflow": null,
      "overflow_x": null,
      "overflow_y": null,
      "padding": null,
      "right": null,
      "top": null,
      "visibility": null,
      "width": null
     }
    },
    "27841e94fd214e6e96da193c82958bc9": {
     "model_module": "@jupyter-widgets/controls",
     "model_module_version": "1.5.0",
     "model_name": "DescriptionStyleModel",
     "state": {
      "_model_module": "@jupyter-widgets/controls",
      "_model_module_version": "1.5.0",
      "_model_name": "DescriptionStyleModel",
      "_view_count": null,
      "_view_module": "@jupyter-widgets/base",
      "_view_module_version": "1.2.0",
      "_view_name": "StyleView",
      "description_width": ""
     }
    },
    "3a3d0e5c41b04c5884c89a860164657a": {
     "model_module": "@jupyter-widgets/base",
     "model_module_version": "1.2.0",
     "model_name": "LayoutModel",
     "state": {
      "_model_module": "@jupyter-widgets/base",
      "_model_module_version": "1.2.0",
      "_model_name": "LayoutModel",
      "_view_count": null,
      "_view_module": "@jupyter-widgets/base",
      "_view_module_version": "1.2.0",
      "_view_name": "LayoutView",
      "align_content": null,
      "align_items": null,
      "align_self": null,
      "border": null,
      "bottom": null,
      "display": null,
      "flex": null,
      "flex_flow": null,
      "grid_area": null,
      "grid_auto_columns": null,
      "grid_auto_flow": null,
      "grid_auto_rows": null,
      "grid_column": null,
      "grid_gap": null,
      "grid_row": null,
      "grid_template_areas": null,
      "grid_template_columns": null,
      "grid_template_rows": null,
      "height": null,
      "justify_content": null,
      "justify_items": null,
      "left": null,
      "margin": null,
      "max_height": null,
      "max_width": null,
      "min_height": null,
      "min_width": null,
      "object_fit": null,
      "object_position": null,
      "order": null,
      "overflow": null,
      "overflow_x": null,
      "overflow_y": null,
      "padding": null,
      "right": null,
      "top": null,
      "visibility": null,
      "width": null
     }
    },
    "4643279bfae140468f08fdda95340abc": {
     "model_module": "@jupyter-widgets/base",
     "model_module_version": "1.2.0",
     "model_name": "LayoutModel",
     "state": {
      "_model_module": "@jupyter-widgets/base",
      "_model_module_version": "1.2.0",
      "_model_name": "LayoutModel",
      "_view_count": null,
      "_view_module": "@jupyter-widgets/base",
      "_view_module_version": "1.2.0",
      "_view_name": "LayoutView",
      "align_content": null,
      "align_items": null,
      "align_self": null,
      "border": null,
      "bottom": null,
      "display": null,
      "flex": null,
      "flex_flow": null,
      "grid_area": null,
      "grid_auto_columns": null,
      "grid_auto_flow": null,
      "grid_auto_rows": null,
      "grid_column": null,
      "grid_gap": null,
      "grid_row": null,
      "grid_template_areas": null,
      "grid_template_columns": null,
      "grid_template_rows": null,
      "height": null,
      "justify_content": null,
      "justify_items": null,
      "left": null,
      "margin": null,
      "max_height": null,
      "max_width": null,
      "min_height": null,
      "min_width": null,
      "object_fit": null,
      "object_position": null,
      "order": null,
      "overflow": null,
      "overflow_x": null,
      "overflow_y": null,
      "padding": null,
      "right": null,
      "top": null,
      "visibility": null,
      "width": null
     }
    },
    "4c07bc60a7bc41f5ac4b032811b8f873": {
     "model_module": "@jupyter-widgets/controls",
     "model_module_version": "1.5.0",
     "model_name": "HBoxModel",
     "state": {
      "_dom_classes": [],
      "_model_module": "@jupyter-widgets/controls",
      "_model_module_version": "1.5.0",
      "_model_name": "HBoxModel",
      "_view_count": null,
      "_view_module": "@jupyter-widgets/controls",
      "_view_module_version": "1.5.0",
      "_view_name": "HBoxView",
      "box_style": "",
      "children": [
       "IPY_MODEL_773ff1be65a543b0ae8fd3bd32c713fa",
       "IPY_MODEL_6ce07c17bc3e4a29948763780b247167",
       "IPY_MODEL_bc2a68ced44846a499a98ee82d5fc837"
      ],
      "layout": "IPY_MODEL_7e4a16e10a9c49d1b2e9e33edcd50dc4"
     }
    },
    "68c1ec8b02304d9db2f8218e348851f5": {
     "model_module": "@jupyter-widgets/controls",
     "model_module_version": "1.5.0",
     "model_name": "HTMLModel",
     "state": {
      "_dom_classes": [],
      "_model_module": "@jupyter-widgets/controls",
      "_model_module_version": "1.5.0",
      "_model_name": "HTMLModel",
      "_view_count": null,
      "_view_module": "@jupyter-widgets/controls",
      "_view_module_version": "1.5.0",
      "_view_name": "HTMLView",
      "description": "",
      "description_tooltip": null,
      "layout": "IPY_MODEL_76026ceaeef8422aa75f9f770c13a0b3",
      "placeholder": "​",
      "style": "IPY_MODEL_7462a2ebcdcb46de96c63e68b22eaa77",
      "value": " 39121/39121 [09:24&lt;00:00, 73.02it/s]"
     }
    },
    "6ce07c17bc3e4a29948763780b247167": {
     "model_module": "@jupyter-widgets/controls",
     "model_module_version": "1.5.0",
     "model_name": "FloatProgressModel",
     "state": {
      "_dom_classes": [],
      "_model_module": "@jupyter-widgets/controls",
      "_model_module_version": "1.5.0",
      "_model_name": "FloatProgressModel",
      "_view_count": null,
      "_view_module": "@jupyter-widgets/controls",
      "_view_module_version": "1.5.0",
      "_view_name": "ProgressView",
      "bar_style": "success",
      "description": "",
      "description_tooltip": null,
      "layout": "IPY_MODEL_3a3d0e5c41b04c5884c89a860164657a",
      "max": 7235,
      "min": 0,
      "orientation": "horizontal",
      "style": "IPY_MODEL_877df1053f8542d89af2b1421ee83cf1",
      "value": 7235
     }
    },
    "7112ec1aa22a4acfb49b3164ea86f860": {
     "model_module": "@jupyter-widgets/controls",
     "model_module_version": "1.5.0",
     "model_name": "FloatProgressModel",
     "state": {
      "_dom_classes": [],
      "_model_module": "@jupyter-widgets/controls",
      "_model_module_version": "1.5.0",
      "_model_name": "FloatProgressModel",
      "_view_count": null,
      "_view_module": "@jupyter-widgets/controls",
      "_view_module_version": "1.5.0",
      "_view_name": "ProgressView",
      "bar_style": "success",
      "description": "",
      "description_tooltip": null,
      "layout": "IPY_MODEL_121e49bac6204ce2b25e4e209f030771",
      "max": 39121,
      "min": 0,
      "orientation": "horizontal",
      "style": "IPY_MODEL_a69e432319ee4d139b4aa0dab05372d8",
      "value": 39121
     }
    },
    "7462a2ebcdcb46de96c63e68b22eaa77": {
     "model_module": "@jupyter-widgets/controls",
     "model_module_version": "1.5.0",
     "model_name": "DescriptionStyleModel",
     "state": {
      "_model_module": "@jupyter-widgets/controls",
      "_model_module_version": "1.5.0",
      "_model_name": "DescriptionStyleModel",
      "_view_count": null,
      "_view_module": "@jupyter-widgets/base",
      "_view_module_version": "1.2.0",
      "_view_name": "StyleView",
      "description_width": ""
     }
    },
    "76026ceaeef8422aa75f9f770c13a0b3": {
     "model_module": "@jupyter-widgets/base",
     "model_module_version": "1.2.0",
     "model_name": "LayoutModel",
     "state": {
      "_model_module": "@jupyter-widgets/base",
      "_model_module_version": "1.2.0",
      "_model_name": "LayoutModel",
      "_view_count": null,
      "_view_module": "@jupyter-widgets/base",
      "_view_module_version": "1.2.0",
      "_view_name": "LayoutView",
      "align_content": null,
      "align_items": null,
      "align_self": null,
      "border": null,
      "bottom": null,
      "display": null,
      "flex": null,
      "flex_flow": null,
      "grid_area": null,
      "grid_auto_columns": null,
      "grid_auto_flow": null,
      "grid_auto_rows": null,
      "grid_column": null,
      "grid_gap": null,
      "grid_row": null,
      "grid_template_areas": null,
      "grid_template_columns": null,
      "grid_template_rows": null,
      "height": null,
      "justify_content": null,
      "justify_items": null,
      "left": null,
      "margin": null,
      "max_height": null,
      "max_width": null,
      "min_height": null,
      "min_width": null,
      "object_fit": null,
      "object_position": null,
      "order": null,
      "overflow": null,
      "overflow_x": null,
      "overflow_y": null,
      "padding": null,
      "right": null,
      "top": null,
      "visibility": null,
      "width": null
     }
    },
    "773ff1be65a543b0ae8fd3bd32c713fa": {
     "model_module": "@jupyter-widgets/controls",
     "model_module_version": "1.5.0",
     "model_name": "HTMLModel",
     "state": {
      "_dom_classes": [],
      "_model_module": "@jupyter-widgets/controls",
      "_model_module_version": "1.5.0",
      "_model_name": "HTMLModel",
      "_view_count": null,
      "_view_module": "@jupyter-widgets/controls",
      "_view_module_version": "1.5.0",
      "_view_name": "HTMLView",
      "description": "",
      "description_tooltip": null,
      "layout": "IPY_MODEL_f2895de2083147e5ad70a91e3975e9d9",
      "placeholder": "​",
      "style": "IPY_MODEL_27841e94fd214e6e96da193c82958bc9",
      "value": "Reading 10-Q files: 100%"
     }
    },
    "7e4a16e10a9c49d1b2e9e33edcd50dc4": {
     "model_module": "@jupyter-widgets/base",
     "model_module_version": "1.2.0",
     "model_name": "LayoutModel",
     "state": {
      "_model_module": "@jupyter-widgets/base",
      "_model_module_version": "1.2.0",
      "_model_name": "LayoutModel",
      "_view_count": null,
      "_view_module": "@jupyter-widgets/base",
      "_view_module_version": "1.2.0",
      "_view_name": "LayoutView",
      "align_content": null,
      "align_items": null,
      "align_self": null,
      "border": null,
      "bottom": null,
      "display": null,
      "flex": null,
      "flex_flow": null,
      "grid_area": null,
      "grid_auto_columns": null,
      "grid_auto_flow": null,
      "grid_auto_rows": null,
      "grid_column": null,
      "grid_gap": null,
      "grid_row": null,
      "grid_template_areas": null,
      "grid_template_columns": null,
      "grid_template_rows": null,
      "height": null,
      "justify_content": null,
      "justify_items": null,
      "left": null,
      "margin": null,
      "max_height": null,
      "max_width": null,
      "min_height": null,
      "min_width": null,
      "object_fit": null,
      "object_position": null,
      "order": null,
      "overflow": null,
      "overflow_x": null,
      "overflow_y": null,
      "padding": null,
      "right": null,
      "top": null,
      "visibility": null,
      "width": null
     }
    },
    "7f59c61ff8274750a96cb4c24dcb0ee4": {
     "model_module": "@jupyter-widgets/controls",
     "model_module_version": "1.5.0",
     "model_name": "DescriptionStyleModel",
     "state": {
      "_model_module": "@jupyter-widgets/controls",
      "_model_module_version": "1.5.0",
      "_model_name": "DescriptionStyleModel",
      "_view_count": null,
      "_view_module": "@jupyter-widgets/base",
      "_view_module_version": "1.2.0",
      "_view_name": "StyleView",
      "description_width": ""
     }
    },
    "877df1053f8542d89af2b1421ee83cf1": {
     "model_module": "@jupyter-widgets/controls",
     "model_module_version": "1.5.0",
     "model_name": "ProgressStyleModel",
     "state": {
      "_model_module": "@jupyter-widgets/controls",
      "_model_module_version": "1.5.0",
      "_model_name": "ProgressStyleModel",
      "_view_count": null,
      "_view_module": "@jupyter-widgets/base",
      "_view_module_version": "1.2.0",
      "_view_name": "StyleView",
      "bar_color": null,
      "description_width": ""
     }
    },
    "a220102737404818aad2dd591ec56776": {
     "model_module": "@jupyter-widgets/base",
     "model_module_version": "1.2.0",
     "model_name": "LayoutModel",
     "state": {
      "_model_module": "@jupyter-widgets/base",
      "_model_module_version": "1.2.0",
      "_model_name": "LayoutModel",
      "_view_count": null,
      "_view_module": "@jupyter-widgets/base",
      "_view_module_version": "1.2.0",
      "_view_name": "LayoutView",
      "align_content": null,
      "align_items": null,
      "align_self": null,
      "border": null,
      "bottom": null,
      "display": null,
      "flex": null,
      "flex_flow": null,
      "grid_area": null,
      "grid_auto_columns": null,
      "grid_auto_flow": null,
      "grid_auto_rows": null,
      "grid_column": null,
      "grid_gap": null,
      "grid_row": null,
      "grid_template_areas": null,
      "grid_template_columns": null,
      "grid_template_rows": null,
      "height": null,
      "justify_content": null,
      "justify_items": null,
      "left": null,
      "margin": null,
      "max_height": null,
      "max_width": null,
      "min_height": null,
      "min_width": null,
      "object_fit": null,
      "object_position": null,
      "order": null,
      "overflow": null,
      "overflow_x": null,
      "overflow_y": null,
      "padding": null,
      "right": null,
      "top": null,
      "visibility": null,
      "width": null
     }
    },
    "a69e432319ee4d139b4aa0dab05372d8": {
     "model_module": "@jupyter-widgets/controls",
     "model_module_version": "1.5.0",
     "model_name": "ProgressStyleModel",
     "state": {
      "_model_module": "@jupyter-widgets/controls",
      "_model_module_version": "1.5.0",
      "_model_name": "ProgressStyleModel",
      "_view_count": null,
      "_view_module": "@jupyter-widgets/base",
      "_view_module_version": "1.2.0",
      "_view_name": "StyleView",
      "bar_color": null,
      "description_width": ""
     }
    },
    "bc2a68ced44846a499a98ee82d5fc837": {
     "model_module": "@jupyter-widgets/controls",
     "model_module_version": "1.5.0",
     "model_name": "HTMLModel",
     "state": {
      "_dom_classes": [],
      "_model_module": "@jupyter-widgets/controls",
      "_model_module_version": "1.5.0",
      "_model_name": "HTMLModel",
      "_view_count": null,
      "_view_module": "@jupyter-widgets/controls",
      "_view_module_version": "1.5.0",
      "_view_name": "HTMLView",
      "description": "",
      "description_tooltip": null,
      "layout": "IPY_MODEL_4643279bfae140468f08fdda95340abc",
      "placeholder": "​",
      "style": "IPY_MODEL_7f59c61ff8274750a96cb4c24dcb0ee4",
      "value": " 7235/7235 [02:09&lt;00:00, 56.57it/s]"
     }
    },
    "c9e74812e5224562883a5b4820abb5b2": {
     "model_module": "@jupyter-widgets/controls",
     "model_module_version": "1.5.0",
     "model_name": "HBoxModel",
     "state": {
      "_dom_classes": [],
      "_model_module": "@jupyter-widgets/controls",
      "_model_module_version": "1.5.0",
      "_model_name": "HBoxModel",
      "_view_count": null,
      "_view_module": "@jupyter-widgets/controls",
      "_view_module_version": "1.5.0",
      "_view_name": "HBoxView",
      "box_style": "",
      "children": [
       "IPY_MODEL_0d245933fdb24984b556969f8d1d4f2b",
       "IPY_MODEL_7112ec1aa22a4acfb49b3164ea86f860",
       "IPY_MODEL_68c1ec8b02304d9db2f8218e348851f5"
      ],
      "layout": "IPY_MODEL_a220102737404818aad2dd591ec56776"
     }
    },
    "d50f862e5c9343eeb0bb050cc38938b3": {
     "model_module": "@jupyter-widgets/base",
     "model_module_version": "1.2.0",
     "model_name": "LayoutModel",
     "state": {
      "_model_module": "@jupyter-widgets/base",
      "_model_module_version": "1.2.0",
      "_model_name": "LayoutModel",
      "_view_count": null,
      "_view_module": "@jupyter-widgets/base",
      "_view_module_version": "1.2.0",
      "_view_name": "LayoutView",
      "align_content": null,
      "align_items": null,
      "align_self": null,
      "border": null,
      "bottom": null,
      "display": null,
      "flex": null,
      "flex_flow": null,
      "grid_area": null,
      "grid_auto_columns": null,
      "grid_auto_flow": null,
      "grid_auto_rows": null,
      "grid_column": null,
      "grid_gap": null,
      "grid_row": null,
      "grid_template_areas": null,
      "grid_template_columns": null,
      "grid_template_rows": null,
      "height": null,
      "justify_content": null,
      "justify_items": null,
      "left": null,
      "margin": null,
      "max_height": null,
      "max_width": null,
      "min_height": null,
      "min_width": null,
      "object_fit": null,
      "object_position": null,
      "order": null,
      "overflow": null,
      "overflow_x": null,
      "overflow_y": null,
      "padding": null,
      "right": null,
      "top": null,
      "visibility": null,
      "width": null
     }
    },
    "f2895de2083147e5ad70a91e3975e9d9": {
     "model_module": "@jupyter-widgets/base",
     "model_module_version": "1.2.0",
     "model_name": "LayoutModel",
     "state": {
      "_model_module": "@jupyter-widgets/base",
      "_model_module_version": "1.2.0",
      "_model_name": "LayoutModel",
      "_view_count": null,
      "_view_module": "@jupyter-widgets/base",
      "_view_module_version": "1.2.0",
      "_view_name": "LayoutView",
      "align_content": null,
      "align_items": null,
      "align_self": null,
      "border": null,
      "bottom": null,
      "display": null,
      "flex": null,
      "flex_flow": null,
      "grid_area": null,
      "grid_auto_columns": null,
      "grid_auto_flow": null,
      "grid_auto_rows": null,
      "grid_column": null,
      "grid_gap": null,
      "grid_row": null,
      "grid_template_areas": null,
      "grid_template_columns": null,
      "grid_template_rows": null,
      "height": null,
      "justify_content": null,
      "justify_items": null,
      "left": null,
      "margin": null,
      "max_height": null,
      "max_width": null,
      "min_height": null,
      "min_width": null,
      "object_fit": null,
      "object_position": null,
      "order": null,
      "overflow": null,
      "overflow_x": null,
      "overflow_y": null,
      "padding": null,
      "right": null,
      "top": null,
      "visibility": null,
      "width": null
     }
    },
    "f6823d45abac4ddd8c3e5401a9404d10": {
     "model_module": "@jupyter-widgets/controls",
     "model_module_version": "1.5.0",
     "model_name": "DescriptionStyleModel",
     "state": {
      "_model_module": "@jupyter-widgets/controls",
      "_model_module_version": "1.5.0",
      "_model_name": "DescriptionStyleModel",
      "_view_count": null,
      "_view_module": "@jupyter-widgets/base",
      "_view_module_version": "1.2.0",
      "_view_name": "StyleView",
      "description_width": ""
     }
    }
   }
  }
 },
 "nbformat": 4,
 "nbformat_minor": 4
}
