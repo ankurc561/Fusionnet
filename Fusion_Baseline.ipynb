{
 "cells": [
  {
   "cell_type": "code",
   "execution_count": 3,
   "id": "9ad48848-993c-4985-9f30-cd1aa80535e2",
   "metadata": {},
   "outputs": [],
   "source": [
    "import os\n",
    "import numpy as np\n",
    "import pandas as pd\n",
    "import matplotlib.pyplot as plt\n",
    "from sklearn.metrics import (\n",
    "    accuracy_score,\n",
    "    matthews_corrcoef,\n",
    "    classification_report,\n",
    "    confusion_matrix\n",
    ")"
   ]
  },
  {
   "cell_type": "code",
   "execution_count": 4,
   "id": "84d9f5cd-1c63-4c31-9e93-2dbb5cc0c0be",
   "metadata": {},
   "outputs": [],
   "source": [
    "CSV_PATH = \"Data/merged_dataset.csv\""
   ]
  },
  {
   "cell_type": "code",
   "execution_count": 6,
   "id": "b2a40797-1c3c-458c-98d8-4aa1ed6b80d0",
   "metadata": {},
   "outputs": [],
   "source": [
    "# load merged dataset\n",
    "df = pd.read_csv(\"Data/merged_dataset.csv\", parse_dates=[\"Week\"])\n",
    "df = df.sort_values(\"Week\").reset_index(drop=True)"
   ]
  },
  {
   "cell_type": "code",
   "execution_count": 7,
   "id": "151c0f32-a66a-435a-ac4e-869006272760",
   "metadata": {},
   "outputs": [],
   "source": [
    "# Compute weekly return and target\n",
    "df[\"Return\"] = df[\"Close\"].pct_change()\n",
    "df[\"Target\"] = np.where(df[\"Return\"] > 0.01, 1,\n",
    "                np.where(df[\"Return\"] < -0.01, -1, 0))\n",
    "df = df.dropna(subset=[\"Return\"])"
   ]
  },
  {
   "cell_type": "code",
   "execution_count": 8,
   "id": "8a912bc8-297e-4b9c-9bed-e1ed448f1eba",
   "metadata": {},
   "outputs": [],
   "source": [
    "# Parse date and sort\n",
    "date_col = \"Week\" if \"Week\" in df.columns else None\n",
    "if date_col is None:\n",
    "    raise ValueError(\"Expected a 'Week' column in the CSV for time ordering.\")\n",
    "df[date_col] = pd.to_datetime(df[date_col], errors=\"coerce\")\n",
    "df = df.sort_values(date_col).reset_index(drop=True)"
   ]
  },
  {
   "cell_type": "code",
   "execution_count": 9,
   "id": "398b8f8d-29fd-4339-a847-e5342e512fa4",
   "metadata": {},
   "outputs": [],
   "source": [
    "# Drop any leading NaNs from Return-based construction (safe)\n",
    "df = df.dropna(subset=[\"Target\"]).reset_index(drop=True)"
   ]
  },
  {
   "cell_type": "code",
   "execution_count": 10,
   "id": "7ef0fdf4-47f8-4fdd-9731-172576850d72",
   "metadata": {},
   "outputs": [
    {
     "name": "stdout",
     "output_type": "stream",
     "text": [
      "Rows: 239\n",
      "Date range: 2007-02-04 → 2013-12-01\n",
      "Class counts: {1: 94, 0: 75, -1: 70}\n"
     ]
    }
   ],
   "source": [
    "# Show basic info\n",
    "print(\"Rows:\", len(df))\n",
    "print(\"Date range:\", df[date_col].min().date(), \"→\", df[date_col].max().date())\n",
    "print(\"Class counts:\", df[\"Target\"].value_counts().to_dict())\n"
   ]
  },
  {
   "cell_type": "code",
   "execution_count": 11,
   "id": "c40d8403-056a-4019-9f05-3a07babe8931",
   "metadata": {},
   "outputs": [],
   "source": [
    "# Time split: choose one\n",
    "TEST_SIZE_RATIO = 0.20          # last 20% as test (default)\n",
    "TEST_START_DATE = None           # e.g., \"2012-01-01\" to test from this week onward\n",
    "\n",
    "# Labels order for plots and reports (keep consistent with your RF)\n",
    "LABEL_ORDER = [-1, 0, 1]\n",
    "\n",
    "# Output files (saved in working dir)\n",
    "OUT_PREFIX = \"random_walk_baseline\"\n",
    "SAVE_ARTIFACTS = True  # set False if you don't want CSV/PNGs saved"
   ]
  },
  {
   "cell_type": "code",
   "execution_count": 12,
   "id": "691f9406-ddb8-4661-9931-a88c4be203c9",
   "metadata": {},
   "outputs": [],
   "source": [
    "# -----------------------------\n",
    "# Train/Test split (time-based)\n",
    "# -----------------------------\n",
    "if TEST_START_DATE is not None:\n",
    "    cutoff = pd.to_datetime(TEST_START_DATE)\n",
    "    split_idx = int((df[date_col] < cutoff).sum())\n",
    "else:\n",
    "    split_idx = int(len(df) * (1 - TEST_SIZE_RATIO))\n",
    "\n",
    "train_idx = np.arange(0, split_idx)\n",
    "test_idx  = np.arange(split_idx, len(df))"
   ]
  },
  {
   "cell_type": "code",
   "execution_count": 13,
   "id": "566ccdb5-1ce1-4bf0-8371-d65e1b3bf351",
   "metadata": {},
   "outputs": [
    {
     "name": "stdout",
     "output_type": "stream",
     "text": [
      "Split index: 191  |  Train: 191  Test: 48\n"
     ]
    }
   ],
   "source": [
    "print(f\"Split index: {split_idx}  |  Train: {len(train_idx)}  Test: {len(test_idx)}\")"
   ]
  },
  {
   "cell_type": "code",
   "execution_count": 14,
   "id": "4f0853b1-9206-4683-87a9-148331857748",
   "metadata": {},
   "outputs": [],
   "source": [
    "# -----------------------------\n",
    "# Random-walk (persistence) prediction\n",
    "# ŷ_t = Target_{t-1}, evaluated on the test window\n",
    "# -----------------------------\n",
    "df[\"Target_lag1\"] = df[\"Target\"].shift(1)\n",
    "\n",
    "y_true_full = df.loc[test_idx, \"Target\"]\n",
    "y_pred_full = df.loc[test_idx, \"Target_lag1\"]"
   ]
  },
  {
   "cell_type": "code",
   "execution_count": 15,
   "id": "75c2443f-3207-4caa-88b8-3ba2703fbd64",
   "metadata": {},
   "outputs": [],
   "source": [
    "# First test row might not have a previous week → drop NaN\n",
    "mask = ~y_pred_full.isna()\n",
    "y_true = y_true_full[mask].astype(int)\n",
    "y_pred = y_pred_full[mask].astype(int)\n"
   ]
  },
  {
   "cell_type": "code",
   "execution_count": 16,
   "id": "2abff135-14ba-4b0a-b3e3-f47409bcaba4",
   "metadata": {},
   "outputs": [
    {
     "name": "stdout",
     "output_type": "stream",
     "text": [
      "Aligned test size: 48\n"
     ]
    }
   ],
   "source": [
    "print(\"Aligned test size:\", len(y_true))"
   ]
  },
  {
   "cell_type": "code",
   "execution_count": 17,
   "id": "979a5a93-c810-4fed-81cc-4bb7392c1a3c",
   "metadata": {},
   "outputs": [],
   "source": [
    "# -----------------------------\n",
    "# Metrics (multi-class)\n",
    "# -----------------------------\n",
    "def evaluate_and_report(y_true, y_pred, labels, title_prefix=\"\"):\n",
    "    acc = accuracy_score(y_true, y_pred)\n",
    "    mcc = matthews_corrcoef(y_true, y_pred)\n",
    "    report = classification_report(\n",
    "        y_true, y_pred, labels=labels, zero_division=0, output_dict=True\n",
    "    )\n",
    "    report_df = pd.DataFrame(report).transpose()\n",
    "    summary_df = pd.DataFrame([{\"Accuracy\": acc, \"Matthews CC\": mcc}])\n",
    "\n",
    "    print(f\"\\n=== {title_prefix} Summary ===\")\n",
    "    print(summary_df.round(4))\n",
    "    print(f\"\\n=== {title_prefix} Classification Report ===\")\n",
    "    print(report_df.round(4))\n",
    "\n",
    "    return summary_df, report_df"
   ]
  },
  {
   "cell_type": "code",
   "execution_count": 19,
   "id": "928fb0ae-1284-4084-99d3-3d07ca00ed5e",
   "metadata": {},
   "outputs": [
    {
     "name": "stdout",
     "output_type": "stream",
     "text": [
      "\n",
      "=== Random-Walk (3-class) Summary ===\n",
      "   Accuracy  Matthews CC\n",
      "0    0.3958       0.0633\n",
      "\n",
      "=== Random-Walk (3-class) Classification Report ===\n",
      "              precision  recall  f1-score  support\n",
      "-1               0.2727  0.2727    0.2727  11.0000\n",
      "0                0.5238  0.5238    0.5238  21.0000\n",
      "1                0.3125  0.3125    0.3125  16.0000\n",
      "accuracy         0.3958  0.3958    0.3958   0.3958\n",
      "macro avg        0.3697  0.3697    0.3697  48.0000\n",
      "weighted avg     0.3958  0.3958    0.3958  48.0000\n"
     ]
    }
   ],
   "source": [
    "summary_df, report_df = evaluate_and_report(y_true, y_pred, LABEL_ORDER, \"Random-Walk (3-class)\")"
   ]
  },
  {
   "cell_type": "code",
   "execution_count": 20,
   "id": "31984748-97ed-42ac-8076-2ebfe447f98d",
   "metadata": {},
   "outputs": [],
   "source": [
    "# -----------------------------\n",
    "# Confusion matrices\n",
    "# -----------------------------\n",
    "def plot_cm(cm, labels, title, fname=None):\n",
    "    fig, ax = plt.subplots(figsize=(5.5, 4.5))\n",
    "    im = ax.imshow(cm, aspect='auto')\n",
    "    ax.set_title(title)\n",
    "    ax.set_xlabel(\"Predicted\")\n",
    "    ax.set_ylabel(\"True\")\n",
    "    ax.set_xticks(range(len(labels)))\n",
    "    ax.set_yticks(range(len(labels)))\n",
    "    ax.set_xticklabels(labels)\n",
    "    ax.set_yticklabels(labels)\n",
    "    for i in range(cm.shape[0]):\n",
    "        for j in range(cm.shape[1]):\n",
    "            txt = f\"{cm[i, j]:.2f}\" if cm.dtype.kind == \"f\" else f\"{cm[i, j]:.0f}\"\n",
    "            ax.text(j, i, txt, ha=\"center\", va=\"center\")\n",
    "    fig.colorbar(im, ax=ax)\n",
    "    plt.tight_layout()\n",
    "    if SAVE_ARTIFACTS and fname:\n",
    "        plt.savefig(fname, dpi=160, bbox_inches=\"tight\")\n",
    "    plt.show()"
   ]
  },
  {
   "cell_type": "code",
   "execution_count": 21,
   "id": "967cd855-e417-4bec-91c5-601e80c9cfb5",
   "metadata": {},
   "outputs": [],
   "source": [
    "cm_counts = confusion_matrix(y_true, y_pred, labels=LABEL_ORDER)\n",
    "row_sums = cm_counts.sum(axis=1, keepdims=True)\n",
    "cm_row_norm = np.divide(cm_counts, row_sums, out=np.zeros_like(cm_counts, dtype=float), where=row_sums!=0)"
   ]
  },
  {
   "cell_type": "code",
   "execution_count": 22,
   "id": "1faf96e6-13b9-4d4f-bb9e-83a7f62594b7",
   "metadata": {},
   "outputs": [
    {
     "data": {
      "image/png": "[encoded data removed]",
      "text/plain": [
       "<Figure size 550x450 with 2 Axes>"
      ]
     },
     "metadata": {},
     "output_type": "display_data"
    },
    {
     "data": {
      "image/png": "[encoded data removed]",
      "text/plain": [
       "<Figure size 550x450 with 2 Axes>"
      ]
     },
     "metadata": {},
     "output_type": "display_data"
    }
   ],
   "source": [
    "plot_cm(cm_counts, LABEL_ORDER, \"Confusion Matrix (Counts) — Random-Walk\",\n",
    "        fname=f\"{OUT_PREFIX}_cm_counts.png\" if SAVE_ARTIFACTS else None)\n",
    "plot_cm(cm_row_norm, LABEL_ORDER, \"Confusion Matrix (Row-Normalised) — Random-Walk\",\n",
    "        fname=f\"{OUT_PREFIX}_cm_row_norm.png\" if SAVE_ARTIFACTS else None)"
   ]
  },
  {
   "cell_type": "code",
   "execution_count": 23,
   "id": "cf0e58dd-1a85-4ff7-8980-b415d2defaaa",
   "metadata": {},
   "outputs": [
    {
     "name": "stdout",
     "output_type": "stream",
     "text": [
      "\n",
      "Saved CSVs and PNGs with prefix: random_walk_baseline\n"
     ]
    }
   ],
   "source": [
    "# -----------------------------\n",
    "# Save artifacts\n",
    "# -----------------------------\n",
    "if SAVE_ARTIFACTS:\n",
    "    summary_df.to_csv(f\"{OUT_PREFIX}_summary.csv\", index=False)\n",
    "    report_df.to_csv(f\"{OUT_PREFIX}_classification_report.csv\")\n",
    "    pd.DataFrame(cm_counts, index=[f\"T{c}\" for c in LABEL_ORDER], columns=[f\"P{c}\" for c in LABEL_ORDER]) \\\n",
    "        .to_csv(f\"{OUT_PREFIX}_cm_counts.csv\")\n",
    "    pd.DataFrame(cm_row_norm, index=[f\"T{c}\" for c in LABEL_ORDER], columns=[f\"P{c}\" for c in LABEL_ORDER]) \\\n",
    "        .to_csv(f\"{OUT_PREFIX}_cm_row_norm.csv\")\n",
    "    print(\"\\nSaved CSVs and PNGs with prefix:\", OUT_PREFIX)"
   ]
  },
  {
   "cell_type": "code",
   "execution_count": null,
   "id": "ec0189d6-1723-4f6f-b332-d5cde32fe32f",
   "metadata": {},
   "outputs": [],
   "source": []
  }
 ],
 "metadata": {
  "kernelspec": {
   "display_name": "Python (fusionnet)",
   "language": "python",
   "name": "fusionnet"
  },
  "language_info": {
   "codemirror_mode": {
    "name": "ipython",
    "version": 3
   },
   "file_extension": ".py",
   "mimetype": "text/x-python",
   "name": "python",
   "nbconvert_exporter": "python",
   "pygments_lexer": "ipython3",
   "version": "3.10.18"
  }
 },
 "nbformat": 4,
 "nbformat_minor": 5
}
