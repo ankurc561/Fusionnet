{
 "cells": [
  {
   "cell_type": "code",
   "execution_count": 1,
   "id": "e487451f-f124-4048-80af-8a53d11aed1c",
   "metadata": {
    "id": "e487451f-f124-4048-80af-8a53d11aed1c"
   },
   "outputs": [],
   "source": [
    "# Imports\n",
    "import os\n",
    "import warnings\n",
    "from io import StringIO\n",
    "import pandas as pd\n",
    "import gcsfs\n",
    "from google.cloud import storage, bigquery\n",
    "from datasets import Dataset, load_dataset\n",
    "from transformers import (\n",
    "    AutoTokenizer,\n",
    "    AutoModelForSequenceClassification,\n",
    "    Trainer,\n",
    "    TrainingArguments,\n",
    "    ProgressCallback\n",
    ")\n",
    "import torch\n",
    "import evaluate\n",
    "import inspect\n",
    "from sklearn.metrics import confusion_matrix, ConfusionMatrixDisplay, f1_score, accuracy_score\n",
    "import matplotlib.pyplot as plt"
   ]
  },
  {
   "cell_type": "code",
   "execution_count": 2,
   "id": "e6fe6fe0-4270-47b0-902b-33a7ac770784",
   "metadata": {},
   "outputs": [],
   "source": [
    "os.environ[\"GOOGLE_APPLICATION_CREDENTIALS\"] = \"/mnt/disks/data/diss_bucket_key.json\"\n",
    "# Turn off all warnings\n",
    "warnings.filterwarnings('ignore')"
   ]
  },
  {
   "cell_type": "code",
   "execution_count": 3,
   "id": "tPwYvwP8Naow",
   "metadata": {
    "colab": {
     "base_uri": "https://localhost:8080/"
    },
    "id": "tPwYvwP8Naow",
    "outputId": "b074c66e-babe-44d2-e6ce-c00007630489"
   },
   "outputs": [
    {
     "name": "stdout",
     "output_type": "stream",
     "text": [
      "Number of GPUs available: 1\n",
      "NVIDIA A100-SXM4-40GB\n"
     ]
    }
   ],
   "source": [
    "# Detect number of GPUs\n",
    "gpus = torch.cuda.device_count()\n",
    "print(f\"Number of GPUs available: {gpus}\")\n",
    "print(torch.cuda.get_device_name(0))"
   ]
  },
  {
   "cell_type": "code",
   "execution_count": 4,
   "id": "lTevABkbRo5t",
   "metadata": {
    "id": "lTevABkbRo5t"
   },
   "outputs": [],
   "source": [
    "# === Disable Weights & Biases to avoid API prompts ===\n",
    "os.environ[\"WANDB_DISABLED\"] = \"true\"\n",
    "os.environ[\"WANDB_MODE\"] = \"dryrun\""
   ]
  },
  {
   "cell_type": "code",
   "execution_count": 5,
   "id": "bd9ac42b-149c-4bf3-ac25-88f0c20ad403",
   "metadata": {
    "id": "bd9ac42b-149c-4bf3-ac25-88f0c20ad403"
   },
   "outputs": [],
   "source": [
    "# === Configuration ===\n",
    "PROJECT_ID = \"bamboo-mercury-462915-f0\"\n",
    "BQ_DATASET = \"edgar_sentiment\"\n",
    "BQ_TABLE = \"news_scores_overlap\"\n",
    "REGION = \"europe-west2\"\n",
    "OUTPUT_DIR = f\"gs://diss_market_data/finbert-finetune-output\"\n",
    "MODEL_NAME = \"yiyanghkust/finbert-tone\"\n",
    "NUM_LABELS = 3"
   ]
  },
  {
   "cell_type": "code",
   "execution_count": 6,
   "id": "4c2ldlMzRU0g",
   "metadata": {
    "colab": {
     "base_uri": "https://localhost:8080/",
     "height": 293
    },
    "id": "4c2ldlMzRU0g",
    "outputId": "bf1d2875-168b-4eef-978d-ce3adf61cc6c"
   },
   "outputs": [
    {
     "data": {
      "text/html": [
       "<div>\n",
       "<style scoped>\n",
       "    .dataframe tbody tr th:only-of-type {\n",
       "        vertical-align: middle;\n",
       "    }\n",
       "\n",
       "    .dataframe tbody tr th {\n",
       "        vertical-align: top;\n",
       "    }\n",
       "\n",
       "    .dataframe thead th {\n",
       "        text-align: right;\n",
       "    }\n",
       "</style>\n",
       "<table border=\"1\" class=\"dataframe\">\n",
       "  <thead>\n",
       "    <tr style=\"text-align: right;\">\n",
       "      <th></th>\n",
       "      <th>title</th>\n",
       "      <th>author</th>\n",
       "      <th>timestamp</th>\n",
       "      <th>url</th>\n",
       "      <th>content</th>\n",
       "      <th>date</th>\n",
       "      <th>filename</th>\n",
       "      <th>Label</th>\n",
       "    </tr>\n",
       "  </thead>\n",
       "  <tbody>\n",
       "    <tr>\n",
       "      <th>0</th>\n",
       "      <td>Argentine Markets Freeze Prices for 60-Days Am...</td>\n",
       "      <td>B y   E l i a n a   R a s z e w s k i</td>\n",
       "      <td>2013-02-04T20:02:16Z</td>\n",
       "      <td>http://www.bloomberg.com/news/2013-02-04/argen...</td>\n",
       "      <td>Argentine supermarkets, including\\nlocal units...</td>\n",
       "      <td>2/4/2013</td>\n",
       "      <td>argentine-markets-freeze-prices-for-60-days-am...</td>\n",
       "      <td>Negative</td>\n",
       "    </tr>\n",
       "    <tr>\n",
       "      <th>1</th>\n",
       "      <td>Sharp Drops to Lowest Since 1975 on Report of ...</td>\n",
       "      <td>B y   M a r i k o   Y a s u</td>\n",
       "      <td>2012-07-24T08:51:10Z</td>\n",
       "      <td>http://www.bloomberg.com/news/2012-07-24/sharp...</td>\n",
       "      <td>Sharp Corp. (6753) ,  Japan ’s biggest maker\\n...</td>\n",
       "      <td>7/24/2012</td>\n",
       "      <td>sharp-drops-to-lowest-since-1975-on-report-of-...</td>\n",
       "      <td>Negative</td>\n",
       "    </tr>\n",
       "    <tr>\n",
       "      <th>2</th>\n",
       "      <td>Northwest Gasoline Drops by Most in Three Year...</td>\n",
       "      <td>B y   L y n n   D o a n</td>\n",
       "      <td>2012-02-28T22:42:11Z</td>\n",
       "      <td>http://www.bloomberg.com/news/2012-02-28/north...</td>\n",
       "      <td>Gasoline in the U.S. Northwest\\ntumbled by the...</td>\n",
       "      <td>2/28/2012</td>\n",
       "      <td>northwest-gasoline-drops-by-most-in-three-year...</td>\n",
       "      <td>Neutral</td>\n",
       "    </tr>\n",
       "    <tr>\n",
       "      <th>3</th>\n",
       "      <td>NaN</td>\n",
       "      <td>Mozambique to Spend $54 Million Upgrading Hydr...</td>\n",
       "      <td>NaN</td>\n",
       "      <td>B y   F r e d   K a t e r e r e</td>\n",
       "      <td>--\\n2011-09-07T07:11:49Z\\n\\n-- http://www.bloo...</td>\n",
       "      <td>9/7/2011</td>\n",
       "      <td>ozambique-to-spend-54-million-upgrading-hydro-...</td>\n",
       "      <td>Positive</td>\n",
       "    </tr>\n",
       "    <tr>\n",
       "      <th>4</th>\n",
       "      <td>Santander Completes $2.7 Billion Brazil Unit S...</td>\n",
       "      <td>B y   P a u l   T o b i n</td>\n",
       "      <td>2010-10-29T12:48:59Z</td>\n",
       "      <td>http://www.bloomberg.com/news/2010-10-29/santa...</td>\n",
       "      <td>Banco Santander SA said Qatar\\nHolding LLC com...</td>\n",
       "      <td>10/29/2010</td>\n",
       "      <td>santander-completes-sale-of-2-7-billion-stake-...</td>\n",
       "      <td>Neutral</td>\n",
       "    </tr>\n",
       "  </tbody>\n",
       "</table>\n",
       "</div>"
      ],
      "text/plain": [
       "                                               title  \\\n",
       "0  Argentine Markets Freeze Prices for 60-Days Am...   \n",
       "1  Sharp Drops to Lowest Since 1975 on Report of ...   \n",
       "2  Northwest Gasoline Drops by Most in Three Year...   \n",
       "3                                                NaN   \n",
       "4  Santander Completes $2.7 Billion Brazil Unit S...   \n",
       "\n",
       "                                              author             timestamp  \\\n",
       "0              B y   E l i a n a   R a s z e w s k i  2013-02-04T20:02:16Z   \n",
       "1                        B y   M a r i k o   Y a s u  2012-07-24T08:51:10Z   \n",
       "2                            B y   L y n n   D o a n  2012-02-28T22:42:11Z   \n",
       "3  Mozambique to Spend $54 Million Upgrading Hydr...                   NaN   \n",
       "4                          B y   P a u l   T o b i n  2010-10-29T12:48:59Z   \n",
       "\n",
       "                                                 url  \\\n",
       "0  http://www.bloomberg.com/news/2013-02-04/argen...   \n",
       "1  http://www.bloomberg.com/news/2012-07-24/sharp...   \n",
       "2  http://www.bloomberg.com/news/2012-02-28/north...   \n",
       "3                    B y   F r e d   K a t e r e r e   \n",
       "4  http://www.bloomberg.com/news/2010-10-29/santa...   \n",
       "\n",
       "                                             content        date  \\\n",
       "0  Argentine supermarkets, including\\nlocal units...    2/4/2013   \n",
       "1  Sharp Corp. (6753) ,  Japan ’s biggest maker\\n...   7/24/2012   \n",
       "2  Gasoline in the U.S. Northwest\\ntumbled by the...   2/28/2012   \n",
       "3  --\\n2011-09-07T07:11:49Z\\n\\n-- http://www.bloo...    9/7/2011   \n",
       "4  Banco Santander SA said Qatar\\nHolding LLC com...  10/29/2010   \n",
       "\n",
       "                                            filename     Label  \n",
       "0  argentine-markets-freeze-prices-for-60-days-am...  Negative  \n",
       "1  sharp-drops-to-lowest-since-1975-on-report-of-...  Negative  \n",
       "2  northwest-gasoline-drops-by-most-in-three-year...   Neutral  \n",
       "3  ozambique-to-spend-54-million-upgrading-hydro-...  Positive  \n",
       "4  santander-completes-sale-of-2-7-billion-stake-...   Neutral  "
      ]
     },
     "execution_count": 6,
     "metadata": {},
     "output_type": "execute_result"
    }
   ],
   "source": [
    "# Set GCP project\n",
    "os.environ[\"GOOGLE_CLOUD_PROJECT\"] = PROJECT_ID\n",
    "\n",
    "fs = gcsfs.GCSFileSystem()\n",
    "with fs.open('diss_market_data/bloomberg_eval_data.csv') as f:\n",
    "    df_eval = pd.read_csv(f)\n",
    "df_eval.head()"
   ]
  },
  {
   "cell_type": "code",
   "execution_count": 7,
   "id": "d340b74e-ef17-4f58-a02d-0d97035b5a26",
   "metadata": {
    "colab": {
     "base_uri": "https://localhost:8080/"
    },
    "id": "d340b74e-ef17-4f58-a02d-0d97035b5a26",
    "outputId": "ec04a9e0-fa37-4c21-e4fd-e99b8ecadef5"
   },
   "outputs": [
    {
     "name": "stdout",
     "output_type": "stream",
     "text": [
      "Retrieved 15237 rows from filings training table edgar_sentiment.news_scores_overlap\n"
     ]
    }
   ],
   "source": [
    "# === Extract data from BigQuery for training ===\n",
    "bq_client = bigquery.Client()\n",
    "query = f\"\"\"SELECT article, sentiment_score, sentiment_label FROM `{PROJECT_ID}.{BQ_DATASET}.{BQ_TABLE}`\n",
    "        where sentiment_label IN ('Positive', 'Negative', 'Neutral')\n",
    "        \"\"\"\n",
    "df_news = bq_client.query(query).to_dataframe()\n",
    "print(f\"Retrieved {len(df_news)} rows from filings training table {BQ_DATASET}.{BQ_TABLE}\")"
   ]
  },
  {
   "cell_type": "code",
   "execution_count": 8,
   "id": "228e8493-0085-4e78-a64a-403ba35e9eac",
   "metadata": {
    "id": "228e8493-0085-4e78-a64a-403ba35e9eac"
   },
   "outputs": [],
   "source": [
    "# Gemini Labeled Filings in chunks\n",
    "label_map = {\"Negative\": 2, \"Neutral\": 0, \"Positive\": 1}\n",
    "df_news['label'] = df_news['sentiment_label'].map(label_map)\n",
    "df_eval['label'] = df_eval['Label'].map(label_map)"
   ]
  },
  {
   "cell_type": "code",
   "execution_count": 9,
   "id": "h9rFI7FCVyAU",
   "metadata": {
    "id": "h9rFI7FCVyAU"
   },
   "outputs": [],
   "source": [
    "df_eval.drop(columns=['title', 'author', 'timestamp', 'url', 'date', 'filename',\n",
    "       'Label'], inplace=True)"
   ]
  },
  {
   "cell_type": "code",
   "execution_count": 10,
   "id": "8vc2cmREUiyw",
   "metadata": {
    "id": "8vc2cmREUiyw"
   },
   "outputs": [],
   "source": [
    "# # /financial-tweets-sentiment\n",
    "# ds_tweets = load_dataset(\"TimKoornstra/financial-tweets-sentiment\")\n",
    "# df_tweets = pd.DataFrame(ds_tweets['train'])"
   ]
  },
  {
   "cell_type": "code",
   "execution_count": 11,
   "id": "n3zJ2MpQXkRD",
   "metadata": {
    "id": "n3zJ2MpQXkRD"
   },
   "outputs": [],
   "source": [
    "# financial_phrasebank\n",
    "df_phrasebank = pd.read_csv(\"/mnt/disks/data/project_data/Financial_Phrasebank_50__Agree.csv\")"
   ]
  },
  {
   "cell_type": "code",
   "execution_count": 12,
   "id": "uPXoVw5meclC",
   "metadata": {
    "id": "uPXoVw5meclC"
   },
   "outputs": [],
   "source": [
    "# Changing Labels to match -> {\"Negative\": 2, \"Neutral\": 0, \"Positive\": 1}\n",
    "label_map = {\"negative\": 2, \"neutral\": 0, \"positive\": 1}\n",
    "df_phrasebank['sentiment'] = df_phrasebank['label']\n",
    "df_phrasebank['label'] = df_phrasebank['sentiment'].map(label_map)"
   ]
  },
  {
   "cell_type": "code",
   "execution_count": 13,
   "id": "R4uFRNkthG-q",
   "metadata": {
    "id": "R4uFRNkthG-q"
   },
   "outputs": [],
   "source": [
    "df1 = df_news[['article', 'label']].rename(columns={'article': 'text'})\n",
    "# df2 = df_tweets[['tweet', 'sentiment']].rename(columns={'tweet': 'text', 'sentiment': 'label'})\n",
    "df3 = df_phrasebank[['sentence', 'label']].rename(columns={'sentence': 'text'})\n",
    "df_eval.rename(columns={'content': 'text'}, inplace=True)"
   ]
  },
  {
   "cell_type": "code",
   "execution_count": 14,
   "id": "zRl3ZeV0W4QE",
   "metadata": {
    "id": "zRl3ZeV0W4QE"
   },
   "outputs": [],
   "source": [
    "df_final = pd.concat([df1])\n",
    "df_eval = df_eval.dropna()\n",
    "df_eval['label'] = df_eval['label'].astype(int)"
   ]
  },
  {
   "cell_type": "code",
   "execution_count": 15,
   "id": "xl6lT3DNrOJB",
   "metadata": {
    "colab": {
     "base_uri": "https://localhost:8080/"
    },
    "id": "xl6lT3DNrOJB",
    "outputId": "f8b0df0d-e014-4a38-b566-a61bbe8bb151"
   },
   "outputs": [
    {
     "data": {
      "text/plain": [
       "(Index(['text', 'label'], dtype='object'),\n",
       " Index(['text', 'label'], dtype='object'))"
      ]
     },
     "execution_count": 15,
     "metadata": {},
     "output_type": "execute_result"
    }
   ],
   "source": [
    "df_final.columns, df_eval.columns"
   ]
  },
  {
   "cell_type": "code",
   "execution_count": 16,
   "id": "8WPvMymKWGqZ",
   "metadata": {
    "id": "8WPvMymKWGqZ"
   },
   "outputs": [],
   "source": [
    "# # === Convert to Hugging Face Dataset ===\n",
    "# train_dataset = Dataset.from_pandas(df_final[['text', 'label']])\n",
    "# eval_dataset = Dataset.from_pandas(df_eval[['text', 'label']])"
   ]
  },
  {
   "cell_type": "code",
   "execution_count": 17,
   "id": "6eed6d55-94e0-4832-8b22-8616c5c59a2f",
   "metadata": {},
   "outputs": [],
   "source": [
    "# 1. Create a single Hugging Face Dataset from df_final\n",
    "ds = Dataset.from_pandas(df_final[['text', 'label']], preserve_index=False)\n",
    "\n",
    "# 2. Split into train/test (here 80% train, 20% eval)\n",
    "split = ds.train_test_split(test_size=0.2, seed=42, shuffle=True)\n",
    "\n",
    "# 3. Assign\n",
    "train_dataset_temp = split['train']\n",
    "eval_dataset  = split['test']"
   ]
  },
  {
   "cell_type": "code",
   "execution_count": 18,
   "id": "4f39df0f-1c7d-4230-af50-64533ff34f73",
   "metadata": {},
   "outputs": [],
   "source": [
    "df_news_split = pd.DataFrame(train_dataset_temp)"
   ]
  },
  {
   "cell_type": "code",
   "execution_count": 29,
   "id": "baaf2e24-97a9-49eb-bc91-1c0bd3374c31",
   "metadata": {},
   "outputs": [
    {
     "data": {
      "text/plain": [
       "Index(['text', 'label'], dtype='object')"
      ]
     },
     "execution_count": 29,
     "metadata": {},
     "output_type": "execute_result"
    }
   ],
   "source": [
    "df_final = pd.concat([df_news_split])\n",
    "df_final.columns"
   ]
  },
  {
   "cell_type": "code",
   "execution_count": 30,
   "id": "049b5016-a4d1-433b-8765-ddfb3931fe58",
   "metadata": {},
   "outputs": [],
   "source": [
    "train_dataset = Dataset.from_pandas(df_final[['text', 'label']])"
   ]
  },
  {
   "cell_type": "code",
   "execution_count": 31,
   "id": "0b1e8bbb-3a2f-41a6-9b9f-50d6f453bf3c",
   "metadata": {
    "id": "0b1e8bbb-3a2f-41a6-9b9f-50d6f453bf3c"
   },
   "outputs": [],
   "source": [
    "# === Tokenization ===\n",
    "tokenizer = AutoTokenizer.from_pretrained(MODEL_NAME)\n",
    "\n",
    "def tokenize_batch(examples):\n",
    "    return tokenizer(\n",
    "        examples['text'],\n",
    "        truncation=True,\n",
    "        padding='longest',\n",
    "        max_length=512\n",
    "    )"
   ]
  },
  {
   "cell_type": "code",
   "execution_count": null,
   "id": "YM_BOrH5e5oC",
   "metadata": {
    "colab": {
     "base_uri": "https://localhost:8080/",
     "height": 472
    },
    "id": "YM_BOrH5e5oC",
    "outputId": "dbdcb714-260e-4a22-ce40-124cbc8abd9e"
   },
   "outputs": [],
   "source": [
    "token_lens = [len(tokenizer.encode(text, truncation=False)) for text in df_final['text']]\n",
    "plt.hist(token_lens, bins=50)\n",
    "plt.xlabel(\"Token length\")\n",
    "plt.ylabel(\"Frequency\")\n",
    "plt.title(\"Distribution of token lengths in training data\")\n",
    "plt.show()"
   ]
  },
  {
   "cell_type": "code",
   "execution_count": 25,
   "id": "RRKD0Az_f9kO",
   "metadata": {
    "colab": {
     "base_uri": "https://localhost:8080/"
    },
    "id": "RRKD0Az_f9kO",
    "outputId": "d4e75db1-1e8a-4650-a173-f1fda37424e9"
   },
   "outputs": [
    {
     "name": "stdout",
     "output_type": "stream",
     "text": [
      "48.31% of texts are under 256 tokens.\n"
     ]
    }
   ],
   "source": [
    "under_256 = sum(l <= 256 for l in token_lens)\n",
    "total = len(token_lens)\n",
    "\n",
    "percentage_under_256 = (under_256 / total) * 100\n",
    "print(f\"{percentage_under_256:.2f}% of texts are under 256 tokens.\")"
   ]
  },
  {
   "cell_type": "code",
   "execution_count": 32,
   "id": "v2uTDozFe7Qd",
   "metadata": {
    "colab": {
     "base_uri": "https://localhost:8080/",
     "height": 81,
     "referenced_widgets": [
      "0d9ea8cf93d0471785a9d123bab69423",
      "f2cde18f70c84d9f8571cd246d908c2d",
      "96167d55c11e4449bb8afc58a82007fd",
      "6e821242499748b2b0d82f58f3682984",
      "ef130bee218d4ef8a210538136ec48f0",
      "d5144aad216c40789f8b90ebe85dbc46",
      "07eb299530564c6690a5a8dff978440a",
      "dbedc9a49f574004b44cc84c2e0f8148",
      "614d12a111844cd5ac315ddb8800478f",
      "71a4f8292a1d4009a41823cd0d94ebb2",
      "1528b192ef9942c3b18e5cbc787b4086",
      "b8df0cca13504daa87ff8d2001481379",
      "1b590f566ff443c2945e82a9557fda79",
      "8002b56dd7d141eb9dff0b14cb763a34",
      "7401234657e84e96987c14cae982b0ac",
      "fddee4f8133641268d3b7643599cc2c2",
      "32d3eb8e03384f30a50d325a51a28cf1",
      "36211d56e93e4fd184e3f41c8b96de05",
      "37d414d0abfa4235a69ca0f21850643a",
      "18f4cf5b85494cccb4e6dfa2cb1c3a8f",
      "28e12136db404ea187c6179908c28af8",
      "bebf56fcbed44531b9a9119b3c7417fc"
     ]
    },
    "id": "v2uTDozFe7Qd",
    "outputId": "0469c510-d1a9-4043-d01d-d3969d073bdf"
   },
   "outputs": [
    {
     "data": {
      "application/vnd.jupyter.widget-view+json": {
       "model_id": "73b2f0385e054e8a926ba490482a5ca6",
       "version_major": 2,
       "version_minor": 0
      },
      "text/plain": [
       "Map:   0%|          | 0/12189 [00:00<?, ? examples/s]"
      ]
     },
     "metadata": {},
     "output_type": "display_data"
    },
    {
     "data": {
      "application/vnd.jupyter.widget-view+json": {
       "model_id": "c76db52064384d6f9867f99cea7b7913",
       "version_major": 2,
       "version_minor": 0
      },
      "text/plain": [
       "Map:   0%|          | 0/3048 [00:00<?, ? examples/s]"
      ]
     },
     "metadata": {},
     "output_type": "display_data"
    }
   ],
   "source": [
    "tokenized_train = train_dataset.map(tokenize_batch, batched=True)\n",
    "tokenized_eval = eval_dataset.map(tokenize_batch, batched=True)"
   ]
  },
  {
   "cell_type": "code",
   "execution_count": 33,
   "id": "vjCkidtG1mPV",
   "metadata": {
    "id": "vjCkidtG1mPV"
   },
   "outputs": [],
   "source": [
    "# Check number of inputs having tokens more than 512\n",
    "# num = 0\n",
    "# for i in tokenized:\n",
    "#   if len(i['input_ids']) > 512:\n",
    "#     num += 1\n",
    "# print(num)"
   ]
  },
  {
   "cell_type": "code",
   "execution_count": 34,
   "id": "5aUWL78HOJQ6",
   "metadata": {
    "id": "5aUWL78HOJQ6"
   },
   "outputs": [],
   "source": [
    "# === Train/Test Split ===\n",
    "# split = tokenized.train_test_split(test_size=0.1, seed=42)\n",
    "# train_ds = split['train']\n",
    "# eval_ds = split['test']"
   ]
  },
  {
   "cell_type": "code",
   "execution_count": 35,
   "id": "0_wUqUMeONAI",
   "metadata": {
    "id": "0_wUqUMeONAI"
   },
   "outputs": [],
   "source": [
    "# Filter to essential columns\n",
    "def keep_features(ds):\n",
    "    keep = ['input_ids','attention_mask','label']\n",
    "    return ds.remove_columns([c for c in ds.column_names if c not in keep])\n",
    "train_ds, eval_ds = keep_features(tokenized_train), keep_features(tokenized_eval)"
   ]
  },
  {
   "cell_type": "code",
   "execution_count": 36,
   "id": "-CfE2n7DOV8l",
   "metadata": {
    "id": "-CfE2n7DOV8l"
   },
   "outputs": [],
   "source": [
    "# === Model Setup ===\n",
    "model = AutoModelForSequenceClassification.from_pretrained(MODEL_NAME, num_labels=NUM_LABELS)\n",
    "\n",
    "# === Configure TrainingArguments ===\n",
    "base_args = {\n",
    "    'output_dir': OUTPUT_DIR,\n",
    "    'num_train_epochs': 5,\n",
    "    'per_device_train_batch_size': 64,\n",
    "    'per_device_eval_batch_size': 64,\n",
    "    'eval_steps': 100,\n",
    "    'save_steps': 500,\n",
    "    'logging_steps': 100,\n",
    "    'learning_rate': 1e-5,\n",
    "    'warmup_steps': 200,\n",
    "    'load_best_model_at_end': True,\n",
    "    'metric_for_best_model': 'eval_loss',\n",
    "    'save_total_limit': 2,\n",
    "    'fp16': True,\n",
    "    'dataloader_num_workers': 4,\n",
    "    'report_to': 'none',\n",
    "    'label_smoothing_factor': 0.1,\n",
    "}\n",
    "\n",
    "# Dynamically add supported strategies\n",
    "sig = inspect.signature(TrainingArguments)\n",
    "if 'evaluation_strategy' in sig.parameters and 'save_strategy' in sig.parameters:\n",
    "    base_args['evaluation_strategy'] = 'steps'\n",
    "    base_args['save_strategy'] = 'steps'\n",
    "else:\n",
    "    base_args.pop('load_best_model_at_end', None)\n",
    "    base_args.pop('metric_for_best_model', None)\n",
    "\n",
    "# Add progress bar settings if supported\n",
    "if 'disable_tqdm' in sig.parameters:\n",
    "    base_args['disable_tqdm'] = False\n",
    "if 'progress_bar_refresh_rate' in sig.parameters:\n",
    "    base_args['progress_bar_refresh_rate'] = 20\n",
    "\n",
    "# Initialize TrainingArguments\n",
    "valid_args = {k: v for k, v in base_args.items() if k in sig.parameters}\n",
    "training_args = TrainingArguments(**valid_args)"
   ]
  },
  {
   "cell_type": "code",
   "execution_count": 37,
   "id": "jLkqZZjhOXGP",
   "metadata": {
    "id": "jLkqZZjhOXGP"
   },
   "outputs": [],
   "source": [
    "# === Metrics ===\n",
    "# Pre-load accuracy and F1 metrics\n",
    "accuracy_metric = evaluate.load('accuracy')\n",
    "f1_metric = evaluate.load('f1')\n",
    "\n",
    "def compute_metrics(eval_pred):\n",
    "    logits, labels = eval_pred\n",
    "    preds = logits.argmax(axis=-1)\n",
    "    # Compute accuracy\n",
    "    acc = accuracy_metric.compute(predictions=preds, references=labels)\n",
    "    # Compute weighted F1 score\n",
    "    f1 = f1_metric.compute(predictions=preds, references=labels, average='weighted')\n",
    "    return {\n",
    "        'accuracy': acc['accuracy'],\n",
    "        'f1': f1['f1']\n",
    "    }"
   ]
  },
  {
   "cell_type": "code",
   "execution_count": 38,
   "id": "0_u9vnMXOgug",
   "metadata": {
    "colab": {
     "base_uri": "https://localhost:8080/",
     "height": 1000,
     "referenced_widgets": [
      "ae715184f6e4400a821ed69c457ef3cd",
      "084f36a282894a6ebe307c8850b6dd0c",
      "09726718e93b4c65b7df413530bce65e",
      "835cee91779342f1b4734cb322f502ff",
      "bb728ee2e7a54655a1b793a98f702e5f",
      "d0652214aaaa4f69b2cb054cfe352f3c",
      "19ad7a9feb4a4b658a382b74883e4b07",
      "22d574dd5aff4dbc94b3bdcefa765c73",
      "fb4f05adf84c4b2dac29c50543f97a30",
      "711af6754a0d489baf987977a24fcb34",
      "97e39d5a73894200919a326e0af5423a"
     ]
    },
    "id": "0_u9vnMXOgug",
    "outputId": "9323c6d1-8edb-466a-ca70-5ef29ba8b507"
   },
   "outputs": [
    {
     "data": {
      "application/vnd.jupyter.widget-view+json": {
       "model_id": "0a681eb7ff4a4424be211646b3876073",
       "version_major": 2,
       "version_minor": 0
      },
      "text/plain": [
       "  0%|                                                                                                         …"
      ]
     },
     "metadata": {},
     "output_type": "display_data"
    },
    {
     "name": "stderr",
     "output_type": "stream",
     "text": [
      "huggingface/tokenizers: The current process just got forked, after parallelism has already been used. Disabling parallelism to avoid deadlocks...\n",
      "To disable this warning, you can either:\n",
      "\t- Avoid using `tokenizers` before the fork if possible\n",
      "\t- Explicitly set the environment variable TOKENIZERS_PARALLELISM=(true | false)\n",
      "huggingface/tokenizers: The current process just got forked, after parallelism has already been used. Disabling parallelism to avoid deadlocks...\n",
      "To disable this warning, you can either:\n",
      "\t- Avoid using `tokenizers` before the fork if possible\n",
      "\t- Explicitly set the environment variable TOKENIZERS_PARALLELISM=(true | false)\n",
      "huggingface/tokenizers: The current process just got forked, after parallelism has already been used. Disabling parallelism to avoid deadlocks...\n",
      "To disable this warning, you can either:\n",
      "\t- Avoid using `tokenizers` before the fork if possible\n",
      "\t- Explicitly set the environment variable TOKENIZERS_PARALLELISM=(true | false)\n",
      "huggingface/tokenizers: The current process just got forked, after parallelism has already been used. Disabling parallelism to avoid deadlocks...\n",
      "To disable this warning, you can either:\n",
      "\t- Avoid using `tokenizers` before the fork if possible\n",
      "\t- Explicitly set the environment variable TOKENIZERS_PARALLELISM=(true | false)\n"
     ]
    },
    {
     "data": {
      "text/html": [
       "\n",
       "    <div>\n",
       "      \n",
       "      <progress value='955' max='955' style='width:300px; height:20px; vertical-align: middle;'></progress>\n",
       "      [955/955 03:26, Epoch 5/5]\n",
       "    </div>\n",
       "    <table border=\"1\" class=\"dataframe\">\n",
       "  <thead>\n",
       " <tr style=\"text-align: left;\">\n",
       "      <th>Step</th>\n",
       "      <th>Training Loss</th>\n",
       "    </tr>\n",
       "  </thead>\n",
       "  <tbody>\n",
       "    <tr>\n",
       "      <td>100</td>\n",
       "      <td>2.015400</td>\n",
       "    </tr>\n",
       "    <tr>\n",
       "      <td>200</td>\n",
       "      <td>0.785700</td>\n",
       "    </tr>\n",
       "    <tr>\n",
       "      <td>300</td>\n",
       "      <td>0.713800</td>\n",
       "    </tr>\n",
       "    <tr>\n",
       "      <td>400</td>\n",
       "      <td>0.669800</td>\n",
       "    </tr>\n",
       "    <tr>\n",
       "      <td>500</td>\n",
       "      <td>0.593200</td>\n",
       "    </tr>\n",
       "    <tr>\n",
       "      <td>600</td>\n",
       "      <td>0.588100</td>\n",
       "    </tr>\n",
       "    <tr>\n",
       "      <td>700</td>\n",
       "      <td>0.525800</td>\n",
       "    </tr>\n",
       "    <tr>\n",
       "      <td>800</td>\n",
       "      <td>0.508700</td>\n",
       "    </tr>\n",
       "    <tr>\n",
       "      <td>900</td>\n",
       "      <td>0.489800</td>\n",
       "    </tr>\n",
       "  </tbody>\n",
       "</table><p>"
      ],
      "text/plain": [
       "<IPython.core.display.HTML object>"
      ]
     },
     "metadata": {},
     "output_type": "display_data"
    },
    {
     "name": "stdout",
     "output_type": "stream",
     "text": [
      "{'loss': 2.0154, 'grad_norm': 5.749069690704346, 'learning_rate': 4.800000000000001e-06, 'epoch': 0.52}\n"
     ]
    },
    {
     "name": "stderr",
     "output_type": "stream",
     "text": [
      "huggingface/tokenizers: The current process just got forked, after parallelism has already been used. Disabling parallelism to avoid deadlocks...\n",
      "To disable this warning, you can either:\n",
      "\t- Avoid using `tokenizers` before the fork if possible\n",
      "\t- Explicitly set the environment variable TOKENIZERS_PARALLELISM=(true | false)\n",
      "huggingface/tokenizers: The current process just got forked, after parallelism has already been used. Disabling parallelism to avoid deadlocks...\n",
      "To disable this warning, you can either:\n",
      "\t- Avoid using `tokenizers` before the fork if possible\n",
      "\t- Explicitly set the environment variable TOKENIZERS_PARALLELISM=(true | false)\n",
      "huggingface/tokenizers: The current process just got forked, after parallelism has already been used. Disabling parallelism to avoid deadlocks...\n",
      "To disable this warning, you can either:\n",
      "\t- Avoid using `tokenizers` before the fork if possible\n",
      "\t- Explicitly set the environment variable TOKENIZERS_PARALLELISM=(true | false)\n",
      "huggingface/tokenizers: The current process just got forked, after parallelism has already been used. Disabling parallelism to avoid deadlocks...\n",
      "To disable this warning, you can either:\n",
      "\t- Avoid using `tokenizers` before the fork if possible\n",
      "\t- Explicitly set the environment variable TOKENIZERS_PARALLELISM=(true | false)\n"
     ]
    },
    {
     "name": "stdout",
     "output_type": "stream",
     "text": [
      "{'loss': 0.7857, 'grad_norm': 10.164722442626953, 'learning_rate': 9.800000000000001e-06, 'epoch': 1.05}\n",
      "{'loss': 0.7138, 'grad_norm': 8.950255393981934, 'learning_rate': 8.728476821192053e-06, 'epoch': 1.57}\n"
     ]
    },
    {
     "name": "stderr",
     "output_type": "stream",
     "text": [
      "huggingface/tokenizers: The current process just got forked, after parallelism has already been used. Disabling parallelism to avoid deadlocks...\n",
      "To disable this warning, you can either:\n",
      "\t- Avoid using `tokenizers` before the fork if possible\n",
      "\t- Explicitly set the environment variable TOKENIZERS_PARALLELISM=(true | false)\n",
      "huggingface/tokenizers: The current process just got forked, after parallelism has already been used. Disabling parallelism to avoid deadlocks...\n",
      "To disable this warning, you can either:\n",
      "\t- Avoid using `tokenizers` before the fork if possible\n",
      "\t- Explicitly set the environment variable TOKENIZERS_PARALLELISM=(true | false)\n",
      "huggingface/tokenizers: The current process just got forked, after parallelism has already been used. Disabling parallelism to avoid deadlocks...\n",
      "To disable this warning, you can either:\n",
      "\t- Avoid using `tokenizers` before the fork if possible\n",
      "\t- Explicitly set the environment variable TOKENIZERS_PARALLELISM=(true | false)\n",
      "huggingface/tokenizers: The current process just got forked, after parallelism has already been used. Disabling parallelism to avoid deadlocks...\n",
      "To disable this warning, you can either:\n",
      "\t- Avoid using `tokenizers` before the fork if possible\n",
      "\t- Explicitly set the environment variable TOKENIZERS_PARALLELISM=(true | false)\n"
     ]
    },
    {
     "name": "stdout",
     "output_type": "stream",
     "text": [
      "{'loss': 0.6698, 'grad_norm': 5.61816930770874, 'learning_rate': 7.403973509933775e-06, 'epoch': 2.09}\n",
      "{'loss': 0.5932, 'grad_norm': 7.25023078918457, 'learning_rate': 6.079470198675497e-06, 'epoch': 2.62}\n"
     ]
    },
    {
     "name": "stderr",
     "output_type": "stream",
     "text": [
      "huggingface/tokenizers: The current process just got forked, after parallelism has already been used. Disabling parallelism to avoid deadlocks...\n",
      "To disable this warning, you can either:\n",
      "\t- Avoid using `tokenizers` before the fork if possible\n",
      "\t- Explicitly set the environment variable TOKENIZERS_PARALLELISM=(true | false)\n",
      "huggingface/tokenizers: The current process just got forked, after parallelism has already been used. Disabling parallelism to avoid deadlocks...\n",
      "To disable this warning, you can either:\n",
      "\t- Avoid using `tokenizers` before the fork if possible\n",
      "\t- Explicitly set the environment variable TOKENIZERS_PARALLELISM=(true | false)\n",
      "huggingface/tokenizers: The current process just got forked, after parallelism has already been used. Disabling parallelism to avoid deadlocks...\n",
      "To disable this warning, you can either:\n",
      "\t- Avoid using `tokenizers` before the fork if possible\n",
      "\t- Explicitly set the environment variable TOKENIZERS_PARALLELISM=(true | false)\n",
      "huggingface/tokenizers: The current process just got forked, after parallelism has already been used. Disabling parallelism to avoid deadlocks...\n",
      "To disable this warning, you can either:\n",
      "\t- Avoid using `tokenizers` before the fork if possible\n",
      "\t- Explicitly set the environment variable TOKENIZERS_PARALLELISM=(true | false)\n"
     ]
    },
    {
     "name": "stdout",
     "output_type": "stream",
     "text": [
      "{'loss': 0.5881, 'grad_norm': 11.68188190460205, 'learning_rate': 4.754966887417219e-06, 'epoch': 3.14}\n",
      "{'loss': 0.5258, 'grad_norm': 14.120853424072266, 'learning_rate': 3.4304635761589407e-06, 'epoch': 3.66}\n"
     ]
    },
    {
     "name": "stderr",
     "output_type": "stream",
     "text": [
      "huggingface/tokenizers: The current process just got forked, after parallelism has already been used. Disabling parallelism to avoid deadlocks...\n",
      "To disable this warning, you can either:\n",
      "\t- Avoid using `tokenizers` before the fork if possible\n",
      "\t- Explicitly set the environment variable TOKENIZERS_PARALLELISM=(true | false)\n",
      "huggingface/tokenizers: The current process just got forked, after parallelism has already been used. Disabling parallelism to avoid deadlocks...\n",
      "To disable this warning, you can either:\n",
      "\t- Avoid using `tokenizers` before the fork if possible\n",
      "\t- Explicitly set the environment variable TOKENIZERS_PARALLELISM=(true | false)\n",
      "huggingface/tokenizers: The current process just got forked, after parallelism has already been used. Disabling parallelism to avoid deadlocks...\n",
      "To disable this warning, you can either:\n",
      "\t- Avoid using `tokenizers` before the fork if possible\n",
      "\t- Explicitly set the environment variable TOKENIZERS_PARALLELISM=(true | false)\n",
      "huggingface/tokenizers: The current process just got forked, after parallelism has already been used. Disabling parallelism to avoid deadlocks...\n",
      "To disable this warning, you can either:\n",
      "\t- Avoid using `tokenizers` before the fork if possible\n",
      "\t- Explicitly set the environment variable TOKENIZERS_PARALLELISM=(true | false)\n"
     ]
    },
    {
     "name": "stdout",
     "output_type": "stream",
     "text": [
      "{'loss': 0.5087, 'grad_norm': 11.782882690429688, 'learning_rate': 2.1059602649006625e-06, 'epoch': 4.19}\n",
      "{'loss': 0.4898, 'grad_norm': 8.013400077819824, 'learning_rate': 7.814569536423841e-07, 'epoch': 4.71}\n",
      "{'train_runtime': 207.6468, 'train_samples_per_second': 293.503, 'train_steps_per_second': 4.599, 'train_loss': 0.7493144329929851, 'epoch': 5.0}\n"
     ]
    },
    {
     "data": {
      "text/plain": [
       "TrainOutput(global_step=955, training_loss=0.7493144329929851, metrics={'train_runtime': 207.6468, 'train_samples_per_second': 293.503, 'train_steps_per_second': 4.599, 'total_flos': 1.603544724343296e+16, 'train_loss': 0.7493144329929851, 'epoch': 5.0})"
      ]
     },
     "execution_count": 38,
     "metadata": {},
     "output_type": "execute_result"
    }
   ],
   "source": [
    "# === Trainer ===\n",
    "trainer = Trainer(\n",
    "    model=model,\n",
    "    args=training_args,\n",
    "    train_dataset=train_ds,\n",
    "    eval_dataset=eval_ds,\n",
    "    tokenizer=tokenizer,\n",
    "    compute_metrics=compute_metrics,\n",
    "    callbacks=[ProgressCallback()]\n",
    ")\n",
    "\n",
    "# === Start training ===\n",
    "trainer.train()"
   ]
  },
  {
   "cell_type": "code",
   "execution_count": 39,
   "id": "wDEkLxhYUq4L",
   "metadata": {
    "colab": {
     "base_uri": "https://localhost:8080/",
     "height": 245,
     "referenced_widgets": [
      "3a07e87590844f31b217884d88356e7b",
      "25c3d190912849308168196edb7740f1",
      "719a370c75f54496baeea598d93ff852",
      "220a12a687cc42f0bc95835a9435640a",
      "e60e0ff1bbda4bcdaaba877b31745249",
      "ea11a50349ea4ad0a966d67842dc8a2e",
      "c50b108737a849af9508805e100eb458",
      "29c87fcd6d8c4d67921f908a5e4916d5",
      "bd5a64d1f3424cd79d9d6c651c97adb4",
      "53a59816c43641e48c25400af6585e83",
      "21b7aeabe2b244dfb4eed0d3110b0afb"
     ]
    },
    "id": "wDEkLxhYUq4L",
    "outputId": "faca034e-1bb4-4a31-e694-00dab38e6262"
   },
   "outputs": [
    {
     "name": "stderr",
     "output_type": "stream",
     "text": [
      "huggingface/tokenizers: The current process just got forked, after parallelism has already been used. Disabling parallelism to avoid deadlocks...\n",
      "To disable this warning, you can either:\n",
      "\t- Avoid using `tokenizers` before the fork if possible\n",
      "\t- Explicitly set the environment variable TOKENIZERS_PARALLELISM=(true | false)\n",
      "huggingface/tokenizers: The current process just got forked, after parallelism has already been used. Disabling parallelism to avoid deadlocks...\n",
      "To disable this warning, you can either:\n",
      "\t- Avoid using `tokenizers` before the fork if possible\n",
      "\t- Explicitly set the environment variable TOKENIZERS_PARALLELISM=(true | false)\n",
      "huggingface/tokenizers: The current process just got forked, after parallelism has already been used. Disabling parallelism to avoid deadlocks...\n",
      "To disable this warning, you can either:\n",
      "\t- Avoid using `tokenizers` before the fork if possible\n",
      "\t- Explicitly set the environment variable TOKENIZERS_PARALLELISM=(true | false)\n",
      "huggingface/tokenizers: The current process just got forked, after parallelism has already been used. Disabling parallelism to avoid deadlocks...\n",
      "To disable this warning, you can either:\n",
      "\t- Avoid using `tokenizers` before the fork if possible\n",
      "\t- Explicitly set the environment variable TOKENIZERS_PARALLELISM=(true | false)\n"
     ]
    },
    {
     "data": {
      "application/vnd.jupyter.widget-view+json": {
       "model_id": "94c195e9351a4eccb18816dca6db9067",
       "version_major": 2,
       "version_minor": 0
      },
      "text/plain": [
       "  0%|                                                                                                         …"
      ]
     },
     "metadata": {},
     "output_type": "display_data"
    },
    {
     "data": {
      "text/html": [
       "\n",
       "    <div>\n",
       "      \n",
       "      <progress value='48' max='48' style='width:300px; height:20px; vertical-align: middle;'></progress>\n",
       "      [48/48 00:02]\n",
       "    </div>\n",
       "    "
      ],
      "text/plain": [
       "<IPython.core.display.HTML object>"
      ]
     },
     "metadata": {},
     "output_type": "display_data"
    },
    {
     "data": {
      "text/plain": [
       "{'eval_loss': 0.7070215344429016,\n",
       " 'eval_accuracy': 0.7191601049868767,\n",
       " 'eval_f1': 0.7126906822939869,\n",
       " 'eval_runtime': 3.6019,\n",
       " 'eval_samples_per_second': 846.215,\n",
       " 'eval_steps_per_second': 13.326,\n",
       " 'epoch': 5.0}"
      ]
     },
     "execution_count": 39,
     "metadata": {},
     "output_type": "execute_result"
    }
   ],
   "source": [
    "# === Evaluate ===\n",
    "trainer.evaluate()"
   ]
  },
  {
   "cell_type": "code",
   "execution_count": 31,
   "id": "EGEVODwcOigZ",
   "metadata": {
    "colab": {
     "base_uri": "https://localhost:8080/"
    },
    "id": "EGEVODwcOigZ",
    "outputId": "4b07326a-031a-40c2-9c06-738beae4e672"
   },
   "outputs": [
    {
     "name": "stdout",
     "output_type": "stream",
     "text": [
      "Model and checkpoints saved to: ./finbert-finetuned_News_same\n"
     ]
    }
   ],
   "source": [
    "# === Save Final Model ===\n",
    "OUTPUT_DIR = \"./finbert-finetuned_News_same\"\n",
    "trainer.save_model(OUTPUT_DIR)\n",
    "tokenizer.save_pretrained(OUTPUT_DIR)\n",
    "print(f\"Model and checkpoints saved to: {OUTPUT_DIR}\")"
   ]
  },
  {
   "cell_type": "code",
   "execution_count": 32,
   "id": "iHAXzBJlMhAk",
   "metadata": {
    "id": "iHAXzBJlMhAk"
   },
   "outputs": [
    {
     "name": "stderr",
     "output_type": "stream",
     "text": [
      "huggingface/tokenizers: The current process just got forked, after parallelism has already been used. Disabling parallelism to avoid deadlocks...\n",
      "To disable this warning, you can either:\n",
      "\t- Avoid using `tokenizers` before the fork if possible\n",
      "\t- Explicitly set the environment variable TOKENIZERS_PARALLELISM=(true | false)\n",
      "huggingface/tokenizers: The current process just got forked, after parallelism has already been used. Disabling parallelism to avoid deadlocks...\n",
      "To disable this warning, you can either:\n",
      "\t- Avoid using `tokenizers` before the fork if possible\n",
      "\t- Explicitly set the environment variable TOKENIZERS_PARALLELISM=(true | false)\n",
      "huggingface/tokenizers: The current process just got forked, after parallelism has already been used. Disabling parallelism to avoid deadlocks...\n",
      "To disable this warning, you can either:\n",
      "\t- Avoid using `tokenizers` before the fork if possible\n",
      "\t- Explicitly set the environment variable TOKENIZERS_PARALLELISM=(true | false)\n",
      "huggingface/tokenizers: The current process just got forked, after parallelism has already been used. Disabling parallelism to avoid deadlocks...\n",
      "To disable this warning, you can either:\n",
      "\t- Avoid using `tokenizers` before the fork if possible\n",
      "\t- Explicitly set the environment variable TOKENIZERS_PARALLELISM=(true | false)\n"
     ]
    },
    {
     "data": {
      "application/vnd.jupyter.widget-view+json": {
       "model_id": "c08a5eb7b093497887032a523bf29bc8",
       "version_major": 2,
       "version_minor": 0
      },
      "text/plain": [
       "  0%|                                                                                                         …"
      ]
     },
     "metadata": {},
     "output_type": "display_data"
    },
    {
     "name": "stdout",
     "output_type": "stream",
     "text": [
      "\n",
      "📊 Evaluation Metrics:\n",
      "eval_loss: 0.7098\n",
      "eval_accuracy: 0.7224\n",
      "eval_f1: 0.7130\n",
      "eval_runtime: 2.4790\n",
      "eval_samples_per_second: 770.0750\n",
      "eval_steps_per_second: 12.1020\n",
      "epoch: 5.0000\n"
     ]
    },
    {
     "name": "stderr",
     "output_type": "stream",
     "text": [
      "huggingface/tokenizers: The current process just got forked, after parallelism has already been used. Disabling parallelism to avoid deadlocks...\n",
      "To disable this warning, you can either:\n",
      "\t- Avoid using `tokenizers` before the fork if possible\n",
      "\t- Explicitly set the environment variable TOKENIZERS_PARALLELISM=(true | false)\n",
      "huggingface/tokenizers: The current process just got forked, after parallelism has already been used. Disabling parallelism to avoid deadlocks...\n",
      "To disable this warning, you can either:\n",
      "\t- Avoid using `tokenizers` before the fork if possible\n",
      "\t- Explicitly set the environment variable TOKENIZERS_PARALLELISM=(true | false)\n",
      "huggingface/tokenizers: The current process just got forked, after parallelism has already been used. Disabling parallelism to avoid deadlocks...\n",
      "To disable this warning, you can either:\n",
      "\t- Avoid using `tokenizers` before the fork if possible\n",
      "\t- Explicitly set the environment variable TOKENIZERS_PARALLELISM=(true | false)\n",
      "huggingface/tokenizers: The current process just got forked, after parallelism has already been used. Disabling parallelism to avoid deadlocks...\n",
      "To disable this warning, you can either:\n",
      "\t- Avoid using `tokenizers` before the fork if possible\n",
      "\t- Explicitly set the environment variable TOKENIZERS_PARALLELISM=(true | false)\n"
     ]
    },
    {
     "data": {
      "application/vnd.jupyter.widget-view+json": {
       "model_id": "68820e499d7445ecbbf3a1ec2f4d2035",
       "version_major": 2,
       "version_minor": 0
      },
      "text/plain": [
       "  0%|                                                                                                         …"
      ]
     },
     "metadata": {},
     "output_type": "display_data"
    }
   ],
   "source": [
    "# === Evaluate ===\n",
    "results = trainer.evaluate()\n",
    "\n",
    "# Print nicely\n",
    "print(\"\\n📊 Evaluation Metrics:\")\n",
    "for key, value in results.items():\n",
    "    print(f\"{key}: {value:.4f}\")\n",
    "\n",
    "# Run predictions on the evaluation dataset\n",
    "predictions = trainer.predict(eval_ds)\n",
    "pred_labels = predictions.predictions.argmax(axis=-1)\n",
    "true_labels = predictions.label_ids"
   ]
  },
  {
   "cell_type": "code",
   "execution_count": 37,
   "id": "95d4a1e1-9bd5-4e30-b9e2-867cfa9235d9",
   "metadata": {},
   "outputs": [
    {
     "name": "stdout",
     "output_type": "stream",
     "text": [
      "[SUCCESS] Confusion matrix with metrics saved as 'confusion_matrix_eval_news_same.png'\n"
     ]
    },
    {
     "data": {
      "image/png": "[encoded data removed]",
      "text/plain": [
       "<Figure size 640x480 with 2 Axes>"
      ]
     },
     "metadata": {},
     "output_type": "display_data"
    }
   ],
   "source": [
    "# === Compute metrics ===\n",
    "accuracy = accuracy_score(true_labels, pred_labels)\n",
    "f1 = f1_score(true_labels, pred_labels, average='weighted')\n",
    "\n",
    "# Compute confusion matrix\n",
    "cm = confusion_matrix(true_labels, pred_labels)\n",
    "disp = ConfusionMatrixDisplay(confusion_matrix=cm, display_labels=[\"Neutral\", \"Positive\", \"Negative\"])\n",
    "disp.plot(cmap='Blues')\n",
    "\n",
    "# === Add accuracy and F1 to the plot ===\n",
    "plt.title(\"Confusion Matrix: FinBERT Evaluation - News\")\n",
    "plt.text(\n",
    "    2.1, -0.5,  # x, y position (tweak as needed)\n",
    "    f\"Accuracy: {accuracy:.2%}\\nF1 Score: {f1:.2%}\",\n",
    "    fontsize=10,\n",
    "    ha='right',\n",
    "    va='top',\n",
    "    bbox=dict(facecolor='white', edgecolor='black', boxstyle='round,pad=0.5')\n",
    ")\n",
    "\n",
    "plt.tight_layout()\n",
    "plt.savefig(\"confusion_matrix_eval_news_same.png\")\n",
    "print(\"[SUCCESS] Confusion matrix with metrics saved as 'confusion_matrix_eval_news_same.png'\")"
   ]
  },
  {
   "cell_type": "code",
   "execution_count": 38,
   "id": "a59025e1-6066-436c-b31c-012192a171a8",
   "metadata": {},
   "outputs": [
    {
     "name": "stdout",
     "output_type": "stream",
     "text": [
      "[UPLOAD] ./finbert-finetuned_News_same/tokenizer.json → gs://diss_market_data/finbert-finetuned_news_same/tokenizer.json\n",
      "[UPLOAD] ./finbert-finetuned_News_same/config.json → gs://diss_market_data/finbert-finetuned_news_same/config.json\n",
      "[UPLOAD] ./finbert-finetuned_News_same/tokenizer_config.json → gs://diss_market_data/finbert-finetuned_news_same/tokenizer_config.json\n",
      "[UPLOAD] ./finbert-finetuned_News_same/special_tokens_map.json → gs://diss_market_data/finbert-finetuned_news_same/special_tokens_map.json\n",
      "[UPLOAD] ./finbert-finetuned_News_same/training_args.bin → gs://diss_market_data/finbert-finetuned_news_same/training_args.bin\n",
      "[UPLOAD] ./finbert-finetuned_News_same/vocab.txt → gs://diss_market_data/finbert-finetuned_news_same/vocab.txt\n",
      "[UPLOAD] ./finbert-finetuned_News_same/model.safetensors → gs://diss_market_data/finbert-finetuned_news_same/model.safetensors\n",
      "[DONE] Model uploaded to gs://diss_market_data/finbert-finetuned_news_same\n"
     ]
    }
   ],
   "source": [
    "def upload_directory_to_gcs(local_dir, bucket_name, destination_dir):\n",
    "    client = storage.Client()\n",
    "    bucket = client.bucket(bucket_name)\n",
    "\n",
    "    for root, _, files in os.walk(local_dir):\n",
    "        for file in files:\n",
    "            local_path = os.path.join(root, file)\n",
    "            relative_path = os.path.relpath(local_path, local_dir)\n",
    "            gcs_path = os.path.join(destination_dir, relative_path)\n",
    "\n",
    "            blob = bucket.blob(gcs_path)\n",
    "            blob.upload_from_filename(local_path)\n",
    "            print(f\"[UPLOAD] {local_path} → gs://{bucket_name}/{gcs_path}\")\n",
    "\n",
    "# === Upload Model Directory to GCS ===\n",
    "GCS_BUCKET = \"diss_market_data\"\n",
    "GCS_MODEL_PATH = \"finbert-finetuned_news_same\" \n",
    "upload_directory_to_gcs(OUTPUT_DIR, GCS_BUCKET, GCS_MODEL_PATH)\n",
    "print(f\"[DONE] Model uploaded to gs://{GCS_BUCKET}/{GCS_MODEL_PATH}\")"
   ]
  },
  {
   "cell_type": "code",
   "execution_count": null,
   "id": "4237e7fa-5e2f-47de-9cf6-44220840c49b",
   "metadata": {},
   "outputs": [],
   "source": []
  }
 ],
 "metadata": {
  "accelerator": "GPU",
  "colab": {
   "gpuType": "T4",
   "provenance": []
  },
  "environment": {
   "kernel": "conda-env-pytorch-pytorch",
   "name": "workbench-notebooks.m130",
   "type": "gcloud",
   "uri": "us-docker.pkg.dev/deeplearning-platform-release/gcr.io/workbench-notebooks:m130"
  },
  "kernelspec": {
   "display_name": "Python (fusionnet)",
   "language": "python",
   "name": "fusionnet"
  },
  "language_info": {
   "codemirror_mode": {
    "name": "ipython",
    "version": 3
   },
   "file_extension": ".py",
   "mimetype": "text/x-python",
   "name": "python",
   "nbconvert_exporter": "python",
   "pygments_lexer": "ipython3",
   "version": "3.10.18"
  },
  "widgets": {
   "application/vnd.jupyter.widget-state+json": {
    "07eb299530564c6690a5a8dff978440a": {
     "model_module": "@jupyter-widgets/controls",
     "model_module_version": "1.5.0",
     "model_name": "DescriptionStyleModel",
     "state": {
      "_model_module": "@jupyter-widgets/controls",
      "_model_module_version": "1.5.0",
      "_model_name": "DescriptionStyleModel",
      "_view_count": null,
      "_view_module": "@jupyter-widgets/base",
      "_view_module_version": "1.2.0",
      "_view_name": "StyleView",
      "description_width": ""
     }
    },
    "084f36a282894a6ebe307c8850b6dd0c": {
     "model_module": "@jupyter-widgets/controls",
     "model_module_version": "1.5.0",
     "model_name": "HTMLModel",
     "state": {
      "_dom_classes": [],
      "_model_module": "@jupyter-widgets/controls",
      "_model_module_version": "1.5.0",
      "_model_name": "HTMLModel",
      "_view_count": null,
      "_view_module": "@jupyter-widgets/controls",
      "_view_module_version": "1.5.0",
      "_view_name": "HTMLView",
      "description": "",
      "description_tooltip": null,
      "layout": "IPY_MODEL_d0652214aaaa4f69b2cb054cfe352f3c",
      "placeholder": "​",
      "style": "IPY_MODEL_19ad7a9feb4a4b658a382b74883e4b07",
      "value": "100%"
     }
    },
    "09726718e93b4c65b7df413530bce65e": {
     "model_module": "@jupyter-widgets/controls",
     "model_module_version": "1.5.0",
     "model_name": "FloatProgressModel",
     "state": {
      "_dom_classes": [],
      "_model_module": "@jupyter-widgets/controls",
      "_model_module_version": "1.5.0",
      "_model_name": "FloatProgressModel",
      "_view_count": null,
      "_view_module": "@jupyter-widgets/controls",
      "_view_module_version": "1.5.0",
      "_view_name": "ProgressView",
      "bar_style": "success",
      "description": "",
      "description_tooltip": null,
      "layout": "IPY_MODEL_22d574dd5aff4dbc94b3bdcefa765c73",
      "max": 3105,
      "min": 0,
      "orientation": "horizontal",
      "style": "IPY_MODEL_fb4f05adf84c4b2dac29c50543f97a30",
      "value": 3105
     }
    },
    "0d9ea8cf93d0471785a9d123bab69423": {
     "model_module": "@jupyter-widgets/controls",
     "model_module_version": "1.5.0",
     "model_name": "HBoxModel",
     "state": {
      "_dom_classes": [],
      "_model_module": "@jupyter-widgets/controls",
      "_model_module_version": "1.5.0",
      "_model_name": "HBoxModel",
      "_view_count": null,
      "_view_module": "@jupyter-widgets/controls",
      "_view_module_version": "1.5.0",
      "_view_name": "HBoxView",
      "box_style": "",
      "children": [
       "IPY_MODEL_f2cde18f70c84d9f8571cd246d908c2d",
       "IPY_MODEL_96167d55c11e4449bb8afc58a82007fd",
       "IPY_MODEL_6e821242499748b2b0d82f58f3682984"
      ],
      "layout": "IPY_MODEL_ef130bee218d4ef8a210538136ec48f0"
     }
    },
    "1528b192ef9942c3b18e5cbc787b4086": {
     "model_module": "@jupyter-widgets/controls",
     "model_module_version": "1.5.0",
     "model_name": "DescriptionStyleModel",
     "state": {
      "_model_module": "@jupyter-widgets/controls",
      "_model_module_version": "1.5.0",
      "_model_name": "DescriptionStyleModel",
      "_view_count": null,
      "_view_module": "@jupyter-widgets/base",
      "_view_module_version": "1.2.0",
      "_view_name": "StyleView",
      "description_width": ""
     }
    },
    "18f4cf5b85494cccb4e6dfa2cb1c3a8f": {
     "model_module": "@jupyter-widgets/controls",
     "model_module_version": "1.5.0",
     "model_name": "ProgressStyleModel",
     "state": {
      "_model_module": "@jupyter-widgets/controls",
      "_model_module_version": "1.5.0",
      "_model_name": "ProgressStyleModel",
      "_view_count": null,
      "_view_module": "@jupyter-widgets/base",
      "_view_module_version": "1.2.0",
      "_view_name": "StyleView",
      "bar_color": null,
      "description_width": ""
     }
    },
    "19ad7a9feb4a4b658a382b74883e4b07": {
     "model_module": "@jupyter-widgets/controls",
     "model_module_version": "1.5.0",
     "model_name": "DescriptionStyleModel",
     "state": {
      "_model_module": "@jupyter-widgets/controls",
      "_model_module_version": "1.5.0",
      "_model_name": "DescriptionStyleModel",
      "_view_count": null,
      "_view_module": "@jupyter-widgets/base",
      "_view_module_version": "1.2.0",
      "_view_name": "StyleView",
      "description_width": ""
     }
    },
    "1b590f566ff443c2945e82a9557fda79": {
     "model_module": "@jupyter-widgets/controls",
     "model_module_version": "1.5.0",
     "model_name": "HTMLModel",
     "state": {
      "_dom_classes": [],
      "_model_module": "@jupyter-widgets/controls",
      "_model_module_version": "1.5.0",
      "_model_name": "HTMLModel",
      "_view_count": null,
      "_view_module": "@jupyter-widgets/controls",
      "_view_module_version": "1.5.0",
      "_view_name": "HTMLView",
      "description": "",
      "description_tooltip": null,
      "layout": "IPY_MODEL_32d3eb8e03384f30a50d325a51a28cf1",
      "placeholder": "​",
      "style": "IPY_MODEL_36211d56e93e4fd184e3f41c8b96de05",
      "value": "Map: 100%"
     }
    },
    "21b7aeabe2b244dfb4eed0d3110b0afb": {
     "model_module": "@jupyter-widgets/controls",
     "model_module_version": "1.5.0",
     "model_name": "DescriptionStyleModel",
     "state": {
      "_model_module": "@jupyter-widgets/controls",
      "_model_module_version": "1.5.0",
      "_model_name": "DescriptionStyleModel",
      "_view_count": null,
      "_view_module": "@jupyter-widgets/base",
      "_view_module_version": "1.2.0",
      "_view_name": "StyleView",
      "description_width": ""
     }
    },
    "220a12a687cc42f0bc95835a9435640a": {
     "model_module": "@jupyter-widgets/controls",
     "model_module_version": "1.5.0",
     "model_name": "HTMLModel",
     "state": {
      "_dom_classes": [],
      "_model_module": "@jupyter-widgets/controls",
      "_model_module_version": "1.5.0",
      "_model_name": "HTMLModel",
      "_view_count": null,
      "_view_module": "@jupyter-widgets/controls",
      "_view_module_version": "1.5.0",
      "_view_name": "HTMLView",
      "description": "",
      "description_tooltip": null,
      "layout": "IPY_MODEL_53a59816c43641e48c25400af6585e83",
      "placeholder": "​",
      "style": "IPY_MODEL_21b7aeabe2b244dfb4eed0d3110b0afb",
      "value": " 1/1 [00:00&lt;00:00, 15.94it/s]"
     }
    },
    "22d574dd5aff4dbc94b3bdcefa765c73": {
     "model_module": "@jupyter-widgets/base",
     "model_module_version": "1.2.0",
     "model_name": "LayoutModel",
     "state": {
      "_model_module": "@jupyter-widgets/base",
      "_model_module_version": "1.2.0",
      "_model_name": "LayoutModel",
      "_view_count": null,
      "_view_module": "@jupyter-widgets/base",
      "_view_module_version": "1.2.0",
      "_view_name": "LayoutView",
      "align_content": null,
      "align_items": null,
      "align_self": null,
      "border": null,
      "bottom": null,
      "display": null,
      "flex": "2",
      "flex_flow": null,
      "grid_area": null,
      "grid_auto_columns": null,
      "grid_auto_flow": null,
      "grid_auto_rows": null,
      "grid_column": null,
      "grid_gap": null,
      "grid_row": null,
      "grid_template_areas": null,
      "grid_template_columns": null,
      "grid_template_rows": null,
      "height": null,
      "justify_content": null,
      "justify_items": null,
      "left": null,
      "margin": null,
      "max_height": null,
      "max_width": null,
      "min_height": null,
      "min_width": null,
      "object_fit": null,
      "object_position": null,
      "order": null,
      "overflow": null,
      "overflow_x": null,
      "overflow_y": null,
      "padding": null,
      "right": null,
      "top": null,
      "visibility": null,
      "width": null
     }
    },
    "25c3d190912849308168196edb7740f1": {
     "model_module": "@jupyter-widgets/controls",
     "model_module_version": "1.5.0",
     "model_name": "HTMLModel",
     "state": {
      "_dom_classes": [],
      "_model_module": "@jupyter-widgets/controls",
      "_model_module_version": "1.5.0",
      "_model_name": "HTMLModel",
      "_view_count": null,
      "_view_module": "@jupyter-widgets/controls",
      "_view_module_version": "1.5.0",
      "_view_name": "HTMLView",
      "description": "",
      "description_tooltip": null,
      "layout": "IPY_MODEL_ea11a50349ea4ad0a966d67842dc8a2e",
      "placeholder": "​",
      "style": "IPY_MODEL_c50b108737a849af9508805e100eb458",
      "value": "100%"
     }
    },
    "28e12136db404ea187c6179908c28af8": {
     "model_module": "@jupyter-widgets/base",
     "model_module_version": "1.2.0",
     "model_name": "LayoutModel",
     "state": {
      "_model_module": "@jupyter-widgets/base",
      "_model_module_version": "1.2.0",
      "_model_name": "LayoutModel",
      "_view_count": null,
      "_view_module": "@jupyter-widgets/base",
      "_view_module_version": "1.2.0",
      "_view_name": "LayoutView",
      "align_content": null,
      "align_items": null,
      "align_self": null,
      "border": null,
      "bottom": null,
      "display": null,
      "flex": null,
      "flex_flow": null,
      "grid_area": null,
      "grid_auto_columns": null,
      "grid_auto_flow": null,
      "grid_auto_rows": null,
      "grid_column": null,
      "grid_gap": null,
      "grid_row": null,
      "grid_template_areas": null,
      "grid_template_columns": null,
      "grid_template_rows": null,
      "height": null,
      "justify_content": null,
      "justify_items": null,
      "left": null,
      "margin": null,
      "max_height": null,
      "max_width": null,
      "min_height": null,
      "min_width": null,
      "object_fit": null,
      "object_position": null,
      "order": null,
      "overflow": null,
      "overflow_x": null,
      "overflow_y": null,
      "padding": null,
      "right": null,
      "top": null,
      "visibility": null,
      "width": null
     }
    },
    "29c87fcd6d8c4d67921f908a5e4916d5": {
     "model_module": "@jupyter-widgets/base",
     "model_module_version": "1.2.0",
     "model_name": "LayoutModel",
     "state": {
      "_model_module": "@jupyter-widgets/base",
      "_model_module_version": "1.2.0",
      "_model_name": "LayoutModel",
      "_view_count": null,
      "_view_module": "@jupyter-widgets/base",
      "_view_module_version": "1.2.0",
      "_view_name": "LayoutView",
      "align_content": null,
      "align_items": null,
      "align_self": null,
      "border": null,
      "bottom": null,
      "display": null,
      "flex": "2",
      "flex_flow": null,
      "grid_area": null,
      "grid_auto_columns": null,
      "grid_auto_flow": null,
      "grid_auto_rows": null,
      "grid_column": null,
      "grid_gap": null,
      "grid_row": null,
      "grid_template_areas": null,
      "grid_template_columns": null,
      "grid_template_rows": null,
      "height": null,
      "justify_content": null,
      "justify_items": null,
      "left": null,
      "margin": null,
      "max_height": null,
      "max_width": null,
      "min_height": null,
      "min_width": null,
      "object_fit": null,
      "object_position": null,
      "order": null,
      "overflow": null,
      "overflow_x": null,
      "overflow_y": null,
      "padding": null,
      "right": null,
      "top": null,
      "visibility": null,
      "width": null
     }
    },
    "32d3eb8e03384f30a50d325a51a28cf1": {
     "model_module": "@jupyter-widgets/base",
     "model_module_version": "1.2.0",
     "model_name": "LayoutModel",
     "state": {
      "_model_module": "@jupyter-widgets/base",
      "_model_module_version": "1.2.0",
      "_model_name": "LayoutModel",
      "_view_count": null,
      "_view_module": "@jupyter-widgets/base",
      "_view_module_version": "1.2.0",
      "_view_name": "LayoutView",
      "align_content": null,
      "align_items": null,
      "align_self": null,
      "border": null,
      "bottom": null,
      "display": null,
      "flex": null,
      "flex_flow": null,
      "grid_area": null,
      "grid_auto_columns": null,
      "grid_auto_flow": null,
      "grid_auto_rows": null,
      "grid_column": null,
      "grid_gap": null,
      "grid_row": null,
      "grid_template_areas": null,
      "grid_template_columns": null,
      "grid_template_rows": null,
      "height": null,
      "justify_content": null,
      "justify_items": null,
      "left": null,
      "margin": null,
      "max_height": null,
      "max_width": null,
      "min_height": null,
      "min_width": null,
      "object_fit": null,
      "object_position": null,
      "order": null,
      "overflow": null,
      "overflow_x": null,
      "overflow_y": null,
      "padding": null,
      "right": null,
      "top": null,
      "visibility": null,
      "width": null
     }
    },
    "36211d56e93e4fd184e3f41c8b96de05": {
     "model_module": "@jupyter-widgets/controls",
     "model_module_version": "1.5.0",
     "model_name": "DescriptionStyleModel",
     "state": {
      "_model_module": "@jupyter-widgets/controls",
      "_model_module_version": "1.5.0",
      "_model_name": "DescriptionStyleModel",
      "_view_count": null,
      "_view_module": "@jupyter-widgets/base",
      "_view_module_version": "1.2.0",
      "_view_name": "StyleView",
      "description_width": ""
     }
    },
    "37d414d0abfa4235a69ca0f21850643a": {
     "model_module": "@jupyter-widgets/base",
     "model_module_version": "1.2.0",
     "model_name": "LayoutModel",
     "state": {
      "_model_module": "@jupyter-widgets/base",
      "_model_module_version": "1.2.0",
      "_model_name": "LayoutModel",
      "_view_count": null,
      "_view_module": "@jupyter-widgets/base",
      "_view_module_version": "1.2.0",
      "_view_name": "LayoutView",
      "align_content": null,
      "align_items": null,
      "align_self": null,
      "border": null,
      "bottom": null,
      "display": null,
      "flex": null,
      "flex_flow": null,
      "grid_area": null,
      "grid_auto_columns": null,
      "grid_auto_flow": null,
      "grid_auto_rows": null,
      "grid_column": null,
      "grid_gap": null,
      "grid_row": null,
      "grid_template_areas": null,
      "grid_template_columns": null,
      "grid_template_rows": null,
      "height": null,
      "justify_content": null,
      "justify_items": null,
      "left": null,
      "margin": null,
      "max_height": null,
      "max_width": null,
      "min_height": null,
      "min_width": null,
      "object_fit": null,
      "object_position": null,
      "order": null,
      "overflow": null,
      "overflow_x": null,
      "overflow_y": null,
      "padding": null,
      "right": null,
      "top": null,
      "visibility": null,
      "width": null
     }
    },
    "3a07e87590844f31b217884d88356e7b": {
     "model_module": "@jupyter-widgets/controls",
     "model_module_version": "1.5.0",
     "model_name": "HBoxModel",
     "state": {
      "_dom_classes": [],
      "_model_module": "@jupyter-widgets/controls",
      "_model_module_version": "1.5.0",
      "_model_name": "HBoxModel",
      "_view_count": null,
      "_view_module": "@jupyter-widgets/controls",
      "_view_module_version": "1.5.0",
      "_view_name": "HBoxView",
      "box_style": "",
      "children": [
       "IPY_MODEL_25c3d190912849308168196edb7740f1",
       "IPY_MODEL_719a370c75f54496baeea598d93ff852",
       "IPY_MODEL_220a12a687cc42f0bc95835a9435640a"
      ],
      "layout": "IPY_MODEL_e60e0ff1bbda4bcdaaba877b31745249"
     }
    },
    "53a59816c43641e48c25400af6585e83": {
     "model_module": "@jupyter-widgets/base",
     "model_module_version": "1.2.0",
     "model_name": "LayoutModel",
     "state": {
      "_model_module": "@jupyter-widgets/base",
      "_model_module_version": "1.2.0",
      "_model_name": "LayoutModel",
      "_view_count": null,
      "_view_module": "@jupyter-widgets/base",
      "_view_module_version": "1.2.0",
      "_view_name": "LayoutView",
      "align_content": null,
      "align_items": null,
      "align_self": null,
      "border": null,
      "bottom": null,
      "display": null,
      "flex": null,
      "flex_flow": null,
      "grid_area": null,
      "grid_auto_columns": null,
      "grid_auto_flow": null,
      "grid_auto_rows": null,
      "grid_column": null,
      "grid_gap": null,
      "grid_row": null,
      "grid_template_areas": null,
      "grid_template_columns": null,
      "grid_template_rows": null,
      "height": null,
      "justify_content": null,
      "justify_items": null,
      "left": null,
      "margin": null,
      "max_height": null,
      "max_width": null,
      "min_height": null,
      "min_width": null,
      "object_fit": null,
      "object_position": null,
      "order": null,
      "overflow": null,
      "overflow_x": null,
      "overflow_y": null,
      "padding": null,
      "right": null,
      "top": null,
      "visibility": null,
      "width": null
     }
    },
    "614d12a111844cd5ac315ddb8800478f": {
     "model_module": "@jupyter-widgets/controls",
     "model_module_version": "1.5.0",
     "model_name": "ProgressStyleModel",
     "state": {
      "_model_module": "@jupyter-widgets/controls",
      "_model_module_version": "1.5.0",
      "_model_name": "ProgressStyleModel",
      "_view_count": null,
      "_view_module": "@jupyter-widgets/base",
      "_view_module_version": "1.2.0",
      "_view_name": "StyleView",
      "bar_color": null,
      "description_width": ""
     }
    },
    "6e821242499748b2b0d82f58f3682984": {
     "model_module": "@jupyter-widgets/controls",
     "model_module_version": "1.5.0",
     "model_name": "HTMLModel",
     "state": {
      "_dom_classes": [],
      "_model_module": "@jupyter-widgets/controls",
      "_model_module_version": "1.5.0",
      "_model_name": "HTMLModel",
      "_view_count": null,
      "_view_module": "@jupyter-widgets/controls",
      "_view_module_version": "1.5.0",
      "_view_name": "HTMLView",
      "description": "",
      "description_tooltip": null,
      "layout": "IPY_MODEL_71a4f8292a1d4009a41823cd0d94ebb2",
      "placeholder": "​",
      "style": "IPY_MODEL_1528b192ef9942c3b18e5cbc787b4086",
      "value": " 19846/19846 [00:28&lt;00:00, 2406.13 examples/s]"
     }
    },
    "711af6754a0d489baf987977a24fcb34": {
     "model_module": "@jupyter-widgets/base",
     "model_module_version": "1.2.0",
     "model_name": "LayoutModel",
     "state": {
      "_model_module": "@jupyter-widgets/base",
      "_model_module_version": "1.2.0",
      "_model_name": "LayoutModel",
      "_view_count": null,
      "_view_module": "@jupyter-widgets/base",
      "_view_module_version": "1.2.0",
      "_view_name": "LayoutView",
      "align_content": null,
      "align_items": null,
      "align_self": null,
      "border": null,
      "bottom": null,
      "display": null,
      "flex": null,
      "flex_flow": null,
      "grid_area": null,
      "grid_auto_columns": null,
      "grid_auto_flow": null,
      "grid_auto_rows": null,
      "grid_column": null,
      "grid_gap": null,
      "grid_row": null,
      "grid_template_areas": null,
      "grid_template_columns": null,
      "grid_template_rows": null,
      "height": null,
      "justify_content": null,
      "justify_items": null,
      "left": null,
      "margin": null,
      "max_height": null,
      "max_width": null,
      "min_height": null,
      "min_width": null,
      "object_fit": null,
      "object_position": null,
      "order": null,
      "overflow": null,
      "overflow_x": null,
      "overflow_y": null,
      "padding": null,
      "right": null,
      "top": null,
      "visibility": null,
      "width": null
     }
    },
    "719a370c75f54496baeea598d93ff852": {
     "model_module": "@jupyter-widgets/controls",
     "model_module_version": "1.5.0",
     "model_name": "FloatProgressModel",
     "state": {
      "_dom_classes": [],
      "_model_module": "@jupyter-widgets/controls",
      "_model_module_version": "1.5.0",
      "_model_name": "FloatProgressModel",
      "_view_count": null,
      "_view_module": "@jupyter-widgets/controls",
      "_view_module_version": "1.5.0",
      "_view_name": "ProgressView",
      "bar_style": "success",
      "description": "",
      "description_tooltip": null,
      "layout": "IPY_MODEL_29c87fcd6d8c4d67921f908a5e4916d5",
      "max": 1,
      "min": 0,
      "orientation": "horizontal",
      "style": "IPY_MODEL_bd5a64d1f3424cd79d9d6c651c97adb4",
      "value": 1
     }
    },
    "71a4f8292a1d4009a41823cd0d94ebb2": {
     "model_module": "@jupyter-widgets/base",
     "model_module_version": "1.2.0",
     "model_name": "LayoutModel",
     "state": {
      "_model_module": "@jupyter-widgets/base",
      "_model_module_version": "1.2.0",
      "_model_name": "LayoutModel",
      "_view_count": null,
      "_view_module": "@jupyter-widgets/base",
      "_view_module_version": "1.2.0",
      "_view_name": "LayoutView",
      "align_content": null,
      "align_items": null,
      "align_self": null,
      "border": null,
      "bottom": null,
      "display": null,
      "flex": null,
      "flex_flow": null,
      "grid_area": null,
      "grid_auto_columns": null,
      "grid_auto_flow": null,
      "grid_auto_rows": null,
      "grid_column": null,
      "grid_gap": null,
      "grid_row": null,
      "grid_template_areas": null,
      "grid_template_columns": null,
      "grid_template_rows": null,
      "height": null,
      "justify_content": null,
      "justify_items": null,
      "left": null,
      "margin": null,
      "max_height": null,
      "max_width": null,
      "min_height": null,
      "min_width": null,
      "object_fit": null,
      "object_position": null,
      "order": null,
      "overflow": null,
      "overflow_x": null,
      "overflow_y": null,
      "padding": null,
      "right": null,
      "top": null,
      "visibility": null,
      "width": null
     }
    },
    "7401234657e84e96987c14cae982b0ac": {
     "model_module": "@jupyter-widgets/controls",
     "model_module_version": "1.5.0",
     "model_name": "HTMLModel",
     "state": {
      "_dom_classes": [],
      "_model_module": "@jupyter-widgets/controls",
      "_model_module_version": "1.5.0",
      "_model_name": "HTMLModel",
      "_view_count": null,
      "_view_module": "@jupyter-widgets/controls",
      "_view_module_version": "1.5.0",
      "_view_name": "HTMLView",
      "description": "",
      "description_tooltip": null,
      "layout": "IPY_MODEL_28e12136db404ea187c6179908c28af8",
      "placeholder": "​",
      "style": "IPY_MODEL_bebf56fcbed44531b9a9119b3c7417fc",
      "value": " 50/50 [00:00&lt;00:00, 444.54 examples/s]"
     }
    },
    "8002b56dd7d141eb9dff0b14cb763a34": {
     "model_module": "@jupyter-widgets/controls",
     "model_module_version": "1.5.0",
     "model_name": "FloatProgressModel",
     "state": {
      "_dom_classes": [],
      "_model_module": "@jupyter-widgets/controls",
      "_model_module_version": "1.5.0",
      "_model_name": "FloatProgressModel",
      "_view_count": null,
      "_view_module": "@jupyter-widgets/controls",
      "_view_module_version": "1.5.0",
      "_view_name": "ProgressView",
      "bar_style": "success",
      "description": "",
      "description_tooltip": null,
      "layout": "IPY_MODEL_37d414d0abfa4235a69ca0f21850643a",
      "max": 50,
      "min": 0,
      "orientation": "horizontal",
      "style": "IPY_MODEL_18f4cf5b85494cccb4e6dfa2cb1c3a8f",
      "value": 50
     }
    },
    "835cee91779342f1b4734cb322f502ff": {
     "model_module": "@jupyter-widgets/controls",
     "model_module_version": "1.5.0",
     "model_name": "HTMLModel",
     "state": {
      "_dom_classes": [],
      "_model_module": "@jupyter-widgets/controls",
      "_model_module_version": "1.5.0",
      "_model_name": "HTMLModel",
      "_view_count": null,
      "_view_module": "@jupyter-widgets/controls",
      "_view_module_version": "1.5.0",
      "_view_name": "HTMLView",
      "description": "",
      "description_tooltip": null,
      "layout": "IPY_MODEL_711af6754a0d489baf987977a24fcb34",
      "placeholder": "​",
      "style": "IPY_MODEL_97e39d5a73894200919a326e0af5423a",
      "value": " 3105/3105 [41:56&lt;00:00,  1.66it/s]"
     }
    },
    "96167d55c11e4449bb8afc58a82007fd": {
     "model_module": "@jupyter-widgets/controls",
     "model_module_version": "1.5.0",
     "model_name": "FloatProgressModel",
     "state": {
      "_dom_classes": [],
      "_model_module": "@jupyter-widgets/controls",
      "_model_module_version": "1.5.0",
      "_model_name": "FloatProgressModel",
      "_view_count": null,
      "_view_module": "@jupyter-widgets/controls",
      "_view_module_version": "1.5.0",
      "_view_name": "ProgressView",
      "bar_style": "success",
      "description": "",
      "description_tooltip": null,
      "layout": "IPY_MODEL_dbedc9a49f574004b44cc84c2e0f8148",
      "max": 19846,
      "min": 0,
      "orientation": "horizontal",
      "style": "IPY_MODEL_614d12a111844cd5ac315ddb8800478f",
      "value": 19846
     }
    },
    "97e39d5a73894200919a326e0af5423a": {
     "model_module": "@jupyter-widgets/controls",
     "model_module_version": "1.5.0",
     "model_name": "DescriptionStyleModel",
     "state": {
      "_model_module": "@jupyter-widgets/controls",
      "_model_module_version": "1.5.0",
      "_model_name": "DescriptionStyleModel",
      "_view_count": null,
      "_view_module": "@jupyter-widgets/base",
      "_view_module_version": "1.2.0",
      "_view_name": "StyleView",
      "description_width": ""
     }
    },
    "ae715184f6e4400a821ed69c457ef3cd": {
     "model_module": "@jupyter-widgets/controls",
     "model_module_version": "1.5.0",
     "model_name": "HBoxModel",
     "state": {
      "_dom_classes": [],
      "_model_module": "@jupyter-widgets/controls",
      "_model_module_version": "1.5.0",
      "_model_name": "HBoxModel",
      "_view_count": null,
      "_view_module": "@jupyter-widgets/controls",
      "_view_module_version": "1.5.0",
      "_view_name": "HBoxView",
      "box_style": "",
      "children": [
       "IPY_MODEL_084f36a282894a6ebe307c8850b6dd0c",
       "IPY_MODEL_09726718e93b4c65b7df413530bce65e",
       "IPY_MODEL_835cee91779342f1b4734cb322f502ff"
      ],
      "layout": "IPY_MODEL_bb728ee2e7a54655a1b793a98f702e5f"
     }
    },
    "b8df0cca13504daa87ff8d2001481379": {
     "model_module": "@jupyter-widgets/controls",
     "model_module_version": "1.5.0",
     "model_name": "HBoxModel",
     "state": {
      "_dom_classes": [],
      "_model_module": "@jupyter-widgets/controls",
      "_model_module_version": "1.5.0",
      "_model_name": "HBoxModel",
      "_view_count": null,
      "_view_module": "@jupyter-widgets/controls",
      "_view_module_version": "1.5.0",
      "_view_name": "HBoxView",
      "box_style": "",
      "children": [
       "IPY_MODEL_1b590f566ff443c2945e82a9557fda79",
       "IPY_MODEL_8002b56dd7d141eb9dff0b14cb763a34",
       "IPY_MODEL_7401234657e84e96987c14cae982b0ac"
      ],
      "layout": "IPY_MODEL_fddee4f8133641268d3b7643599cc2c2"
     }
    },
    "bb728ee2e7a54655a1b793a98f702e5f": {
     "model_module": "@jupyter-widgets/base",
     "model_module_version": "1.2.0",
     "model_name": "LayoutModel",
     "state": {
      "_model_module": "@jupyter-widgets/base",
      "_model_module_version": "1.2.0",
      "_model_name": "LayoutModel",
      "_view_count": null,
      "_view_module": "@jupyter-widgets/base",
      "_view_module_version": "1.2.0",
      "_view_name": "LayoutView",
      "align_content": null,
      "align_items": null,
      "align_self": null,
      "border": null,
      "bottom": null,
      "display": "inline-flex",
      "flex": null,
      "flex_flow": "row wrap",
      "grid_area": null,
      "grid_auto_columns": null,
      "grid_auto_flow": null,
      "grid_auto_rows": null,
      "grid_column": null,
      "grid_gap": null,
      "grid_row": null,
      "grid_template_areas": null,
      "grid_template_columns": null,
      "grid_template_rows": null,
      "height": null,
      "justify_content": null,
      "justify_items": null,
      "left": null,
      "margin": null,
      "max_height": null,
      "max_width": null,
      "min_height": null,
      "min_width": null,
      "object_fit": null,
      "object_position": null,
      "order": null,
      "overflow": null,
      "overflow_x": null,
      "overflow_y": null,
      "padding": null,
      "right": null,
      "top": null,
      "visibility": null,
      "width": "100%"
     }
    },
    "bd5a64d1f3424cd79d9d6c651c97adb4": {
     "model_module": "@jupyter-widgets/controls",
     "model_module_version": "1.5.0",
     "model_name": "ProgressStyleModel",
     "state": {
      "_model_module": "@jupyter-widgets/controls",
      "_model_module_version": "1.5.0",
      "_model_name": "ProgressStyleModel",
      "_view_count": null,
      "_view_module": "@jupyter-widgets/base",
      "_view_module_version": "1.2.0",
      "_view_name": "StyleView",
      "bar_color": null,
      "description_width": ""
     }
    },
    "bebf56fcbed44531b9a9119b3c7417fc": {
     "model_module": "@jupyter-widgets/controls",
     "model_module_version": "1.5.0",
     "model_name": "DescriptionStyleModel",
     "state": {
      "_model_module": "@jupyter-widgets/controls",
      "_model_module_version": "1.5.0",
      "_model_name": "DescriptionStyleModel",
      "_view_count": null,
      "_view_module": "@jupyter-widgets/base",
      "_view_module_version": "1.2.0",
      "_view_name": "StyleView",
      "description_width": ""
     }
    },
    "c50b108737a849af9508805e100eb458": {
     "model_module": "@jupyter-widgets/controls",
     "model_module_version": "1.5.0",
     "model_name": "DescriptionStyleModel",
     "state": {
      "_model_module": "@jupyter-widgets/controls",
      "_model_module_version": "1.5.0",
      "_model_name": "DescriptionStyleModel",
      "_view_count": null,
      "_view_module": "@jupyter-widgets/base",
      "_view_module_version": "1.2.0",
      "_view_name": "StyleView",
      "description_width": ""
     }
    },
    "d0652214aaaa4f69b2cb054cfe352f3c": {
     "model_module": "@jupyter-widgets/base",
     "model_module_version": "1.2.0",
     "model_name": "LayoutModel",
     "state": {
      "_model_module": "@jupyter-widgets/base",
      "_model_module_version": "1.2.0",
      "_model_name": "LayoutModel",
      "_view_count": null,
      "_view_module": "@jupyter-widgets/base",
      "_view_module_version": "1.2.0",
      "_view_name": "LayoutView",
      "align_content": null,
      "align_items": null,
      "align_self": null,
      "border": null,
      "bottom": null,
      "display": null,
      "flex": null,
      "flex_flow": null,
      "grid_area": null,
      "grid_auto_columns": null,
      "grid_auto_flow": null,
      "grid_auto_rows": null,
      "grid_column": null,
      "grid_gap": null,
      "grid_row": null,
      "grid_template_areas": null,
      "grid_template_columns": null,
      "grid_template_rows": null,
      "height": null,
      "justify_content": null,
      "justify_items": null,
      "left": null,
      "margin": null,
      "max_height": null,
      "max_width": null,
      "min_height": null,
      "min_width": null,
      "object_fit": null,
      "object_position": null,
      "order": null,
      "overflow": null,
      "overflow_x": null,
      "overflow_y": null,
      "padding": null,
      "right": null,
      "top": null,
      "visibility": null,
      "width": null
     }
    },
    "d5144aad216c40789f8b90ebe85dbc46": {
     "model_module": "@jupyter-widgets/base",
     "model_module_version": "1.2.0",
     "model_name": "LayoutModel",
     "state": {
      "_model_module": "@jupyter-widgets/base",
      "_model_module_version": "1.2.0",
      "_model_name": "LayoutModel",
      "_view_count": null,
      "_view_module": "@jupyter-widgets/base",
      "_view_module_version": "1.2.0",
      "_view_name": "LayoutView",
      "align_content": null,
      "align_items": null,
      "align_self": null,
      "border": null,
      "bottom": null,
      "display": null,
      "flex": null,
      "flex_flow": null,
      "grid_area": null,
      "grid_auto_columns": null,
      "grid_auto_flow": null,
      "grid_auto_rows": null,
      "grid_column": null,
      "grid_gap": null,
      "grid_row": null,
      "grid_template_areas": null,
      "grid_template_columns": null,
      "grid_template_rows": null,
      "height": null,
      "justify_content": null,
      "justify_items": null,
      "left": null,
      "margin": null,
      "max_height": null,
      "max_width": null,
      "min_height": null,
      "min_width": null,
      "object_fit": null,
      "object_position": null,
      "order": null,
      "overflow": null,
      "overflow_x": null,
      "overflow_y": null,
      "padding": null,
      "right": null,
      "top": null,
      "visibility": null,
      "width": null
     }
    },
    "dbedc9a49f574004b44cc84c2e0f8148": {
     "model_module": "@jupyter-widgets/base",
     "model_module_version": "1.2.0",
     "model_name": "LayoutModel",
     "state": {
      "_model_module": "@jupyter-widgets/base",
      "_model_module_version": "1.2.0",
      "_model_name": "LayoutModel",
      "_view_count": null,
      "_view_module": "@jupyter-widgets/base",
      "_view_module_version": "1.2.0",
      "_view_name": "LayoutView",
      "align_content": null,
      "align_items": null,
      "align_self": null,
      "border": null,
      "bottom": null,
      "display": null,
      "flex": null,
      "flex_flow": null,
      "grid_area": null,
      "grid_auto_columns": null,
      "grid_auto_flow": null,
      "grid_auto_rows": null,
      "grid_column": null,
      "grid_gap": null,
      "grid_row": null,
      "grid_template_areas": null,
      "grid_template_columns": null,
      "grid_template_rows": null,
      "height": null,
      "justify_content": null,
      "justify_items": null,
      "left": null,
      "margin": null,
      "max_height": null,
      "max_width": null,
      "min_height": null,
      "min_width": null,
      "object_fit": null,
      "object_position": null,
      "order": null,
      "overflow": null,
      "overflow_x": null,
      "overflow_y": null,
      "padding": null,
      "right": null,
      "top": null,
      "visibility": null,
      "width": null
     }
    },
    "e60e0ff1bbda4bcdaaba877b31745249": {
     "model_module": "@jupyter-widgets/base",
     "model_module_version": "1.2.0",
     "model_name": "LayoutModel",
     "state": {
      "_model_module": "@jupyter-widgets/base",
      "_model_module_version": "1.2.0",
      "_model_name": "LayoutModel",
      "_view_count": null,
      "_view_module": "@jupyter-widgets/base",
      "_view_module_version": "1.2.0",
      "_view_name": "LayoutView",
      "align_content": null,
      "align_items": null,
      "align_self": null,
      "border": null,
      "bottom": null,
      "display": "inline-flex",
      "flex": null,
      "flex_flow": "row wrap",
      "grid_area": null,
      "grid_auto_columns": null,
      "grid_auto_flow": null,
      "grid_auto_rows": null,
      "grid_column": null,
      "grid_gap": null,
      "grid_row": null,
      "grid_template_areas": null,
      "grid_template_columns": null,
      "grid_template_rows": null,
      "height": null,
      "justify_content": null,
      "justify_items": null,
      "left": null,
      "margin": null,
      "max_height": null,
      "max_width": null,
      "min_height": null,
      "min_width": null,
      "object_fit": null,
      "object_position": null,
      "order": null,
      "overflow": null,
      "overflow_x": null,
      "overflow_y": null,
      "padding": null,
      "right": null,
      "top": null,
      "visibility": null,
      "width": "100%"
     }
    },
    "ea11a50349ea4ad0a966d67842dc8a2e": {
     "model_module": "@jupyter-widgets/base",
     "model_module_version": "1.2.0",
     "model_name": "LayoutModel",
     "state": {
      "_model_module": "@jupyter-widgets/base",
      "_model_module_version": "1.2.0",
      "_model_name": "LayoutModel",
      "_view_count": null,
      "_view_module": "@jupyter-widgets/base",
      "_view_module_version": "1.2.0",
      "_view_name": "LayoutView",
      "align_content": null,
      "align_items": null,
      "align_self": null,
      "border": null,
      "bottom": null,
      "display": null,
      "flex": null,
      "flex_flow": null,
      "grid_area": null,
      "grid_auto_columns": null,
      "grid_auto_flow": null,
      "grid_auto_rows": null,
      "grid_column": null,
      "grid_gap": null,
      "grid_row": null,
      "grid_template_areas": null,
      "grid_template_columns": null,
      "grid_template_rows": null,
      "height": null,
      "justify_content": null,
      "justify_items": null,
      "left": null,
      "margin": null,
      "max_height": null,
      "max_width": null,
      "min_height": null,
      "min_width": null,
      "object_fit": null,
      "object_position": null,
      "order": null,
      "overflow": null,
      "overflow_x": null,
      "overflow_y": null,
      "padding": null,
      "right": null,
      "top": null,
      "visibility": null,
      "width": null
     }
    },
    "ef130bee218d4ef8a210538136ec48f0": {
     "model_module": "@jupyter-widgets/base",
     "model_module_version": "1.2.0",
     "model_name": "LayoutModel",
     "state": {
      "_model_module": "@jupyter-widgets/base",
      "_model_module_version": "1.2.0",
      "_model_name": "LayoutModel",
      "_view_count": null,
      "_view_module": "@jupyter-widgets/base",
      "_view_module_version": "1.2.0",
      "_view_name": "LayoutView",
      "align_content": null,
      "align_items": null,
      "align_self": null,
      "border": null,
      "bottom": null,
      "display": null,
      "flex": null,
      "flex_flow": null,
      "grid_area": null,
      "grid_auto_columns": null,
      "grid_auto_flow": null,
      "grid_auto_rows": null,
      "grid_column": null,
      "grid_gap": null,
      "grid_row": null,
      "grid_template_areas": null,
      "grid_template_columns": null,
      "grid_template_rows": null,
      "height": null,
      "justify_content": null,
      "justify_items": null,
      "left": null,
      "margin": null,
      "max_height": null,
      "max_width": null,
      "min_height": null,
      "min_width": null,
      "object_fit": null,
      "object_position": null,
      "order": null,
      "overflow": null,
      "overflow_x": null,
      "overflow_y": null,
      "padding": null,
      "right": null,
      "top": null,
      "visibility": null,
      "width": null
     }
    },
    "f2cde18f70c84d9f8571cd246d908c2d": {
     "model_module": "@jupyter-widgets/controls",
     "model_module_version": "1.5.0",
     "model_name": "HTMLModel",
     "state": {
      "_dom_classes": [],
      "_model_module": "@jupyter-widgets/controls",
      "_model_module_version": "1.5.0",
      "_model_name": "HTMLModel",
      "_view_count": null,
      "_view_module": "@jupyter-widgets/controls",
      "_view_module_version": "1.5.0",
      "_view_name": "HTMLView",
      "description": "",
      "description_tooltip": null,
      "layout": "IPY_MODEL_d5144aad216c40789f8b90ebe85dbc46",
      "placeholder": "​",
      "style": "IPY_MODEL_07eb299530564c6690a5a8dff978440a",
      "value": "Map: 100%"
     }
    },
    "fb4f05adf84c4b2dac29c50543f97a30": {
     "model_module": "@jupyter-widgets/controls",
     "model_module_version": "1.5.0",
     "model_name": "ProgressStyleModel",
     "state": {
      "_model_module": "@jupyter-widgets/controls",
      "_model_module_version": "1.5.0",
      "_model_name": "ProgressStyleModel",
      "_view_count": null,
      "_view_module": "@jupyter-widgets/base",
      "_view_module_version": "1.2.0",
      "_view_name": "StyleView",
      "bar_color": null,
      "description_width": ""
     }
    },
    "fddee4f8133641268d3b7643599cc2c2": {
     "model_module": "@jupyter-widgets/base",
     "model_module_version": "1.2.0",
     "model_name": "LayoutModel",
     "state": {
      "_model_module": "@jupyter-widgets/base",
      "_model_module_version": "1.2.0",
      "_model_name": "LayoutModel",
      "_view_count": null,
      "_view_module": "@jupyter-widgets/base",
      "_view_module_version": "1.2.0",
      "_view_name": "LayoutView",
      "align_content": null,
      "align_items": null,
      "align_self": null,
      "border": null,
      "bottom": null,
      "display": null,
      "flex": null,
      "flex_flow": null,
      "grid_area": null,
      "grid_auto_columns": null,
      "grid_auto_flow": null,
      "grid_auto_rows": null,
      "grid_column": null,
      "grid_gap": null,
      "grid_row": null,
      "grid_template_areas": null,
      "grid_template_columns": null,
      "grid_template_rows": null,
      "height": null,
      "justify_content": null,
      "justify_items": null,
      "left": null,
      "margin": null,
      "max_height": null,
      "max_width": null,
      "min_height": null,
      "min_width": null,
      "object_fit": null,
      "object_position": null,
      "order": null,
      "overflow": null,
      "overflow_x": null,
      "overflow_y": null,
      "padding": null,
      "right": null,
      "top": null,
      "visibility": null,
      "width": null
     }
    }
   }
  }
 },
 "nbformat": 4,
 "nbformat_minor": 5
}
