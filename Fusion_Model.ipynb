{
 "cells": [
  {
   "cell_type": "code",
   "execution_count": 1,
   "id": "0194a5f5-cd37-4fbe-8d50-e35fc60b2d64",
   "metadata": {},
   "outputs": [],
   "source": [
    "import pandas as pd\n",
    "from sklearn.ensemble import RandomForestClassifier\n",
    "from sklearn.metrics import classification_report, confusion_matrix\n",
    "from sklearn.model_selection import TimeSeriesSplit, cross_val_score\n",
    "import numpy as np"
   ]
  },
  {
   "cell_type": "markdown",
   "id": "94b89182-4080-4211-8ce1-16b91a760164",
   "metadata": {},
   "source": [
    "### Merging Datasets"
   ]
  },
  {
   "cell_type": "code",
   "execution_count": 128,
   "id": "120091ba-6f7d-4226-ae1f-c293957bb6a6",
   "metadata": {},
   "outputs": [],
   "source": [
    "path_snp = \"Data/SPX_Weekly_06-14.csv\"\n",
    "path_10k = \"Data/weekly_10k.csv\"\n",
    "path_10q = \"Data/weekly_10q.csv\"\n",
    "path_8k = \"Data/weekly_8k.csv\"\n",
    "path_news = \"Data/weekly_smoothed_news.csv\""
   ]
  },
  {
   "cell_type": "code",
   "execution_count": 129,
   "id": "aaf8b9fb-e814-4e1e-bd8e-f6c57e2f69af",
   "metadata": {},
   "outputs": [],
   "source": [
    "# Load weekly datasets\n",
    "news = pd.read_csv(path_news, parse_dates=['Date']).rename(columns={'Date':'Week'})\n",
    "tenk = pd.read_csv(path_10k, parse_dates=['Week'])\n",
    "tenq = pd.read_csv(path_10q, parse_dates=['Week'])\n",
    "eightk = pd.read_csv(path_8k, parse_dates=['Week'])\n",
    "sp500 = pd.read_csv(path_snp, parse_dates=['Date']).rename(columns={'Date':'Week'})"
   ]
  },
  {
   "cell_type": "code",
   "execution_count": 130,
   "id": "48f09c9b-d824-4b3f-b5ba-ab83d37dcad7",
   "metadata": {},
   "outputs": [],
   "source": [
    "# Extract just the date\n",
    "for df in [news, tenk, tenq, eightk]:\n",
    "    df['Week'] = df['Week'].dt.date"
   ]
  },
  {
   "cell_type": "code",
   "execution_count": 131,
   "id": "865ffd37-6cd8-41c4-9063-25c035e0aaee",
   "metadata": {},
   "outputs": [],
   "source": [
    "dfs = [news, tenk, tenq, eightk, sp500]\n",
    "\n",
    "for df in dfs:\n",
    "    # ensure Week is a datetime64[ns]\n",
    "    df['Week'] = pd.to_datetime(df['Week'])"
   ]
  },
  {
   "cell_type": "code",
   "execution_count": 132,
   "id": "1c1ceee7-4f22-45ee-906f-4d475626abe1",
   "metadata": {},
   "outputs": [],
   "source": [
    "# Merge on Week\n",
    "df = news.merge(tenk, on='Week', how='inner') \\\n",
    "         .merge(tenq, on='Week', how='inner') \\\n",
    "         .merge(eightk, on='Week', how='inner') \\\n",
    "         .merge(sp500, on='Week', how='inner')"
   ]
  },
  {
   "cell_type": "code",
   "execution_count": 133,
   "id": "17fc281e-abd6-442f-b837-17ab43cb3cbb",
   "metadata": {},
   "outputs": [],
   "source": [
    "df = df.drop(columns=['Unnamed: 0_x', 'Unnamed: 0_y'])"
   ]
  },
  {
   "cell_type": "code",
   "execution_count": 134,
   "id": "17219aa6-fde2-4316-8c52-3e8a4824a52a",
   "metadata": {},
   "outputs": [
    {
     "data": {
      "text/html": [
       "<div>\n",
       "<style scoped>\n",
       "    .dataframe tbody tr th:only-of-type {\n",
       "        vertical-align: middle;\n",
       "    }\n",
       "\n",
       "    .dataframe tbody tr th {\n",
       "        vertical-align: top;\n",
       "    }\n",
       "\n",
       "    .dataframe thead th {\n",
       "        text-align: right;\n",
       "    }\n",
       "</style>\n",
       "<table border=\"1\" class=\"dataframe\">\n",
       "  <thead>\n",
       "    <tr style=\"text-align: right;\">\n",
       "      <th></th>\n",
       "      <th>Week</th>\n",
       "      <th>mean_news_sentiment</th>\n",
       "      <th>std_news_sentiment</th>\n",
       "      <th>num_positive</th>\n",
       "      <th>num_negative</th>\n",
       "      <th>num_neutral</th>\n",
       "      <th>num_articles</th>\n",
       "      <th>low_coverage_week</th>\n",
       "      <th>smoothed_sentiment</th>\n",
       "      <th>sent_10k_mean</th>\n",
       "      <th>...</th>\n",
       "      <th>sent_8k_mean</th>\n",
       "      <th>count_8k</th>\n",
       "      <th>Open</th>\n",
       "      <th>High</th>\n",
       "      <th>Low</th>\n",
       "      <th>Close</th>\n",
       "      <th>Adj Close</th>\n",
       "      <th>Volume</th>\n",
       "      <th>Year</th>\n",
       "      <th>log_return</th>\n",
       "    </tr>\n",
       "  </thead>\n",
       "  <tbody>\n",
       "    <tr>\n",
       "      <th>0</th>\n",
       "      <td>2007-01-14</td>\n",
       "      <td>0.049556</td>\n",
       "      <td>0.407824</td>\n",
       "      <td>4</td>\n",
       "      <td>1</td>\n",
       "      <td>6</td>\n",
       "      <td>11</td>\n",
       "      <td>False</td>\n",
       "      <td>0.049556</td>\n",
       "      <td>-0.605603</td>\n",
       "      <td>...</td>\n",
       "      <td>-0.429737</td>\n",
       "      <td>231</td>\n",
       "      <td>1423.819946</td>\n",
       "      <td>1431.229980</td>\n",
       "      <td>1422.579956</td>\n",
       "      <td>1430.729980</td>\n",
       "      <td>1430.729980</td>\n",
       "      <td>2686480000</td>\n",
       "      <td>2007</td>\n",
       "      <td>0.014801</td>\n",
       "    </tr>\n",
       "    <tr>\n",
       "      <th>1</th>\n",
       "      <td>2007-02-04</td>\n",
       "      <td>0.065830</td>\n",
       "      <td>0.508994</td>\n",
       "      <td>5</td>\n",
       "      <td>2</td>\n",
       "      <td>10</td>\n",
       "      <td>17</td>\n",
       "      <td>False</td>\n",
       "      <td>0.065830</td>\n",
       "      <td>-0.508390</td>\n",
       "      <td>...</td>\n",
       "      <td>-0.574727</td>\n",
       "      <td>437</td>\n",
       "      <td>1445.939941</td>\n",
       "      <td>1449.329956</td>\n",
       "      <td>1444.489990</td>\n",
       "      <td>1448.390015</td>\n",
       "      <td>1448.390015</td>\n",
       "      <td>2569450000</td>\n",
       "      <td>2007</td>\n",
       "      <td>0.018262</td>\n",
       "    </tr>\n",
       "    <tr>\n",
       "      <th>2</th>\n",
       "      <td>2007-02-11</td>\n",
       "      <td>0.007639</td>\n",
       "      <td>0.354497</td>\n",
       "      <td>5</td>\n",
       "      <td>2</td>\n",
       "      <td>7</td>\n",
       "      <td>14</td>\n",
       "      <td>False</td>\n",
       "      <td>0.007639</td>\n",
       "      <td>-0.258283</td>\n",
       "      <td>...</td>\n",
       "      <td>-0.605214</td>\n",
       "      <td>384</td>\n",
       "      <td>1448.250000</td>\n",
       "      <td>1452.449951</td>\n",
       "      <td>1433.439941</td>\n",
       "      <td>1438.060059</td>\n",
       "      <td>1438.060059</td>\n",
       "      <td>2951810000</td>\n",
       "      <td>2007</td>\n",
       "      <td>-0.007158</td>\n",
       "    </tr>\n",
       "    <tr>\n",
       "      <th>3</th>\n",
       "      <td>2007-02-18</td>\n",
       "      <td>0.111990</td>\n",
       "      <td>0.445174</td>\n",
       "      <td>5</td>\n",
       "      <td>1</td>\n",
       "      <td>4</td>\n",
       "      <td>10</td>\n",
       "      <td>False</td>\n",
       "      <td>0.111990</td>\n",
       "      <td>-0.284438</td>\n",
       "      <td>...</td>\n",
       "      <td>-0.600544</td>\n",
       "      <td>346</td>\n",
       "      <td>1456.770020</td>\n",
       "      <td>1456.770020</td>\n",
       "      <td>1451.569946</td>\n",
       "      <td>1455.540039</td>\n",
       "      <td>1455.540039</td>\n",
       "      <td>2399450000</td>\n",
       "      <td>2007</td>\n",
       "      <td>0.012082</td>\n",
       "    </tr>\n",
       "    <tr>\n",
       "      <th>4</th>\n",
       "      <td>2007-02-25</td>\n",
       "      <td>0.083046</td>\n",
       "      <td>0.400443</td>\n",
       "      <td>2</td>\n",
       "      <td>0</td>\n",
       "      <td>2</td>\n",
       "      <td>4</td>\n",
       "      <td>True</td>\n",
       "      <td>0.097518</td>\n",
       "      <td>-0.417467</td>\n",
       "      <td>...</td>\n",
       "      <td>-0.547606</td>\n",
       "      <td>301</td>\n",
       "      <td>1456.219971</td>\n",
       "      <td>1456.219971</td>\n",
       "      <td>1448.359985</td>\n",
       "      <td>1451.189941</td>\n",
       "      <td>1451.189941</td>\n",
       "      <td>2579950000</td>\n",
       "      <td>2007</td>\n",
       "      <td>-0.002993</td>\n",
       "    </tr>\n",
       "  </tbody>\n",
       "</table>\n",
       "<p>5 rows × 27 columns</p>\n",
       "</div>"
      ],
      "text/plain": [
       "        Week  mean_news_sentiment  std_news_sentiment  num_positive  \\\n",
       "0 2007-01-14             0.049556            0.407824             4   \n",
       "1 2007-02-04             0.065830            0.508994             5   \n",
       "2 2007-02-11             0.007639            0.354497             5   \n",
       "3 2007-02-18             0.111990            0.445174             5   \n",
       "4 2007-02-25             0.083046            0.400443             2   \n",
       "\n",
       "   num_negative  num_neutral  num_articles  low_coverage_week  \\\n",
       "0             1            6            11              False   \n",
       "1             2           10            17              False   \n",
       "2             2            7            14              False   \n",
       "3             1            4            10              False   \n",
       "4             0            2             4               True   \n",
       "\n",
       "   smoothed_sentiment  sent_10k_mean  ...  sent_8k_mean  count_8k  \\\n",
       "0            0.049556      -0.605603  ...     -0.429737       231   \n",
       "1            0.065830      -0.508390  ...     -0.574727       437   \n",
       "2            0.007639      -0.258283  ...     -0.605214       384   \n",
       "3            0.111990      -0.284438  ...     -0.600544       346   \n",
       "4            0.097518      -0.417467  ...     -0.547606       301   \n",
       "\n",
       "          Open         High          Low        Close    Adj Close  \\\n",
       "0  1423.819946  1431.229980  1422.579956  1430.729980  1430.729980   \n",
       "1  1445.939941  1449.329956  1444.489990  1448.390015  1448.390015   \n",
       "2  1448.250000  1452.449951  1433.439941  1438.060059  1438.060059   \n",
       "3  1456.770020  1456.770020  1451.569946  1455.540039  1455.540039   \n",
       "4  1456.219971  1456.219971  1448.359985  1451.189941  1451.189941   \n",
       "\n",
       "       Volume  Year  log_return  \n",
       "0  2686480000  2007    0.014801  \n",
       "1  2569450000  2007    0.018262  \n",
       "2  2951810000  2007   -0.007158  \n",
       "3  2399450000  2007    0.012082  \n",
       "4  2579950000  2007   -0.002993  \n",
       "\n",
       "[5 rows x 27 columns]"
      ]
     },
     "execution_count": 134,
     "metadata": {},
     "output_type": "execute_result"
    }
   ],
   "source": [
    "df.head()"
   ]
  },
  {
   "cell_type": "code",
   "execution_count": 135,
   "id": "ade3112e-5983-441b-bc0e-957d1f42d73e",
   "metadata": {},
   "outputs": [],
   "source": [
    "df.rename(columns={'smoothed_sentiment': 'smoothed_news_sentiment',\n",
    "                  'num_articles': 'num_news_articles',\n",
    "                  'mda_sent': '10q_mda_sent',\n",
    "                  'risk_sent': '10q_risk_sent',\n",
    "                  'mda_smoothed': '10q_mda_smoothed',\n",
    "                  'risk_smoothed': '10q_risk_smoothed'}, inplace=True)"
   ]
  },
  {
   "cell_type": "code",
   "execution_count": 136,
   "id": "b2bb7e8f-c34b-4554-8730-69923b30ef24",
   "metadata": {},
   "outputs": [],
   "source": [
    "df.to_csv('Data/merged_dataset.csv', index=False)"
   ]
  },
  {
   "cell_type": "markdown",
   "id": "12d7dd3b-3eef-45d9-aa12-aaad4a5d3b9b",
   "metadata": {},
   "source": [
    "# Modelling"
   ]
  },
  {
   "cell_type": "markdown",
   "id": "f49f0fca-0dff-48a8-a28b-77834d4570e4",
   "metadata": {},
   "source": [
    "### Using all the features"
   ]
  },
  {
   "cell_type": "code",
   "execution_count": 1,
   "id": "2f3ed028-10cb-48a7-9635-c52a0932efa7",
   "metadata": {},
   "outputs": [],
   "source": [
    "import pandas as pd\n",
    "import numpy as np\n",
    "from sklearn.ensemble import RandomForestClassifier\n",
    "from sklearn.metrics import accuracy_score, matthews_corrcoef, classification_report\n",
    "from sklearn.metrics import confusion_matrix, ConfusionMatrixDisplay\n",
    "import matplotlib.pyplot as plt"
   ]
  },
  {
   "cell_type": "code",
   "execution_count": 2,
   "id": "4f400b79-91af-42a5-8fbe-770423287478",
   "metadata": {},
   "outputs": [],
   "source": [
    "# load merged dataset\n",
    "df = pd.read_csv(\"Data/merged_dataset.csv\", parse_dates=[\"Week\"])\n",
    "df = df.sort_values(\"Week\").reset_index(drop=True)"
   ]
  },
  {
   "cell_type": "code",
   "execution_count": 3,
   "id": "64b18cbe-de2f-43de-b3eb-1da4cbebb70c",
   "metadata": {},
   "outputs": [],
   "source": [
    "# Compute weekly return and target\n",
    "df[\"Return\"] = df[\"Close\"].pct_change()\n",
    "df[\"Target\"] = np.where(df[\"Return\"] > 0.01, 1,\n",
    "                np.where(df[\"Return\"] < -0.01, -1, 0))\n",
    "df = df.dropna(subset=[\"Return\"])"
   ]
  },
  {
   "cell_type": "code",
   "execution_count": 4,
   "id": "af36de36-976b-4810-9ef3-dc4487f21e9d",
   "metadata": {},
   "outputs": [
    {
     "data": {
      "text/plain": [
       "Index(['Week', 'mean_news_sentiment', 'std_news_sentiment', 'num_positive',\n",
       "       'num_negative', 'num_neutral', 'num_news_articles', 'low_coverage_week',\n",
       "       'smoothed_news_sentiment', 'sent_10k_mean', 'count_10k', '10q_mda_sent',\n",
       "       '10q_risk_sent', 'count_10q', '10q_mda_smoothed', '10q_risk_smoothed',\n",
       "       'opt_vs_caut', 'sent_8k_mean', 'count_8k', 'Open', 'High', 'Low',\n",
       "       'Close', 'Adj Close', 'Volume', 'Year', 'log_return', 'Return',\n",
       "       'Target'],\n",
       "      dtype='object')"
      ]
     },
     "execution_count": 4,
     "metadata": {},
     "output_type": "execute_result"
    }
   ],
   "source": [
    "df.columns"
   ]
  },
  {
   "cell_type": "code",
   "execution_count": 5,
   "id": "ff871fd7-8650-475a-9d43-5ac8d1ab6e51",
   "metadata": {},
   "outputs": [],
   "source": [
    "# Identify feature columns\n",
    "exclude = {\"Week\", \"Close\", \"Return\", \"Target\", 'Year', 'Adj Close', 'mean_news_sentiment', 'std_news_sentiment', 'count_10k', '10q_mda_sent',\n",
    "       '10q_risk_sent', 'count_10q', 'log_return'}\n",
    "feature_cols = [c for c in df.columns if c not in exclude]"
   ]
  },
  {
   "cell_type": "code",
   "execution_count": 6,
   "id": "67c424b1-e71c-4d45-846c-6df990fad9be",
   "metadata": {},
   "outputs": [
    {
     "data": {
      "text/plain": [
       "['num_positive',\n",
       " 'num_negative',\n",
       " 'num_neutral',\n",
       " 'num_news_articles',\n",
       " 'low_coverage_week',\n",
       " 'smoothed_news_sentiment',\n",
       " 'sent_10k_mean',\n",
       " '10q_mda_smoothed',\n",
       " '10q_risk_smoothed',\n",
       " 'opt_vs_caut',\n",
       " 'sent_8k_mean',\n",
       " 'count_8k',\n",
       " 'Open',\n",
       " 'High',\n",
       " 'Low',\n",
       " 'Volume']"
      ]
     },
     "execution_count": 6,
     "metadata": {},
     "output_type": "execute_result"
    }
   ],
   "source": [
    "feature_cols"
   ]
  },
  {
   "cell_type": "code",
   "execution_count": 16,
   "id": "493e6dae-5724-4efa-ba69-7fea0f3bb693",
   "metadata": {},
   "outputs": [],
   "source": [
    "# Create lagged features\n",
    "for lag in [1, 2]:\n",
    "    df[[f\"{col}_lag{lag}\" for col in feature_cols]] = df[feature_cols].shift(lag)"
   ]
  },
  {
   "cell_type": "code",
   "execution_count": 17,
   "id": "9743e9b6-9f59-453a-a854-80f038345d85",
   "metadata": {},
   "outputs": [],
   "source": [
    "df_model = df.dropna().reset_index(drop=True)"
   ]
  },
  {
   "cell_type": "code",
   "execution_count": 18,
   "id": "f385de09-1333-47f2-a207-230551797cdb",
   "metadata": {},
   "outputs": [],
   "source": [
    "# Train/test split: 80/20\n",
    "split = int(len(df_model) * 0.8)\n",
    "train, test = df_model.iloc[:split], df_model.iloc[split:]\n",
    "X_train, y_train = train[feature_cols + [f\"{c}_lag1\" for c in feature_cols] + [f\"{c}_lag2\" for c in feature_cols]], train[\"Target\"]\n",
    "X_test, y_test   = test[feature_cols + [f\"{c}_lag1\" for c in feature_cols] + [f\"{c}_lag2\" for c in feature_cols]], test[\"Target\"]"
   ]
  },
  {
   "cell_type": "code",
   "execution_count": 19,
   "id": "bd3989fc-8957-4092-9108-5cbf3df30e6c",
   "metadata": {},
   "outputs": [],
   "source": [
    "# Fit RF\n",
    "rf = RandomForestClassifier(random_state=42)\n",
    "rf.fit(X_train, y_train)\n",
    "y_pred = rf.predict(X_test)"
   ]
  },
  {
   "cell_type": "code",
   "execution_count": 20,
   "id": "c33cb50b-665e-4207-b1a1-70aaa579df39",
   "metadata": {},
   "outputs": [],
   "source": [
    "# Evaluate\n",
    "acc = accuracy_score(y_test, y_pred)\n",
    "mcc = matthews_corrcoef(y_test, y_pred)\n",
    "report = classification_report(y_test, y_pred, zero_division=0, output_dict=True)"
   ]
  },
  {
   "cell_type": "code",
   "execution_count": 21,
   "id": "11642f51-891c-4120-a93a-08be94475329",
   "metadata": {},
   "outputs": [
    {
     "name": "stdout",
     "output_type": "stream",
     "text": [
      "=== Classification Report ===\n",
      "              precision    recall  f1-score    support\n",
      "-1             0.347826  0.727273  0.470588  11.000000\n",
      "0              0.647059  0.550000  0.594595  20.000000\n",
      "1              0.500000  0.200000  0.285714  15.000000\n",
      "accuracy       0.478261  0.478261  0.478261   0.478261\n",
      "macro avg      0.498295  0.492424  0.450299  46.000000\n",
      "weighted avg   0.527549  0.478261  0.464219  46.000000\n",
      "\n",
      "=== Summary Metrics ===\n",
      "   Accuracy  Matthews CC\n",
      "0  0.478261     0.250211\n"
     ]
    }
   ],
   "source": [
    "# Classification report to DataFrame and display\n",
    "report_df = pd.DataFrame(report).transpose()\n",
    "print(\"=== Classification Report ===\")\n",
    "print(report_df)\n",
    "\n",
    "# Create a summary metrics DataFrame and display\n",
    "summary_df = pd.DataFrame([{\"Accuracy\": acc, \"Matthews CC\": mcc}])\n",
    "print(\"\\n=== Summary Metrics ===\")\n",
    "print(summary_df)"
   ]
  },
  {
   "cell_type": "code",
   "execution_count": 24,
   "id": "4c9df015-dc9f-4553-b3be-866a222afda8",
   "metadata": {},
   "outputs": [],
   "source": [
    "# Use the classifier's learned class order if available\n",
    "labels = rf.classes_ if hasattr(rf, \"classes_\") else np.unique(y_test)"
   ]
  },
  {
   "cell_type": "code",
   "execution_count": 25,
   "id": "70adc3e3-b09c-418a-883d-72e9b2070b33",
   "metadata": {},
   "outputs": [
    {
     "name": "stdout",
     "output_type": "stream",
     "text": [
      "Confusion matrix (counts):\n",
      "Predicted  -1   0   1\n",
      "True                 \n",
      "-1          8   1   2\n",
      " 0          8  11   1\n",
      " 1          7   5   3\n"
     ]
    }
   ],
   "source": [
    "# 1) Raw confusion matrix (counts)\n",
    "cm = confusion_matrix(y_test, y_pred, labels=labels)\n",
    "cm_df = pd.DataFrame(cm, index=pd.Index(labels, name=\"True\"), columns=pd.Index(labels, name=\"Predicted\"))\n",
    "print(\"Confusion matrix (counts):\")\n",
    "print(cm_df)"
   ]
  },
  {
   "cell_type": "code",
   "execution_count": 26,
   "id": "e19a1885-503d-4775-8f81-ad89ffe69176",
   "metadata": {},
   "outputs": [
    {
     "name": "stdout",
     "output_type": "stream",
     "text": [
      "\n",
      "Confusion matrix (row-normalized):\n",
      "Predicted     -1      0      1\n",
      "True                          \n",
      "-1         0.727  0.091  0.182\n",
      " 0         0.400  0.550  0.050\n",
      " 1         0.467  0.333  0.200\n"
     ]
    }
   ],
   "source": [
    "# 2) Normalized by true class (rows sum to 1)\n",
    "cm_norm = confusion_matrix(y_test, y_pred, labels=labels, normalize='true')\n",
    "cm_norm_df = pd.DataFrame(cm_norm, index=pd.Index(labels, name=\"True\"), columns=pd.Index(labels, name=\"Predicted\"))\n",
    "print(\"\\nConfusion matrix (row-normalized):\")\n",
    "print(cm_norm_df.round(3))"
   ]
  },
  {
   "cell_type": "code",
   "execution_count": 29,
   "id": "be1e9185-712c-4afc-8158-d613f9e42123",
   "metadata": {},
   "outputs": [
    {
     "data": {
      "image/png": "[encoded data removed]",
      "text/plain": [
       "<Figure size 640x480 with 2 Axes>"
      ]
     },
     "metadata": {},
     "output_type": "display_data"
    }
   ],
   "source": [
    "# 3) Plot (counts)\n",
    "disp = ConfusionMatrixDisplay(confusion_matrix=cm, display_labels=labels)\n",
    "disp.plot(values_format='d')\n",
    "plt.title(\"Random Forest — Confusion Matrix (Counts)\")\n",
    "plt.show()"
   ]
  },
  {
   "cell_type": "code",
   "execution_count": 30,
   "id": "4633fd19-f3be-4908-9f9a-7a4c47cdda24",
   "metadata": {},
   "outputs": [
    {
     "data": {
      "image/png": "[encoded data removed]",
      "text/plain": [
       "<Figure size 640x480 with 2 Axes>"
      ]
     },
     "metadata": {},
     "output_type": "display_data"
    }
   ],
   "source": [
    "# Optional: plot normalized\n",
    "disp_norm = ConfusionMatrixDisplay(confusion_matrix=cm_norm, display_labels=labels)\n",
    "disp_norm.plot(values_format='.2f')\n",
    "plt.title(\"Random Forest — Confusion Matrix (Normalized)\")\n",
    "plt.show()"
   ]
  },
  {
   "cell_type": "markdown",
   "id": "464f1871-6aa1-41a5-9087-882e49fd8b77",
   "metadata": {},
   "source": [
    "### Using core-features"
   ]
  },
  {
   "cell_type": "code",
   "execution_count": 113,
   "id": "605fb922-562f-4acc-8034-636b87de4f82",
   "metadata": {},
   "outputs": [],
   "source": [
    "# load merged dataset\n",
    "df = pd.read_csv(\"Data/merged_dataset.csv\", parse_dates=[\"Week\"])\n",
    "df = df.sort_values(\"Week\").reset_index(drop=True)"
   ]
  },
  {
   "cell_type": "code",
   "execution_count": 114,
   "id": "5c42e2f1-e8b7-4ca6-8fcd-75a1a79c945b",
   "metadata": {},
   "outputs": [],
   "source": [
    "# Compute weekly return and target\n",
    "df[\"Return\"] = df[\"Close\"].pct_change()\n",
    "df[\"Target\"] = np.where(df[\"Return\"] > 0.01, 1,\n",
    "                np.where(df[\"Return\"] < -0.01, -1, 0))\n",
    "df = df.dropna(subset=[\"Return\"])"
   ]
  },
  {
   "cell_type": "code",
   "execution_count": 117,
   "id": "db72aa9e-e0c9-48dd-acb2-a1a8191c420f",
   "metadata": {},
   "outputs": [],
   "source": [
    "# Define core features to keep\n",
    "core_features = [\n",
    "    \"smoothed_news_sentiment\", \"std_news_sentiment\", \"num_news_articles\",\n",
    "    \"sent_10k_mean\", \"count_10k\",\n",
    "    \"10q_mda_smoothed\", \"10q_risk_smoothed\", \"opt_vs_caut\",\n",
    "    \"sent_8k_mean\", \"count_8k\"\n",
    "]"
   ]
  },
  {
   "cell_type": "code",
   "execution_count": 118,
   "id": "bcbdd405-e1a8-4aac-b95b-346cd69d90e4",
   "metadata": {},
   "outputs": [],
   "source": [
    "# Create 1- and 2-week lags for each core feature\n",
    "for lag in [1, 2]:\n",
    "    for feat in core_features:\n",
    "        df[f\"{feat}_lag{lag}\"] = df[feat].shift(lag)"
   ]
  },
  {
   "cell_type": "code",
   "execution_count": 119,
   "id": "e245b061-7e3d-4d89-8f93-e5e0ea5b7bab",
   "metadata": {},
   "outputs": [],
   "source": [
    "# Drop rows with NaNs from lagging\n",
    "df_model = df.dropna(subset=[f\"{feat}_lag2\" for feat in core_features]).reset_index(drop=True)"
   ]
  },
  {
   "cell_type": "code",
   "execution_count": 120,
   "id": "0bbba8ab-5111-4f92-bce8-f3fe19f2e76e",
   "metadata": {},
   "outputs": [],
   "source": [
    "# Train/test split (80/20)\n",
    "split_idx = int(len(df_model) * 0.8)\n",
    "train = df_model.iloc[:split_idx]\n",
    "test  = df_model.iloc[split_idx:]"
   ]
  },
  {
   "cell_type": "code",
   "execution_count": 123,
   "id": "fa660f4c-a53e-4bd4-8a69-ec36269d2e00",
   "metadata": {},
   "outputs": [],
   "source": [
    "# Prepare X/y\n",
    "lagged_feats = [f\"{feat}_lag{lag}\" for feat in core_features for lag in [1,2]]\n",
    "X_train = train[core_features + lagged_feats]\n",
    "y_train = train[\"Target\"]\n",
    "X_test  = test[core_features + lagged_feats]\n",
    "y_test  = test[\"Target\"]"
   ]
  },
  {
   "cell_type": "code",
   "execution_count": 124,
   "id": "0c298f6e-031a-4ccd-ad36-10d07a74d26b",
   "metadata": {},
   "outputs": [],
   "source": [
    "# Fit baseline Random Forest\n",
    "rf = RandomForestClassifier(random_state=42)\n",
    "rf.fit(X_train, y_train)\n",
    "y_pred = rf.predict(X_test)"
   ]
  },
  {
   "cell_type": "code",
   "execution_count": 125,
   "id": "7e65c302-5fdb-4e22-91b7-fb88bd836510",
   "metadata": {},
   "outputs": [],
   "source": [
    "# Evaluate\n",
    "acc = accuracy_score(y_test, y_pred)\n",
    "mcc = matthews_corrcoef(y_test, y_pred)\n",
    "report = classification_report(y_test, y_pred, zero_division=0, output_dict=True)"
   ]
  },
  {
   "cell_type": "code",
   "execution_count": 126,
   "id": "b48933e8-4d55-49cc-8fb5-b59ffa10f0a5",
   "metadata": {},
   "outputs": [
    {
     "name": "stdout",
     "output_type": "stream",
     "text": [
      "=== Classification Report ===\n",
      "              precision    recall  f1-score    support\n",
      "-1             0.666667  0.181818  0.285714  11.000000\n",
      "0              0.466667  0.350000  0.400000  20.000000\n",
      "1              0.250000  0.466667  0.325581  15.000000\n",
      "accuracy       0.347826  0.347826  0.347826   0.347826\n",
      "macro avg      0.461111  0.332828  0.337099  46.000000\n",
      "weighted avg   0.443841  0.347826  0.348404  46.000000\n",
      "\n",
      "=== Summary Metrics ===\n",
      "   Accuracy  Matthews CC\n",
      "0  0.347826    -0.013861\n"
     ]
    }
   ],
   "source": [
    "# Classification report to DataFrame and display\n",
    "report_df = pd.DataFrame(report).transpose()\n",
    "print(\"=== Classification Report ===\")\n",
    "print(report_df)\n",
    "\n",
    "# Create a summary metrics DataFrame and display\n",
    "summary_df = pd.DataFrame([{\"Accuracy\": acc, \"Matthews CC\": mcc}])\n",
    "print(\"\\n=== Summary Metrics ===\")\n",
    "print(summary_df)"
   ]
  },
  {
   "cell_type": "markdown",
   "id": "028baba4-c98c-4a9f-84ae-a2154e38a29c",
   "metadata": {},
   "source": [
    "# Debugging"
   ]
  },
  {
   "cell_type": "code",
   "execution_count": 12,
   "id": "b9976199-4baf-4ca1-ad6c-aaa489207534",
   "metadata": {},
   "outputs": [],
   "source": [
    "import pandas as pd\n",
    "from sklearn.model_selection import TimeSeriesSplit\n",
    "from sklearn.ensemble import RandomForestClassifier\n",
    "import numpy as np"
   ]
  },
  {
   "cell_type": "code",
   "execution_count": 17,
   "id": "adfb4003-1a59-4b27-8765-6d1acc094661",
   "metadata": {},
   "outputs": [
    {
     "data": {
      "text/plain": [
       "['num_positive',\n",
       " 'num_negative',\n",
       " 'num_neutral',\n",
       " 'num_news_articles',\n",
       " 'low_coverage_week',\n",
       " 'smoothed_news_sentiment',\n",
       " 'sent_10k_mean',\n",
       " '10q_mda_smoothed',\n",
       " '10q_risk_smoothed',\n",
       " 'opt_vs_caut',\n",
       " 'sent_8k_mean',\n",
       " 'count_8k',\n",
       " 'Open',\n",
       " 'High',\n",
       " 'Low',\n",
       " 'Volume']"
      ]
     },
     "execution_count": 17,
     "metadata": {},
     "output_type": "execute_result"
    }
   ],
   "source": [
    "feature_cols"
   ]
  },
  {
   "cell_type": "code",
   "execution_count": 21,
   "id": "76de2542-0671-43dc-bd79-487345952348",
   "metadata": {},
   "outputs": [],
   "source": [
    "# Prepare X and y\n",
    "X = df[feature_cols + [f\"{c}_lag1\" for c in feature_cols] + [f\"{c}_lag2\" for c in feature_cols]]\n",
    "y = df['Target']"
   ]
  },
  {
   "cell_type": "code",
   "execution_count": 26,
   "id": "49a433ab-04e4-4ae2-8ff4-5383693f6d60",
   "metadata": {},
   "outputs": [],
   "source": [
    "final_features = feature_cols + [f\"{c}_lag1\" for c in feature_cols] + [f\"{c}_lag2\" for c in feature_cols]"
   ]
  },
  {
   "cell_type": "code",
   "execution_count": 22,
   "id": "c4d350e3-1b45-4b6d-a7a0-df017acb6d5b",
   "metadata": {},
   "outputs": [
    {
     "name": "stdout",
     "output_type": "stream",
     "text": [
      "Class balance per fold:\n",
      "\n",
      "Fold 1:\n",
      "  Train: {1: 0.38636363636363635, -1: 0.3181818181818182, 0: 0.29545454545454547}\n",
      "  Test:  {-1: 0.4358974358974359, 1: 0.41025641025641024, 0: 0.15384615384615385}\n",
      "\n",
      "Fold 2:\n",
      "  Train: {1: 0.39759036144578314, -1: 0.37349397590361444, 0: 0.2289156626506024}\n",
      "  Test:  {1: 0.41025641025641024, 0: 0.358974358974359, -1: 0.23076923076923078}\n",
      "\n",
      "Fold 3:\n",
      "  Train: {1: 0.4016393442622951, -1: 0.32786885245901637, 0: 0.27049180327868855}\n",
      "  Test:  {1: 0.4358974358974359, -1: 0.3076923076923077, 0: 0.2564102564102564}\n",
      "\n",
      "Fold 4:\n",
      "  Train: {1: 0.40993788819875776, -1: 0.32298136645962733, 0: 0.2670807453416149}\n",
      "  Test:  {0: 0.38461538461538464, 1: 0.38461538461538464, -1: 0.23076923076923078}\n",
      "\n",
      "Fold 5:\n",
      "  Train: {1: 0.405, -1: 0.305, 0: 0.29}\n",
      "  Test:  {0: 0.4358974358974359, 1: 0.3333333333333333, -1: 0.23076923076923078}\n",
      "\n"
     ]
    }
   ],
   "source": [
    "# 1. TimeSeriesSplit class balance diagnostics\n",
    "tscv = TimeSeriesSplit(n_splits=5)\n",
    "print(\"Class balance per fold:\\n\")\n",
    "for i, (train_idx, test_idx) in enumerate(tscv.split(X)):\n",
    "    y_train, y_test = y.iloc[train_idx], y.iloc[test_idx]\n",
    "    print(f\"Fold {i+1}:\")\n",
    "    print(\"  Train:\", y_train.value_counts(normalize=True).to_dict())\n",
    "    print(\"  Test: \", y_test.value_counts(normalize=True).to_dict())\n",
    "    print()"
   ]
  },
  {
   "cell_type": "markdown",
   "id": "6b328fac-b3b0-400f-969d-3c79baeb7e61",
   "metadata": {},
   "source": [
    "##### Class balance is reasonably stable\n",
    "Across all five folds, “up” (1) weeks make up roughly 39–41 % of the train splits and 33–44 % of the test splits; “down” (–1) weeks hover around 31–32 % in-train and 23–44 % out-of-sample; “flat” weeks fill the remainder. In other words, no fold is so skewed that your model sees almost no examples of one class—but the splits do drift by ±10 % in the test set. That variation can itself add noise to your performance read-out."
   ]
  },
  {
   "cell_type": "code",
   "execution_count": 23,
   "id": "f1f126f2-d9ae-4b5c-bc19-927037f90494",
   "metadata": {},
   "outputs": [
    {
     "data": {
      "text/html": [
       "<div>\n",
       "<style scoped>\n",
       "    .dataframe tbody tr th:only-of-type {\n",
       "        vertical-align: middle;\n",
       "    }\n",
       "\n",
       "    .dataframe tbody tr th {\n",
       "        vertical-align: top;\n",
       "    }\n",
       "\n",
       "    .dataframe thead th {\n",
       "        text-align: right;\n",
       "    }\n",
       "</style>\n",
       "<table border=\"1\" class=\"dataframe\">\n",
       "  <thead>\n",
       "    <tr style=\"text-align: right;\">\n",
       "      <th></th>\n",
       "      <th>feature</th>\n",
       "      <th>abs_corr_with_target</th>\n",
       "    </tr>\n",
       "  </thead>\n",
       "  <tbody>\n",
       "    <tr>\n",
       "      <th>0</th>\n",
       "      <td>sent_8k_mean_lag2</td>\n",
       "      <td>0.136484</td>\n",
       "    </tr>\n",
       "    <tr>\n",
       "      <th>1</th>\n",
       "      <td>sent_10k_mean_lag2</td>\n",
       "      <td>0.115505</td>\n",
       "    </tr>\n",
       "    <tr>\n",
       "      <th>2</th>\n",
       "      <td>Volume</td>\n",
       "      <td>0.094279</td>\n",
       "    </tr>\n",
       "    <tr>\n",
       "      <th>3</th>\n",
       "      <td>num_neutral</td>\n",
       "      <td>0.092869</td>\n",
       "    </tr>\n",
       "    <tr>\n",
       "      <th>4</th>\n",
       "      <td>count_8k</td>\n",
       "      <td>0.076046</td>\n",
       "    </tr>\n",
       "    <tr>\n",
       "      <th>5</th>\n",
       "      <td>Low</td>\n",
       "      <td>0.076018</td>\n",
       "    </tr>\n",
       "    <tr>\n",
       "      <th>6</th>\n",
       "      <td>count_8k_lag2</td>\n",
       "      <td>0.071293</td>\n",
       "    </tr>\n",
       "    <tr>\n",
       "      <th>7</th>\n",
       "      <td>num_negative</td>\n",
       "      <td>0.070766</td>\n",
       "    </tr>\n",
       "    <tr>\n",
       "      <th>8</th>\n",
       "      <td>sent_8k_mean_lag1</td>\n",
       "      <td>0.069813</td>\n",
       "    </tr>\n",
       "    <tr>\n",
       "      <th>9</th>\n",
       "      <td>smoothed_news_sentiment_lag2</td>\n",
       "      <td>0.069806</td>\n",
       "    </tr>\n",
       "  </tbody>\n",
       "</table>\n",
       "</div>"
      ],
      "text/plain": [
       "                        feature  abs_corr_with_target\n",
       "0             sent_8k_mean_lag2              0.136484\n",
       "1            sent_10k_mean_lag2              0.115505\n",
       "2                        Volume              0.094279\n",
       "3                   num_neutral              0.092869\n",
       "4                      count_8k              0.076046\n",
       "5                           Low              0.076018\n",
       "6                 count_8k_lag2              0.071293\n",
       "7                  num_negative              0.070766\n",
       "8             sent_8k_mean_lag1              0.069813\n",
       "9  smoothed_news_sentiment_lag2              0.069806"
      ]
     },
     "metadata": {},
     "output_type": "display_data"
    }
   ],
   "source": [
    "# 2. Feature–target Pearson correlations\n",
    "corrs = X.corrwith(y).abs().sort_values(ascending=False)\n",
    "corr_df = corrs.reset_index()\n",
    "corr_df.columns = ['feature', 'abs_corr_with_target']\n",
    "display(corr_df.head(10))"
   ]
  },
  {
   "cell_type": "markdown",
   "id": "33caa0a5-6ff2-4573-8613-22a156052b7d",
   "metadata": {},
   "source": [
    "##### Sentiment–return correlations are near zero\n",
    "Even the best lagged sentiment feature ( sent_8k_mean_lag2, |ρ|≈0.14 ) explains only 2 % of weekly variance. The bulk of your sentiment and filing aggregates correlate with returns at |ρ|<0.08. That implies there’s no strong linear signal for the model to pick up."
   ]
  },
  {
   "cell_type": "code",
   "execution_count": 27,
   "id": "10a034a6-c41a-462b-8b24-3f55dd1a5ca1",
   "metadata": {},
   "outputs": [
    {
     "data": {
      "text/html": [
       "<div>\n",
       "<style scoped>\n",
       "    .dataframe tbody tr th:only-of-type {\n",
       "        vertical-align: middle;\n",
       "    }\n",
       "\n",
       "    .dataframe tbody tr th {\n",
       "        vertical-align: top;\n",
       "    }\n",
       "\n",
       "    .dataframe thead th {\n",
       "        text-align: right;\n",
       "    }\n",
       "</style>\n",
       "<table border=\"1\" class=\"dataframe\">\n",
       "  <thead>\n",
       "    <tr style=\"text-align: right;\">\n",
       "      <th></th>\n",
       "      <th>feature</th>\n",
       "      <th>importance</th>\n",
       "    </tr>\n",
       "  </thead>\n",
       "  <tbody>\n",
       "    <tr>\n",
       "      <th>0</th>\n",
       "      <td>count_8k_lag1</td>\n",
       "      <td>0.034139</td>\n",
       "    </tr>\n",
       "    <tr>\n",
       "      <th>1</th>\n",
       "      <td>smoothed_news_sentiment</td>\n",
       "      <td>0.033302</td>\n",
       "    </tr>\n",
       "    <tr>\n",
       "      <th>2</th>\n",
       "      <td>Volume_lag2</td>\n",
       "      <td>0.031152</td>\n",
       "    </tr>\n",
       "    <tr>\n",
       "      <th>3</th>\n",
       "      <td>Low</td>\n",
       "      <td>0.030032</td>\n",
       "    </tr>\n",
       "    <tr>\n",
       "      <th>4</th>\n",
       "      <td>opt_vs_caut</td>\n",
       "      <td>0.029118</td>\n",
       "    </tr>\n",
       "    <tr>\n",
       "      <th>5</th>\n",
       "      <td>opt_vs_caut_lag1</td>\n",
       "      <td>0.028727</td>\n",
       "    </tr>\n",
       "    <tr>\n",
       "      <th>6</th>\n",
       "      <td>sent_8k_mean</td>\n",
       "      <td>0.028501</td>\n",
       "    </tr>\n",
       "    <tr>\n",
       "      <th>7</th>\n",
       "      <td>sent_10k_mean_lag2</td>\n",
       "      <td>0.028307</td>\n",
       "    </tr>\n",
       "    <tr>\n",
       "      <th>8</th>\n",
       "      <td>Volume</td>\n",
       "      <td>0.028121</td>\n",
       "    </tr>\n",
       "    <tr>\n",
       "      <th>9</th>\n",
       "      <td>count_8k_lag2</td>\n",
       "      <td>0.027591</td>\n",
       "    </tr>\n",
       "  </tbody>\n",
       "</table>\n",
       "</div>"
      ],
      "text/plain": [
       "                   feature  importance\n",
       "0            count_8k_lag1    0.034139\n",
       "1  smoothed_news_sentiment    0.033302\n",
       "2              Volume_lag2    0.031152\n",
       "3                      Low    0.030032\n",
       "4              opt_vs_caut    0.029118\n",
       "5         opt_vs_caut_lag1    0.028727\n",
       "6             sent_8k_mean    0.028501\n",
       "7       sent_10k_mean_lag2    0.028307\n",
       "8                   Volume    0.028121\n",
       "9            count_8k_lag2    0.027591"
      ]
     },
     "metadata": {},
     "output_type": "display_data"
    }
   ],
   "source": [
    "# 3. Quick feature importance from a RandomForest\n",
    "rf = RandomForestClassifier(random_state=0)\n",
    "rf.fit(X, y)\n",
    "fi = pd.Series(rf.feature_importances_, index=final_features).sort_values(ascending=False)\n",
    "fi_df = fi.reset_index()\n",
    "fi_df.columns = ['feature', 'importance']\n",
    "display(fi_df.head(10))"
   ]
  },
  {
   "cell_type": "markdown",
   "id": "f50e0ffa-350a-47fa-b79f-47408a0782a7",
   "metadata": {},
   "source": [
    "##### The forest leans on price-based variables\n",
    "Your top-10 importances are dominated by lagged count_8k, volume (and its lag), the “opt_vs_caut” ratio (and its lag), plus a handful of sentiment stats. In effect, the model is relying more on sheer article counts and trading volume than on semantic content (for example, sent_8k_mean appears lower than count_8k_lag1)."
   ]
  },
  {
   "cell_type": "markdown",
   "id": "2ed881fd-0209-4490-910c-ccb0912e45ba",
   "metadata": {},
   "source": [
    "# Ablation"
   ]
  },
  {
   "cell_type": "code",
   "execution_count": 29,
   "id": "4c0d0d8e-d148-4431-93b0-a59058b29634",
   "metadata": {},
   "outputs": [],
   "source": [
    "import pandas as pd\n",
    "import numpy as np\n",
    "from sklearn.model_selection import TimeSeriesSplit\n",
    "from sklearn.ensemble import RandomForestClassifier\n",
    "from sklearn.metrics import accuracy_score, f1_score"
   ]
  },
  {
   "cell_type": "code",
   "execution_count": 50,
   "id": "fdb5de23-6f03-467f-9907-9f661c39fda5",
   "metadata": {},
   "outputs": [],
   "source": [
    "# load merged dataset\n",
    "df = pd.read_csv(\"Data/merged_dataset.csv\", parse_dates=[\"Week\"])\n",
    "df = df.sort_values(\"Week\").reset_index(drop=True)"
   ]
  },
  {
   "cell_type": "code",
   "execution_count": 51,
   "id": "5562b248-6011-4b2d-91db-b4bd50f53c16",
   "metadata": {},
   "outputs": [],
   "source": [
    "# Compute weekly return and target\n",
    "df[\"Return\"] = df[\"Close\"].pct_change()\n",
    "df[\"Target\"] = np.where(df[\"Return\"] > 0.01, 1,\n",
    "                np.where(df[\"Return\"] < -0.01, -1, 0))\n",
    "df = df.dropna(subset=[\"Return\"]).reset_index(drop=True)"
   ]
  },
  {
   "cell_type": "code",
   "execution_count": 52,
   "id": "2c53fecb-caa4-4227-b5f3-6a063fd31636",
   "metadata": {},
   "outputs": [],
   "source": [
    "# Define excluded columns and base features\n",
    "exclude = {\n",
    "    \"Week\", \"Close\", \"Return\", \"Target\", \"Year\", \"Adj Close\",\n",
    "    \"mean_news_sentiment\", \"std_news_sentiment\",\n",
    "    \"count_10k\", \"10q_mda_sent\", \"10q_risk_sent\", \"count_10q\", \"log_return\"\n",
    "}"
   ]
  },
  {
   "cell_type": "code",
   "execution_count": 53,
   "id": "bd4c9399-1820-4283-b3f9-60d1862401be",
   "metadata": {},
   "outputs": [],
   "source": [
    "base_features = [col for col in df.columns if col not in exclude]\n",
    "# Generate lag feature names\n",
    "def make_lags(cols):\n",
    "    return [f\"{c}_lag1\" for c in cols] + [f\"{c}_lag2\" for c in cols]"
   ]
  },
  {
   "cell_type": "code",
   "execution_count": 54,
   "id": "a35b360f-81f0-4d64-aab3-37e00f56da46",
   "metadata": {},
   "outputs": [],
   "source": [
    "# Create lag features in dataframe\n",
    "for col in base_features:\n",
    "    df[f\"{col}_lag1\"] = df[col].shift(1)\n",
    "    df[f\"{col}_lag2\"] = df[col].shift(2)\n",
    "df = df.dropna().reset_index(drop=True)  # drop rows missing lags"
   ]
  },
  {
   "cell_type": "code",
   "execution_count": 55,
   "id": "da250593-2b53-4128-8b02-1f52cda62fb0",
   "metadata": {},
   "outputs": [],
   "source": [
    "# Define feature groups\n",
    "price_feats = [c for c in base_features if c in [\"Open\", \"High\", \"Low\", \"Volume\"]]\n",
    "sentiment_feats = [c for c in base_features if c not in price_feats]\n",
    "feature_groups = {\n",
    "    \"Price/Volume\": price_feats + make_lags(price_feats),\n",
    "    \"Sentiment/Filings\": sentiment_feats + make_lags(sentiment_feats),\n",
    "    \"All Features\": base_features + make_lags(base_features)\n",
    "}"
   ]
  },
  {
   "cell_type": "code",
   "execution_count": 56,
   "id": "049e951b-761a-458a-8f93-68358ba776b8",
   "metadata": {},
   "outputs": [],
   "source": [
    "X = df  # we'll subset by columns later\n",
    "y = df[\"Target\"]"
   ]
  },
  {
   "cell_type": "code",
   "execution_count": 57,
   "id": "a774863d-0bcd-4659-8aa8-a1c22c45d89c",
   "metadata": {},
   "outputs": [],
   "source": [
    "# TimeSeriesSplit setup\n",
    "tscv = TimeSeriesSplit(n_splits=5)\n",
    "results = []"
   ]
  },
  {
   "cell_type": "code",
   "execution_count": 58,
   "id": "e7efa22c-46d3-4f82-926a-6498b913ed25",
   "metadata": {},
   "outputs": [],
   "source": [
    "# Ablation loops\n",
    "for name, feats in feature_groups.items():\n",
    "    feats = [c for c in feats if c in df.columns]  # ensure correct\n",
    "    acc_scores, f1_scores = [], []\n",
    "    for train_idx, test_idx in tscv.split(df):\n",
    "        X_train, X_test = df.iloc[train_idx][feats], df.iloc[test_idx][feats]\n",
    "        y_train, y_test = y.iloc[train_idx], y.iloc[test_idx]\n",
    "        model = RandomForestClassifier(random_state=42)\n",
    "        model.fit(X_train, y_train)\n",
    "        preds = model.predict(X_test)\n",
    "        acc_scores.append(accuracy_score(y_test, preds))\n",
    "        f1_scores.append(f1_score(y_test, preds, average=\"macro\"))\n",
    "    results.append({\n",
    "        \"Feature Group\": name,\n",
    "        \"Mean Accuracy\": np.mean(acc_scores),\n",
    "        \"Std Accuracy\": np.std(acc_scores),\n",
    "        \"Mean Macro-F1\": np.mean(f1_scores),\n",
    "        \"Std Macro-F1\": np.std(f1_scores)\n",
    "    })"
   ]
  },
  {
   "cell_type": "code",
   "execution_count": 59,
   "id": "d82c24a4-17ee-45c5-acd6-d61a9333a9e2",
   "metadata": {},
   "outputs": [],
   "source": [
    "# Display results\n",
    "results_df = pd.DataFrame(results)"
   ]
  },
  {
   "cell_type": "code",
   "execution_count": 60,
   "id": "49779f38-4004-410b-8890-9972280bf7f7",
   "metadata": {},
   "outputs": [
    {
     "data": {
      "text/html": [
       "<div>\n",
       "<style scoped>\n",
       "    .dataframe tbody tr th:only-of-type {\n",
       "        vertical-align: middle;\n",
       "    }\n",
       "\n",
       "    .dataframe tbody tr th {\n",
       "        vertical-align: top;\n",
       "    }\n",
       "\n",
       "    .dataframe thead th {\n",
       "        text-align: right;\n",
       "    }\n",
       "</style>\n",
       "<table border=\"1\" class=\"dataframe\">\n",
       "  <thead>\n",
       "    <tr style=\"text-align: right;\">\n",
       "      <th></th>\n",
       "      <th>Feature Group</th>\n",
       "      <th>Mean Accuracy</th>\n",
       "      <th>Std Accuracy</th>\n",
       "      <th>Mean Macro-F1</th>\n",
       "      <th>Std Macro-F1</th>\n",
       "    </tr>\n",
       "  </thead>\n",
       "  <tbody>\n",
       "    <tr>\n",
       "      <th>0</th>\n",
       "      <td>Price/Volume</td>\n",
       "      <td>0.416216</td>\n",
       "      <td>0.050128</td>\n",
       "      <td>0.342049</td>\n",
       "      <td>0.078114</td>\n",
       "    </tr>\n",
       "    <tr>\n",
       "      <th>1</th>\n",
       "      <td>Sentiment/Filings</td>\n",
       "      <td>0.372973</td>\n",
       "      <td>0.109984</td>\n",
       "      <td>0.329240</td>\n",
       "      <td>0.108073</td>\n",
       "    </tr>\n",
       "    <tr>\n",
       "      <th>2</th>\n",
       "      <td>All Features</td>\n",
       "      <td>0.340541</td>\n",
       "      <td>0.055652</td>\n",
       "      <td>0.287863</td>\n",
       "      <td>0.047858</td>\n",
       "    </tr>\n",
       "  </tbody>\n",
       "</table>\n",
       "</div>"
      ],
      "text/plain": [
       "       Feature Group  Mean Accuracy  Std Accuracy  Mean Macro-F1  Std Macro-F1\n",
       "0       Price/Volume       0.416216      0.050128       0.342049      0.078114\n",
       "1  Sentiment/Filings       0.372973      0.109984       0.329240      0.108073\n",
       "2       All Features       0.340541      0.055652       0.287863      0.047858"
      ]
     },
     "execution_count": 60,
     "metadata": {},
     "output_type": "execute_result"
    }
   ],
   "source": [
    "results_df"
   ]
  },
  {
   "cell_type": "code",
   "execution_count": null,
   "id": "0d8105a7-bf00-4efd-a2a5-9b013a51fddd",
   "metadata": {},
   "outputs": [],
   "source": []
  }
 ],
 "metadata": {
  "kernelspec": {
   "display_name": "Python (fusionnet)",
   "language": "python",
   "name": "fusionnet"
  },
  "language_info": {
   "codemirror_mode": {
    "name": "ipython",
    "version": 3
   },
   "file_extension": ".py",
   "mimetype": "text/x-python",
   "name": "python",
   "nbconvert_exporter": "python",
   "pygments_lexer": "ipython3",
   "version": "3.10.18"
  }
 },
 "nbformat": 4,
 "nbformat_minor": 5
}
