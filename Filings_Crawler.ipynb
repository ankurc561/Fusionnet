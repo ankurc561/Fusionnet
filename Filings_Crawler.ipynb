{
 "cells": [
  {
   "cell_type": "code",
   "execution_count": 7,
   "id": "f521600a-20a5-4f7f-bc00-53b72afa8e07",
   "metadata": {},
   "outputs": [],
   "source": [
    "import pandas as pd\n",
    "\n",
    "df = pd.read_csv(\"/mnt/disks/data/project_data/sp500_data/sp500_historical.csv\")\n"
   ]
  },
  {
   "cell_type": "code",
   "execution_count": 17,
   "id": "82fd1c90-aa0b-400e-a61b-e1c34c362c64",
   "metadata": {},
   "outputs": [
    {
     "data": {
      "text/plain": [
       "9164808"
      ]
     },
     "execution_count": 17,
     "metadata": {},
     "output_type": "execute_result"
    }
   ],
   "source": [
    "df.size"
   ]
  },
  {
   "cell_type": "code",
   "execution_count": 12,
   "id": "c0b73318-5188-4cf8-a96b-9e83c70ee713",
   "metadata": {},
   "outputs": [],
   "source": [
    "date_col = 'date'\n",
    "ticker_col = 'ticker'"
   ]
  },
  {
   "cell_type": "code",
   "execution_count": 13,
   "id": "ff9dce35-64cc-4e9a-bc21-40f359a10cbb",
   "metadata": {},
   "outputs": [],
   "source": [
    "df[date_col] = pd.to_datetime(df[date_col], errors='coerce')"
   ]
  },
  {
   "cell_type": "code",
   "execution_count": 14,
   "id": "3a44506d-4438-4823-b6b2-552efeb4d557",
   "metadata": {},
   "outputs": [],
   "source": [
    "# Filter rows from 2009 to 2013\n",
    "df_filtered = df[(df[date_col].dt.year >= 2009) & (df[date_col].dt.year <= 2013)]"
   ]
  },
  {
   "cell_type": "code",
   "execution_count": 16,
   "id": "ae48135f-cc3b-49e8-830e-8cf9309dc6bb",
   "metadata": {},
   "outputs": [
    {
     "data": {
      "text/plain": [
       "1370700"
      ]
     },
     "execution_count": 16,
     "metadata": {},
     "output_type": "execute_result"
    }
   ],
   "source": [
    "df_filtered.size"
   ]
  },
  {
   "cell_type": "code",
   "execution_count": 18,
   "id": "5b564410-5335-46f8-944d-c09b37bbb468",
   "metadata": {},
   "outputs": [],
   "source": [
    "tickers = sorted(df_filtered[ticker_col].dropna().unique())"
   ]
  },
  {
   "cell_type": "code",
   "execution_count": 21,
   "id": "3e6a01a7-c7b0-49d4-945e-011a2266a721",
   "metadata": {},
   "outputs": [],
   "source": [
    "# Save to a text file\n",
    "with open(\"tickers_2009_2013.txt\", \"w\") as f:\n",
    "    for ticker in tickers:\n",
    "        f.write(f\"{ticker}\\n\")"
   ]
  },
  {
   "cell_type": "code",
   "execution_count": null,
   "id": "63a923b2-a193-4f6e-8f91-1f5f5b664db4",
   "metadata": {},
   "outputs": [],
   "source": []
  }
 ],
 "metadata": {
  "kernelspec": {
   "display_name": "Python 3 (ipykernel)",
   "language": "python",
   "name": "python3"
  },
  "language_info": {
   "codemirror_mode": {
    "name": "ipython",
    "version": 3
   },
   "file_extension": ".py",
   "mimetype": "text/x-python",
   "name": "python",
   "nbconvert_exporter": "python",
   "pygments_lexer": "ipython3",
   "version": "3.10.18"
  }
 },
 "nbformat": 4,
 "nbformat_minor": 5
}
