{
 "cells": [
  {
   "cell_type": "code",
   "execution_count": 1,
   "id": "bfc4dae6-a4da-4673-99a1-4df4fa41514f",
   "metadata": {},
   "outputs": [],
   "source": [
    "import os\n",
    "import warnings\n",
    "import json\n",
    "from google.cloud import storage\n",
    "from transformers import AutoTokenizer, AutoModelForSequenceClassification\n",
    "from datasets import load_dataset, Dataset\n",
    "import torch\n",
    "from torch.utils.data import DataLoader, TensorDataset\n",
    "import pandas as pd\n",
    "from tqdm import tqdm\n",
    "import re\n",
    "import gcsfs\n",
    "import numpy as np\n",
    "from sklearn.metrics import classification_report, confusion_matrix, ConfusionMatrixDisplay, accuracy_score, f1_score\n",
    "import matplotlib.pyplot as plt\n",
    "from google.cloud import storage, bigquery\n",
    "os.environ[\"GOOGLE_APPLICATION_CREDENTIALS\"] = \"/mnt/disks/data/diss_bucket_key.json\"\n",
    "# Turn off all warnings\n",
    "warnings.filterwarnings('ignore')"
   ]
  },
  {
   "cell_type": "code",
   "execution_count": 2,
   "id": "21b493de-f184-442f-9c80-245c09779637",
   "metadata": {},
   "outputs": [],
   "source": [
    "os.environ[\"HF_DATASETS_CACHE\"] = \"/mnt/disks/data/hf_cache\"\n",
    "os.environ[\"HF_DATASETS_OFFLINE\"] = \"1\"  # Optional: if you're only working locally\n",
    "os.environ[\"TRANSFORMERS_CACHE\"] = \"/mnt/disks/data/transformers_cache\"\n",
    "os.environ[\"TMPDIR\"] = \"/mnt/disks/data/tmp\""
   ]
  },
  {
   "cell_type": "code",
   "execution_count": 3,
   "id": "fde74cff-e64e-49e4-9456-bc60a1b36a41",
   "metadata": {},
   "outputs": [
    {
     "name": "stdout",
     "output_type": "stream",
     "text": [
      "Number of GPUs available: 1\n",
      "NVIDIA A100-SXM4-40GB\n"
     ]
    }
   ],
   "source": [
    "# Detect number of GPUs\n",
    "gpus = torch.cuda.device_count()\n",
    "print(f\"Number of GPUs available: {gpus}\")\n",
    "print(torch.cuda.get_device_name(0))\n",
    "DEVICE = \"cuda\" if torch.cuda.is_available() else \"cpu\""
   ]
  },
  {
   "cell_type": "code",
   "execution_count": 4,
   "id": "9ce0fe3f-3600-4e35-876b-aaff3fe4c91a",
   "metadata": {},
   "outputs": [],
   "source": [
    "# Setup\n",
    "BUCKET_NAME = \"diss_market_data\"\n",
    "MODEL_PREFIX = \"finbert-finetuned_onlyfilings/\"\n",
    "MODEL_LOCAL_DIR = \"finbert_onlyfilings\"\n",
    "\n",
    "# === Configuration ===\n",
    "PROJECT_ID = \"bamboo-mercury-462915-f0\"\n",
    "BQ_DATASET = \"edgar_sentiment\"\n",
    "BQ_TABLE_EVAL = \"filing_scores_evaluation\"\n",
    "REGION = \"europe-west2\"\n",
    "OUTPUT_DIR = f\"gs://diss_market_data/finbert-finetune-output\"\n",
    "NUM_LABELS = 3"
   ]
  },
  {
   "cell_type": "code",
   "execution_count": 5,
   "id": "387c2a7f-e5c3-400a-ae82-e515cc91520a",
   "metadata": {},
   "outputs": [],
   "source": [
    "# === Environment Variables for HPC ===\n",
    "os.environ[\"GOOGLE_CLOUD_PROJECT\"] = PROJECT_ID\n",
    "os.environ[\"TOKENIZERS_PARALLELISM\"] = \"false\"\n",
    "os.environ[\"WANDB_DISABLED\"] = \"true\"\n",
    "os.environ[\"WANDB_MODE\"] = \"dryrun\"\n",
    "os.environ[\"NCCL_DEBUG\"] = \"INFO\"\n",
    "os.environ[\"NCCL_P2P_DISABLE\"] = \"1\""
   ]
  },
  {
   "cell_type": "code",
   "execution_count": 6,
   "id": "19f9e3b9-837a-4ca5-a24a-c4c0592ffe64",
   "metadata": {},
   "outputs": [
    {
     "name": "stdout",
     "output_type": "stream",
     "text": [
      "Retrieved 135 rows from filings training table edgar_sentiment.filing_scores_evaluation\n"
     ]
    }
   ],
   "source": [
    "# === Extract data from BigQuery for training ===\n",
    "bq_client = bigquery.Client()\n",
    "query = f\"\"\"SELECT *\n",
    "        FROM (\n",
    "          (\n",
    "            SELECT chunk_text, sentiment_score, sentiment_label\n",
    "            FROM `{PROJECT_ID}.{BQ_DATASET}.{BQ_TABLE_EVAL}`\n",
    "            WHERE sentiment_label = 'Positive'\n",
    "            ORDER BY FARM_FINGERPRINT(CONCAT(CAST(12345 AS STRING), chunk_text))\n",
    "            LIMIT 45\n",
    "          )\n",
    "          UNION ALL\n",
    "          (\n",
    "            SELECT chunk_text, sentiment_score, sentiment_label\n",
    "            FROM `{PROJECT_ID}.{BQ_DATASET}.{BQ_TABLE_EVAL}`\n",
    "            WHERE sentiment_label = 'Negative'\n",
    "            ORDER BY FARM_FINGERPRINT(CONCAT(CAST(12345 AS STRING), chunk_text))\n",
    "            LIMIT 45\n",
    "          )\n",
    "          UNION ALL\n",
    "          (\n",
    "            SELECT chunk_text, sentiment_score, sentiment_label\n",
    "            FROM `{PROJECT_ID}.{BQ_DATASET}.{BQ_TABLE_EVAL}`\n",
    "            WHERE sentiment_label = 'Neutral'\n",
    "            ORDER BY FARM_FINGERPRINT(CONCAT(CAST(12345 AS STRING), chunk_text))\n",
    "            LIMIT 45\n",
    "          )\n",
    "        )\n",
    "        ORDER BY FARM_FINGERPRINT(CONCAT(CAST(12345 AS STRING), chunk_text));\n",
    "        \"\"\"\n",
    "df_filings = bq_client.query(query).to_dataframe()\n",
    "print(f\"Retrieved {len(df_filings)} rows from filings training table {BQ_DATASET}.{BQ_TABLE_EVAL}\")"
   ]
  },
  {
   "cell_type": "code",
   "execution_count": 7,
   "id": "21ee5b0c-259d-4a67-9fe9-d34b8700c4fa",
   "metadata": {},
   "outputs": [
    {
     "data": {
      "text/plain": [
       "BertForSequenceClassification(\n",
       "  (bert): BertModel(\n",
       "    (embeddings): BertEmbeddings(\n",
       "      (word_embeddings): Embedding(30873, 768, padding_idx=0)\n",
       "      (position_embeddings): Embedding(512, 768)\n",
       "      (token_type_embeddings): Embedding(2, 768)\n",
       "      (LayerNorm): LayerNorm((768,), eps=1e-12, elementwise_affine=True)\n",
       "      (dropout): Dropout(p=0.1, inplace=False)\n",
       "    )\n",
       "    (encoder): BertEncoder(\n",
       "      (layer): ModuleList(\n",
       "        (0-11): 12 x BertLayer(\n",
       "          (attention): BertAttention(\n",
       "            (self): BertSdpaSelfAttention(\n",
       "              (query): Linear(in_features=768, out_features=768, bias=True)\n",
       "              (key): Linear(in_features=768, out_features=768, bias=True)\n",
       "              (value): Linear(in_features=768, out_features=768, bias=True)\n",
       "              (dropout): Dropout(p=0.1, inplace=False)\n",
       "            )\n",
       "            (output): BertSelfOutput(\n",
       "              (dense): Linear(in_features=768, out_features=768, bias=True)\n",
       "              (LayerNorm): LayerNorm((768,), eps=1e-12, elementwise_affine=True)\n",
       "              (dropout): Dropout(p=0.1, inplace=False)\n",
       "            )\n",
       "          )\n",
       "          (intermediate): BertIntermediate(\n",
       "            (dense): Linear(in_features=768, out_features=3072, bias=True)\n",
       "            (intermediate_act_fn): GELUActivation()\n",
       "          )\n",
       "          (output): BertOutput(\n",
       "            (dense): Linear(in_features=3072, out_features=768, bias=True)\n",
       "            (LayerNorm): LayerNorm((768,), eps=1e-12, elementwise_affine=True)\n",
       "            (dropout): Dropout(p=0.1, inplace=False)\n",
       "          )\n",
       "        )\n",
       "      )\n",
       "    )\n",
       "    (pooler): BertPooler(\n",
       "      (dense): Linear(in_features=768, out_features=768, bias=True)\n",
       "      (activation): Tanh()\n",
       "    )\n",
       "  )\n",
       "  (dropout): Dropout(p=0.1, inplace=False)\n",
       "  (classifier): Linear(in_features=768, out_features=3, bias=True)\n",
       ")"
      ]
     },
     "execution_count": 7,
     "metadata": {},
     "output_type": "execute_result"
    }
   ],
   "source": [
    "# ------------------------ Load Model -----------------------------\n",
    "tokenizer = AutoTokenizer.from_pretrained(MODEL_LOCAL_DIR)\n",
    "model = AutoModelForSequenceClassification.from_pretrained(MODEL_LOCAL_DIR).to(DEVICE)\n",
    "model.eval()"
   ]
  },
  {
   "cell_type": "code",
   "execution_count": null,
   "id": "0679be9c-ae63-4853-a9b0-1ae72b0f71af",
   "metadata": {},
   "outputs": [],
   "source": [
    "# ---------- Basic hygiene ----------\n",
    "df = df_filings.dropna(subset=[\"chunk_text\", \"sentiment_label\"]).copy()\n",
    "# -- Saving the file to review --\n",
    "df.to_csv(\"filings_human_eval.csv\", index=False)\n",
    "\n",
    "texts = df[\"chunk_text\"].astype(str).tolist()\n",
    "true_labels_str = df[\"sentiment_label\"].astype(str).tolist()"
   ]
  },
  {
   "cell_type": "code",
   "execution_count": 9,
   "id": "31e70fb6-416b-4b49-b090-f569095bfb49",
   "metadata": {},
   "outputs": [],
   "source": [
    "# Canonicalise common label names\n",
    "def canon(s: str) -> str:\n",
    "    s = s.strip().lower()\n",
    "    alias = {\"pos\": \"positive\", \"neg\": \"negative\", \"neu\": \"neutral\"}\n",
    "    return alias.get(s, s)\n",
    "\n",
    "true_labels_str = [canon(x) for x in true_labels_str]\n"
   ]
  },
  {
   "cell_type": "code",
   "execution_count": 10,
   "id": "2fa10dc2-0bc1-46f8-95c5-0fa3be0380dd",
   "metadata": {},
   "outputs": [],
   "source": [
    "# Try to use the model's label mapping if available and compatible\n",
    "cfg_label2id_raw = getattr(model.config, \"label2id\", None) or {}\n",
    "cfg_id2label_raw = getattr(model.config, \"id2label\", None) or {}"
   ]
  },
  {
   "cell_type": "code",
   "execution_count": 11,
   "id": "8b8ff668-a185-4897-b48a-1f57f57715a7",
   "metadata": {},
   "outputs": [],
   "source": [
    "# Normalise keys/cases\n",
    "cfg_label2id = {str(k).lower(): int(v) for k, v in cfg_label2id_raw.items()} if cfg_label2id_raw else {}\n",
    "cfg_id2label = {int(k): str(v) for k, v in cfg_id2label_raw.items()} if cfg_id2label_raw else {}\n",
    "\n",
    "model_knows_std_labels = {\"positive\", \"negative\", \"neutral\"}.issubset(set(cfg_label2id.keys()))\n"
   ]
  },
  {
   "cell_type": "code",
   "execution_count": 12,
   "id": "314058ff-367e-481a-a2b2-704e036c01a5",
   "metadata": {},
   "outputs": [],
   "source": [
    "if model_knows_std_labels:\n",
    "    label2id = cfg_label2id\n",
    "    id2label = {v: k for k, v in label2id.items()}\n",
    "else:\n",
    "    # Fallback: derive mapping from your dataset (stable alphabetical order)\n",
    "    unique_labels = sorted(set(true_labels_str))\n",
    "    label2id = {lab: i for i, lab in enumerate(unique_labels)}\n",
    "    id2label = {i: lab for lab, i in label2id.items()}"
   ]
  },
  {
   "cell_type": "code",
   "execution_count": 13,
   "id": "48214538-b3f2-4769-bffa-140cec48c9e6",
   "metadata": {},
   "outputs": [],
   "source": [
    "# Encode ground truth as ids\n",
    "y_true = np.array([label2id[canon(x)] for x in true_labels_str], dtype=int)"
   ]
  },
  {
   "cell_type": "code",
   "execution_count": 14,
   "id": "2308cacf-69dc-414c-9d04-a89bbfe79dc7",
   "metadata": {},
   "outputs": [],
   "source": [
    "# ---------- Tokenise ----------\n",
    "# Choose a safe max length\n",
    "try:\n",
    "    max_len_model = int(getattr(tokenizer, \"model_max_length\", 512))\n",
    "except Exception:\n",
    "    max_len_model = 512\n",
    "MAX_LEN = min(512, max_len_model if max_len_model > 0 else 512)\n",
    "\n",
    "enc = tokenizer(\n",
    "    texts,\n",
    "    padding=True,\n",
    "    truncation=True,\n",
    "    max_length=MAX_LEN,\n",
    "    return_tensors=\"pt\"\n",
    ")\n",
    "\n",
    "dataset = TensorDataset(enc[\"input_ids\"], enc[\"attention_mask\"])\n",
    "BATCH_SIZE = 32\n",
    "loader = DataLoader(dataset, batch_size=BATCH_SIZE, shuffle=False)"
   ]
  },
  {
   "cell_type": "code",
   "execution_count": 15,
   "id": "80f08592-cf54-4ff9-ab71-552906889666",
   "metadata": {},
   "outputs": [
    {
     "name": "stderr",
     "output_type": "stream",
     "text": [
      "Evaluating: 100%|███████████████████████████████████████████████████████████████████████████████████████████████████████████████| 5/5 [00:01<00:00,  3.14it/s]\n"
     ]
    }
   ],
   "source": [
    "# ---------- Inference ----------\n",
    "model.eval()\n",
    "all_logits = []\n",
    "\n",
    "with torch.no_grad():\n",
    "    for input_ids, attention_mask in tqdm(loader, desc=\"Evaluating\"):\n",
    "        input_ids = input_ids.to(model.device)\n",
    "        attention_mask = attention_mask.to(model.device)\n",
    "        out = model(input_ids=input_ids, attention_mask=attention_mask)\n",
    "        all_logits.append(out.logits.detach().cpu())\n",
    "\n",
    "logits = torch.cat(all_logits, dim=0).numpy()\n",
    "y_pred = logits.argmax(axis=1)\n"
   ]
  },
  {
   "cell_type": "code",
   "execution_count": 16,
   "id": "00eedbef-a262-4d80-a424-31f67bdc07c3",
   "metadata": {},
   "outputs": [],
   "source": [
    "# If we used a fallback label space but the model outputs a different number of classes,\n",
    "# we still evaluate by numeric ids; display names come from 'id2label'.\n",
    "target_order = list(range(len(id2label)))  # order for report/cm\n",
    "target_names = [id2label[i].capitalize() for i in target_order]"
   ]
  },
  {
   "cell_type": "code",
   "execution_count": 17,
   "id": "a4bf55be-fa0d-49c8-8787-4fdf555e39dd",
   "metadata": {},
   "outputs": [
    {
     "name": "stdout",
     "output_type": "stream",
     "text": [
      "Accuracy: 0.733\n",
      "Weighted F1: 0.728\n",
      "\n",
      "Classification report:\n",
      "\n",
      "              precision    recall  f1-score   support\n",
      "\n",
      "     Neutral      0.625     0.667     0.645        45\n",
      "    Positive      0.897     0.578     0.703        45\n",
      "    Negative      0.741     0.956     0.835        45\n",
      "\n",
      "    accuracy                          0.733       135\n",
      "   macro avg      0.754     0.733     0.728       135\n",
      "weighted avg      0.754     0.733     0.728       135\n",
      "\n"
     ]
    }
   ],
   "source": [
    "# ---------- Metrics ----------\n",
    "print(\"Accuracy: {:.3f}\".format(accuracy_score(y_true, y_pred)))\n",
    "print(\"Weighted F1: {:.3f}\".format(f1_score(y_true, y_pred, average=\"weighted\")))\n",
    "print(\"\\nClassification report:\\n\")\n",
    "print(classification_report(y_true, y_pred, labels=target_order, target_names=target_names, digits=3))"
   ]
  },
  {
   "cell_type": "code",
   "execution_count": 22,
   "id": "cdebb62a-29ec-4422-87f0-bfb299a06872",
   "metadata": {},
   "outputs": [
    {
     "data": {
      "image/png": "[encoded data removed]",
      "text/plain": [
       "<Figure size 910x770 with 2 Axes>"
      ]
     },
     "metadata": {},
     "output_type": "display_data"
    },
    {
     "data": {
      "text/plain": [
       "<Figure size 640x480 with 0 Axes>"
      ]
     },
     "metadata": {},
     "output_type": "display_data"
    }
   ],
   "source": [
    "# ---------- Confusion Matrices (counts and normalised) ----------\n",
    "cm = confusion_matrix(y_true, y_pred, labels=target_order)\n",
    "cm_norm = confusion_matrix(y_true, y_pred, labels=target_order, normalize=\"true\")\n",
    "\n",
    "def plot_cm(cm_mat, labels, title, normalised=False, cmap_name=\"coolwarm\"):\n",
    "    fig, ax = plt.subplots(figsize=(6.5, 5.5), dpi=140)\n",
    "    disp = ConfusionMatrixDisplay(confusion_matrix=cm_mat, display_labels=labels)\n",
    "    disp.plot(ax=ax, cmap=cmap_name, colorbar=True, values_format=\".2f\" if normalised else \"d\")\n",
    "    ax.set_title(title, pad=12)\n",
    "    ax.set_xlabel(\"Predicted label\")\n",
    "    ax.set_ylabel(\"True label\")\n",
    "    plt.xticks(rotation=0)\n",
    "    plt.tight_layout()\n",
    "    plt.show()\n",
    "    plt.gcf().savefig(\"confusion_matrix_human_reviewed_filings.png\", dpi=300, bbox_inches=\"tight\")\n",
    "\n",
    "plot_cm(cm, target_names, \"Confusion Matrix - Human Reviewed - Filings\", normalised=False)\n",
    "\n",
    "# plot_cm(cm_norm, target_names, \"Confusion Matrix (Normalised by True Class)\", normalised=True)\n",
    "# plt.gcf().savefig(\"confusion_matrix_normalised_trueclass.png\", dpi=300, bbox_inches=\"tight\")\n"
   ]
  },
  {
   "cell_type": "code",
   "execution_count": null,
   "id": "3373196c-d0bc-4204-8f44-55a64d4a5d1c",
   "metadata": {},
   "outputs": [],
   "source": []
  }
 ],
 "metadata": {
  "kernelspec": {
   "display_name": "Python (fusionnet)",
   "language": "python",
   "name": "fusionnet"
  },
  "language_info": {
   "codemirror_mode": {
    "name": "ipython",
    "version": 3
   },
   "file_extension": ".py",
   "mimetype": "text/x-python",
   "name": "python",
   "nbconvert_exporter": "python",
   "pygments_lexer": "ipython3",
   "version": "3.10.18"
  }
 },
 "nbformat": 4,
 "nbformat_minor": 5
}
