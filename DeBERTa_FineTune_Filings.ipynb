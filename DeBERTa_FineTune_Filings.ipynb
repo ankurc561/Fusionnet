{
 "cells": [
  {
   "cell_type": "code",
   "execution_count": 1,
   "id": "XM16TTYfN6tz",
   "metadata": {
    "id": "XM16TTYfN6tz"
   },
   "outputs": [],
   "source": [
    "# Imports\n",
    "import os\n",
    "import warnings\n",
    "from io import StringIO\n",
    "import pandas as pd\n",
    "import gcsfs\n",
    "from google.cloud import storage, bigquery\n",
    "from datasets import Dataset, load_dataset\n",
    "from transformers import (\n",
    "    AutoTokenizer,\n",
    "    AutoModelForSequenceClassification,\n",
    "    Trainer,\n",
    "    TrainingArguments,\n",
    "    ProgressCallback\n",
    ")\n",
    "import torch\n",
    "import evaluate\n",
    "import inspect\n",
    "from sklearn.metrics import confusion_matrix, ConfusionMatrixDisplay, f1_score, accuracy_score\n",
    "import matplotlib.pyplot as plt"
   ]
  },
  {
   "cell_type": "code",
   "execution_count": 2,
   "id": "92abf696-0de1-4a9f-8c9a-1f68648c5213",
   "metadata": {},
   "outputs": [],
   "source": [
    "os.environ[\"GOOGLE_APPLICATION_CREDENTIALS\"] = \"/mnt/disks/data/diss_bucket_key.json\"\n",
    "# Turn off all warnings\n",
    "warnings.filterwarnings('ignore')"
   ]
  },
  {
   "cell_type": "code",
   "execution_count": 3,
   "id": "tPwYvwP8Naow",
   "metadata": {
    "colab": {
     "base_uri": "https://localhost:8080/"
    },
    "id": "tPwYvwP8Naow",
    "outputId": "74deec44-8399-4eb0-8bf1-4b788cc3d501"
   },
   "outputs": [
    {
     "name": "stdout",
     "output_type": "stream",
     "text": [
      "Number of GPUs available: 1\n",
      "NVIDIA A100-SXM4-40GB\n"
     ]
    }
   ],
   "source": [
    "# Detect number of GPUs\n",
    "gpus = torch.cuda.device_count()\n",
    "print(f\"Number of GPUs available: {gpus}\")\n",
    "print(torch.cuda.get_device_name(0))"
   ]
  },
  {
   "cell_type": "code",
   "execution_count": 4,
   "id": "lTevABkbRo5t",
   "metadata": {
    "id": "lTevABkbRo5t"
   },
   "outputs": [],
   "source": [
    "# === Disable Weights & Biases to avoid API prompts ===\n",
    "os.environ[\"WANDB_DISABLED\"] = \"true\"\n",
    "os.environ[\"WANDB_MODE\"] = \"dryrun\""
   ]
  },
  {
   "cell_type": "code",
   "execution_count": 6,
   "id": "bd9ac42b-149c-4bf3-ac25-88f0c20ad403",
   "metadata": {
    "id": "bd9ac42b-149c-4bf3-ac25-88f0c20ad403"
   },
   "outputs": [],
   "source": [
    "# === Configuration ===\n",
    "PROJECT_ID = \"bamboo-mercury-462915-f0\"\n",
    "BQ_DATASET = \"edgar_sentiment\"\n",
    "BQ_TABLE = \"filing_scores\"\n",
    "BQ_TABLE_EVAL = \"filing_scores_evaluation\"\n",
    "REGION = \"europe-west2\"\n",
    "OUTPUT_DIR = f\"gs://diss_market_data/finbert-finetune-output\"\n",
    "# MODEL_NAME = \"yiyanghkust/finbert-tone\"\n",
    "NUM_LABELS = 3\n",
    "\n",
    "# 🔁 Optional: Try stronger models if F1 plateaus\n",
    "# MODEL_NAME = \"ProsusAI/finbert\"  # financial-news specific FinBERT\n",
    "MODEL_NAME = \"microsoft/deberta-v3-base\"  # smaller DeBERTa finetuned on financial news"
   ]
  },
  {
   "cell_type": "code",
   "execution_count": 7,
   "id": "636d1fd6-bffe-45c1-8e02-6e676bb33304",
   "metadata": {},
   "outputs": [],
   "source": [
    "# === Environment Variables for HPC ===\n",
    "os.environ[\"GOOGLE_CLOUD_PROJECT\"] = PROJECT_ID\n",
    "os.environ[\"TOKENIZERS_PARALLELISM\"] = \"false\"\n",
    "os.environ[\"WANDB_DISABLED\"] = \"true\"\n",
    "os.environ[\"WANDB_MODE\"] = \"dryrun\"\n",
    "os.environ[\"NCCL_DEBUG\"] = \"INFO\"\n",
    "os.environ[\"NCCL_P2P_DISABLE\"] = \"1\""
   ]
  },
  {
   "cell_type": "code",
   "execution_count": 12,
   "id": "d340b74e-ef17-4f58-a02d-0d97035b5a26",
   "metadata": {
    "colab": {
     "base_uri": "https://localhost:8080/"
    },
    "id": "d340b74e-ef17-4f58-a02d-0d97035b5a26",
    "outputId": "2d624c9c-582c-4786-c3a2-1acb3fb05d3d"
   },
   "outputs": [
    {
     "name": "stdout",
     "output_type": "stream",
     "text": [
      "Retrieved 12797 rows from filings training table edgar_sentiment.filing_scores\n"
     ]
    }
   ],
   "source": [
    "# === Extract data from BigQuery for training ===\n",
    "bq_client = bigquery.Client()\n",
    "query = f\"\"\"(SELECT chunk_text, sentiment_score, sentiment_label FROM `{PROJECT_ID}.{BQ_DATASET}.{BQ_TABLE}`\n",
    "        where sentiment_label IN ('Positive'))\n",
    "        UNION ALL\n",
    "        (SELECT chunk_text, sentiment_score, sentiment_label FROM `{PROJECT_ID}.{BQ_DATASET}.{BQ_TABLE}`\n",
    "        where sentiment_label IN ('Negative') LIMIT 4500)\n",
    "        UNION ALL\n",
    "        (SELECT chunk_text, sentiment_score, sentiment_label FROM `{PROJECT_ID}.{BQ_DATASET}.{BQ_TABLE}`\n",
    "        where sentiment_label IN ('Neutral') LIMIT 4500)\n",
    "        \"\"\"\n",
    "df_filings = bq_client.query(query).to_dataframe()\n",
    "print(f\"Retrieved {len(df_filings)} rows from filings training table {BQ_DATASET}.{BQ_TABLE}\")"
   ]
  },
  {
   "cell_type": "code",
   "execution_count": 13,
   "id": "2cdb6083-3379-4c96-91ca-2368720c23c8",
   "metadata": {},
   "outputs": [
    {
     "name": "stdout",
     "output_type": "stream",
     "text": [
      "Retrieved 1298 rows from evaluation table edgar_sentiment.filing_scores_evaluation\n"
     ]
    }
   ],
   "source": [
    "# === Extract data from BigQuery for evaluation ===\n",
    "query = f\"\"\"SELECT chunk_text text, sentiment_label FROM `{PROJECT_ID}.{BQ_DATASET}.{BQ_TABLE_EVAL}`\n",
    "        where sentiment_label IN ('Positive', 'Negative', 'Neutral')\n",
    "        \"\"\"\n",
    "df_eval = bq_client.query(query).to_dataframe()\n",
    "print(f\"Retrieved {len(df_eval)} rows from evaluation table {BQ_DATASET}.{BQ_TABLE_EVAL}\")"
   ]
  },
  {
   "cell_type": "code",
   "execution_count": 14,
   "id": "b76464d8-3584-4c0e-99a3-9d3bc7f3c86f",
   "metadata": {},
   "outputs": [],
   "source": [
    "# Gemini Labeled Filings in chunks\n",
    "label_map = {\"Negative\": 2, \"Neutral\": 0, \"Positive\": 1}\n",
    "df_filings['label'] = df_filings['sentiment_label'].map(label_map)\n",
    "df_eval['label'] = df_eval['sentiment_label'].map(label_map)\n",
    "df_eval.drop(columns=['sentiment_label'], inplace=True)"
   ]
  },
  {
   "cell_type": "code",
   "execution_count": 15,
   "id": "8vc2cmREUiyw",
   "metadata": {
    "id": "8vc2cmREUiyw"
   },
   "outputs": [],
   "source": [
    "# # /financial-tweets-sentiment\n",
    "# ds_tweets = load_dataset(\"TimKoornstra/financial-tweets-sentiment\")\n",
    "# df_tweets = pd.DataFrame(ds_tweets['train'])"
   ]
  },
  {
   "cell_type": "code",
   "execution_count": 35,
   "id": "n3zJ2MpQXkRD",
   "metadata": {
    "id": "n3zJ2MpQXkRD"
   },
   "outputs": [],
   "source": [
    "# financial_phrasebank\n",
    "df_phrasebank = pd.read_csv(\"/mnt/disks/data/project_data/Financial_Phrasebank_50__Agree.csv\")"
   ]
  },
  {
   "cell_type": "code",
   "execution_count": 36,
   "id": "uPXoVw5meclC",
   "metadata": {
    "id": "uPXoVw5meclC"
   },
   "outputs": [],
   "source": [
    "# Changing Labels to match -> {\"Negative\": 2, \"Neutral\": 0, \"Positive\": 1}\n",
    "label_map = {\"negative\": 2, \"neutral\": 0, \"positive\": 1}\n",
    "df_phrasebank['sentiment'] = df_phrasebank['label']\n",
    "df_phrasebank['label'] = df_phrasebank['sentiment'].map(label_map)"
   ]
  },
  {
   "cell_type": "code",
   "execution_count": 37,
   "id": "R4uFRNkthG-q",
   "metadata": {
    "id": "R4uFRNkthG-q"
   },
   "outputs": [],
   "source": [
    "df1 = df_filings[['chunk_text', 'label']].rename(columns={'chunk_text': 'text'})\n",
    "# df2 = df_tweets[['tweet', 'sentiment']].rename(columns={'tweet': 'text', 'sentiment': 'label'})\n",
    "df3 = df_phrasebank[['sentence', 'label']].rename(columns={'sentence': 'text'})"
   ]
  },
  {
   "cell_type": "code",
   "execution_count": 39,
   "id": "zRl3ZeV0W4QE",
   "metadata": {
    "id": "zRl3ZeV0W4QE"
   },
   "outputs": [],
   "source": [
    "df_final = pd.concat([df1, df3])"
   ]
  },
  {
   "cell_type": "code",
   "execution_count": 40,
   "id": "a6827605-fc3e-4170-8a86-1fc1a803da94",
   "metadata": {},
   "outputs": [
    {
     "data": {
      "text/plain": [
       "(Index(['text', 'label'], dtype='object'),\n",
       " Index(['text', 'label'], dtype='object'))"
      ]
     },
     "execution_count": 40,
     "metadata": {},
     "output_type": "execute_result"
    }
   ],
   "source": [
    "df_final.columns, df_eval.columns"
   ]
  },
  {
   "cell_type": "code",
   "execution_count": 41,
   "id": "faba054e-4116-4712-b932-4aa9a20627bf",
   "metadata": {},
   "outputs": [],
   "source": [
    "# === Convert to Hugging Face Dataset ===\n",
    "train_dataset = Dataset.from_pandas(df_final[['text', 'label']])\n",
    "eval_dataset = Dataset.from_pandas(df_eval[['text', 'label']])"
   ]
  },
  {
   "cell_type": "code",
   "execution_count": 42,
   "id": "0b1e8bbb-3a2f-41a6-9b9f-50d6f453bf3c",
   "metadata": {
    "colab": {
     "base_uri": "https://localhost:8080/",
     "height": 49,
     "referenced_widgets": [
      "66ebee23711a4cc7acf0ab91728666a2",
      "e54af440156847e181f3032bd72704e1",
      "2a901bd6909742b7aa067e8edf7155b5",
      "c1b2afec669c438d8a05734cc78be69b",
      "16cc9e45fd0a4fb5a3c9bfa09e78e72f",
      "5e7fcb41a6b1438696f944d2734cbef9",
      "640ce243de1b4ebfa35f276eb8be5ca9",
      "e5b5094035cd4e319afe0b457e66c310",
      "d3d9a9ac65c242f6bdb1d5ac7d0e552a",
      "6052e67d217d4c59867dc0b11c6d73a8",
      "b251b536d87948a49325b0c831c1b87b"
     ]
    },
    "id": "0b1e8bbb-3a2f-41a6-9b9f-50d6f453bf3c",
    "outputId": "f5ba2899-1993-4a24-ca49-b7a8ccb40bfd"
   },
   "outputs": [],
   "source": [
    "# === Tokenization ===\n",
    "tokenizer = AutoTokenizer.from_pretrained(MODEL_NAME)\n",
    "\n",
    "def tokenize_batch(examples):\n",
    "    return tokenizer(\n",
    "        examples['text'],\n",
    "        truncation=True,\n",
    "        padding='longest',\n",
    "        max_length=512\n",
    "    )\n",
    "\n",
    "# 🔁 Optional: Try stronger models if F1 plateaus\n",
    "# MODEL_NAME = \"ProsusAI/finbert\"  # financial-news specific FinBERT\n",
    "# MODEL_NAME = \"mrm8488/deberta-v3-small-finetuned-financial-news-sentiment-analysis\"  # smaller DeBERTa finetuned on financial news"
   ]
  },
  {
   "cell_type": "code",
   "execution_count": 43,
   "id": "vjCkidtG1mPV",
   "metadata": {
    "colab": {
     "base_uri": "https://localhost:8080/"
    },
    "id": "vjCkidtG1mPV",
    "outputId": "1dda5197-7ba5-4e96-f7a6-88a987ec5ef2"
   },
   "outputs": [
    {
     "data": {
      "application/vnd.jupyter.widget-view+json": {
       "model_id": "427d48b5c72f452c90a8b8ed22b1e6c2",
       "version_major": 2,
       "version_minor": 0
      },
      "text/plain": [
       "Map:   0%|          | 0/17643 [00:00<?, ? examples/s]"
      ]
     },
     "metadata": {},
     "output_type": "display_data"
    },
    {
     "data": {
      "application/vnd.jupyter.widget-view+json": {
       "model_id": "bf9e4d6007a64bfeb1eefc99ea9f4a52",
       "version_major": 2,
       "version_minor": 0
      },
      "text/plain": [
       "Map:   0%|          | 0/1298 [00:00<?, ? examples/s]"
      ]
     },
     "metadata": {},
     "output_type": "display_data"
    }
   ],
   "source": [
    "tokenized_train = train_dataset.map(tokenize_batch, batched=True)\n",
    "tokenized_eval = eval_dataset.map(tokenize_batch, batched=True)"
   ]
  },
  {
   "cell_type": "code",
   "execution_count": 44,
   "id": "0_wUqUMeONAI",
   "metadata": {
    "id": "0_wUqUMeONAI"
   },
   "outputs": [],
   "source": [
    "# Filter to essential columns\n",
    "def keep_features(ds):\n",
    "    keep = ['input_ids','attention_mask','label']\n",
    "    return ds.remove_columns([c for c in ds.column_names if c not in keep])\n",
    "train_ds, eval_ds = keep_features(tokenized_train), keep_features(tokenized_eval)"
   ]
  },
  {
   "cell_type": "code",
   "execution_count": 45,
   "id": "-CfE2n7DOV8l",
   "metadata": {
    "id": "-CfE2n7DOV8l"
   },
   "outputs": [
    {
     "name": "stderr",
     "output_type": "stream",
     "text": [
      "Some weights of DebertaV2ForSequenceClassification were not initialized from the model checkpoint at microsoft/deberta-v3-base and are newly initialized: ['classifier.bias', 'classifier.weight', 'pooler.dense.bias', 'pooler.dense.weight']\n",
      "You should probably TRAIN this model on a down-stream task to be able to use it for predictions and inference.\n"
     ]
    }
   ],
   "source": [
    "# === Model Setup ===\n",
    "model = AutoModelForSequenceClassification.from_pretrained(MODEL_NAME, num_labels=NUM_LABELS)\n",
    "\n",
    "# === Configure TrainingArguments ===\n",
    "base_args = {\n",
    "    'output_dir': OUTPUT_DIR,\n",
    "    'num_train_epochs': 5,\n",
    "    'per_device_train_batch_size': 4,\n",
    "    'per_device_eval_batch_size': 8,\n",
    "    'eval_steps': 100,\n",
    "    'save_steps': 500,\n",
    "    'logging_steps': 100,\n",
    "    'learning_rate': 1e-5,\n",
    "    'warmup_steps': 200,\n",
    "    'load_best_model_at_end': True,\n",
    "    'metric_for_best_model': 'eval_loss',\n",
    "    'save_total_limit': 2,\n",
    "    'fp16': True,\n",
    "    'dataloader_num_workers': 4,\n",
    "    'report_to': 'none',\n",
    "    'label_smoothing_factor': 0.1,\n",
    "    'gradient_accumulation_steps': 12,  # to maintain effective batch size\n",
    "\n",
    "}\n",
    "\n",
    "# Dynamically add supported strategies\n",
    "sig = inspect.signature(TrainingArguments)\n",
    "if 'evaluation_strategy' in sig.parameters and 'save_strategy' in sig.parameters:\n",
    "    base_args['evaluation_strategy'] = 'steps'\n",
    "    base_args['save_strategy'] = 'steps'\n",
    "else:\n",
    "    base_args.pop('load_best_model_at_end', None)\n",
    "    base_args.pop('metric_for_best_model', None)\n",
    "\n",
    "# Add progress bar settings if supported\n",
    "if 'disable_tqdm' in sig.parameters:\n",
    "    base_args['disable_tqdm'] = False\n",
    "if 'progress_bar_refresh_rate' in sig.parameters:\n",
    "    base_args['progress_bar_refresh_rate'] = 20\n",
    "\n",
    "# Initialize TrainingArguments\n",
    "valid_args = {k: v for k, v in base_args.items() if k in sig.parameters}\n",
    "training_args = TrainingArguments(**valid_args)\n",
    "\n",
    "# 🔁 Optional: Try stronger models if F1 plateaus\n",
    "# MODEL_NAME = \"ProsusAI/finbert\"  # financial-news specific FinBERT\n",
    "# MODEL_NAME = \"mrm8488/deberta-v3-small-finetuned-financial-news-sentiment-analysis\"  # smaller DeBERTa finetuned on financial news"
   ]
  },
  {
   "cell_type": "code",
   "execution_count": 46,
   "id": "jLkqZZjhOXGP",
   "metadata": {
    "id": "jLkqZZjhOXGP"
   },
   "outputs": [],
   "source": [
    "# === Metrics ===\n",
    "# Pre-load accuracy and F1 metrics\n",
    "accuracy_metric = evaluate.load('accuracy')\n",
    "f1_metric = evaluate.load('f1')\n",
    "\n",
    "def compute_metrics(eval_pred):\n",
    "    logits, labels = eval_pred\n",
    "    preds = logits.argmax(axis=-1)\n",
    "    # Compute accuracy\n",
    "    acc = accuracy_metric.compute(predictions=preds, references=labels)\n",
    "    # Compute weighted F1 score\n",
    "    f1 = f1_metric.compute(predictions=preds, references=labels, average='weighted')\n",
    "    return {\n",
    "        'accuracy': acc['accuracy'],\n",
    "        'f1': f1['f1']\n",
    "    }"
   ]
  },
  {
   "cell_type": "code",
   "execution_count": 47,
   "id": "0_u9vnMXOgug",
   "metadata": {
    "colab": {
     "base_uri": "https://localhost:8080/",
     "height": 1000,
     "referenced_widgets": [
      "7b6ec8dc57204f6cae4fb96e793504b4",
      "0392a586270743f6be3bf6ad3a896dfd",
      "64a1f846b7f14e82941c7e78fbb8cd3f",
      "49a16abaea804d28b04584b4e4a611b4",
      "bf6a15018e754444a86319a44e5b06f7",
      "065941b91be343a38364a011fe3a99e8",
      "8a65407501874fd08054709a4265ad4a",
      "020939706c6b458e80f92bb65f784038",
      "44cff35fe9d54bdb989aebf047fef287",
      "acc0ef8188614f7584aa2eb584beda20",
      "e90bbcab4cf5403f8558eedbd65c4bda"
     ]
    },
    "id": "0_u9vnMXOgug",
    "outputId": "22865a61-1ad0-4ac7-8c0d-f3e823462fa7"
   },
   "outputs": [
    {
     "data": {
      "application/vnd.jupyter.widget-view+json": {
       "model_id": "7c5c93584105454ba910a681ed5f8d0b",
       "version_major": 2,
       "version_minor": 0
      },
      "text/plain": [
       "  0%|                                                                                                         …"
      ]
     },
     "metadata": {},
     "output_type": "display_data"
    },
    {
     "data": {
      "text/html": [
       "\n",
       "    <div>\n",
       "      \n",
       "      <progress value='1840' max='1840' style='width:300px; height:20px; vertical-align: middle;'></progress>\n",
       "      [1840/1840 32:05, Epoch 5/5]\n",
       "    </div>\n",
       "    <table border=\"1\" class=\"dataframe\">\n",
       "  <thead>\n",
       " <tr style=\"text-align: left;\">\n",
       "      <th>Step</th>\n",
       "      <th>Training Loss</th>\n",
       "    </tr>\n",
       "  </thead>\n",
       "  <tbody>\n",
       "    <tr>\n",
       "      <td>100</td>\n",
       "      <td>1.069700</td>\n",
       "    </tr>\n",
       "    <tr>\n",
       "      <td>200</td>\n",
       "      <td>0.873100</td>\n",
       "    </tr>\n",
       "    <tr>\n",
       "      <td>300</td>\n",
       "      <td>0.676800</td>\n",
       "    </tr>\n",
       "    <tr>\n",
       "      <td>400</td>\n",
       "      <td>0.593700</td>\n",
       "    </tr>\n",
       "    <tr>\n",
       "      <td>500</td>\n",
       "      <td>0.563900</td>\n",
       "    </tr>\n",
       "    <tr>\n",
       "      <td>600</td>\n",
       "      <td>0.550700</td>\n",
       "    </tr>\n",
       "    <tr>\n",
       "      <td>700</td>\n",
       "      <td>0.561900</td>\n",
       "    </tr>\n",
       "    <tr>\n",
       "      <td>800</td>\n",
       "      <td>0.509700</td>\n",
       "    </tr>\n",
       "    <tr>\n",
       "      <td>900</td>\n",
       "      <td>0.503400</td>\n",
       "    </tr>\n",
       "    <tr>\n",
       "      <td>1000</td>\n",
       "      <td>0.507900</td>\n",
       "    </tr>\n",
       "    <tr>\n",
       "      <td>1100</td>\n",
       "      <td>0.498100</td>\n",
       "    </tr>\n",
       "    <tr>\n",
       "      <td>1200</td>\n",
       "      <td>0.469300</td>\n",
       "    </tr>\n",
       "    <tr>\n",
       "      <td>1300</td>\n",
       "      <td>0.461000</td>\n",
       "    </tr>\n",
       "    <tr>\n",
       "      <td>1400</td>\n",
       "      <td>0.463900</td>\n",
       "    </tr>\n",
       "    <tr>\n",
       "      <td>1500</td>\n",
       "      <td>0.447500</td>\n",
       "    </tr>\n",
       "    <tr>\n",
       "      <td>1600</td>\n",
       "      <td>0.443700</td>\n",
       "    </tr>\n",
       "    <tr>\n",
       "      <td>1700</td>\n",
       "      <td>0.449300</td>\n",
       "    </tr>\n",
       "    <tr>\n",
       "      <td>1800</td>\n",
       "      <td>0.433100</td>\n",
       "    </tr>\n",
       "  </tbody>\n",
       "</table><p>"
      ],
      "text/plain": [
       "<IPython.core.display.HTML object>"
      ]
     },
     "metadata": {},
     "output_type": "display_data"
    },
    {
     "name": "stdout",
     "output_type": "stream",
     "text": [
      "{'loss': 1.0697, 'grad_norm': 2.6543445587158203, 'learning_rate': 4.95e-06, 'epoch': 0.27}\n",
      "{'loss': 0.8731, 'grad_norm': 4.500887870788574, 'learning_rate': 9.950000000000001e-06, 'epoch': 0.54}\n",
      "{'loss': 0.6768, 'grad_norm': 3.03271484375, 'learning_rate': 9.396341463414635e-06, 'epoch': 0.82}\n",
      "{'loss': 0.5937, 'grad_norm': 4.5172553062438965, 'learning_rate': 8.78658536585366e-06, 'epoch': 1.09}\n",
      "{'loss': 0.5639, 'grad_norm': 4.236894607543945, 'learning_rate': 8.176829268292684e-06, 'epoch': 1.36}\n",
      "{'loss': 0.5507, 'grad_norm': 5.869775772094727, 'learning_rate': 7.567073170731708e-06, 'epoch': 1.63}\n",
      "{'loss': 0.5619, 'grad_norm': 7.92147159576416, 'learning_rate': 6.957317073170732e-06, 'epoch': 1.9}\n",
      "{'loss': 0.5097, 'grad_norm': 4.2141265869140625, 'learning_rate': 6.347560975609757e-06, 'epoch': 2.17}\n",
      "{'loss': 0.5034, 'grad_norm': 4.910626411437988, 'learning_rate': 5.73780487804878e-06, 'epoch': 2.45}\n",
      "{'loss': 0.5079, 'grad_norm': 4.5337700843811035, 'learning_rate': 5.128048780487806e-06, 'epoch': 2.72}\n",
      "{'loss': 0.4981, 'grad_norm': 5.167683124542236, 'learning_rate': 4.51829268292683e-06, 'epoch': 2.99}\n",
      "{'loss': 0.4693, 'grad_norm': 3.805459499359131, 'learning_rate': 3.908536585365854e-06, 'epoch': 3.26}\n",
      "{'loss': 0.461, 'grad_norm': 4.951625347137451, 'learning_rate': 3.2987804878048784e-06, 'epoch': 3.53}\n",
      "{'loss': 0.4639, 'grad_norm': 4.607050895690918, 'learning_rate': 2.689024390243903e-06, 'epoch': 3.81}\n",
      "{'loss': 0.4475, 'grad_norm': 4.107079982757568, 'learning_rate': 2.079268292682927e-06, 'epoch': 4.08}\n",
      "{'loss': 0.4437, 'grad_norm': 6.338596820831299, 'learning_rate': 1.4695121951219513e-06, 'epoch': 4.35}\n",
      "{'loss': 0.4493, 'grad_norm': 4.825439453125, 'learning_rate': 8.597560975609756e-07, 'epoch': 4.62}\n",
      "{'loss': 0.4331, 'grad_norm': 4.034980297088623, 'learning_rate': 2.5000000000000004e-07, 'epoch': 4.89}\n",
      "{'train_runtime': 1926.7789, 'train_samples_per_second': 45.784, 'train_steps_per_second': 0.955, 'train_loss': 0.5568815822186677, 'epoch': 5.0}\n"
     ]
    },
    {
     "data": {
      "text/plain": [
       "TrainOutput(global_step=1840, training_loss=0.5568815822186677, metrics={'train_runtime': 1926.7789, 'train_samples_per_second': 45.784, 'train_steps_per_second': 0.955, 'total_flos': 2.311710516716796e+16, 'train_loss': 0.5568815822186677, 'epoch': 5.0})"
      ]
     },
     "execution_count": 47,
     "metadata": {},
     "output_type": "execute_result"
    }
   ],
   "source": [
    "# === Trainer ===\n",
    "trainer = Trainer(\n",
    "    model=model,\n",
    "    args=training_args,\n",
    "    train_dataset=train_ds,\n",
    "    eval_dataset=eval_ds,\n",
    "    tokenizer=tokenizer,\n",
    "    compute_metrics=compute_metrics,\n",
    "    callbacks=[ProgressCallback()]\n",
    ")\n",
    "\n",
    "# === Start training ===\n",
    "trainer.train()"
   ]
  },
  {
   "cell_type": "code",
   "execution_count": 48,
   "id": "wDEkLxhYUq4L",
   "metadata": {
    "colab": {
     "base_uri": "https://localhost:8080/",
     "height": 245,
     "referenced_widgets": [
      "7b944346b67f40cc95a01ea1caf25985",
      "62faff31c8d94f69bc7fc14f2a1b1081",
      "f4391f0b77d04b379e8de69be247c585",
      "455ee4188edb4b51bc54f3ff90a8eebc",
      "a7770dff788043bcbfa4372609e23d34",
      "0daed41c2f6c4b6aad685cc68d62e181",
      "09492fe6b82045d89dd8eba8f27258d5",
      "b32f7356f5394e2fb3ce1732facb7810",
      "4d1553b546c0445ea63cbb4855bc5b67",
      "163c937458d24cfb9663365817585522",
      "75c844e71ccc48ffa197c60e92a4e410"
     ]
    },
    "id": "wDEkLxhYUq4L",
    "outputId": "49cb7f08-335c-4715-ee2b-223d805d5487"
   },
   "outputs": [
    {
     "data": {
      "application/vnd.jupyter.widget-view+json": {
       "model_id": "c51e4d3f4c864d0da4e67807ed0b510a",
       "version_major": 2,
       "version_minor": 0
      },
      "text/plain": [
       "  0%|                                                                                                         …"
      ]
     },
     "metadata": {},
     "output_type": "display_data"
    },
    {
     "data": {
      "text/html": [
       "\n",
       "    <div>\n",
       "      \n",
       "      <progress value='163' max='163' style='width:300px; height:20px; vertical-align: middle;'></progress>\n",
       "      [163/163 00:06]\n",
       "    </div>\n",
       "    "
      ],
      "text/plain": [
       "<IPython.core.display.HTML object>"
      ]
     },
     "metadata": {},
     "output_type": "display_data"
    },
    {
     "data": {
      "text/plain": [
       "{'eval_loss': 0.9719311594963074,\n",
       " 'eval_accuracy': 0.7372881355932204,\n",
       " 'eval_f1': 0.7480227714737209,\n",
       " 'eval_runtime': 6.4034,\n",
       " 'eval_samples_per_second': 202.704,\n",
       " 'eval_steps_per_second': 25.455,\n",
       " 'epoch': 5.0}"
      ]
     },
     "execution_count": 48,
     "metadata": {},
     "output_type": "execute_result"
    }
   ],
   "source": [
    "# === Evaluate ===\n",
    "trainer.evaluate()"
   ]
  },
  {
   "cell_type": "code",
   "execution_count": 31,
   "id": "EGEVODwcOigZ",
   "metadata": {
    "colab": {
     "base_uri": "https://localhost:8080/"
    },
    "id": "EGEVODwcOigZ",
    "outputId": "c1b10122-6110-47fe-9a3e-9d7a36efa068"
   },
   "outputs": [
    {
     "name": "stdout",
     "output_type": "stream",
     "text": [
      "Model and checkpoints saved to: ./deberta_filings\n"
     ]
    }
   ],
   "source": [
    "# === Save Final Model ===\n",
    "OUTPUT_DIR = \"./deberta_filings\"\n",
    "trainer.save_model(OUTPUT_DIR)\n",
    "tokenizer.save_pretrained(OUTPUT_DIR)\n",
    "print(f\"Model and checkpoints saved to: {OUTPUT_DIR}\")"
   ]
  },
  {
   "cell_type": "code",
   "execution_count": 32,
   "id": "4_SWWlWz5hVR",
   "metadata": {
    "id": "4_SWWlWz5hVR"
   },
   "outputs": [
    {
     "data": {
      "application/vnd.jupyter.widget-view+json": {
       "model_id": "0ef20f9e064e43f3b7fa41a68f3137d6",
       "version_major": 2,
       "version_minor": 0
      },
      "text/plain": [
       "  0%|                                                                                                         …"
      ]
     },
     "metadata": {},
     "output_type": "display_data"
    },
    {
     "name": "stdout",
     "output_type": "stream",
     "text": [
      "\n",
      "📊 Evaluation Metrics:\n",
      "eval_loss: 0.8676\n",
      "eval_accuracy: 0.7635\n",
      "eval_f1: 0.7714\n",
      "eval_runtime: 6.8104\n",
      "eval_samples_per_second: 190.5910\n",
      "eval_steps_per_second: 23.9340\n",
      "epoch: 5.0000\n"
     ]
    },
    {
     "data": {
      "application/vnd.jupyter.widget-view+json": {
       "model_id": "670b6b7ee148433980664cdbfa3c0891",
       "version_major": 2,
       "version_minor": 0
      },
      "text/plain": [
       "  0%|                                                                                                         …"
      ]
     },
     "metadata": {},
     "output_type": "display_data"
    }
   ],
   "source": [
    "# === Evaluate ===\n",
    "results = trainer.evaluate()\n",
    "\n",
    "# Print nicely\n",
    "print(\"\\n📊 Evaluation Metrics:\")\n",
    "for key, value in results.items():\n",
    "    print(f\"{key}: {value:.4f}\")\n",
    "\n",
    "# Run predictions on the evaluation dataset\n",
    "predictions = trainer.predict(eval_ds)\n",
    "pred_labels = predictions.predictions.argmax(axis=-1)\n",
    "true_labels = predictions.label_ids"
   ]
  },
  {
   "cell_type": "code",
   "execution_count": 33,
   "id": "7bdffd1b-fd21-4df4-ac47-629ec99d0519",
   "metadata": {},
   "outputs": [
    {
     "name": "stdout",
     "output_type": "stream",
     "text": [
      "[SUCCESS] Confusion matrix with metrics saved as 'confusion_matrix_eval_filings_deberta.png'\n",
      "\n",
      "📋 Classification Report:\n",
      "              precision    recall  f1-score   support\n",
      "\n",
      "     Neutral       0.76      0.53      0.62       390\n",
      "    Positive       0.47      0.92      0.62       205\n",
      "    Negative       0.95      0.85      0.90       703\n",
      "\n",
      "    accuracy                           0.76      1298\n",
      "   macro avg       0.73      0.77      0.71      1298\n",
      "weighted avg       0.82      0.76      0.77      1298\n",
      "\n"
     ]
    },
    {
     "data": {
      "image/png": "[encoded data removed]",
      "text/plain": [
       "<Figure size 640x480 with 2 Axes>"
      ]
     },
     "metadata": {},
     "output_type": "display_data"
    }
   ],
   "source": [
    "# === Compute metrics ===\n",
    "accuracy = accuracy_score(true_labels, pred_labels)\n",
    "f1 = f1_score(true_labels, pred_labels, average='weighted')\n",
    "\n",
    "# Compute confusion matrix\n",
    "cm = confusion_matrix(true_labels, pred_labels)\n",
    "disp = ConfusionMatrixDisplay(confusion_matrix=cm, display_labels=[\"Neutral\", \"Positive\", \"Negative\"])\n",
    "disp.plot(cmap='Blues')\n",
    "\n",
    "# === Add accuracy and F1 to the plot ===\n",
    "plt.title(\"Confusion Matrix: Deberta Evaluation - Filings\")\n",
    "plt.text(\n",
    "    2.1, -0.5,  # x, y position (tweak as needed)\n",
    "    f\"Accuracy: {accuracy:.2%}\\nF1 Score: {f1:.2%}\",\n",
    "    fontsize=10,\n",
    "    ha='right',\n",
    "    va='top',\n",
    "    bbox=dict(facecolor='white', edgecolor='black', boxstyle='round,pad=0.5')\n",
    ")\n",
    "\n",
    "plt.tight_layout()\n",
    "plt.savefig(\"confusion_matrix_eval_filings_deberta.png\")\n",
    "print(\"[SUCCESS] Confusion matrix with metrics saved as 'confusion_matrix_eval_filings_deberta.png'\")\n",
    "\n",
    "# === Detailed classification report ===\n",
    "from sklearn.metrics import classification_report\n",
    "print(\"\\n📋 Classification Report:\")\n",
    "print(classification_report(true_labels, pred_labels, target_names=[\"Neutral\", \"Positive\", \"Negative\"]))"
   ]
  },
  {
   "cell_type": "code",
   "execution_count": 34,
   "id": "3b381eaa-69f9-4a6f-be8f-fd4db76f0f3a",
   "metadata": {},
   "outputs": [
    {
     "name": "stdout",
     "output_type": "stream",
     "text": [
      "[UPLOAD] ./deberta_filings/tokenizer.json → gs://diss_market_data/deberta_filings/tokenizer.json\n",
      "[UPLOAD] ./deberta_filings/config.json → gs://diss_market_data/deberta_filings/config.json\n",
      "[UPLOAD] ./deberta_filings/tokenizer_config.json → gs://diss_market_data/deberta_filings/tokenizer_config.json\n",
      "[UPLOAD] ./deberta_filings/spm.model → gs://diss_market_data/deberta_filings/spm.model\n",
      "[UPLOAD] ./deberta_filings/special_tokens_map.json → gs://diss_market_data/deberta_filings/special_tokens_map.json\n",
      "[UPLOAD] ./deberta_filings/added_tokens.json → gs://diss_market_data/deberta_filings/added_tokens.json\n",
      "[UPLOAD] ./deberta_filings/training_args.bin → gs://diss_market_data/deberta_filings/training_args.bin\n",
      "[UPLOAD] ./deberta_filings/model.safetensors → gs://diss_market_data/deberta_filings/model.safetensors\n",
      "[DONE] Model uploaded to gs://diss_market_data/deberta_filings\n"
     ]
    }
   ],
   "source": [
    "def upload_directory_to_gcs(local_dir, bucket_name, destination_dir):\n",
    "    client = storage.Client()\n",
    "    bucket = client.bucket(bucket_name)\n",
    "\n",
    "    for root, _, files in os.walk(local_dir):\n",
    "        for file in files:\n",
    "            local_path = os.path.join(root, file)\n",
    "            relative_path = os.path.relpath(local_path, local_dir)\n",
    "            gcs_path = os.path.join(destination_dir, relative_path)\n",
    "\n",
    "            blob = bucket.blob(gcs_path)\n",
    "            blob.upload_from_filename(local_path)\n",
    "            print(f\"[UPLOAD] {local_path} → gs://{bucket_name}/{gcs_path}\")\n",
    "\n",
    "# === Upload Model Directory to GCS ===\n",
    "GCS_BUCKET = \"diss_market_data\"\n",
    "GCS_MODEL_PATH = \"deberta_filings\"\n",
    "upload_directory_to_gcs(OUTPUT_DIR, GCS_BUCKET, GCS_MODEL_PATH)\n",
    "print(f\"[DONE] Model uploaded to gs://{GCS_BUCKET}/{GCS_MODEL_PATH}\")"
   ]
  },
  {
   "cell_type": "code",
   "execution_count": null,
   "id": "29478da9-b5e5-455a-a429-af8753fece25",
   "metadata": {},
   "outputs": [],
   "source": []
  }
 ],
 "metadata": {
  "accelerator": "GPU",
  "colab": {
   "gpuType": "T4",
   "provenance": []
  },
  "environment": {
   "kernel": "conda-env-pytorch-pytorch",
   "name": "workbench-notebooks.m130",
   "type": "gcloud",
   "uri": "us-docker.pkg.dev/deeplearning-platform-release/gcr.io/workbench-notebooks:m130"
  },
  "kernelspec": {
   "display_name": "Python (fusionnet)",
   "language": "python",
   "name": "fusionnet"
  },
  "language_info": {
   "codemirror_mode": {
    "name": "ipython",
    "version": 3
   },
   "file_extension": ".py",
   "mimetype": "text/x-python",
   "name": "python",
   "nbconvert_exporter": "python",
   "pygments_lexer": "ipython3",
   "version": "3.10.18"
  },
  "widgets": {
   "application/vnd.jupyter.widget-state+json": {
    "020939706c6b458e80f92bb65f784038": {
     "model_module": "@jupyter-widgets/base",
     "model_module_version": "1.2.0",
     "model_name": "LayoutModel",
     "state": {
      "_model_module": "@jupyter-widgets/base",
      "_model_module_version": "1.2.0",
      "_model_name": "LayoutModel",
      "_view_count": null,
      "_view_module": "@jupyter-widgets/base",
      "_view_module_version": "1.2.0",
      "_view_name": "LayoutView",
      "align_content": null,
      "align_items": null,
      "align_self": null,
      "border": null,
      "bottom": null,
      "display": null,
      "flex": "2",
      "flex_flow": null,
      "grid_area": null,
      "grid_auto_columns": null,
      "grid_auto_flow": null,
      "grid_auto_rows": null,
      "grid_column": null,
      "grid_gap": null,
      "grid_row": null,
      "grid_template_areas": null,
      "grid_template_columns": null,
      "grid_template_rows": null,
      "height": null,
      "justify_content": null,
      "justify_items": null,
      "left": null,
      "margin": null,
      "max_height": null,
      "max_width": null,
      "min_height": null,
      "min_width": null,
      "object_fit": null,
      "object_position": null,
      "order": null,
      "overflow": null,
      "overflow_x": null,
      "overflow_y": null,
      "padding": null,
      "right": null,
      "top": null,
      "visibility": null,
      "width": null
     }
    },
    "0392a586270743f6be3bf6ad3a896dfd": {
     "model_module": "@jupyter-widgets/controls",
     "model_module_version": "1.5.0",
     "model_name": "HTMLModel",
     "state": {
      "_dom_classes": [],
      "_model_module": "@jupyter-widgets/controls",
      "_model_module_version": "1.5.0",
      "_model_name": "HTMLModel",
      "_view_count": null,
      "_view_module": "@jupyter-widgets/controls",
      "_view_module_version": "1.5.0",
      "_view_name": "HTMLView",
      "description": "",
      "description_tooltip": null,
      "layout": "IPY_MODEL_065941b91be343a38364a011fe3a99e8",
      "placeholder": "​",
      "style": "IPY_MODEL_8a65407501874fd08054709a4265ad4a",
      "value": "100%"
     }
    },
    "065941b91be343a38364a011fe3a99e8": {
     "model_module": "@jupyter-widgets/base",
     "model_module_version": "1.2.0",
     "model_name": "LayoutModel",
     "state": {
      "_model_module": "@jupyter-widgets/base",
      "_model_module_version": "1.2.0",
      "_model_name": "LayoutModel",
      "_view_count": null,
      "_view_module": "@jupyter-widgets/base",
      "_view_module_version": "1.2.0",
      "_view_name": "LayoutView",
      "align_content": null,
      "align_items": null,
      "align_self": null,
      "border": null,
      "bottom": null,
      "display": null,
      "flex": null,
      "flex_flow": null,
      "grid_area": null,
      "grid_auto_columns": null,
      "grid_auto_flow": null,
      "grid_auto_rows": null,
      "grid_column": null,
      "grid_gap": null,
      "grid_row": null,
      "grid_template_areas": null,
      "grid_template_columns": null,
      "grid_template_rows": null,
      "height": null,
      "justify_content": null,
      "justify_items": null,
      "left": null,
      "margin": null,
      "max_height": null,
      "max_width": null,
      "min_height": null,
      "min_width": null,
      "object_fit": null,
      "object_position": null,
      "order": null,
      "overflow": null,
      "overflow_x": null,
      "overflow_y": null,
      "padding": null,
      "right": null,
      "top": null,
      "visibility": null,
      "width": null
     }
    },
    "09492fe6b82045d89dd8eba8f27258d5": {
     "model_module": "@jupyter-widgets/controls",
     "model_module_version": "1.5.0",
     "model_name": "DescriptionStyleModel",
     "state": {
      "_model_module": "@jupyter-widgets/controls",
      "_model_module_version": "1.5.0",
      "_model_name": "DescriptionStyleModel",
      "_view_count": null,
      "_view_module": "@jupyter-widgets/base",
      "_view_module_version": "1.2.0",
      "_view_name": "StyleView",
      "description_width": ""
     }
    },
    "0daed41c2f6c4b6aad685cc68d62e181": {
     "model_module": "@jupyter-widgets/base",
     "model_module_version": "1.2.0",
     "model_name": "LayoutModel",
     "state": {
      "_model_module": "@jupyter-widgets/base",
      "_model_module_version": "1.2.0",
      "_model_name": "LayoutModel",
      "_view_count": null,
      "_view_module": "@jupyter-widgets/base",
      "_view_module_version": "1.2.0",
      "_view_name": "LayoutView",
      "align_content": null,
      "align_items": null,
      "align_self": null,
      "border": null,
      "bottom": null,
      "display": null,
      "flex": null,
      "flex_flow": null,
      "grid_area": null,
      "grid_auto_columns": null,
      "grid_auto_flow": null,
      "grid_auto_rows": null,
      "grid_column": null,
      "grid_gap": null,
      "grid_row": null,
      "grid_template_areas": null,
      "grid_template_columns": null,
      "grid_template_rows": null,
      "height": null,
      "justify_content": null,
      "justify_items": null,
      "left": null,
      "margin": null,
      "max_height": null,
      "max_width": null,
      "min_height": null,
      "min_width": null,
      "object_fit": null,
      "object_position": null,
      "order": null,
      "overflow": null,
      "overflow_x": null,
      "overflow_y": null,
      "padding": null,
      "right": null,
      "top": null,
      "visibility": null,
      "width": null
     }
    },
    "163c937458d24cfb9663365817585522": {
     "model_module": "@jupyter-widgets/base",
     "model_module_version": "1.2.0",
     "model_name": "LayoutModel",
     "state": {
      "_model_module": "@jupyter-widgets/base",
      "_model_module_version": "1.2.0",
      "_model_name": "LayoutModel",
      "_view_count": null,
      "_view_module": "@jupyter-widgets/base",
      "_view_module_version": "1.2.0",
      "_view_name": "LayoutView",
      "align_content": null,
      "align_items": null,
      "align_self": null,
      "border": null,
      "bottom": null,
      "display": null,
      "flex": null,
      "flex_flow": null,
      "grid_area": null,
      "grid_auto_columns": null,
      "grid_auto_flow": null,
      "grid_auto_rows": null,
      "grid_column": null,
      "grid_gap": null,
      "grid_row": null,
      "grid_template_areas": null,
      "grid_template_columns": null,
      "grid_template_rows": null,
      "height": null,
      "justify_content": null,
      "justify_items": null,
      "left": null,
      "margin": null,
      "max_height": null,
      "max_width": null,
      "min_height": null,
      "min_width": null,
      "object_fit": null,
      "object_position": null,
      "order": null,
      "overflow": null,
      "overflow_x": null,
      "overflow_y": null,
      "padding": null,
      "right": null,
      "top": null,
      "visibility": null,
      "width": null
     }
    },
    "16cc9e45fd0a4fb5a3c9bfa09e78e72f": {
     "model_module": "@jupyter-widgets/base",
     "model_module_version": "1.2.0",
     "model_name": "LayoutModel",
     "state": {
      "_model_module": "@jupyter-widgets/base",
      "_model_module_version": "1.2.0",
      "_model_name": "LayoutModel",
      "_view_count": null,
      "_view_module": "@jupyter-widgets/base",
      "_view_module_version": "1.2.0",
      "_view_name": "LayoutView",
      "align_content": null,
      "align_items": null,
      "align_self": null,
      "border": null,
      "bottom": null,
      "display": null,
      "flex": null,
      "flex_flow": null,
      "grid_area": null,
      "grid_auto_columns": null,
      "grid_auto_flow": null,
      "grid_auto_rows": null,
      "grid_column": null,
      "grid_gap": null,
      "grid_row": null,
      "grid_template_areas": null,
      "grid_template_columns": null,
      "grid_template_rows": null,
      "height": null,
      "justify_content": null,
      "justify_items": null,
      "left": null,
      "margin": null,
      "max_height": null,
      "max_width": null,
      "min_height": null,
      "min_width": null,
      "object_fit": null,
      "object_position": null,
      "order": null,
      "overflow": null,
      "overflow_x": null,
      "overflow_y": null,
      "padding": null,
      "right": null,
      "top": null,
      "visibility": null,
      "width": null
     }
    },
    "2a901bd6909742b7aa067e8edf7155b5": {
     "model_module": "@jupyter-widgets/controls",
     "model_module_version": "1.5.0",
     "model_name": "FloatProgressModel",
     "state": {
      "_dom_classes": [],
      "_model_module": "@jupyter-widgets/controls",
      "_model_module_version": "1.5.0",
      "_model_name": "FloatProgressModel",
      "_view_count": null,
      "_view_module": "@jupyter-widgets/controls",
      "_view_module_version": "1.5.0",
      "_view_name": "ProgressView",
      "bar_style": "success",
      "description": "",
      "description_tooltip": null,
      "layout": "IPY_MODEL_e5b5094035cd4e319afe0b457e66c310",
      "max": 29282,
      "min": 0,
      "orientation": "horizontal",
      "style": "IPY_MODEL_d3d9a9ac65c242f6bdb1d5ac7d0e552a",
      "value": 29282
     }
    },
    "44cff35fe9d54bdb989aebf047fef287": {
     "model_module": "@jupyter-widgets/controls",
     "model_module_version": "1.5.0",
     "model_name": "ProgressStyleModel",
     "state": {
      "_model_module": "@jupyter-widgets/controls",
      "_model_module_version": "1.5.0",
      "_model_name": "ProgressStyleModel",
      "_view_count": null,
      "_view_module": "@jupyter-widgets/base",
      "_view_module_version": "1.2.0",
      "_view_name": "StyleView",
      "bar_color": null,
      "description_width": ""
     }
    },
    "455ee4188edb4b51bc54f3ff90a8eebc": {
     "model_module": "@jupyter-widgets/controls",
     "model_module_version": "1.5.0",
     "model_name": "HTMLModel",
     "state": {
      "_dom_classes": [],
      "_model_module": "@jupyter-widgets/controls",
      "_model_module_version": "1.5.0",
      "_model_name": "HTMLModel",
      "_view_count": null,
      "_view_module": "@jupyter-widgets/controls",
      "_view_module_version": "1.5.0",
      "_view_name": "HTMLView",
      "description": "",
      "description_tooltip": null,
      "layout": "IPY_MODEL_163c937458d24cfb9663365817585522",
      "placeholder": "​",
      "style": "IPY_MODEL_75c844e71ccc48ffa197c60e92a4e410",
      "value": " 46/46 [00:19&lt;00:00,  2.26it/s]"
     }
    },
    "49a16abaea804d28b04584b4e4a611b4": {
     "model_module": "@jupyter-widgets/controls",
     "model_module_version": "1.5.0",
     "model_name": "HTMLModel",
     "state": {
      "_dom_classes": [],
      "_model_module": "@jupyter-widgets/controls",
      "_model_module_version": "1.5.0",
      "_model_name": "HTMLModel",
      "_view_count": null,
      "_view_module": "@jupyter-widgets/controls",
      "_view_module_version": "1.5.0",
      "_view_name": "HTMLView",
      "description": "",
      "description_tooltip": null,
      "layout": "IPY_MODEL_acc0ef8188614f7584aa2eb584beda20",
      "placeholder": "​",
      "style": "IPY_MODEL_e90bbcab4cf5403f8558eedbd65c4bda",
      "value": " 2472/2472 [33:19&lt;00:00,  1.42it/s]"
     }
    },
    "4d1553b546c0445ea63cbb4855bc5b67": {
     "model_module": "@jupyter-widgets/controls",
     "model_module_version": "1.5.0",
     "model_name": "ProgressStyleModel",
     "state": {
      "_model_module": "@jupyter-widgets/controls",
      "_model_module_version": "1.5.0",
      "_model_name": "ProgressStyleModel",
      "_view_count": null,
      "_view_module": "@jupyter-widgets/base",
      "_view_module_version": "1.2.0",
      "_view_name": "StyleView",
      "bar_color": null,
      "description_width": ""
     }
    },
    "5e7fcb41a6b1438696f944d2734cbef9": {
     "model_module": "@jupyter-widgets/base",
     "model_module_version": "1.2.0",
     "model_name": "LayoutModel",
     "state": {
      "_model_module": "@jupyter-widgets/base",
      "_model_module_version": "1.2.0",
      "_model_name": "LayoutModel",
      "_view_count": null,
      "_view_module": "@jupyter-widgets/base",
      "_view_module_version": "1.2.0",
      "_view_name": "LayoutView",
      "align_content": null,
      "align_items": null,
      "align_self": null,
      "border": null,
      "bottom": null,
      "display": null,
      "flex": null,
      "flex_flow": null,
      "grid_area": null,
      "grid_auto_columns": null,
      "grid_auto_flow": null,
      "grid_auto_rows": null,
      "grid_column": null,
      "grid_gap": null,
      "grid_row": null,
      "grid_template_areas": null,
      "grid_template_columns": null,
      "grid_template_rows": null,
      "height": null,
      "justify_content": null,
      "justify_items": null,
      "left": null,
      "margin": null,
      "max_height": null,
      "max_width": null,
      "min_height": null,
      "min_width": null,
      "object_fit": null,
      "object_position": null,
      "order": null,
      "overflow": null,
      "overflow_x": null,
      "overflow_y": null,
      "padding": null,
      "right": null,
      "top": null,
      "visibility": null,
      "width": null
     }
    },
    "6052e67d217d4c59867dc0b11c6d73a8": {
     "model_module": "@jupyter-widgets/base",
     "model_module_version": "1.2.0",
     "model_name": "LayoutModel",
     "state": {
      "_model_module": "@jupyter-widgets/base",
      "_model_module_version": "1.2.0",
      "_model_name": "LayoutModel",
      "_view_count": null,
      "_view_module": "@jupyter-widgets/base",
      "_view_module_version": "1.2.0",
      "_view_name": "LayoutView",
      "align_content": null,
      "align_items": null,
      "align_self": null,
      "border": null,
      "bottom": null,
      "display": null,
      "flex": null,
      "flex_flow": null,
      "grid_area": null,
      "grid_auto_columns": null,
      "grid_auto_flow": null,
      "grid_auto_rows": null,
      "grid_column": null,
      "grid_gap": null,
      "grid_row": null,
      "grid_template_areas": null,
      "grid_template_columns": null,
      "grid_template_rows": null,
      "height": null,
      "justify_content": null,
      "justify_items": null,
      "left": null,
      "margin": null,
      "max_height": null,
      "max_width": null,
      "min_height": null,
      "min_width": null,
      "object_fit": null,
      "object_position": null,
      "order": null,
      "overflow": null,
      "overflow_x": null,
      "overflow_y": null,
      "padding": null,
      "right": null,
      "top": null,
      "visibility": null,
      "width": null
     }
    },
    "62faff31c8d94f69bc7fc14f2a1b1081": {
     "model_module": "@jupyter-widgets/controls",
     "model_module_version": "1.5.0",
     "model_name": "HTMLModel",
     "state": {
      "_dom_classes": [],
      "_model_module": "@jupyter-widgets/controls",
      "_model_module_version": "1.5.0",
      "_model_name": "HTMLModel",
      "_view_count": null,
      "_view_module": "@jupyter-widgets/controls",
      "_view_module_version": "1.5.0",
      "_view_name": "HTMLView",
      "description": "",
      "description_tooltip": null,
      "layout": "IPY_MODEL_0daed41c2f6c4b6aad685cc68d62e181",
      "placeholder": "​",
      "style": "IPY_MODEL_09492fe6b82045d89dd8eba8f27258d5",
      "value": "100%"
     }
    },
    "640ce243de1b4ebfa35f276eb8be5ca9": {
     "model_module": "@jupyter-widgets/controls",
     "model_module_version": "1.5.0",
     "model_name": "DescriptionStyleModel",
     "state": {
      "_model_module": "@jupyter-widgets/controls",
      "_model_module_version": "1.5.0",
      "_model_name": "DescriptionStyleModel",
      "_view_count": null,
      "_view_module": "@jupyter-widgets/base",
      "_view_module_version": "1.2.0",
      "_view_name": "StyleView",
      "description_width": ""
     }
    },
    "64a1f846b7f14e82941c7e78fbb8cd3f": {
     "model_module": "@jupyter-widgets/controls",
     "model_module_version": "1.5.0",
     "model_name": "FloatProgressModel",
     "state": {
      "_dom_classes": [],
      "_model_module": "@jupyter-widgets/controls",
      "_model_module_version": "1.5.0",
      "_model_name": "FloatProgressModel",
      "_view_count": null,
      "_view_module": "@jupyter-widgets/controls",
      "_view_module_version": "1.5.0",
      "_view_name": "ProgressView",
      "bar_style": "success",
      "description": "",
      "description_tooltip": null,
      "layout": "IPY_MODEL_020939706c6b458e80f92bb65f784038",
      "max": 2472,
      "min": 0,
      "orientation": "horizontal",
      "style": "IPY_MODEL_44cff35fe9d54bdb989aebf047fef287",
      "value": 2472
     }
    },
    "66ebee23711a4cc7acf0ab91728666a2": {
     "model_module": "@jupyter-widgets/controls",
     "model_module_version": "1.5.0",
     "model_name": "HBoxModel",
     "state": {
      "_dom_classes": [],
      "_model_module": "@jupyter-widgets/controls",
      "_model_module_version": "1.5.0",
      "_model_name": "HBoxModel",
      "_view_count": null,
      "_view_module": "@jupyter-widgets/controls",
      "_view_module_version": "1.5.0",
      "_view_name": "HBoxView",
      "box_style": "",
      "children": [
       "IPY_MODEL_e54af440156847e181f3032bd72704e1",
       "IPY_MODEL_2a901bd6909742b7aa067e8edf7155b5",
       "IPY_MODEL_c1b2afec669c438d8a05734cc78be69b"
      ],
      "layout": "IPY_MODEL_16cc9e45fd0a4fb5a3c9bfa09e78e72f"
     }
    },
    "75c844e71ccc48ffa197c60e92a4e410": {
     "model_module": "@jupyter-widgets/controls",
     "model_module_version": "1.5.0",
     "model_name": "DescriptionStyleModel",
     "state": {
      "_model_module": "@jupyter-widgets/controls",
      "_model_module_version": "1.5.0",
      "_model_name": "DescriptionStyleModel",
      "_view_count": null,
      "_view_module": "@jupyter-widgets/base",
      "_view_module_version": "1.2.0",
      "_view_name": "StyleView",
      "description_width": ""
     }
    },
    "7b6ec8dc57204f6cae4fb96e793504b4": {
     "model_module": "@jupyter-widgets/controls",
     "model_module_version": "1.5.0",
     "model_name": "HBoxModel",
     "state": {
      "_dom_classes": [],
      "_model_module": "@jupyter-widgets/controls",
      "_model_module_version": "1.5.0",
      "_model_name": "HBoxModel",
      "_view_count": null,
      "_view_module": "@jupyter-widgets/controls",
      "_view_module_version": "1.5.0",
      "_view_name": "HBoxView",
      "box_style": "",
      "children": [
       "IPY_MODEL_0392a586270743f6be3bf6ad3a896dfd",
       "IPY_MODEL_64a1f846b7f14e82941c7e78fbb8cd3f",
       "IPY_MODEL_49a16abaea804d28b04584b4e4a611b4"
      ],
      "layout": "IPY_MODEL_bf6a15018e754444a86319a44e5b06f7"
     }
    },
    "7b944346b67f40cc95a01ea1caf25985": {
     "model_module": "@jupyter-widgets/controls",
     "model_module_version": "1.5.0",
     "model_name": "HBoxModel",
     "state": {
      "_dom_classes": [],
      "_model_module": "@jupyter-widgets/controls",
      "_model_module_version": "1.5.0",
      "_model_name": "HBoxModel",
      "_view_count": null,
      "_view_module": "@jupyter-widgets/controls",
      "_view_module_version": "1.5.0",
      "_view_name": "HBoxView",
      "box_style": "",
      "children": [
       "IPY_MODEL_62faff31c8d94f69bc7fc14f2a1b1081",
       "IPY_MODEL_f4391f0b77d04b379e8de69be247c585",
       "IPY_MODEL_455ee4188edb4b51bc54f3ff90a8eebc"
      ],
      "layout": "IPY_MODEL_a7770dff788043bcbfa4372609e23d34"
     }
    },
    "8a65407501874fd08054709a4265ad4a": {
     "model_module": "@jupyter-widgets/controls",
     "model_module_version": "1.5.0",
     "model_name": "DescriptionStyleModel",
     "state": {
      "_model_module": "@jupyter-widgets/controls",
      "_model_module_version": "1.5.0",
      "_model_name": "DescriptionStyleModel",
      "_view_count": null,
      "_view_module": "@jupyter-widgets/base",
      "_view_module_version": "1.2.0",
      "_view_name": "StyleView",
      "description_width": ""
     }
    },
    "a7770dff788043bcbfa4372609e23d34": {
     "model_module": "@jupyter-widgets/base",
     "model_module_version": "1.2.0",
     "model_name": "LayoutModel",
     "state": {
      "_model_module": "@jupyter-widgets/base",
      "_model_module_version": "1.2.0",
      "_model_name": "LayoutModel",
      "_view_count": null,
      "_view_module": "@jupyter-widgets/base",
      "_view_module_version": "1.2.0",
      "_view_name": "LayoutView",
      "align_content": null,
      "align_items": null,
      "align_self": null,
      "border": null,
      "bottom": null,
      "display": "inline-flex",
      "flex": null,
      "flex_flow": "row wrap",
      "grid_area": null,
      "grid_auto_columns": null,
      "grid_auto_flow": null,
      "grid_auto_rows": null,
      "grid_column": null,
      "grid_gap": null,
      "grid_row": null,
      "grid_template_areas": null,
      "grid_template_columns": null,
      "grid_template_rows": null,
      "height": null,
      "justify_content": null,
      "justify_items": null,
      "left": null,
      "margin": null,
      "max_height": null,
      "max_width": null,
      "min_height": null,
      "min_width": null,
      "object_fit": null,
      "object_position": null,
      "order": null,
      "overflow": null,
      "overflow_x": null,
      "overflow_y": null,
      "padding": null,
      "right": null,
      "top": null,
      "visibility": null,
      "width": "100%"
     }
    },
    "acc0ef8188614f7584aa2eb584beda20": {
     "model_module": "@jupyter-widgets/base",
     "model_module_version": "1.2.0",
     "model_name": "LayoutModel",
     "state": {
      "_model_module": "@jupyter-widgets/base",
      "_model_module_version": "1.2.0",
      "_model_name": "LayoutModel",
      "_view_count": null,
      "_view_module": "@jupyter-widgets/base",
      "_view_module_version": "1.2.0",
      "_view_name": "LayoutView",
      "align_content": null,
      "align_items": null,
      "align_self": null,
      "border": null,
      "bottom": null,
      "display": null,
      "flex": null,
      "flex_flow": null,
      "grid_area": null,
      "grid_auto_columns": null,
      "grid_auto_flow": null,
      "grid_auto_rows": null,
      "grid_column": null,
      "grid_gap": null,
      "grid_row": null,
      "grid_template_areas": null,
      "grid_template_columns": null,
      "grid_template_rows": null,
      "height": null,
      "justify_content": null,
      "justify_items": null,
      "left": null,
      "margin": null,
      "max_height": null,
      "max_width": null,
      "min_height": null,
      "min_width": null,
      "object_fit": null,
      "object_position": null,
      "order": null,
      "overflow": null,
      "overflow_x": null,
      "overflow_y": null,
      "padding": null,
      "right": null,
      "top": null,
      "visibility": null,
      "width": null
     }
    },
    "b251b536d87948a49325b0c831c1b87b": {
     "model_module": "@jupyter-widgets/controls",
     "model_module_version": "1.5.0",
     "model_name": "DescriptionStyleModel",
     "state": {
      "_model_module": "@jupyter-widgets/controls",
      "_model_module_version": "1.5.0",
      "_model_name": "DescriptionStyleModel",
      "_view_count": null,
      "_view_module": "@jupyter-widgets/base",
      "_view_module_version": "1.2.0",
      "_view_name": "StyleView",
      "description_width": ""
     }
    },
    "b32f7356f5394e2fb3ce1732facb7810": {
     "model_module": "@jupyter-widgets/base",
     "model_module_version": "1.2.0",
     "model_name": "LayoutModel",
     "state": {
      "_model_module": "@jupyter-widgets/base",
      "_model_module_version": "1.2.0",
      "_model_name": "LayoutModel",
      "_view_count": null,
      "_view_module": "@jupyter-widgets/base",
      "_view_module_version": "1.2.0",
      "_view_name": "LayoutView",
      "align_content": null,
      "align_items": null,
      "align_self": null,
      "border": null,
      "bottom": null,
      "display": null,
      "flex": "2",
      "flex_flow": null,
      "grid_area": null,
      "grid_auto_columns": null,
      "grid_auto_flow": null,
      "grid_auto_rows": null,
      "grid_column": null,
      "grid_gap": null,
      "grid_row": null,
      "grid_template_areas": null,
      "grid_template_columns": null,
      "grid_template_rows": null,
      "height": null,
      "justify_content": null,
      "justify_items": null,
      "left": null,
      "margin": null,
      "max_height": null,
      "max_width": null,
      "min_height": null,
      "min_width": null,
      "object_fit": null,
      "object_position": null,
      "order": null,
      "overflow": null,
      "overflow_x": null,
      "overflow_y": null,
      "padding": null,
      "right": null,
      "top": null,
      "visibility": null,
      "width": null
     }
    },
    "bf6a15018e754444a86319a44e5b06f7": {
     "model_module": "@jupyter-widgets/base",
     "model_module_version": "1.2.0",
     "model_name": "LayoutModel",
     "state": {
      "_model_module": "@jupyter-widgets/base",
      "_model_module_version": "1.2.0",
      "_model_name": "LayoutModel",
      "_view_count": null,
      "_view_module": "@jupyter-widgets/base",
      "_view_module_version": "1.2.0",
      "_view_name": "LayoutView",
      "align_content": null,
      "align_items": null,
      "align_self": null,
      "border": null,
      "bottom": null,
      "display": "inline-flex",
      "flex": null,
      "flex_flow": "row wrap",
      "grid_area": null,
      "grid_auto_columns": null,
      "grid_auto_flow": null,
      "grid_auto_rows": null,
      "grid_column": null,
      "grid_gap": null,
      "grid_row": null,
      "grid_template_areas": null,
      "grid_template_columns": null,
      "grid_template_rows": null,
      "height": null,
      "justify_content": null,
      "justify_items": null,
      "left": null,
      "margin": null,
      "max_height": null,
      "max_width": null,
      "min_height": null,
      "min_width": null,
      "object_fit": null,
      "object_position": null,
      "order": null,
      "overflow": null,
      "overflow_x": null,
      "overflow_y": null,
      "padding": null,
      "right": null,
      "top": null,
      "visibility": null,
      "width": "100%"
     }
    },
    "c1b2afec669c438d8a05734cc78be69b": {
     "model_module": "@jupyter-widgets/controls",
     "model_module_version": "1.5.0",
     "model_name": "HTMLModel",
     "state": {
      "_dom_classes": [],
      "_model_module": "@jupyter-widgets/controls",
      "_model_module_version": "1.5.0",
      "_model_name": "HTMLModel",
      "_view_count": null,
      "_view_module": "@jupyter-widgets/controls",
      "_view_module_version": "1.5.0",
      "_view_name": "HTMLView",
      "description": "",
      "description_tooltip": null,
      "layout": "IPY_MODEL_6052e67d217d4c59867dc0b11c6d73a8",
      "placeholder": "​",
      "style": "IPY_MODEL_b251b536d87948a49325b0c831c1b87b",
      "value": " 29282/29282 [00:39&lt;00:00, 1731.59 examples/s]"
     }
    },
    "d3d9a9ac65c242f6bdb1d5ac7d0e552a": {
     "model_module": "@jupyter-widgets/controls",
     "model_module_version": "1.5.0",
     "model_name": "ProgressStyleModel",
     "state": {
      "_model_module": "@jupyter-widgets/controls",
      "_model_module_version": "1.5.0",
      "_model_name": "ProgressStyleModel",
      "_view_count": null,
      "_view_module": "@jupyter-widgets/base",
      "_view_module_version": "1.2.0",
      "_view_name": "StyleView",
      "bar_color": null,
      "description_width": ""
     }
    },
    "e54af440156847e181f3032bd72704e1": {
     "model_module": "@jupyter-widgets/controls",
     "model_module_version": "1.5.0",
     "model_name": "HTMLModel",
     "state": {
      "_dom_classes": [],
      "_model_module": "@jupyter-widgets/controls",
      "_model_module_version": "1.5.0",
      "_model_name": "HTMLModel",
      "_view_count": null,
      "_view_module": "@jupyter-widgets/controls",
      "_view_module_version": "1.5.0",
      "_view_name": "HTMLView",
      "description": "",
      "description_tooltip": null,
      "layout": "IPY_MODEL_5e7fcb41a6b1438696f944d2734cbef9",
      "placeholder": "​",
      "style": "IPY_MODEL_640ce243de1b4ebfa35f276eb8be5ca9",
      "value": "Map: 100%"
     }
    },
    "e5b5094035cd4e319afe0b457e66c310": {
     "model_module": "@jupyter-widgets/base",
     "model_module_version": "1.2.0",
     "model_name": "LayoutModel",
     "state": {
      "_model_module": "@jupyter-widgets/base",
      "_model_module_version": "1.2.0",
      "_model_name": "LayoutModel",
      "_view_count": null,
      "_view_module": "@jupyter-widgets/base",
      "_view_module_version": "1.2.0",
      "_view_name": "LayoutView",
      "align_content": null,
      "align_items": null,
      "align_self": null,
      "border": null,
      "bottom": null,
      "display": null,
      "flex": null,
      "flex_flow": null,
      "grid_area": null,
      "grid_auto_columns": null,
      "grid_auto_flow": null,
      "grid_auto_rows": null,
      "grid_column": null,
      "grid_gap": null,
      "grid_row": null,
      "grid_template_areas": null,
      "grid_template_columns": null,
      "grid_template_rows": null,
      "height": null,
      "justify_content": null,
      "justify_items": null,
      "left": null,
      "margin": null,
      "max_height": null,
      "max_width": null,
      "min_height": null,
      "min_width": null,
      "object_fit": null,
      "object_position": null,
      "order": null,
      "overflow": null,
      "overflow_x": null,
      "overflow_y": null,
      "padding": null,
      "right": null,
      "top": null,
      "visibility": null,
      "width": null
     }
    },
    "e90bbcab4cf5403f8558eedbd65c4bda": {
     "model_module": "@jupyter-widgets/controls",
     "model_module_version": "1.5.0",
     "model_name": "DescriptionStyleModel",
     "state": {
      "_model_module": "@jupyter-widgets/controls",
      "_model_module_version": "1.5.0",
      "_model_name": "DescriptionStyleModel",
      "_view_count": null,
      "_view_module": "@jupyter-widgets/base",
      "_view_module_version": "1.2.0",
      "_view_name": "StyleView",
      "description_width": ""
     }
    },
    "f4391f0b77d04b379e8de69be247c585": {
     "model_module": "@jupyter-widgets/controls",
     "model_module_version": "1.5.0",
     "model_name": "FloatProgressModel",
     "state": {
      "_dom_classes": [],
      "_model_module": "@jupyter-widgets/controls",
      "_model_module_version": "1.5.0",
      "_model_name": "FloatProgressModel",
      "_view_count": null,
      "_view_module": "@jupyter-widgets/controls",
      "_view_module_version": "1.5.0",
      "_view_name": "ProgressView",
      "bar_style": "success",
      "description": "",
      "description_tooltip": null,
      "layout": "IPY_MODEL_b32f7356f5394e2fb3ce1732facb7810",
      "max": 46,
      "min": 0,
      "orientation": "horizontal",
      "style": "IPY_MODEL_4d1553b546c0445ea63cbb4855bc5b67",
      "value": 46
     }
    }
   }
  }
 },
 "nbformat": 4,
 "nbformat_minor": 5
}
