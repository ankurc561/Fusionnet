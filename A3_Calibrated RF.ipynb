{
 "cells": [
  {
   "cell_type": "markdown",
   "id": "40b0e90a-2a2f-4387-b132-15a148afc47c",
   "metadata": {},
   "source": [
    "Cell 1 — Load data, align, make target, build rolling splits"
   ]
  },
  {
   "cell_type": "code",
   "execution_count": 26,
   "id": "b82bab48-a558-404b-9ee8-9a665d2443e3",
   "metadata": {},
   "outputs": [],
   "source": [
    "import pandas as pd\n",
    "import numpy as np\n",
    "from pathlib import Path"
   ]
  },
  {
   "cell_type": "code",
   "execution_count": 27,
   "id": "edfc58f2-1304-4cee-8be7-d0069a3fcffd",
   "metadata": {},
   "outputs": [],
   "source": [
    "# --- Load datasets ---\n",
    "unw = pd.read_csv(\"Data/10_day_run/merged_dataset.csv\")\n",
    "wtd = pd.read_csv(\"Data/10_day_run/merged_dataset_weighted.csv\")"
   ]
  },
  {
   "cell_type": "code",
   "execution_count": 28,
   "id": "b6d93912-8963-4d9c-8f39-6070a4b49d09",
   "metadata": {},
   "outputs": [],
   "source": [
    "for df in (unw, wtd):\n",
    "    df['Week'] = pd.to_datetime(df['Week'], errors='coerce')\n",
    "    df.sort_values('Week', inplace=True)\n",
    "    df.reset_index(drop=True, inplace=True)"
   ]
  },
  {
   "cell_type": "code",
   "execution_count": 29,
   "id": "91d57112-1cab-403b-aea0-9a86ebefdab3",
   "metadata": {},
   "outputs": [],
   "source": [
    "# Align rows by Week to ensure identical OOS windows for both feature sets\n",
    "df_all = pd.merge(\n",
    "    wtd.add_prefix(\"w_\"),\n",
    "    unw.add_prefix(\"u_\"),\n",
    "    left_on=\"w_Week\",\n",
    "    right_on=\"u_Week\",\n",
    "    how=\"inner\"\n",
    ")"
   ]
  },
  {
   "cell_type": "code",
   "execution_count": 30,
   "id": "b3b83789-3a03-4234-a147-b0136f364926",
   "metadata": {},
   "outputs": [],
   "source": [
    "# Carry Week, Close, Volume (prefer weighted side if present)\n",
    "df_all['Week']   = df_all['w_Week']\n",
    "df_all['Close']  = df_all['w_Close']   if 'w_Close'   in df_all.columns else df_all['u_Close']\n",
    "df_all['Volume'] = df_all['w_Volume']  if 'w_Volume'  in df_all.columns else df_all['u_Volume']"
   ]
  },
  {
   "cell_type": "code",
   "execution_count": 31,
   "id": "c9eed8a9-c1de-435b-b9ed-80d2e7e99057",
   "metadata": {},
   "outputs": [],
   "source": [
    "# --- Target from Close with ±1% rule (Up=1, Down=-1, Neutral=0) ---\n",
    "df_all = df_all.sort_values('Week').reset_index(drop=True)\n",
    "df_all['Return_protocol'] = df_all['Close'].pct_change()"
   ]
  },
  {
   "cell_type": "code",
   "execution_count": 32,
   "id": "1fbbe4c9-2f5d-4829-84ef-8203d318b4f6",
   "metadata": {},
   "outputs": [],
   "source": [
    "delta = 0.01\n",
    "def to_label(r):\n",
    "    if pd.isna(r): return np.nan\n",
    "    if r >  delta: return  1\n",
    "    if r < -delta: return -1\n",
    "    return 0\n",
    "\n",
    "df_all['Target_protocol'] = df_all['Return_protocol'].apply(to_label)\n",
    "df_all = df_all.dropna(subset=['Target_protocol']).reset_index(drop=True)\n",
    "df_all['Target_protocol'] = df_all['Target_protocol'].astype(int)"
   ]
  },
  {
   "cell_type": "code",
   "execution_count": 33,
   "id": "cdc58869-2b8e-4d45-b703-63a63bb69f58",
   "metadata": {},
   "outputs": [],
   "source": [
    "# --- Rolling-origin expanding-window splits ---\n",
    "N = len(df_all)\n",
    "initial_train_weeks = max(52, int(0.5 * N))   # at least 1 year, ~50% of history\n",
    "test_weeks         = max(16, int(0.1 * N))    # ~10% per OOS block\n",
    "\n",
    "splits = []\n",
    "train_end = initial_train_weeks - 1\n",
    "sid = 1\n",
    "while True:\n",
    "    te_start = train_end + 1\n",
    "    te_end   = te_start + test_weeks - 1\n",
    "    if te_start >= N: break\n",
    "    if te_end >= N: te_end = N - 1\n",
    "    splits.append((sid, 0, int(train_end), int(te_start), int(te_end)))\n",
    "    sid += 1\n",
    "    if te_end >= N - 1: break\n",
    "    train_end = te_end"
   ]
  },
  {
   "cell_type": "code",
   "execution_count": 34,
   "id": "b9768a40-57fd-4ad9-8ffe-87e838697b62",
   "metadata": {},
   "outputs": [
    {
     "name": "stdout",
     "output_type": "stream",
     "text": [
      "Rows: 212, splits: 6, period: 2007-02-11 — 2013-12-01\n"
     ]
    }
   ],
   "source": [
    "print(f\"Rows: {N}, splits: {len(splits)}, period: {df_all['Week'].min().date()} — {df_all['Week'].max().date()}\")"
   ]
  },
  {
   "cell_type": "markdown",
   "id": "0183fe72-90c5-4cce-99a2-1799efd2b7f6",
   "metadata": {},
   "source": [
    "“We use an expanding-window protocol with ~50% initial training and ~10% non-overlapping OOS blocks, aligned across datasets by calendar week.”"
   ]
  },
  {
   "cell_type": "markdown",
   "id": "364f2f04-bd66-4789-b292-bb9a85312d98",
   "metadata": {},
   "source": [
    "## Cell 2 — Build feature sets (with lags) for both datasets"
   ]
  },
  {
   "cell_type": "code",
   "execution_count": 35,
   "id": "6a83b511-6da4-458a-89eb-53b8a9a9f57c",
   "metadata": {},
   "outputs": [],
   "source": [
    "# Unweighted features (prefix u_): news + filings + counts + volume\n",
    "u_exclude = {'Week', 'Close', 'Return', 'Target', 'Year', 'Adj Close', 'mean_news_sentiment', 'std_news_sentiment', 'count_10k', '10q_mda_sent',\n",
    "       '10q_risk_sent', 'count_10q', 'log_return'}\n",
    "u_candidates = [\"u_\" + c for c in unw.columns if c not in u_exclude]\n",
    "# Weighted features (prefix w_): same families, but weighted filing scores + counts + volume\n",
    "w_exclude = {'Week', 'Close', 'Return', 'Target', 'Year', 'Adj Close', 'mean_news_sentiment', 'std_news_sentiment', '10q_mda_sent', '10q_risk_sent',\n",
    "       '10q_mda_sent_weighted', '10q_risk_sent_weighted'}\n",
    "w_candidates = [\"w_\" + c for c in wtd.columns if c not in w_exclude]"
   ]
  },
  {
   "cell_type": "code",
   "execution_count": 36,
   "id": "99418731-7e47-41fb-bfc1-b75c562ae846",
   "metadata": {},
   "outputs": [],
   "source": [
    "u_features = [c for c in u_candidates if c in df_all.columns]\n",
    "w_features = [c for c in w_candidates if c in df_all.columns]"
   ]
  },
  {
   "cell_type": "code",
   "execution_count": 39,
   "id": "4bac6043-ee46-40f0-97e9-fe36bb301671",
   "metadata": {},
   "outputs": [],
   "source": [
    "def add_lags(df, cols, lags=(1,2)):\n",
    "    df = df.copy()\n",
    "    for L in lags:\n",
    "        for c in cols:\n",
    "            df[f\"{c}_lag{L}\"] = df[c].shift(L)\n",
    "    return df\n",
    "\n",
    "df_feats = add_lags(add_lags(df_all.copy(), u_features), w_features)"
   ]
  },
  {
   "cell_type": "code",
   "execution_count": 40,
   "id": "bd12ce18-bb68-4b9b-99f1-8415c29b0e95",
   "metadata": {},
   "outputs": [],
   "source": [
    "def build_X(df, base_cols):\n",
    "    cols = []\n",
    "    for c in base_cols:\n",
    "        cols.append(c)\n",
    "        for L in (1,2):\n",
    "            cl = f\"{c}_lag{L}\"\n",
    "            if cl in df.columns:\n",
    "                cols.append(cl)\n",
    "    return df[cols].copy(), cols"
   ]
  },
  {
   "cell_type": "code",
   "execution_count": 41,
   "id": "bb7f4a5b-e46e-4869-8f9d-07544a5fe4ef",
   "metadata": {},
   "outputs": [
    {
     "name": "stdout",
     "output_type": "stream",
     "text": [
      "Unweighted feature cols: 48\n",
      "Weighted   feature cols: 54\n"
     ]
    }
   ],
   "source": [
    "Xu, u_cols = build_X(df_feats, u_features)\n",
    "Xw, w_cols = build_X(df_feats, w_features)\n",
    "y = df_feats['Target_protocol'].astype(int).copy()\n",
    "\n",
    "print(\"Unweighted feature cols:\", len(u_cols))\n",
    "print(\"Weighted   feature cols:\", len(w_cols))"
   ]
  },
  {
   "cell_type": "markdown",
   "id": "6ac2e645-e24c-4cd1-bf90-66290e3f56e9",
   "metadata": {},
   "source": [
    "“We include contemporaneous and lagged (1–2 weeks) features for news and filings sentiment, document counts, and volume.”"
   ]
  },
  {
   "cell_type": "markdown",
   "id": "7e9cf709-721d-412f-8893-ddb0ffe19cbd",
   "metadata": {},
   "source": [
    "## Cell 3 — Train tuned, calibrated RF per split; save predictions/metrics"
   ]
  },
  {
   "cell_type": "code",
   "execution_count": 42,
   "id": "14df2689-2121-4350-975e-4e94d41e3cdf",
   "metadata": {},
   "outputs": [],
   "source": [
    "from sklearn.model_selection import TimeSeriesSplit, GridSearchCV\n",
    "from sklearn.ensemble import RandomForestClassifier\n",
    "from sklearn.calibration import CalibratedClassifierCV\n",
    "from sklearn.metrics import matthews_corrcoef, make_scorer, accuracy_score, f1_score\n",
    "import numpy as np\n",
    "import pandas as pd"
   ]
  },
  {
   "cell_type": "code",
   "execution_count": 43,
   "id": "e3ad02c3-90f6-4458-970f-490b9e3b0cac",
   "metadata": {},
   "outputs": [],
   "source": [
    "labels_order = [-1, 0, 1]\n",
    "def mcc_scorer(): return make_scorer(matthews_corrcoef)"
   ]
  },
  {
   "cell_type": "code",
   "execution_count": 44,
   "id": "a043ac6a-e30f-4cd4-b812-bb02a2f7700c",
   "metadata": {},
   "outputs": [],
   "source": [
    "def fit_calibrated_rf(X_tr, y_tr):\n",
    "    # Light grid + time-series CV to avoid overfitting on small N\n",
    "    tscv = TimeSeriesSplit(n_splits=3)\n",
    "    rf = RandomForestClassifier(random_state=42)\n",
    "    grid = {\n",
    "        \"n_estimators\":     [300],\n",
    "        \"max_depth\":        [3, 5, None],\n",
    "        \"min_samples_leaf\": [2, 4, 8],\n",
    "        \"max_features\":     [\"sqrt\", 0.5],\n",
    "        \"class_weight\":     [None, \"balanced\"],\n",
    "    }\n",
    "    gs = GridSearchCV(rf, grid, scoring=mcc_scorer(), cv=tscv, n_jobs=-1, refit=True)\n",
    "    gs.fit(X_tr, y_tr)\n",
    "    best = gs.best_estimator_\n",
    "    best_params = gs.best_params_\n",
    "    # Probability calibration on training only (time-series CV)\n",
    "    calib = CalibratedClassifierCV(best, method=\"isotonic\", cv=TimeSeriesSplit(n_splits=3))\n",
    "    calib.fit(X_tr, y_tr)\n",
    "    return calib, best_params"
   ]
  },
  {
   "cell_type": "code",
   "execution_count": 45,
   "id": "2587fa76-b869-47b4-82c7-0e06796c92e1",
   "metadata": {},
   "outputs": [],
   "source": [
    "def brier_multiclass(y_true, proba, classes):\n",
    "    from sklearn.preprocessing import OneHotEncoder\n",
    "    oh = OneHotEncoder(categories=[classes], sparse_output=False, handle_unknown='ignore')\n",
    "    Y = oh.fit_transform(y_true.reshape(-1,1))\n",
    "    return np.mean(np.sum((proba - Y)**2, axis=1))"
   ]
  },
  {
   "cell_type": "code",
   "execution_count": 46,
   "id": "2d7fa833-26ce-4b2f-b95d-a77ebfba08af",
   "metadata": {},
   "outputs": [],
   "source": [
    "def metric_tuple(y_true, y_pred, y_proba, classes):\n",
    "    acc     = accuracy_score(y_true, y_pred)\n",
    "    mcc     = matthews_corrcoef(y_true, y_pred)\n",
    "    f1_w    = f1_score(y_true, y_pred, average='weighted', labels=classes, zero_division=0)\n",
    "    f1_macro= f1_score(y_true, y_pred, average='macro',   labels=classes, zero_division=0)\n",
    "    brier   = brier_multiclass(y_true, y_proba, classes)\n",
    "    return acc, f1_w, f1_macro, mcc, brier"
   ]
  },
  {
   "cell_type": "code",
   "execution_count": 47,
   "id": "95f629cd-c68c-4866-bb33-f40f70127c57",
   "metadata": {},
   "outputs": [],
   "source": [
    "def run_experiment(label, X):\n",
    "    results, preds_records, best_rows = [], [], []\n",
    "    for sid, tr0, tr1, te0, te1 in splits:\n",
    "        # Slice and drop lag-induced NaNs\n",
    "        X_tr = X.iloc[tr0:tr1+1].copy(); y_tr = y.iloc[tr0:tr1+1].copy()\n",
    "        X_te = X.iloc[te0:te1+1].copy(); y_te = y.iloc[te0:te1+1].copy()\n",
    "        tr_mask = ~X_tr.isna().any(axis=1)\n",
    "        te_mask = ~X_te.isna().any(axis=1)\n",
    "        X_tr, y_tr = X_tr[tr_mask], y_tr[tr_mask]\n",
    "        X_te, y_te = X_te[te_mask], y_te[te_mask]\n",
    "        if len(X_tr) < 30 or len(X_te) < 5: \n",
    "            continue\n",
    "\n",
    "        model, best_params = fit_calibrated_rf(X_tr, y_tr)\n",
    "\n",
    "        proba = model.predict_proba(X_te)\n",
    "        y_hat = np.array([labels_order[i] for i in proba.argmax(axis=1)])\n",
    "\n",
    "        acc, f1w, f1m, mcc, brier = metric_tuple(y_te.values, y_hat, proba, labels_order)\n",
    "        results.append({\n",
    "            \"dataset\": label, \"split_id\": sid, \"test_size\": len(y_te),\n",
    "            \"Accuracy\": acc, \"Weighted F1\": f1w, \"Macro F1\": f1m, \"MCC\": mcc, \"Brier\": brier\n",
    "        })\n",
    "\n",
    "        tmp = pd.DataFrame({\n",
    "            \"Week\": df_feats.loc[te0:te1, 'Week'].values[te_mask.values],\n",
    "            \"split_id\": sid,\n",
    "            \"y_true\": y_te.values,\n",
    "            \"y_pred\": y_hat\n",
    "        })\n",
    "        for j, c in enumerate(labels_order):\n",
    "            tmp[f\"p_{c}\"] = proba[:, j]\n",
    "        preds_records.append(tmp)\n",
    "\n",
    "        best_row = {\"dataset\": label, \"split_id\": sid}; best_row.update(best_params); best_rows.append(best_row)\n",
    "\n",
    "    return pd.DataFrame(results), (pd.concat(preds_records, ignore_index=True) if preds_records else pd.DataFrame()), pd.DataFrame(best_rows)\n"
   ]
  },
  {
   "cell_type": "code",
   "execution_count": 48,
   "id": "97213d1c-6ccf-40ce-ba10-158dae4eb3ca",
   "metadata": {},
   "outputs": [],
   "source": [
    "u_metrics, u_preds, u_best = run_experiment(\"unweighted\", Xu)\n",
    "w_metrics, w_preds, w_best = run_experiment(\"weighted\", Xw)"
   ]
  },
  {
   "cell_type": "code",
   "execution_count": 39,
   "id": "7282495e-6ffa-4ed6-8b50-a4d913bbbfa7",
   "metadata": {},
   "outputs": [],
   "source": [
    "# Save artefacts\n",
    "u_preds.to_csv(\"Data/10_day_run/rf_unweighted_predictions.csv\", index=False)\n",
    "w_preds.to_csv(\"Data/10_day_run/rf_weighted_predictions.csv\",  index=False)\n",
    "u_metrics.to_csv(\"Data/10_day_run/rf_unweighted_per_split.csv\", index=False)\n",
    "w_metrics.to_csv(\"Data/10_day_run/rf_weighted_per_split.csv\",  index=False)\n",
    "u_best.to_csv(\"Data/10_day_run/rf_unweighted_best_params.csv\", index=False)\n",
    "w_best.to_csv(\"Data/10_day_run/rf_weighted_best_params.csv\",  index=False)"
   ]
  },
  {
   "cell_type": "code",
   "execution_count": 49,
   "id": "b4c15aac-b848-47fe-9523-10fec8d1b765",
   "metadata": {},
   "outputs": [
    {
     "data": {
      "text/html": [
       "<div>\n",
       "<style scoped>\n",
       "    .dataframe tbody tr th:only-of-type {\n",
       "        vertical-align: middle;\n",
       "    }\n",
       "\n",
       "    .dataframe tbody tr th {\n",
       "        vertical-align: top;\n",
       "    }\n",
       "\n",
       "    .dataframe thead th {\n",
       "        text-align: right;\n",
       "    }\n",
       "</style>\n",
       "<table border=\"1\" class=\"dataframe\">\n",
       "  <thead>\n",
       "    <tr style=\"text-align: right;\">\n",
       "      <th></th>\n",
       "      <th>dataset</th>\n",
       "      <th>split_id</th>\n",
       "      <th>test_size</th>\n",
       "      <th>Accuracy</th>\n",
       "      <th>Weighted F1</th>\n",
       "      <th>Macro F1</th>\n",
       "      <th>MCC</th>\n",
       "      <th>Brier</th>\n",
       "    </tr>\n",
       "  </thead>\n",
       "  <tbody>\n",
       "    <tr>\n",
       "      <th>0</th>\n",
       "      <td>unweighted</td>\n",
       "      <td>1</td>\n",
       "      <td>21</td>\n",
       "      <td>0.619048</td>\n",
       "      <td>0.487734</td>\n",
       "      <td>0.262626</td>\n",
       "      <td>0.081992</td>\n",
       "      <td>0.569523</td>\n",
       "    </tr>\n",
       "    <tr>\n",
       "      <th>1</th>\n",
       "      <td>unweighted</td>\n",
       "      <td>2</td>\n",
       "      <td>21</td>\n",
       "      <td>0.476190</td>\n",
       "      <td>0.428317</td>\n",
       "      <td>0.338681</td>\n",
       "      <td>0.179588</td>\n",
       "      <td>0.663052</td>\n",
       "    </tr>\n",
       "    <tr>\n",
       "      <th>2</th>\n",
       "      <td>unweighted</td>\n",
       "      <td>3</td>\n",
       "      <td>21</td>\n",
       "      <td>0.190476</td>\n",
       "      <td>0.106667</td>\n",
       "      <td>0.106667</td>\n",
       "      <td>-0.303185</td>\n",
       "      <td>0.739989</td>\n",
       "    </tr>\n",
       "    <tr>\n",
       "      <th>3</th>\n",
       "      <td>unweighted</td>\n",
       "      <td>4</td>\n",
       "      <td>21</td>\n",
       "      <td>0.238095</td>\n",
       "      <td>0.157699</td>\n",
       "      <td>0.168831</td>\n",
       "      <td>0.073193</td>\n",
       "      <td>0.726430</td>\n",
       "    </tr>\n",
       "    <tr>\n",
       "      <th>4</th>\n",
       "      <td>unweighted</td>\n",
       "      <td>5</td>\n",
       "      <td>21</td>\n",
       "      <td>0.190476</td>\n",
       "      <td>0.175794</td>\n",
       "      <td>0.169444</td>\n",
       "      <td>-0.224926</td>\n",
       "      <td>0.730188</td>\n",
       "    </tr>\n",
       "  </tbody>\n",
       "</table>\n",
       "</div>"
      ],
      "text/plain": [
       "      dataset  split_id  test_size  Accuracy  Weighted F1  Macro F1       MCC  \\\n",
       "0  unweighted         1         21  0.619048     0.487734  0.262626  0.081992   \n",
       "1  unweighted         2         21  0.476190     0.428317  0.338681  0.179588   \n",
       "2  unweighted         3         21  0.190476     0.106667  0.106667 -0.303185   \n",
       "3  unweighted         4         21  0.238095     0.157699  0.168831  0.073193   \n",
       "4  unweighted         5         21  0.190476     0.175794  0.169444 -0.224926   \n",
       "\n",
       "      Brier  \n",
       "0  0.569523  \n",
       "1  0.663052  \n",
       "2  0.739989  \n",
       "3  0.726430  \n",
       "4  0.730188  "
      ]
     },
     "execution_count": 49,
     "metadata": {},
     "output_type": "execute_result"
    }
   ],
   "source": [
    "u_metrics"
   ]
  },
  {
   "cell_type": "code",
   "execution_count": 50,
   "id": "488877b3-0c82-4a06-b1bc-50cea0437d4e",
   "metadata": {},
   "outputs": [
    {
     "data": {
      "text/html": [
       "<div>\n",
       "<style scoped>\n",
       "    .dataframe tbody tr th:only-of-type {\n",
       "        vertical-align: middle;\n",
       "    }\n",
       "\n",
       "    .dataframe tbody tr th {\n",
       "        vertical-align: top;\n",
       "    }\n",
       "\n",
       "    .dataframe thead th {\n",
       "        text-align: right;\n",
       "    }\n",
       "</style>\n",
       "<table border=\"1\" class=\"dataframe\">\n",
       "  <thead>\n",
       "    <tr style=\"text-align: right;\">\n",
       "      <th></th>\n",
       "      <th>dataset</th>\n",
       "      <th>split_id</th>\n",
       "      <th>test_size</th>\n",
       "      <th>Accuracy</th>\n",
       "      <th>Weighted F1</th>\n",
       "      <th>Macro F1</th>\n",
       "      <th>MCC</th>\n",
       "      <th>Brier</th>\n",
       "    </tr>\n",
       "  </thead>\n",
       "  <tbody>\n",
       "    <tr>\n",
       "      <th>0</th>\n",
       "      <td>weighted</td>\n",
       "      <td>1</td>\n",
       "      <td>21</td>\n",
       "      <td>0.619048</td>\n",
       "      <td>0.543651</td>\n",
       "      <td>0.361111</td>\n",
       "      <td>0.132110</td>\n",
       "      <td>0.616172</td>\n",
       "    </tr>\n",
       "    <tr>\n",
       "      <th>1</th>\n",
       "      <td>weighted</td>\n",
       "      <td>2</td>\n",
       "      <td>21</td>\n",
       "      <td>0.285714</td>\n",
       "      <td>0.148148</td>\n",
       "      <td>0.148148</td>\n",
       "      <td>-0.166061</td>\n",
       "      <td>0.662194</td>\n",
       "    </tr>\n",
       "    <tr>\n",
       "      <th>2</th>\n",
       "      <td>weighted</td>\n",
       "      <td>3</td>\n",
       "      <td>21</td>\n",
       "      <td>0.238095</td>\n",
       "      <td>0.133333</td>\n",
       "      <td>0.133333</td>\n",
       "      <td>-0.221832</td>\n",
       "      <td>0.729468</td>\n",
       "    </tr>\n",
       "    <tr>\n",
       "      <th>3</th>\n",
       "      <td>weighted</td>\n",
       "      <td>4</td>\n",
       "      <td>21</td>\n",
       "      <td>0.285714</td>\n",
       "      <td>0.305470</td>\n",
       "      <td>0.218782</td>\n",
       "      <td>-0.050855</td>\n",
       "      <td>0.704809</td>\n",
       "    </tr>\n",
       "    <tr>\n",
       "      <th>4</th>\n",
       "      <td>weighted</td>\n",
       "      <td>5</td>\n",
       "      <td>21</td>\n",
       "      <td>0.285714</td>\n",
       "      <td>0.160000</td>\n",
       "      <td>0.160000</td>\n",
       "      <td>-0.121653</td>\n",
       "      <td>0.709423</td>\n",
       "    </tr>\n",
       "  </tbody>\n",
       "</table>\n",
       "</div>"
      ],
      "text/plain": [
       "    dataset  split_id  test_size  Accuracy  Weighted F1  Macro F1       MCC  \\\n",
       "0  weighted         1         21  0.619048     0.543651  0.361111  0.132110   \n",
       "1  weighted         2         21  0.285714     0.148148  0.148148 -0.166061   \n",
       "2  weighted         3         21  0.238095     0.133333  0.133333 -0.221832   \n",
       "3  weighted         4         21  0.285714     0.305470  0.218782 -0.050855   \n",
       "4  weighted         5         21  0.285714     0.160000  0.160000 -0.121653   \n",
       "\n",
       "      Brier  \n",
       "0  0.616172  \n",
       "1  0.662194  \n",
       "2  0.729468  \n",
       "3  0.704809  \n",
       "4  0.709423  "
      ]
     },
     "execution_count": 50,
     "metadata": {},
     "output_type": "execute_result"
    }
   ],
   "source": [
    "w_metrics"
   ]
  },
  {
   "cell_type": "code",
   "execution_count": 23,
   "id": "fd001394-bb11-4abe-8326-482342698cd5",
   "metadata": {},
   "outputs": [
    {
     "data": {
      "text/html": [
       "<div>\n",
       "<style scoped>\n",
       "    .dataframe tbody tr th:only-of-type {\n",
       "        vertical-align: middle;\n",
       "    }\n",
       "\n",
       "    .dataframe tbody tr th {\n",
       "        vertical-align: top;\n",
       "    }\n",
       "\n",
       "    .dataframe thead th {\n",
       "        text-align: right;\n",
       "    }\n",
       "</style>\n",
       "<table border=\"1\" class=\"dataframe\">\n",
       "  <thead>\n",
       "    <tr style=\"text-align: right;\">\n",
       "      <th></th>\n",
       "      <th>dataset</th>\n",
       "      <th>split_id</th>\n",
       "      <th>class_weight</th>\n",
       "      <th>max_depth</th>\n",
       "      <th>max_features</th>\n",
       "      <th>min_samples_leaf</th>\n",
       "      <th>n_estimators</th>\n",
       "    </tr>\n",
       "  </thead>\n",
       "  <tbody>\n",
       "    <tr>\n",
       "      <th>0</th>\n",
       "      <td>unweighted</td>\n",
       "      <td>1</td>\n",
       "      <td>None</td>\n",
       "      <td>NaN</td>\n",
       "      <td>0.5</td>\n",
       "      <td>2</td>\n",
       "      <td>300</td>\n",
       "    </tr>\n",
       "    <tr>\n",
       "      <th>1</th>\n",
       "      <td>unweighted</td>\n",
       "      <td>2</td>\n",
       "      <td>None</td>\n",
       "      <td>NaN</td>\n",
       "      <td>0.5</td>\n",
       "      <td>2</td>\n",
       "      <td>300</td>\n",
       "    </tr>\n",
       "    <tr>\n",
       "      <th>2</th>\n",
       "      <td>unweighted</td>\n",
       "      <td>3</td>\n",
       "      <td>balanced</td>\n",
       "      <td>5.0</td>\n",
       "      <td>0.5</td>\n",
       "      <td>2</td>\n",
       "      <td>300</td>\n",
       "    </tr>\n",
       "    <tr>\n",
       "      <th>3</th>\n",
       "      <td>unweighted</td>\n",
       "      <td>4</td>\n",
       "      <td>None</td>\n",
       "      <td>3.0</td>\n",
       "      <td>0.5</td>\n",
       "      <td>2</td>\n",
       "      <td>300</td>\n",
       "    </tr>\n",
       "    <tr>\n",
       "      <th>4</th>\n",
       "      <td>unweighted</td>\n",
       "      <td>5</td>\n",
       "      <td>None</td>\n",
       "      <td>3.0</td>\n",
       "      <td>sqrt</td>\n",
       "      <td>4</td>\n",
       "      <td>300</td>\n",
       "    </tr>\n",
       "  </tbody>\n",
       "</table>\n",
       "</div>"
      ],
      "text/plain": [
       "      dataset  split_id class_weight  max_depth max_features  \\\n",
       "0  unweighted         1         None        NaN          0.5   \n",
       "1  unweighted         2         None        NaN          0.5   \n",
       "2  unweighted         3     balanced        5.0          0.5   \n",
       "3  unweighted         4         None        3.0          0.5   \n",
       "4  unweighted         5         None        3.0         sqrt   \n",
       "\n",
       "   min_samples_leaf  n_estimators  \n",
       "0                 2           300  \n",
       "1                 2           300  \n",
       "2                 2           300  \n",
       "3                 2           300  \n",
       "4                 4           300  "
      ]
     },
     "execution_count": 23,
     "metadata": {},
     "output_type": "execute_result"
    }
   ],
   "source": [
    "u_best.head()"
   ]
  },
  {
   "cell_type": "code",
   "execution_count": 32,
   "id": "22d3e931-c858-4879-93d8-14cab68e21a2",
   "metadata": {},
   "outputs": [
    {
     "data": {
      "text/html": [
       "<div>\n",
       "<style scoped>\n",
       "    .dataframe tbody tr th:only-of-type {\n",
       "        vertical-align: middle;\n",
       "    }\n",
       "\n",
       "    .dataframe tbody tr th {\n",
       "        vertical-align: top;\n",
       "    }\n",
       "\n",
       "    .dataframe thead th {\n",
       "        text-align: right;\n",
       "    }\n",
       "</style>\n",
       "<table border=\"1\" class=\"dataframe\">\n",
       "  <thead>\n",
       "    <tr style=\"text-align: right;\">\n",
       "      <th></th>\n",
       "      <th>dataset</th>\n",
       "      <th>split_id</th>\n",
       "      <th>class_weight</th>\n",
       "      <th>max_depth</th>\n",
       "      <th>max_features</th>\n",
       "      <th>min_samples_leaf</th>\n",
       "      <th>n_estimators</th>\n",
       "    </tr>\n",
       "  </thead>\n",
       "  <tbody>\n",
       "    <tr>\n",
       "      <th>0</th>\n",
       "      <td>weighted</td>\n",
       "      <td>1</td>\n",
       "      <td>balanced</td>\n",
       "      <td>NaN</td>\n",
       "      <td>sqrt</td>\n",
       "      <td>2</td>\n",
       "      <td>300</td>\n",
       "    </tr>\n",
       "    <tr>\n",
       "      <th>1</th>\n",
       "      <td>weighted</td>\n",
       "      <td>2</td>\n",
       "      <td>None</td>\n",
       "      <td>NaN</td>\n",
       "      <td>0.5</td>\n",
       "      <td>4</td>\n",
       "      <td>300</td>\n",
       "    </tr>\n",
       "    <tr>\n",
       "      <th>2</th>\n",
       "      <td>weighted</td>\n",
       "      <td>3</td>\n",
       "      <td>None</td>\n",
       "      <td>3.0</td>\n",
       "      <td>0.5</td>\n",
       "      <td>2</td>\n",
       "      <td>300</td>\n",
       "    </tr>\n",
       "    <tr>\n",
       "      <th>3</th>\n",
       "      <td>weighted</td>\n",
       "      <td>4</td>\n",
       "      <td>None</td>\n",
       "      <td>NaN</td>\n",
       "      <td>sqrt</td>\n",
       "      <td>2</td>\n",
       "      <td>300</td>\n",
       "    </tr>\n",
       "    <tr>\n",
       "      <th>4</th>\n",
       "      <td>weighted</td>\n",
       "      <td>5</td>\n",
       "      <td>None</td>\n",
       "      <td>NaN</td>\n",
       "      <td>0.5</td>\n",
       "      <td>2</td>\n",
       "      <td>300</td>\n",
       "    </tr>\n",
       "  </tbody>\n",
       "</table>\n",
       "</div>"
      ],
      "text/plain": [
       "    dataset  split_id class_weight  max_depth max_features  min_samples_leaf  \\\n",
       "0  weighted         1     balanced        NaN         sqrt                 2   \n",
       "1  weighted         2         None        NaN          0.5                 4   \n",
       "2  weighted         3         None        3.0          0.5                 2   \n",
       "3  weighted         4         None        NaN         sqrt                 2   \n",
       "4  weighted         5         None        NaN          0.5                 2   \n",
       "\n",
       "   n_estimators  \n",
       "0           300  \n",
       "1           300  \n",
       "2           300  \n",
       "3           300  \n",
       "4           300  "
      ]
     },
     "execution_count": 32,
     "metadata": {},
     "output_type": "execute_result"
    }
   ],
   "source": [
    "w_best.head()"
   ]
  },
  {
   "cell_type": "markdown",
   "id": "8d193a40-e102-43eb-a830-5a6f544965a0",
   "metadata": {},
   "source": [
    "## Cell 4 — Pooled metrics + CIs (block bootstrap) and significance vs Random-Walk"
   ]
  },
  {
   "cell_type": "code",
   "execution_count": 34,
   "id": "c5301232-c736-43aa-ae51-c72b6039011b",
   "metadata": {},
   "outputs": [],
   "source": [
    "# ---- Load Random-Walk predictions from Day 1 ----\n",
    "rw = pd.read_csv(\"Data/10_day_run/rw_predictions_all.csv\")   # Week, split_id, y_true, y_pred\n",
    "\n",
    "labels_order = [-1,0,1]\n",
    "\n",
    "# Moving-block bootstrap CIs for multiclass metrics (uses model probabilities)\n",
    "def mbb_indices(n, block_len=10, rng=None):\n",
    "    if rng is None: rng = np.random.default_rng()\n",
    "    k = int(np.ceil(n / block_len))\n",
    "    starts = rng.integers(low=0, high=n, size=k)\n",
    "    idx = []\n",
    "    for s in starts:\n",
    "        idx.extend([(s+i) % n for i in range(block_len)])\n",
    "    return np.array(idx[:n], dtype=int)"
   ]
  },
  {
   "cell_type": "code",
   "execution_count": 35,
   "id": "b15dbfe8-a3ce-49fb-8b9a-88a08f108c91",
   "metadata": {},
   "outputs": [],
   "source": [
    "from sklearn.metrics import accuracy_score, f1_score, matthews_corrcoef\n",
    "from sklearn.preprocessing import OneHotEncoder"
   ]
  },
  {
   "cell_type": "code",
   "execution_count": 36,
   "id": "f38345ba-f56b-431f-9ce4-b5be87dcf7d0",
   "metadata": {},
   "outputs": [],
   "source": [
    "def brier_multiclass(y_true, proba, classes):\n",
    "    oh = OneHotEncoder(categories=[classes], sparse_output=False, handle_unknown='ignore')\n",
    "    Y = oh.fit_transform(y_true.reshape(-1,1))\n",
    "    return np.mean(np.sum((proba - Y)**2, axis=1))"
   ]
  },
  {
   "cell_type": "code",
   "execution_count": 37,
   "id": "e72bb390-e29f-4cf0-86ac-7cbc45f55911",
   "metadata": {},
   "outputs": [],
   "source": [
    "def metric_tuple(y_true, y_pred, proba=None, classes=labels_order):\n",
    "    acc  = accuracy_score(y_true, y_pred)\n",
    "    mcc  = matthews_corrcoef(y_true, y_pred)\n",
    "    f1w  = f1_score(y_true, y_pred, average='weighted', labels=classes, zero_division=0)\n",
    "    f1m  = f1_score(y_true, y_pred, average='macro',   labels=classes, zero_division=0)\n",
    "    bri  = np.nan\n",
    "    if proba is not None:\n",
    "        bri = brier_multiclass(y_true, proba, classes)\n",
    "    return acc, f1w, f1m, mcc, bri"
   ]
  },
  {
   "cell_type": "code",
   "execution_count": 38,
   "id": "c66345db-78c9-43b3-b798-5775ef87761d",
   "metadata": {},
   "outputs": [],
   "source": [
    "def pooled_with_ci(preds_df, block_len=10, B=4000, seed=123):\n",
    "    y_true = preds_df['y_true'].astype(int).to_numpy()\n",
    "    y_pred = preds_df['y_pred'].astype(int).to_numpy()\n",
    "    proba_cols = [c for c in preds_df.columns if c.startswith('p_')]\n",
    "    proba = preds_df[proba_cols].to_numpy() if len(proba_cols)==3 else None\n",
    "    rng = np.random.default_rng(seed)\n",
    "    n = len(y_true)\n",
    "    boot = []\n",
    "    for _ in range(B):\n",
    "        idx = mbb_indices(n, block_len=block_len, rng=rng)\n",
    "        boot.append(metric_tuple(y_true[idx], y_pred[idx], None if proba is None else proba[idx]))\n",
    "    boot = np.array(boot)\n",
    "    pt = np.array(metric_tuple(y_true, y_pred, proba))\n",
    "    lo = np.percentile(boot, 2.5, axis=0); hi = np.percentile(boot, 97.5, axis=0)\n",
    "    out = pd.DataFrame({\n",
    "        \"Metric\": [\"Accuracy\",\"Weighted F1\",\"Macro F1\",\"MCC\",\"Brier\"],\n",
    "        \"Point\":  pt, \"CI Lower (95%)\": lo, \"CI Upper (95%)\": hi,\n",
    "        \"n_weeks\": [n]*5\n",
    "    })\n",
    "    return out"
   ]
  },
  {
   "cell_type": "code",
   "execution_count": 40,
   "id": "3bc365a2-d228-48e7-9988-afb81f8cc06d",
   "metadata": {},
   "outputs": [],
   "source": [
    "u_pooled = pooled_with_ci(pd.read_csv(\"Data/10_day_run/rf_unweighted_predictions.csv\"))\n",
    "w_pooled = pooled_with_ci(pd.read_csv(\"Data/10_day_run/rf_weighted_predictions.csv\"))\n",
    "\n",
    "u_pooled.to_csv(\"Data/10_day_run/rf_unweighted_pooled_ci.csv\", index=False)\n",
    "w_pooled.to_csv(\"Data/10_day_run/rf_weighted_pooled_ci.csv\",  index=False)"
   ]
  },
  {
   "cell_type": "code",
   "execution_count": 42,
   "id": "a2e85ae0-b3ad-4154-a59f-34ae58ee5414",
   "metadata": {},
   "outputs": [
    {
     "data": {
      "text/html": [
       "<div>\n",
       "<style scoped>\n",
       "    .dataframe tbody tr th:only-of-type {\n",
       "        vertical-align: middle;\n",
       "    }\n",
       "\n",
       "    .dataframe tbody tr th {\n",
       "        vertical-align: top;\n",
       "    }\n",
       "\n",
       "    .dataframe thead th {\n",
       "        text-align: right;\n",
       "    }\n",
       "</style>\n",
       "<table border=\"1\" class=\"dataframe\">\n",
       "  <thead>\n",
       "    <tr style=\"text-align: right;\">\n",
       "      <th></th>\n",
       "      <th>Metric</th>\n",
       "      <th>Point</th>\n",
       "      <th>CI Lower (95%)</th>\n",
       "      <th>CI Upper (95%)</th>\n",
       "      <th>n_weeks</th>\n",
       "    </tr>\n",
       "  </thead>\n",
       "  <tbody>\n",
       "    <tr>\n",
       "      <th>0</th>\n",
       "      <td>Accuracy</td>\n",
       "      <td>0.342857</td>\n",
       "      <td>0.238095</td>\n",
       "      <td>0.457143</td>\n",
       "      <td>105</td>\n",
       "    </tr>\n",
       "    <tr>\n",
       "      <th>1</th>\n",
       "      <td>Weighted F1</td>\n",
       "      <td>0.285047</td>\n",
       "      <td>0.184079</td>\n",
       "      <td>0.392251</td>\n",
       "      <td>105</td>\n",
       "    </tr>\n",
       "    <tr>\n",
       "      <th>2</th>\n",
       "      <td>Macro F1</td>\n",
       "      <td>0.274893</td>\n",
       "      <td>0.179007</td>\n",
       "      <td>0.363192</td>\n",
       "      <td>105</td>\n",
       "    </tr>\n",
       "    <tr>\n",
       "      <th>3</th>\n",
       "      <td>MCC</td>\n",
       "      <td>-0.021377</td>\n",
       "      <td>-0.174610</td>\n",
       "      <td>0.146517</td>\n",
       "      <td>105</td>\n",
       "    </tr>\n",
       "    <tr>\n",
       "      <th>4</th>\n",
       "      <td>Brier</td>\n",
       "      <td>0.685836</td>\n",
       "      <td>0.644065</td>\n",
       "      <td>0.724263</td>\n",
       "      <td>105</td>\n",
       "    </tr>\n",
       "  </tbody>\n",
       "</table>\n",
       "</div>"
      ],
      "text/plain": [
       "        Metric     Point  CI Lower (95%)  CI Upper (95%)  n_weeks\n",
       "0     Accuracy  0.342857        0.238095        0.457143      105\n",
       "1  Weighted F1  0.285047        0.184079        0.392251      105\n",
       "2     Macro F1  0.274893        0.179007        0.363192      105\n",
       "3          MCC -0.021377       -0.174610        0.146517      105\n",
       "4        Brier  0.685836        0.644065        0.724263      105"
      ]
     },
     "execution_count": 42,
     "metadata": {},
     "output_type": "execute_result"
    }
   ],
   "source": [
    "u_pooled"
   ]
  },
  {
   "cell_type": "code",
   "execution_count": 43,
   "id": "b4b20210-56c4-4aac-8a57-ec1d503c1966",
   "metadata": {},
   "outputs": [
    {
     "data": {
      "text/html": [
       "<div>\n",
       "<style scoped>\n",
       "    .dataframe tbody tr th:only-of-type {\n",
       "        vertical-align: middle;\n",
       "    }\n",
       "\n",
       "    .dataframe tbody tr th {\n",
       "        vertical-align: top;\n",
       "    }\n",
       "\n",
       "    .dataframe thead th {\n",
       "        text-align: right;\n",
       "    }\n",
       "</style>\n",
       "<table border=\"1\" class=\"dataframe\">\n",
       "  <thead>\n",
       "    <tr style=\"text-align: right;\">\n",
       "      <th></th>\n",
       "      <th>Metric</th>\n",
       "      <th>Point</th>\n",
       "      <th>CI Lower (95%)</th>\n",
       "      <th>CI Upper (95%)</th>\n",
       "      <th>n_weeks</th>\n",
       "    </tr>\n",
       "  </thead>\n",
       "  <tbody>\n",
       "    <tr>\n",
       "      <th>0</th>\n",
       "      <td>Accuracy</td>\n",
       "      <td>0.342857</td>\n",
       "      <td>0.247619</td>\n",
       "      <td>0.438095</td>\n",
       "      <td>105</td>\n",
       "    </tr>\n",
       "    <tr>\n",
       "      <th>1</th>\n",
       "      <td>Weighted F1</td>\n",
       "      <td>0.291120</td>\n",
       "      <td>0.191268</td>\n",
       "      <td>0.393864</td>\n",
       "      <td>105</td>\n",
       "    </tr>\n",
       "    <tr>\n",
       "      <th>2</th>\n",
       "      <td>Macro F1</td>\n",
       "      <td>0.261261</td>\n",
       "      <td>0.186389</td>\n",
       "      <td>0.327100</td>\n",
       "      <td>105</td>\n",
       "    </tr>\n",
       "    <tr>\n",
       "      <th>3</th>\n",
       "      <td>MCC</td>\n",
       "      <td>-0.040046</td>\n",
       "      <td>-0.161484</td>\n",
       "      <td>0.087896</td>\n",
       "      <td>105</td>\n",
       "    </tr>\n",
       "    <tr>\n",
       "      <th>4</th>\n",
       "      <td>Brier</td>\n",
       "      <td>0.684413</td>\n",
       "      <td>0.648522</td>\n",
       "      <td>0.720725</td>\n",
       "      <td>105</td>\n",
       "    </tr>\n",
       "  </tbody>\n",
       "</table>\n",
       "</div>"
      ],
      "text/plain": [
       "        Metric     Point  CI Lower (95%)  CI Upper (95%)  n_weeks\n",
       "0     Accuracy  0.342857        0.247619        0.438095      105\n",
       "1  Weighted F1  0.291120        0.191268        0.393864      105\n",
       "2     Macro F1  0.261261        0.186389        0.327100      105\n",
       "3          MCC -0.040046       -0.161484        0.087896      105\n",
       "4        Brier  0.684413        0.648522        0.720725      105"
      ]
     },
     "execution_count": 43,
     "metadata": {},
     "output_type": "execute_result"
    }
   ],
   "source": [
    "w_pooled"
   ]
  },
  {
   "cell_type": "markdown",
   "id": "fb06b864-2f8b-4735-8964-b3f1db42959c",
   "metadata": {},
   "source": [
    "## Now the significance tests vs Random-Walk (paired on the same weeks):"
   ]
  },
  {
   "cell_type": "code",
   "execution_count": 44,
   "id": "28f8800e-b341-43d4-ad03-626c45fa7bc1",
   "metadata": {},
   "outputs": [],
   "source": [
    "# Align your model OOS with RW and run McNemar (hits) + Diebold–Mariano (0–1 loss)\n",
    "def evaluate_model_vs_rw(model_preds_csv):\n",
    "    model_df = pd.read_csv(model_preds_csv)\n",
    "    merged = pd.merge(\n",
    "        rw.rename(columns={'y_pred':'y_pred_rw'}),\n",
    "        model_df[['Week','split_id','y_pred']],\n",
    "        on=['Week','split_id'], how='inner'\n",
    "    ).rename(columns={'y_pred':'y_pred_model'})\n",
    "    y_true = merged['y_true'].astype(int).to_numpy()\n",
    "    y_rw   = merged['y_pred_rw'].astype(int).to_numpy()\n",
    "    y_m    = merged['y_pred_model'].astype(int).to_numpy()\n",
    "\n",
    "    # McNemar\n",
    "    hit_rw = (y_rw   == y_true).astype(int)\n",
    "    hit_m  = (y_m    == y_true).astype(int)\n",
    "    n01 = int(((hit_rw == 0) & (hit_m == 1)).sum())  # RW wrong, model right\n",
    "    n10 = int(((hit_rw == 1) & (hit_m == 0)).sum())  # RW right, model wrong\n",
    "    from math import fabs\n",
    "    from scipy.stats import chi2, norm\n",
    "    if (n01 + n10) == 0:\n",
    "        mcnemar = {\"n01\": n01, \"n10\": n10, \"chi2\": 0.0, \"p_value\": 1.0}\n",
    "    else:\n",
    "        chi2_stat = (fabs(n01 - n10) - 1)**2 / (n01 + n10)\n",
    "        mcnemar = {\"n01\": n01, \"n10\": n10, \"chi2\": chi2_stat, \"p_value\": 1 - chi2.cdf(chi2_stat, 1)}\n",
    "\n",
    "    # DM test on 0–1 loss (h=1 → lag=0)\n",
    "    loss_m  = (y_m  != y_true).astype(int)\n",
    "    loss_rw = (y_rw != y_true).astype(int)\n",
    "    d = loss_m - loss_rw\n",
    "    T = len(d); d_bar = d.mean()\n",
    "    var = d.var(ddof=0) / T\n",
    "    dm_stat = d_bar / (np.sqrt(var) + 1e-12)\n",
    "    p_dm = 2 * (1 - norm.cdf(abs(dm_stat)))\n",
    "    dm = {\"dm_stat\": dm_stat, \"p_value\": p_dm, \"mean_diff\": d_bar, \"T\": T}\n",
    "\n",
    "    return mcnemar, dm, len(merged)"
   ]
  },
  {
   "cell_type": "code",
   "execution_count": 45,
   "id": "a742ed02-0116-4282-9ac2-5058ade0588c",
   "metadata": {},
   "outputs": [],
   "source": [
    "mc_u, dm_u, n_u = evaluate_model_vs_rw(\"Data/10_day_run/rf_unweighted_predictions.csv\")\n",
    "mc_w, dm_w, n_w = evaluate_model_vs_rw(\"Data/10_day_run/rf_weighted_predictions.csv\")"
   ]
  },
  {
   "cell_type": "code",
   "execution_count": 46,
   "id": "a835c79d-c212-4647-ab10-1b1d5e1b3076",
   "metadata": {},
   "outputs": [
    {
     "name": "stdout",
     "output_type": "stream",
     "text": [
      "Unweighted vs RW — McNemar: {'n01': 19, 'n10': 22, 'chi2': 0.0975609756097561, 'p_value': np.float64(0.7547764265871045)}  | DM: {'dm_stat': np.float64(0.46917357023158157), 'p_value': np.float64(0.6389455754689068), 'mean_diff': np.float64(0.0379746835443038), 'T': 79}  | aligned weeks: 79\n",
      "Weighted   vs RW — McNemar: {'n01': 16, 'n10': 21, 'chi2': 0.43243243243243246, 'p_value': np.float64(0.5107977981738965)}  | DM: {'dm_stat': np.float64(0.8255328496398758), 'p_value': np.float64(0.40906914081068146), 'mean_diff': np.float64(0.06329113924050633), 'T': 79}  | aligned weeks: 79\n"
     ]
    }
   ],
   "source": [
    "print(\"Unweighted vs RW — McNemar:\", mc_u, \" | DM:\", dm_u, \" | aligned weeks:\", n_u)\n",
    "print(\"Weighted   vs RW — McNemar:\", mc_w, \" | DM:\", dm_w, \" | aligned weeks:\", n_w)"
   ]
  },
  {
   "cell_type": "markdown",
   "id": "1952a968-7065-463c-86a8-74689d7cb37f",
   "metadata": {},
   "source": [
    "## Cell 5 — Reliability (calibration) curves"
   ]
  },
  {
   "cell_type": "code",
   "execution_count": 47,
   "id": "8a9507e0-3223-4ce6-90cb-ef75cf1ecaf4",
   "metadata": {},
   "outputs": [],
   "source": [
    "import numpy as np\n",
    "import pandas as pd\n",
    "import matplotlib.pyplot as plt"
   ]
  },
  {
   "cell_type": "code",
   "execution_count": 48,
   "id": "1c2f0e26-44cc-465c-aef8-fd1ec8b3e2a5",
   "metadata": {},
   "outputs": [],
   "source": [
    "def reliability_points(y_true, proba, cls, classes=(-1,0,1), n_bins=10):\n",
    "    p = proba[:, list(classes).index(cls)]\n",
    "    y = (y_true == cls).astype(int)\n",
    "    bins = np.linspace(0, 1, n_bins+1)\n",
    "    mids = 0.5*(bins[:-1]+bins[1:])\n",
    "    idx = np.digitize(p, bins)-1\n",
    "    emp = []\n",
    "    for b in range(n_bins):\n",
    "        mask = idx == b\n",
    "        emp.append(np.nan if mask.sum()==0 else y[mask].mean())\n",
    "    return mids, np.array(emp)"
   ]
  },
  {
   "cell_type": "code",
   "execution_count": 49,
   "id": "416bbcdb-08d1-4243-a12a-1a15f123eeed",
   "metadata": {},
   "outputs": [],
   "source": [
    "def plot_reliability(title, preds_csv, out_png):\n",
    "    dfp = pd.read_csv(preds_csv)\n",
    "    y = dfp['y_true'].astype(int).to_numpy()\n",
    "    P = dfp[['p_-1','p_0','p_1']].to_numpy()\n",
    "    fig, axes = plt.subplots(1, 3, figsize=(12, 3))\n",
    "    for ax, cls in zip(axes, [-1,0,1]):\n",
    "        mids, emp = reliability_points(y, P, cls)\n",
    "        ax.plot([0,1],[0,1], linestyle='--')\n",
    "        ax.plot(mids, emp, marker='o')\n",
    "        ax.set_title(f\"class {cls}\")\n",
    "        ax.set_xlabel(\"Predicted probability\")\n",
    "        ax.set_ylabel(\"Empirical frequency\")\n",
    "        ax.set_xlim(0,1); ax.set_ylim(0,1)\n",
    "    fig.suptitle(title)\n",
    "    plt.tight_layout()\n",
    "    plt.savefig(out_png, dpi=150)\n",
    "    plt.show()"
   ]
  },
  {
   "cell_type": "code",
   "execution_count": 50,
   "id": "04565829-79ef-4968-9bdd-4173bff59bcd",
   "metadata": {},
   "outputs": [
    {
     "data": {
      "image/png": "[encoded data removed]",
      "text/plain": [
       "<Figure size 1200x300 with 3 Axes>"
      ]
     },
     "metadata": {},
     "output_type": "display_data"
    },
    {
     "data": {
      "image/png": "[encoded data removed]",
      "text/plain": [
       "<Figure size 1200x300 with 3 Axes>"
      ]
     },
     "metadata": {},
     "output_type": "display_data"
    }
   ],
   "source": [
    "plot_reliability(\"RF (unweighted) calibration\", \"Data/10_day_run/rf_unweighted_predictions.csv\", \"Data/10_day_run/rf_unweighted_calibration.png\")\n",
    "plot_reliability(\"RF (weighted)   calibration\", \"Data/10_day_run/rf_weighted_predictions.csv\",  \"Data/10_day_run/rf_weighted_calibration.png\")"
   ]
  },
  {
   "cell_type": "code",
   "execution_count": null,
   "id": "0afb66ee-f589-414e-bb5b-ca6728d54f97",
   "metadata": {},
   "outputs": [],
   "source": []
  }
 ],
 "metadata": {
  "kernelspec": {
   "display_name": "Python (fusionnet)",
   "language": "python",
   "name": "fusionnet"
  },
  "language_info": {
   "codemirror_mode": {
    "name": "ipython",
    "version": 3
   },
   "file_extension": ".py",
   "mimetype": "text/x-python",
   "name": "python",
   "nbconvert_exporter": "python",
   "pygments_lexer": "ipython3",
   "version": "3.10.18"
  }
 },
 "nbformat": 4,
 "nbformat_minor": 5
}
