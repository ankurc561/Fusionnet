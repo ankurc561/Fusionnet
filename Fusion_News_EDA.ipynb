{
 "cells": [
  {
   "cell_type": "markdown",
   "id": "84fe1d26-b5c1-4d00-aef6-7e100789a60c",
   "metadata": {},
   "source": [
    "# S&P Data\n",
    "Covert S&P data into weekly log returns"
   ]
  },
  {
   "cell_type": "code",
   "execution_count": null,
   "id": "ab3627a5-c20b-44dd-9947-56a276a5c5bf",
   "metadata": {},
   "outputs": [],
   "source": [
    "import pandas as pd\n",
    "import numpy as np\n",
    "import matplotlib.pyplot as plt\n",
    "from matplotlib.dates import date2num\n",
    "import seaborn as sns"
   ]
  },
  {
   "cell_type": "code",
   "execution_count": null,
   "id": "b33844e5-9adc-4d20-ab45-b4be934741f6",
   "metadata": {},
   "outputs": [],
   "source": [
    "Data_path = \"Data/SPX_07-14.csv\""
   ]
  },
  {
   "cell_type": "code",
   "execution_count": null,
   "id": "36f7d37e-e3e2-4684-9847-61be02886d13",
   "metadata": {},
   "outputs": [],
   "source": [
    "spx = pd.read_csv(Data_path)"
   ]
  },
  {
   "cell_type": "code",
   "execution_count": null,
   "id": "8df5e3fd-eb2b-4933-8489-108c06be3116",
   "metadata": {},
   "outputs": [],
   "source": [
    "spx.head()"
   ]
  },
  {
   "cell_type": "code",
   "execution_count": null,
   "id": "4ac50be6-3f45-42fd-81b9-58a92e83898f",
   "metadata": {},
   "outputs": [],
   "source": [
    "# Convert Date column to datetime\n",
    "spx['Date'] = pd.to_datetime(spx['Date'])"
   ]
  },
  {
   "cell_type": "code",
   "execution_count": null,
   "id": "1a663eee-1136-4b67-acda-275add6efeef",
   "metadata": {},
   "outputs": [],
   "source": [
    "# Sort by date\n",
    "spx = spx.sort_values(by='Date')"
   ]
  },
  {
   "cell_type": "code",
   "execution_count": null,
   "id": "f9c8e2d3-f645-4ef9-a608-953bf77d6ca3",
   "metadata": {},
   "outputs": [],
   "source": [
    "spx.head()"
   ]
  },
  {
   "cell_type": "code",
   "execution_count": null,
   "id": "83fd81d9-9c8c-4446-9322-3c0edfa32170",
   "metadata": {},
   "outputs": [],
   "source": [
    "# Resample to weekly (Sunday closing price)\n",
    "weekly_spx = spx.set_index('Date').resample('W-SUN').last()"
   ]
  },
  {
   "cell_type": "code",
   "execution_count": null,
   "id": "fca2e02e-a575-4741-8107-8f9b184434d2",
   "metadata": {},
   "outputs": [],
   "source": [
    "# Calculate log returns\n",
    "weekly_spx['log_return'] = (weekly_spx['Close'] / weekly_spx['Close'].shift(1)).apply(lambda x: pd.NA if pd.isna(x) else np.log(x))"
   ]
  },
  {
   "cell_type": "code",
   "execution_count": null,
   "id": "b5ae5018-7e97-4f57-a8ce-bc7e26bbdc7a",
   "metadata": {},
   "outputs": [],
   "source": [
    "weekly_spx.head()"
   ]
  },
  {
   "cell_type": "code",
   "execution_count": null,
   "id": "b4b905b8-d536-4a42-bf28-c504db79bbb9",
   "metadata": {},
   "outputs": [],
   "source": [
    "# Reset index for future joins\n",
    "weekly_spx = weekly_spx.reset_index()"
   ]
  },
  {
   "cell_type": "code",
   "execution_count": null,
   "id": "090832ed-a5da-4340-87cd-d8cdbce77566",
   "metadata": {},
   "outputs": [],
   "source": [
    "weekly_spx.dropna(inplace=True)"
   ]
  },
  {
   "cell_type": "code",
   "execution_count": null,
   "id": "5bd8a8f8-6541-4c50-8a7b-764f152d4ac7",
   "metadata": {},
   "outputs": [],
   "source": [
    "weekly_spx.to_csv('Data/SPX_Weekly_06-14.csv')"
   ]
  },
  {
   "cell_type": "markdown",
   "id": "ecc9c0a2-692e-419d-9074-06331b3d4145",
   "metadata": {},
   "source": [
    "# NEWS"
   ]
  },
  {
   "cell_type": "code",
   "execution_count": null,
   "id": "6053ea1b-462e-41f7-aebf-5f239cbc71ee",
   "metadata": {},
   "outputs": [],
   "source": [
    "news_path = 'Data/news_sentiment_scores.csv'"
   ]
  },
  {
   "cell_type": "code",
   "execution_count": null,
   "id": "fe78740a-6cf8-4fde-9ed7-1670e6c2fe24",
   "metadata": {},
   "outputs": [],
   "source": [
    "file_news = pd.read_csv(news_path)"
   ]
  },
  {
   "cell_type": "code",
   "execution_count": null,
   "id": "9e4b0f29-5b4c-43db-8453-b844d880098e",
   "metadata": {},
   "outputs": [],
   "source": [
    "# Step 1: Prepare the News Data\n",
    "file_news['Date'] = pd.to_datetime(file_news['Date'])"
   ]
  },
  {
   "cell_type": "code",
   "execution_count": null,
   "id": "a181a1b5-1d7a-416d-a33e-479f46fa8af6",
   "metadata": {},
   "outputs": [],
   "source": [
    "file_news.head()"
   ]
  },
  {
   "cell_type": "code",
   "execution_count": null,
   "id": "6f6cd71d-8f34-4564-a0e8-586132ee6a5b",
   "metadata": {},
   "outputs": [],
   "source": [
    "# Step 2: Add sentiment labels to count each type\n",
    "file_news['sentiment_positive'] = file_news['Sentiment Label'].str.lower() == 'positive'\n",
    "file_news['sentiment_negative'] = file_news['Sentiment Label'].str.lower() == 'negative'\n",
    "file_news['sentiment_neutral']  = file_news['Sentiment Label'].str.lower() == 'neutral'"
   ]
  },
  {
   "cell_type": "code",
   "execution_count": null,
   "id": "a34e2a2c-1a60-4b0d-ac9f-85c33da35564",
   "metadata": {},
   "outputs": [],
   "source": [
    "# Step 3: Resample to weekly based on published date\n",
    "file_news.set_index('Date', inplace=True)\n",
    "weekly_news = file_news.resample('W-FRI').agg({\n",
    "    'Sentiment Score': ['mean', 'std'],\n",
    "    'sentiment_positive': 'sum',\n",
    "    'sentiment_negative': 'sum',\n",
    "    'sentiment_neutral': 'sum',\n",
    "    'Article': 'count'\n",
    "})"
   ]
  },
  {
   "cell_type": "code",
   "execution_count": null,
   "id": "537998b8-ef8d-465b-919f-7aa2d91456e2",
   "metadata": {},
   "outputs": [],
   "source": [
    "# Step 4: Flatten MultiIndex columns\n",
    "weekly_news.columns = ['_'.join(col).strip() for col in weekly_news.columns.values]\n",
    "weekly_news = weekly_news.reset_index()"
   ]
  },
  {
   "cell_type": "code",
   "execution_count": null,
   "id": "d776cd2e-5108-4729-b9eb-b627cab17306",
   "metadata": {},
   "outputs": [],
   "source": [
    "# Rename for clarity\n",
    "weekly_news.rename(columns={\n",
    "    'Sentiment Score_mean': 'mean_news_sentiment',\n",
    "    'Sentiment Score_std': 'std_news_sentiment',\n",
    "    'Article_count': 'num_articles',\n",
    "    'sentiment_positive_sum': 'num_positive',\n",
    "    'sentiment_negative_sum': 'num_negative',\n",
    "    'sentiment_neutral_sum': 'num_neutral'\n",
    "}, inplace=True)"
   ]
  },
  {
   "cell_type": "code",
   "execution_count": null,
   "id": "ab0ccc63-c862-46cf-9042-b73201f03b5b",
   "metadata": {},
   "outputs": [],
   "source": [
    "weekly_news.head()"
   ]
  },
  {
   "cell_type": "code",
   "execution_count": null,
   "id": "0345f642-fc1f-4ef8-8823-bd620286f984",
   "metadata": {},
   "outputs": [],
   "source": [
    "# Set up plots\n",
    "plt.figure(figsize=(12, 6))\n",
    "plt.plot(weekly_news['Date'], weekly_news['num_articles'], label='Number of Articles per Week', color='navy')\n",
    "plt.title('Number of News Articles per Week')\n",
    "plt.xlabel('Date')\n",
    "plt.ylabel('Article Count')\n",
    "plt.grid(True)\n",
    "plt.legend()\n",
    "plt.tight_layout()\n",
    "plt.savefig(\"Data/10_day_run/News_EDA_article_count.png\", dpi=300, bbox_inches=\"tight\")\n",
    "plt.show()"
   ]
  },
  {
   "cell_type": "code",
   "execution_count": null,
   "id": "eb3a651a-f454-4424-9b4a-4c5057a98eac",
   "metadata": {},
   "outputs": [],
   "source": [
    "# Plot sentiment counts (positive, negative, neutral)\n",
    "plt.figure(figsize=(12, 6))\n",
    "plt.plot(weekly_news['Date'], weekly_news['num_positive'], label='Positive', color='green')\n",
    "plt.plot(weekly_news['Date'], weekly_news['num_negative'], label='Negative', color='red')\n",
    "plt.plot(weekly_news['Date'], weekly_news['num_neutral'], label='Neutral', color='gray')\n",
    "plt.title('Weekly News Sentiment Count Distribution')\n",
    "plt.xlabel('Date')\n",
    "plt.ylabel('Article Count')\n",
    "plt.grid(True)\n",
    "plt.legend()\n",
    "plt.tight_layout()\n",
    "plt.savefig(\"Data/10_day_run/News_EDA_weekly_sentiment_dist.png\", dpi=300, bbox_inches=\"tight\")\n",
    "plt.show()"
   ]
  },
  {
   "cell_type": "markdown",
   "id": "ad4e1f80-dad1-44d4-a0b8-8d44e1060e48",
   "metadata": {},
   "source": [
    "Plot 2: Weekly Sentiment Type Counts\n",
    "Insight 1: Neutral Articles Dominate\n",
    "For most weeks, neutral sentiment articles outnumber both positive and negative ones.\n",
    "\n",
    "This aligns with expectations in financial reporting: many articles are factual and cautious.\n",
    "\n",
    "Insight 2: Negative Sentiment is Episodic but Spiky\n",
    "we see intermittent spikes in negative articles.\n",
    "\n",
    "These likely align with market downturns, earnings shocks, or crises (e.g., 2008 financial crash).\n",
    "\n",
    "Insight 3: Positive Sentiment Shows Sustained Runs\n",
    "Periods with consistent high positive sentiment suggest phases of bullish outlook (e.g., 2009–2010 post-recovery optimism).\n",
    "\n",
    "May help predict return direction if used in aggregation."
   ]
  },
  {
   "cell_type": "code",
   "execution_count": null,
   "id": "5c1a8cdb-9bbf-4c04-a526-413a3dff7658",
   "metadata": {},
   "outputs": [],
   "source": [
    "# Plot mean sentiment score over time\n",
    "plt.figure(figsize=(12, 6))\n",
    "plt.plot(weekly_news['Date'], weekly_news['mean_news_sentiment'], label='Mean Sentiment Score', color='purple')\n",
    "plt.fill_between(weekly_news['Date'],\n",
    "                 weekly_news['mean_news_sentiment'] - weekly_news['std_news_sentiment'],\n",
    "                 weekly_news['mean_news_sentiment'] + weekly_news['std_news_sentiment'],\n",
    "                 color='purple', alpha=0.2, label='±1 Std Dev')\n",
    "plt.title('Weekly Mean News Sentiment Score')\n",
    "plt.xlabel('Date')\n",
    "plt.ylabel('Sentiment Score')\n",
    "plt.grid(True)\n",
    "plt.legend()\n",
    "plt.tight_layout()\n",
    "plt.savefig(\"Data/10_day_run/News_EDA_weekly_mean_score.png\", dpi=300, bbox_inches=\"tight\")\n",
    "plt.show()"
   ]
  },
  {
   "cell_type": "markdown",
   "id": "1c37ead0-0a92-4805-a41e-b3e85809045a",
   "metadata": {},
   "source": [
    "Plot 3: Mean Sentiment Score + Variability\n",
    "\n",
    "Insight 1: Average Sentiment is Mildly Positive\n",
    "The overall mean = ~0.12, suggesting a slight upward bias in financial news tone.\n",
    "\n",
    "This supports findings in prior research that financial news leans optimistic unless triggered otherwise.\n",
    "\n",
    "Insight 2: Standard Deviation Ranges from 0.46 to 0.56+\n",
    "High std dev weeks = news with both extremes (mixed or uncertain narrative).\n",
    "\n",
    "Peaks in variability may signal volatility in markets or company events.\n",
    "\n",
    "Insight 3: Signal Quality Varies\n",
    "Some weeks have high mean sentiment and low std dev → strong consistent signal.\n",
    "\n",
    "Others have mean ~0 but high std dev → noise, disagreement, or uncertain interpretation."
   ]
  },
  {
   "cell_type": "markdown",
   "id": "f283196f-b11e-444b-b113-4d6e6bccd322",
   "metadata": {},
   "source": [
    "# Removing Bias"
   ]
  },
  {
   "cell_type": "markdown",
   "id": "34fb21fa-1c2a-48b0-be6e-f9882ae682cf",
   "metadata": {},
   "source": [
    "In “Using Financial News Sentiment for Stock Price Direction Prediction”, they mention:\n",
    "\n",
    "“To reduce potential bias caused by excessive coverage on certain days, we randomly select a maximum of 10 news articles per day.”\n",
    "\n",
    "This means:\n",
    "\n",
    "Max 10 articles per day, → ~50/week if equally distributed\n",
    "\n",
    "Random sampling to prevent domination by high-frequency companies or topics\n"
   ]
  },
  {
   "cell_type": "markdown",
   "id": "151c788b-ae82-400c-be9b-54e63af8254d",
   "metadata": {},
   "source": [
    "“To control for disproportionate news coverage and maintain feature consistency across time, we cap the number of articles per week to 50, randomly sampled. This follows the precedent set in prior literature (e.g., [Paper 2]), which found excessive repetition and skewed coverage can bias sentiment aggregation.”\n"
   ]
  },
  {
   "cell_type": "code",
   "execution_count": null,
   "id": "a2ec529f-8aab-44f4-82f6-89703fff7cb2",
   "metadata": {},
   "outputs": [],
   "source": [
    "file_news = pd.read_csv(news_path)"
   ]
  },
  {
   "cell_type": "code",
   "execution_count": null,
   "id": "05788922-b784-498d-839e-969107862a2d",
   "metadata": {},
   "outputs": [],
   "source": [
    "# Repeat the logic now that 'Date' is accessible\n",
    "file_news['Date'] = pd.to_datetime(file_news['Date'])\n",
    "file_news['Week'] = file_news['Date'].dt.to_period('W').apply(lambda r: r.end_time)"
   ]
  },
  {
   "cell_type": "code",
   "execution_count": null,
   "id": "1dc90e27-1838-4607-bd52-0a33ec309f6e",
   "metadata": {},
   "outputs": [],
   "source": [
    "# Group by week and sample up to 50 articles per week\n",
    "sampled_news = (\n",
    "    file_news.groupby('Week', group_keys=False)\n",
    "    .apply(lambda x: x.sample(n=50, random_state=42) if len(x) > 50 else x)\n",
    "    .reset_index(drop=True)\n",
    ")"
   ]
  },
  {
   "cell_type": "code",
   "execution_count": null,
   "id": "544a0db9-beb6-4f48-a1e5-86b565046464",
   "metadata": {},
   "outputs": [],
   "source": [
    "# Add sentiment type flags\n",
    "sampled_news['sentiment_positive'] = sampled_news['Sentiment Label'].str.lower() == 'positive'\n",
    "sampled_news['sentiment_negative'] = sampled_news['Sentiment Label'].str.lower() == 'negative'\n",
    "sampled_news['sentiment_neutral']  = sampled_news['Sentiment Label'].str.lower() == 'neutral'"
   ]
  },
  {
   "cell_type": "code",
   "execution_count": null,
   "id": "1d786c10-8fa4-4e8d-9627-4725e9c771aa",
   "metadata": {},
   "outputs": [],
   "source": [
    "# Group again by week to aggregate after capping\n",
    "weekly_sampled_news = sampled_news.groupby('Week').agg({\n",
    "    'Sentiment Score': ['mean', 'std'],\n",
    "    'sentiment_positive': 'sum',\n",
    "    'sentiment_negative': 'sum',\n",
    "    'sentiment_neutral': 'sum',\n",
    "    'Article': 'count'\n",
    "})"
   ]
  },
  {
   "cell_type": "code",
   "execution_count": null,
   "id": "9b08e201-ea44-4d38-964b-c3b330e7ee57",
   "metadata": {},
   "outputs": [],
   "source": [
    "# Flatten column names\n",
    "weekly_sampled_news.columns = ['_'.join(col).strip() for col in weekly_sampled_news.columns.values]\n",
    "weekly_sampled_news = weekly_sampled_news.reset_index()"
   ]
  },
  {
   "cell_type": "code",
   "execution_count": null,
   "id": "fd02d95a-a3ef-4582-98d3-01bbe748841f",
   "metadata": {},
   "outputs": [],
   "source": [
    "# Rename for clarity\n",
    "weekly_sampled_news.rename(columns={\n",
    "    'Week': 'Date',\n",
    "    'Sentiment Score_mean': 'mean_news_sentiment',\n",
    "    'Sentiment Score_std': 'std_news_sentiment',\n",
    "    'Article_count': 'num_articles',\n",
    "    'sentiment_positive_sum': 'num_positive',\n",
    "    'sentiment_negative_sum': 'num_negative',\n",
    "    'sentiment_neutral_sum': 'num_neutral'\n",
    "}, inplace=True)"
   ]
  },
  {
   "cell_type": "code",
   "execution_count": null,
   "id": "24f2eb33-f759-4037-b88e-cae19ac39e94",
   "metadata": {},
   "outputs": [],
   "source": [
    "weekly_sampled_news.head()"
   ]
  },
  {
   "cell_type": "code",
   "execution_count": null,
   "id": "dc73639a-26c7-42bc-89a0-d0d5097ed6c5",
   "metadata": {},
   "outputs": [],
   "source": [
    "# weekly_sampled_news.to_csv('Data/Weekly_Sampled_News_50.csv')"
   ]
  },
  {
   "cell_type": "code",
   "execution_count": null,
   "id": "7f5907fe-edb9-43ff-9c9b-ddba4cae9000",
   "metadata": {},
   "outputs": [],
   "source": [
    "# Plot capped article counts\n",
    "plt.figure(figsize=(12, 6))\n",
    "plt.plot(weekly_sampled_news['Date'], weekly_sampled_news['num_articles'], label='Articles per Week (Capped at 50)', color='teal')\n",
    "plt.title('Weekly News Article Counts (After Capping at 50)')\n",
    "plt.xlabel('Date')\n",
    "plt.ylabel('Article Count')\n",
    "plt.grid(True)\n",
    "plt.legend()\n",
    "plt.tight_layout\n",
    "plt.savefig(\"Data/10_day_run/News_EDA_weekly_article_count_capped.png\", dpi=300, bbox_inches=\"tight\")\n",
    "plt.show()"
   ]
  },
  {
   "cell_type": "code",
   "execution_count": null,
   "id": "6486f0b4-00c0-4f3c-b06e-e90d5f3c70b3",
   "metadata": {},
   "outputs": [],
   "source": [
    "# Sentiment type counts\n",
    "plt.figure(figsize=(12, 6))\n",
    "plt.plot(weekly_sampled_news['Date'], weekly_sampled_news['num_positive'], label='Positive', color='green')\n",
    "plt.plot(weekly_sampled_news['Date'], weekly_sampled_news['num_negative'], label='Negative', color='red')\n",
    "plt.plot(weekly_sampled_news['Date'], weekly_sampled_news['num_neutral'], label='Neutral', color='gray')\n",
    "plt.title('Weekly Sentiment Distribution (Capped at 50 Articles)')\n",
    "plt.xlabel('Date')\n",
    "plt.ylabel('Count')\n",
    "plt.grid(True)\n",
    "plt.legend()\n",
    "plt.tight_layout()\n",
    "plt.savefig(\"Data/10_day_run/News_EDA_weekly_sentiment_dist_capped.png\", dpi=300, bbox_inches=\"tight\")\n",
    "plt.show()\n"
   ]
  },
  {
   "cell_type": "markdown",
   "id": "91d557d8-00f4-4b46-9e23-ca7ef05576a6",
   "metadata": {},
   "source": [
    "Plot 2: Weekly Sentiment Counts (Positive, Negative, Neutral)\n",
    "Neutral-Dominant Weeks\n",
    "Neutral sentiment prevails most weeks   typical for routine reporting or balanced coverage.\n",
    "\n",
    "Spikes in Negative Sentiment\n",
    "Late 2007: Rise in negative articles coincides with the collapse of New Century Financial (April ’07) and early subprime crisis signs \n",
    "\n",
    "Sept–Oct 2008: Peaks align with Lehman Brothers collapse (Sept 15, 2008), federal bailouts, and emergency legislation \n",
    "The Guardian\n",
    "\n",
    "May 2010: Another spike during the Flash Crash event \n",
    "Council on Foreign Relations\n",
    "\n",
    "Bursts of Positive Sentiment\n",
    "2009–2010: Sustained positive coverage during recovery and policy reforms like TARP and Dodd-Frank \n",
    "\n",
    "Insight: Strong alignment between sentiment spikes and major financial events negative coverage during downturns, positive during recovery phases. This underscores the potential predictive signal in sentiment trends."
   ]
  },
  {
   "cell_type": "code",
   "execution_count": null,
   "id": "09c1ce4b-19ee-4ef3-983b-55d500e81989",
   "metadata": {},
   "outputs": [],
   "source": [
    "# Variability with mean and std\n",
    "plot_data = weekly_sampled_news.dropna(subset=['mean_news_sentiment', 'std_news_sentiment']).copy()\n",
    "# plot_data = plot_data[\n",
    "#     (plot_data['Date'] >= '2008-01-01') & \n",
    "#     (plot_data['Date'] <  '2009-01-01')\n",
    "# ]\n",
    "plot_data['x'] = date2num(plot_data['Date'])\n",
    "y_mean = plot_data['mean_news_sentiment'].to_numpy(dtype='float64')\n",
    "y1 = y_mean - plot_data['std_news_sentiment'].to_numpy(dtype='float64')\n",
    "y2 = y_mean + plot_data['std_news_sentiment'].to_numpy(dtype='float64')\n",
    "x = plot_data['x'].to_numpy(dtype='float64')"
   ]
  },
  {
   "cell_type": "code",
   "execution_count": null,
   "id": "c6a23d42-9171-415a-8d35-10f3ae3e2c98",
   "metadata": {},
   "outputs": [],
   "source": [
    "# plot_data"
   ]
  },
  {
   "cell_type": "code",
   "execution_count": null,
   "id": "05500d5c-efeb-4926-80a6-7c81c47c5c41",
   "metadata": {},
   "outputs": [],
   "source": [
    "plt.figure(figsize=(12, 6))\n",
    "plt.plot_date(x, y_mean, '-', label='Mean Sentiment Score', color='purple')\n",
    "plt.fill_between(x, y1, y2, color='purple', alpha=0.2, label='±1 Std Dev')\n",
    "plt.title('Weekly Mean News Sentiment Score (Capped @ 50) + Variability')\n",
    "plt.xlabel('Date')\n",
    "plt.ylabel('Sentiment Score')\n",
    "plt.grid(True)\n",
    "plt.legend()\n",
    "plt.tight_layout()\n",
    "plt.savefig(\"Data/10_day_run/News_EDA_weekly_mean_capped.png\", dpi=300, bbox_inches=\"tight\")\n",
    "plt.show()"
   ]
  },
  {
   "cell_type": "markdown",
   "id": "8e120e05-5af2-408b-94c7-7a49f2e5f31b",
   "metadata": {},
   "source": [
    "Plot 3: Mean Sentiment Score with Variability (±1 Std Dev Band)\n",
    "Persistent Mildly Positive Tone\n",
    "Mean sentiment hovers slightly positive (~0.1–0.2), even as standard deviation widens, reflecting cautious optimism amid uncertainty.\n",
    "\n",
    "Weeks with High Sentiment Volatility\n",
    "Late 2007 – Early 2009: Broad bands indicating media disagreement and market turmoil during subprime crisis and recession \n",
    "\n",
    "May 2010: Greater standard deviation reflects chaotic news coverage during the Flash Crash \n",
    "\n",
    "Low Variability Periods\n",
    "Post-2010: Narrower bands suggest calmer, more predictable sentiment after recovery from crises and as reforms stabilize markets \n",
    "\n",
    "Insight: Weeks of elevated emotional dispersion (high std dev) often coincide with high-stress events and sharp market turns highlighting volatility as a potential signal worth modeling."
   ]
  },
  {
   "cell_type": "markdown",
   "id": "3348bd03-5a5f-412a-8b11-3030201c8ead",
   "metadata": {},
   "source": [
    "“Our analysis reveals that while the average news tone remains slightly positive, significant peaks in negative sentiment and volatility are closely aligned with financial turning points subprime crisis onset (2007–2008), the Lehman collapse (Sept 2008), and the May 2010 Flash Crash. Conversely, periods of low sentiment variability are seen during market recovery and stabilization phases (post-2010). These patterns suggest that both the direction and dispersion of news sentiment capture meaningful signals tied to market regime shifts, underscoring their value in forecasting strategies.”\n"
   ]
  },
  {
   "cell_type": "markdown",
   "id": "ff4854a8-0b75-42fd-b5a2-1bea7f4d807c",
   "metadata": {},
   "source": [
    "# ADDITIONAL EDA"
   ]
  },
  {
   "cell_type": "code",
   "execution_count": null,
   "id": "f3f58044-8672-4a76-bc54-00552a4a5e16",
   "metadata": {},
   "outputs": [],
   "source": [
    "weekly_news  = weekly_sampled_news.copy()\n",
    "# news_df['Week'] = news_df['DateTime'].dt.to_period('W').apply(lambda r: r.start_time)"
   ]
  },
  {
   "cell_type": "code",
   "execution_count": null,
   "id": "10d4f4a3-1493-4fd0-a5e0-e9988b12d0e5",
   "metadata": {},
   "outputs": [],
   "source": [
    "count_10 = weekly_news[weekly_news['num_articles'] < 10].shape[0]\n",
    "count_50 = weekly_news[weekly_news['num_articles'] < 50].shape[0]"
   ]
  },
  {
   "cell_type": "code",
   "execution_count": null,
   "id": "e9d37ce4-c5b2-41e8-a878-e76ce501ab72",
   "metadata": {},
   "outputs": [],
   "source": [
    "# Plot 1: Time series of mean weekly sentiment\n",
    "plt.figure(figsize=(10,4))\n",
    "plt.plot(weekly_news['Date'], weekly_news['mean_news_sentiment'], marker='o', linestyle='-')\n",
    "plt.title('Weekly Mean News Sentiment Over Time')\n",
    "plt.xlabel('Week')\n",
    "plt.ylabel('Mean Sentiment Score')\n",
    "plt.xticks(rotation=45)\n",
    "plt.tight_layout()\n",
    "plt.show()"
   ]
  },
  {
   "cell_type": "code",
   "execution_count": null,
   "id": "dbdc5e22-7241-4b4c-985f-5f7034457424",
   "metadata": {},
   "outputs": [],
   "source": [
    "# Plot 2: Distribution of weekly mean sentiment\n",
    "plt.figure(figsize=(6,4))\n",
    "plt.hist(weekly_news['mean_news_sentiment'], bins=30, edgecolor='k')\n",
    "plt.title('Distribution of Weekly Mean News Sentiment')\n",
    "plt.xlabel('Mean Sentiment Score')\n",
    "plt.ylabel('Frequency')\n",
    "plt.tight_layout()\n",
    "plt.savefig(\"Data/10_day_run/News_EDA_weekly_mean_dist_capped.png\", dpi=300, bbox_inches=\"tight\")\n",
    "plt.show()"
   ]
  },
  {
   "cell_type": "code",
   "execution_count": null,
   "id": "44515102-2e23-4cb4-8dc8-222e24ddd2e4",
   "metadata": {},
   "outputs": [],
   "source": [
    "# Plot 3: Scatter num_articles vs mean_sentiment\n",
    "plt.figure(figsize=(6,4))\n",
    "plt.scatter(weekly_news['num_articles'], weekly_news['mean_news_sentiment'], alpha=0.7)\n",
    "plt.title('Weekly Article Count vs. Mean Sentiment')\n",
    "plt.xlabel('Number of Articles')\n",
    "plt.ylabel('Mean Sentiment Score')\n",
    "plt.tight_layout()\n",
    "plt.show()"
   ]
  },
  {
   "cell_type": "markdown",
   "id": "89b5ab82-bdf2-4795-99a4-8e2ee6d1dc23",
   "metadata": {},
   "source": [
    "Weekly Time‐Series of Mean Sentiment\n",
    "\n",
    "We see a lot of noise, but a few very positive spikes (late-2008/Early-2009) and deep negative dips around the Financial Crisis. After 2010 the series oscillates more tightly around zero, suggesting sentiment “regimes” that wer model might learn.\n",
    "\n",
    "Distribution of Weekly Mean Sentiment\n",
    "The histogram is tightly centered around 0–0.2, with a long negative tail (down to –0.8) and a few extreme positives (up to +1). That tells us most weeks have mildly positive aggregate sentiment, punctuated by occasional extreme sentiment events.\n",
    "\n",
    "Scatter of Article Count vs. Mean Sentiment\n",
    "\n",
    "Weeks with fewer articles (left) show the widest range of mean sentiment i.e. with only 1–10 articles, a single strongly positive/negative headline dominates the average. Weeks capped at 50 articles (right) cluster tighter around mild positive values."
   ]
  },
  {
   "cell_type": "markdown",
   "id": "6a7ecd31-c357-4940-b0af-d1f1d4d67cfd",
   "metadata": {},
   "source": [
    "Sentiment Volatility: Weeks with few articles are extremely noisy. Once we cap at 50/week, the aggregated score stabilizes but still carries crisis‐era outliers. we may want to record num_articles as a feature (or weight wer score by count) so wer model “knows” when sentiment is less reliable.\n"
   ]
  },
  {
   "cell_type": "markdown",
   "id": "dbeb2724-6451-4d70-9049-4f02032d17f2",
   "metadata": {},
   "source": [
    "### Aggreagte NEWS can be noisy due to teh fact that 131 weeks have less than 10 articels"
   ]
  },
  {
   "cell_type": "code",
   "execution_count": null,
   "id": "bade7621-d7ae-4bf8-b892-2b0d302f2e1f",
   "metadata": {},
   "outputs": [],
   "source": [
    "print(f'Total - {weekly_news.shape[0]}, less than 10 - {count_10}, less than 50 - {count_50}')"
   ]
  },
  {
   "cell_type": "markdown",
   "id": "71c0cc5d-9209-4cba-9510-9d3d0e0a4df8",
   "metadata": {},
   "source": [
    "Since over a third of wer weeks (131/359) have fewer than 10 articles\n",
    "\n",
    "1. Treat **<10-article weeks as “low coverage”**:\n",
    "\n",
    "   * **Flag** them in wer feature set (e.g. `low_coverage_week = 1` if num\\_articles < 10).\n",
    "   * **Include** `num_articles` (or its log) so wer model “knows” how reliable the sentiment is.\n",
    "\n",
    "2. **Smooth or back-fill sparse weeks** rather than trust a tiny sample:\n",
    "\n",
    "   * For any week with `< 10` articles, replace its raw mean sentiment with a **2-week rolling average**:\n",
    "\n",
    "   * This borrows information from the neighboring week, cutting the wild swings we saw in the scatter."
   ]
  },
  {
   "cell_type": "code",
   "execution_count": null,
   "id": "72fec314-fa57-443b-8e4d-3453814be552",
   "metadata": {},
   "outputs": [],
   "source": [
    "# 1. Flag low coverage weeks (<10 articles)\n",
    "weekly_news['low_coverage_week'] = weekly_news['num_articles'] < 10"
   ]
  },
  {
   "cell_type": "code",
   "execution_count": null,
   "id": "1a2c885c-ebce-43ed-bb5d-926891c17d25",
   "metadata": {},
   "outputs": [],
   "source": [
    "# 2. Smooth sentiment: borrow from previous week for low coverage\n",
    "weekly_news['smoothed_sentiment'] = weekly_news['mean_news_sentiment']\n",
    "mask = weekly_news['low_coverage_week']\n",
    "weekly_news.loc[mask, 'smoothed_sentiment'] = (\n",
    "    weekly_news['smoothed_sentiment']\n",
    "    .rolling(2, min_periods=1)\n",
    "    .mean()\n",
    ")[mask]"
   ]
  },
  {
   "cell_type": "code",
   "execution_count": null,
   "id": "a68c3d6d-a0a5-4128-b9cc-82cba1e0db0f",
   "metadata": {},
   "outputs": [],
   "source": [
    "# Plot A: Time-series of raw vs. smoothed sentiment\n",
    "plt.figure(figsize=(10,4))\n",
    "plt.plot(weekly_news['Date'], weekly_news['mean_news_sentiment'], label='Raw Weekly Mean', alpha=0.5)\n",
    "plt.plot(weekly_news['Date'], weekly_news['smoothed_sentiment'], label='Smoothed Sentiment', linewidth=2)\n",
    "plt.title('Weekly News Sentiment: Raw vs. Smoothed')\n",
    "plt.xlabel('Week')\n",
    "plt.ylabel('Sentiment Score')\n",
    "plt.legend()\n",
    "plt.xticks(rotation=45)\n",
    "plt.tight_layout()\n",
    "plt.savefig(\"Data/10_day_run/News_EDA_weekly_mean_smoothed.png\", dpi=300, bbox_inches=\"tight\")\n",
    "plt.show()"
   ]
  },
  {
   "cell_type": "code",
   "execution_count": null,
   "id": "d204f2e8-c48b-4704-9614-8b2692d5a356",
   "metadata": {},
   "outputs": [],
   "source": [
    "# Plot B: Distribution of Smoothed Sentiment\n",
    "plt.figure(figsize=(6,4))\n",
    "plt.hist(weekly_news['smoothed_sentiment'], bins=30, edgecolor='k')\n",
    "plt.title('Distribution of Smoothed Weekly Sentiment')\n",
    "plt.xlabel('Smoothed Sentiment Score')\n",
    "plt.ylabel('Frequency')\n",
    "plt.tight_layout()\n",
    "plt.savefig(\"Data/10_day_run/News_EDA_weekly_mean_dist_smoothed.png\", dpi=300, bbox_inches=\"tight\")\n",
    "plt.show()"
   ]
  },
  {
   "cell_type": "code",
   "execution_count": null,
   "id": "cf3cca45-242b-4ca7-8341-72706c58b998",
   "metadata": {},
   "outputs": [],
   "source": [
    "# Plot C: Scatter num_articles vs. smoothed_sentiment\n",
    "plt.figure(figsize=(6,4))\n",
    "plt.scatter(weekly_news['num_articles'], weekly_news['smoothed_sentiment'], alpha=0.7)\n",
    "plt.title('Articles per Week vs. Smoothed Sentiment')\n",
    "plt.xlabel('Number of Articles')\n",
    "plt.ylabel('Smoothed Sentiment Score')\n",
    "plt.tight_layout()\n",
    "plt.show()"
   ]
  },
  {
   "cell_type": "code",
   "execution_count": null,
   "id": "ad7588f3-6f21-4bb6-b7d6-26c63a5b51b8",
   "metadata": {},
   "outputs": [],
   "source": [
    "weekly_news"
   ]
  },
  {
   "cell_type": "code",
   "execution_count": null,
   "id": "a1953fe8-544f-492c-bb88-407e6c27923b",
   "metadata": {},
   "outputs": [],
   "source": [
    "# assuming weekly_news as before\n",
    "pct = weekly_news['num_articles'].quantile([.5, .75, .9, .95]).to_dict()\n",
    "print(f\"50th: {pct[0.5]:.0f}, 75th: {pct[0.75]:.0f}, 90th: {pct[0.9]:.0f}, 95th: {pct[0.95]:.0f}\")"
   ]
  },
  {
   "cell_type": "markdown",
   "id": "eb107c80-5630-424d-be73-380a38ceee67",
   "metadata": {},
   "source": [
    "## 1. Time-Series Comparison\n",
    "\n",
    "### **Before (Raw Weekly Mean)**\n",
    "\n",
    "* **Wild jumps** almost every week that had fewer than 10 articles.\n",
    "* Those tiny‐sample weeks often produced sentiment scores as high as +0.8 or as low as –0.5, even in “normal” periods.\n",
    "* This made the entire series look extremely jagged, obscuring any broader trends.\n",
    "\n",
    "### **After (Smoothed Sentiment)**\n",
    "\n",
    "* **Low-coverage weeks (<10 articles)** have now been **replaced** by a two-week rolling average.\n",
    "* In “normal” non‐crisis times, those previously extreme spikes/dips are now gently pulled back toward the prior week’s value.\n",
    "* The only places where we still see big swings are during genuinely high‐volatility events (late 2008, early 2009) which is exactly what we want wer model to pick up as true market signals, not random noise.\n",
    "\n",
    "**Bottom line:** we’ve knocked down the “random” outliers caused by having just 1–5 headlines in a week, while **retaining** the real, big sentiment moves around known crises.\n",
    "\n",
    "\n",
    "## 2. Scatter Plot Comparison\n",
    "\n",
    "### **Before (Raw vs. # of Articles)**\n",
    "\n",
    "* Weeks with 1–9 articles sat all over the place from –0.8 to +0.8 making it impossible to know if a +0.6 score came from genuine optimism or just a single glowing headline.\n",
    "* Weeks capped at 50 clustered tighter, but the “tail” of tiny‐sample weeks overwhelmed any pattern.\n",
    "\n",
    "### **After (Smoothed vs. # of Articles)**\n",
    "\n",
    "* Weeks with few articles now sit much closer to the 0–0.3 range, because we’ve overwritten their raw mean with a blend of that week and the prior one.\n",
    "* we still see more dispersion for 10–50‐article weeks (they legitimately vary), but the **tiny**‐article weeks are no longer dominating the extremes.\n",
    "\n",
    "**Bottom line:** the smoothed scatter shows that, once we account for data sparsity, nearly all wer weeks whether 12 articles or 50 produce reasonable sentiment estimates. we’ve removed the artificial “extreme outliers” without throwing away the genuine signals.\n",
    "\n",
    "\n",
    "### Why This Matters for Modeling\n",
    "\n",
    "* **Raw sentiment** would teach wer model that “1-article weeks = huge swings.” That’s not real market behavior → it’d likely over-fit those noise points.\n",
    "* **Smoothed sentiment** now better reflects the underlying, multi-headline mood of the market each week. wer model can learn true market-level sentiment patterns, not the whims of a lone headline."
   ]
  },
  {
   "cell_type": "code",
   "execution_count": null,
   "id": "8c3e7089-8a6f-49d1-852d-2bc94195fa91",
   "metadata": {},
   "outputs": [],
   "source": [
    "weekly_news.to_csv('Data/weekly_smoothed_news.csv', index=False)"
   ]
  },
  {
   "cell_type": "markdown",
   "id": "697dd375-7dfd-4d51-b8d2-4d54edf5abe8",
   "metadata": {},
   "source": [
    "## Lag structure: ACF and PACF up to lag 6 on smoothed series"
   ]
  },
  {
   "cell_type": "code",
   "execution_count": null,
   "id": "6e5280b2-ba52-49d5-9e46-39e633fa5b23",
   "metadata": {},
   "outputs": [],
   "source": [
    "from statsmodels.graphics.tsaplots import plot_acf, plot_pacf\n",
    "sm_series = weekly_news[\"smoothed_sentiment\"].dropna()\n",
    "\n",
    "acf_path =  'Data/10_day_run/eda_news_acf_smoothed.png'\n",
    "pacf_path = 'Data/10_day_run/eda_news_pacf_smoothed.png'\n",
    "\n",
    "# ACF\n",
    "fig1 = plt.figure(figsize=(6,4))\n",
    "plot_acf(sm_series, lags=6, zero=False)\n",
    "plt.title(\"ACF of smoothed weekly news sentiment (lags 1–6)\")\n",
    "plt.tight_layout()\n",
    "plt.savefig(acf_path, bbox_inches=\"tight\")\n",
    "\n",
    "# PACF\n",
    "fig2 = plt.figure(figsize=(6,4))\n",
    "plot_pacf(sm_series, lags=6, zero=False, method=\"ywm\")\n",
    "plt.title(\"PACF of smoothed weekly news sentiment (lags 1–6)\")\n",
    "plt.tight_layout()\n",
    "plt.savefig(pacf_path, bbox_inches=\"tight\")"
   ]
  },
  {
   "cell_type": "code",
   "execution_count": null,
   "id": "43f2cac6-17ac-4eba-aed8-b379821c0ffa",
   "metadata": {},
   "outputs": [],
   "source": []
  }
 ],
 "metadata": {
  "kernelspec": {
   "display_name": "Python (fusionnet)",
   "language": "python",
   "name": "fusionnet"
  },
  "language_info": {
   "codemirror_mode": {
    "name": "ipython",
    "version": 3
   },
   "file_extension": ".py",
   "mimetype": "text/x-python",
   "name": "python",
   "nbconvert_exporter": "python",
   "pygments_lexer": "ipython3",
   "version": "3.10.18"
  }
 },
 "nbformat": 4,
 "nbformat_minor": 5
}
