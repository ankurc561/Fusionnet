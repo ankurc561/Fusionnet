{
 "cells": [
  {
   "cell_type": "code",
   "execution_count": 5,
   "metadata": {
    "id": "xhjrHIL1hrb0"
   },
   "outputs": [],
   "source": [
    "import pandas as pd\n",
    "import json\n",
    "import gcsfs\n",
    "from tqdm.notebook import tqdm\n",
    "from concurrent.futures import ThreadPoolExecutor\n",
    "import os\n",
    "import warnings"
   ]
  },
  {
   "cell_type": "code",
   "execution_count": 6,
   "metadata": {},
   "outputs": [],
   "source": [
    "os.environ[\"GOOGLE_APPLICATION_CREDENTIALS\"] = \"/mnt/disks/data/diss_bucket_key.json\"\n",
    "# Turn off all warnings\n",
    "warnings.filterwarnings('ignore')"
   ]
  },
  {
   "cell_type": "code",
   "execution_count": null,
   "metadata": {
    "id": "xJNfaheVhtne"
   },
   "outputs": [],
   "source": [
    "# ==========================\n",
    "# STEP 2: Set GCS Path\n",
    "# ==========================\n",
    "BUCKET_NAME = \"diss_market_data\"\n",
    "FOLDER_PATH = \"EXTRACTED_FILINGS/10-Q/\"\n",
    "GCS_PATH = f\"{BUCKET_NAME}/{FOLDER_PATH}\""
   ]
  },
  {
   "cell_type": "code",
   "execution_count": null,
   "metadata": {
    "id": "FH114VVuhwsA"
   },
   "outputs": [],
   "source": [
    "# ==========================\n",
    "# STEP 3: Authenticate (if needed)\n",
    "# ==========================\n",
    "from google.colab import auth\n",
    "auth.authenticate_user()"
   ]
  },
  {
   "cell_type": "code",
   "execution_count": null,
   "metadata": {
    "id": "IHTPmYAxh1BO"
   },
   "outputs": [],
   "source": [
    "# ==========================\n",
    "# STEP 4: Read Files from GCS\n",
    "# ==========================\n",
    "fs = gcsfs.GCSFileSystem(project='your-gcp-project-id')  # Replace with your GCP project ID"
   ]
  },
  {
   "cell_type": "code",
   "execution_count": null,
   "metadata": {
    "id": "s6IrkaSAh5xb"
   },
   "outputs": [],
   "source": [
    "# List all JSON files in the 10-Q folder\n",
    "file_list = fs.ls(GCS_PATH)\n",
    "json_files = [file for file in file_list if file.endswith('.json')]"
   ]
  },
  {
   "cell_type": "code",
   "execution_count": null,
   "metadata": {
    "id": "eD3og7TLjfI5"
   },
   "outputs": [],
   "source": [
    "# ==========================\n",
    "# STEP 5: Parallel File Reading Function\n",
    "# ==========================\n",
    "def load_json_file(file_path):\n",
    "    try:\n",
    "        with fs.open(file_path, 'r') as f:\n",
    "            return json.load(f)\n",
    "    except Exception as e:\n",
    "        print(f\"Failed to load {file_path}: {e}\")\n",
    "        return None"
   ]
  },
  {
   "cell_type": "code",
   "execution_count": null,
   "metadata": {
    "colab": {
     "base_uri": "https://localhost:8080/",
     "height": 49,
     "referenced_widgets": [
      "4c07bc60a7bc41f5ac4b032811b8f873",
      "773ff1be65a543b0ae8fd3bd32c713fa",
      "6ce07c17bc3e4a29948763780b247167",
      "bc2a68ced44846a499a98ee82d5fc837",
      "7e4a16e10a9c49d1b2e9e33edcd50dc4",
      "f2895de2083147e5ad70a91e3975e9d9",
      "27841e94fd214e6e96da193c82958bc9",
      "3a3d0e5c41b04c5884c89a860164657a",
      "877df1053f8542d89af2b1421ee83cf1",
      "4643279bfae140468f08fdda95340abc",
      "7f59c61ff8274750a96cb4c24dcb0ee4"
     ]
    },
    "id": "l5VlRjIQh72j",
    "outputId": "2a4281be-b966-49f0-bef2-ddc52d1e4e95"
   },
   "outputs": [
    {
     "data": {
      "application/vnd.jupyter.widget-view+json": {
       "model_id": "4c07bc60a7bc41f5ac4b032811b8f873",
       "version_major": 2,
       "version_minor": 0
      },
      "text/plain": [
       "Reading 10-Q files:   0%|          | 0/7235 [00:00<?, ?it/s]"
      ]
     },
     "metadata": {},
     "output_type": "display_data"
    }
   ],
   "source": [
    "data_rows = []\n",
    "\n",
    "with ThreadPoolExecutor(max_workers=20) as executor:\n",
    "    for result in tqdm(executor.map(load_json_file, json_files), total=len(json_files), desc=\"Reading 10-Q files\"):\n",
    "        if result is not None:\n",
    "            data_rows.append(result)\n",
    "\n",
    "df = pd.DataFrame(data_rows)"
   ]
  },
  {
   "cell_type": "code",
   "execution_count": null,
   "metadata": {
    "colab": {
     "base_uri": "https://localhost:8080/"
    },
    "id": "hrlwyGOCiZWH",
    "outputId": "52b1c646-4dde-4d0b-e84f-9cee195563e9"
   },
   "outputs": [
    {
     "name": "stdout",
     "output_type": "stream",
     "text": [
      "\n",
      "Loaded 7235 documents from 10-Q folder.\n"
     ]
    },
    {
     "data": {
      "text/plain": [
       "7235"
      ]
     },
     "execution_count": 11,
     "metadata": {},
     "output_type": "execute_result"
    }
   ],
   "source": [
    "# ==========================\n",
    "# STEP 6: Show & Save\n",
    "# ==========================\n",
    "print(f\"\\nLoaded {len(df)} documents from 10-Q folder.\")\n",
    "len(df)"
   ]
  },
  {
   "cell_type": "code",
   "execution_count": null,
   "metadata": {
    "id": "gacMeoCck0JO"
   },
   "outputs": [],
   "source": [
    "# Optional: Save to CSV\n",
    "df.to_csv(\"10Q_combined_dataset.csv\", index=False)"
   ]
  },
  {
   "cell_type": "markdown",
   "metadata": {
    "id": "0heCigf0kCDZ"
   },
   "source": [
    "## 8-K"
   ]
  },
  {
   "cell_type": "code",
   "execution_count": null,
   "metadata": {
    "id": "RIj_3Fjpj6mn"
   },
   "outputs": [],
   "source": [
    "FOLDER_PATH_8k = \"EXTRACTED_FILINGS/8-K/\"\n",
    "GCS_PATH_8k = f\"{BUCKET_NAME}/{FOLDER_PATH_8k}\""
   ]
  },
  {
   "cell_type": "code",
   "execution_count": null,
   "metadata": {
    "id": "CeyC3Xy_kIEn"
   },
   "outputs": [],
   "source": [
    "# List all JSON files in the 10-Q folder\n",
    "file_list_8k = fs.ls(GCS_PATH_8k)\n",
    "json_files_8k = [file for file in file_list_8k if file.endswith('.json')]"
   ]
  },
  {
   "cell_type": "code",
   "execution_count": null,
   "metadata": {
    "colab": {
     "base_uri": "https://localhost:8080/",
     "height": 49,
     "referenced_widgets": [
      "c9e74812e5224562883a5b4820abb5b2",
      "0d245933fdb24984b556969f8d1d4f2b",
      "7112ec1aa22a4acfb49b3164ea86f860",
      "68c1ec8b02304d9db2f8218e348851f5",
      "a220102737404818aad2dd591ec56776",
      "d50f862e5c9343eeb0bb050cc38938b3",
      "f6823d45abac4ddd8c3e5401a9404d10",
      "121e49bac6204ce2b25e4e209f030771",
      "a69e432319ee4d139b4aa0dab05372d8",
      "76026ceaeef8422aa75f9f770c13a0b3",
      "7462a2ebcdcb46de96c63e68b22eaa77"
     ]
    },
    "id": "Ie0u3WRekPFj",
    "outputId": "3e9842f5-2e3c-4e5b-ffe9-fcd5b6254a82"
   },
   "outputs": [
    {
     "data": {
      "application/vnd.jupyter.widget-view+json": {
       "model_id": "c9e74812e5224562883a5b4820abb5b2",
       "version_major": 2,
       "version_minor": 0
      },
      "text/plain": [
       "Reading 8-K files:   0%|          | 0/39121 [00:00<?, ?it/s]"
      ]
     },
     "metadata": {},
     "output_type": "display_data"
    }
   ],
   "source": [
    "data_rows_8k = []\n",
    "\n",
    "with ThreadPoolExecutor(max_workers=10) as executor:\n",
    "    for result in tqdm(executor.map(load_json_file, json_files_8k), total=len(json_files_8k), desc=\"Reading 8-K files\"):\n",
    "        if result is not None:\n",
    "            data_rows_8k.append(result)\n",
    "\n",
    "df_8k = pd.DataFrame(data_rows_8k)"
   ]
  },
  {
   "cell_type": "code",
   "execution_count": null,
   "metadata": {
    "colab": {
     "base_uri": "https://localhost:8080/",
     "height": 550
    },
    "id": "PaXccFbgkSFb",
    "outputId": "7206f78a-7148-4d74-cc47-3fe5a6ce49ee"
   },
   "outputs": [
    {
     "name": "stdout",
     "output_type": "stream",
     "text": [
      "\n",
      "Loaded 39121 documents from 8-K folder.\n"
     ]
    },
    {
     "data": {
      "application/vnd.google.colaboratory.intrinsic+json": {
       "type": "dataframe",
       "variable_name": "df_8k"
      },
      "text/html": [
       "\n",
       "  <div id=\"df-f287c10a-3367-47a4-bf82-fbe3881bf78b\" class=\"colab-df-container\">\n",
       "    <div>\n",
       "<style scoped>\n",
       "    .dataframe tbody tr th:only-of-type {\n",
       "        vertical-align: middle;\n",
       "    }\n",
       "\n",
       "    .dataframe tbody tr th {\n",
       "        vertical-align: top;\n",
       "    }\n",
       "\n",
       "    .dataframe thead th {\n",
       "        text-align: right;\n",
       "    }\n",
       "</style>\n",
       "<table border=\"1\" class=\"dataframe\">\n",
       "  <thead>\n",
       "    <tr style=\"text-align: right;\">\n",
       "      <th></th>\n",
       "      <th>cik</th>\n",
       "      <th>company</th>\n",
       "      <th>filing_type</th>\n",
       "      <th>filing_date</th>\n",
       "      <th>period_of_report</th>\n",
       "      <th>sic</th>\n",
       "      <th>state_of_inc</th>\n",
       "      <th>state_location</th>\n",
       "      <th>fiscal_year_end</th>\n",
       "      <th>filing_html_index</th>\n",
       "      <th>...</th>\n",
       "      <th>item_5.07</th>\n",
       "      <th>item_5.08</th>\n",
       "      <th>item_6.01</th>\n",
       "      <th>item_6.02</th>\n",
       "      <th>item_6.03</th>\n",
       "      <th>item_6.04</th>\n",
       "      <th>item_6.05</th>\n",
       "      <th>item_7.01</th>\n",
       "      <th>item_8.01</th>\n",
       "      <th>item_9.01</th>\n",
       "    </tr>\n",
       "  </thead>\n",
       "  <tbody>\n",
       "    <tr>\n",
       "      <th>0</th>\n",
       "      <td>1000045</td>\n",
       "      <td>NICHOLAS FINANCIAL INC</td>\n",
       "      <td>8-K</td>\n",
       "      <td>2007-01-29</td>\n",
       "      <td>2007-01-29</td>\n",
       "      <td>6153</td>\n",
       "      <td>FL</td>\n",
       "      <td>FL</td>\n",
       "      <td>0331</td>\n",
       "      <td>https://www.sec.gov/Archives/edgar/data/100004...</td>\n",
       "      <td>...</td>\n",
       "      <td></td>\n",
       "      <td></td>\n",
       "      <td></td>\n",
       "      <td></td>\n",
       "      <td></td>\n",
       "      <td></td>\n",
       "      <td></td>\n",
       "      <td></td>\n",
       "      <td></td>\n",
       "      <td>Item 9.01 Financial Statements and Exhibits\\nE...</td>\n",
       "    </tr>\n",
       "    <tr>\n",
       "      <th>1</th>\n",
       "      <td>1000180</td>\n",
       "      <td>SANDISK CORP</td>\n",
       "      <td>8-K</td>\n",
       "      <td>2007-02-21</td>\n",
       "      <td>2007-02-15</td>\n",
       "      <td>3572</td>\n",
       "      <td>DE</td>\n",
       "      <td>CA</td>\n",
       "      <td>1231</td>\n",
       "      <td>https://www.sec.gov/Archives/edgar/data/100018...</td>\n",
       "      <td>...</td>\n",
       "      <td></td>\n",
       "      <td></td>\n",
       "      <td></td>\n",
       "      <td></td>\n",
       "      <td></td>\n",
       "      <td></td>\n",
       "      <td></td>\n",
       "      <td></td>\n",
       "      <td></td>\n",
       "      <td></td>\n",
       "    </tr>\n",
       "    <tr>\n",
       "      <th>2</th>\n",
       "      <td>1000180</td>\n",
       "      <td>SANDISK CORP</td>\n",
       "      <td>8-K</td>\n",
       "      <td>2007-01-30</td>\n",
       "      <td>2007-01-30</td>\n",
       "      <td>3572</td>\n",
       "      <td>DE</td>\n",
       "      <td>CA</td>\n",
       "      <td>1231</td>\n",
       "      <td>https://www.sec.gov/Archives/edgar/data/100018...</td>\n",
       "      <td>...</td>\n",
       "      <td></td>\n",
       "      <td></td>\n",
       "      <td></td>\n",
       "      <td></td>\n",
       "      <td></td>\n",
       "      <td></td>\n",
       "      <td></td>\n",
       "      <td></td>\n",
       "      <td></td>\n",
       "      <td>Item 9.01 Financial Statements and Exhibits\\n(...</td>\n",
       "    </tr>\n",
       "    <tr>\n",
       "      <th>3</th>\n",
       "      <td>1000209</td>\n",
       "      <td>MEDALLION FINANCIAL CORP</td>\n",
       "      <td>8-K</td>\n",
       "      <td>2007-01-17</td>\n",
       "      <td>2007-01-16</td>\n",
       "      <td>6199</td>\n",
       "      <td>DE</td>\n",
       "      <td>NY</td>\n",
       "      <td>1231</td>\n",
       "      <td>https://www.sec.gov/Archives/edgar/data/100020...</td>\n",
       "      <td>...</td>\n",
       "      <td></td>\n",
       "      <td></td>\n",
       "      <td></td>\n",
       "      <td></td>\n",
       "      <td></td>\n",
       "      <td></td>\n",
       "      <td></td>\n",
       "      <td></td>\n",
       "      <td></td>\n",
       "      <td>ITEM 9.01. FINANCIAL STATEMENTS AND EXHIBITS.\\...</td>\n",
       "    </tr>\n",
       "    <tr>\n",
       "      <th>4</th>\n",
       "      <td>1000209</td>\n",
       "      <td>MEDALLION FINANCIAL CORP</td>\n",
       "      <td>8-K</td>\n",
       "      <td>2007-03-19</td>\n",
       "      <td>2007-03-19</td>\n",
       "      <td>6199</td>\n",
       "      <td>DE</td>\n",
       "      <td>NY</td>\n",
       "      <td>1231</td>\n",
       "      <td>https://www.sec.gov/Archives/edgar/data/100020...</td>\n",
       "      <td>...</td>\n",
       "      <td></td>\n",
       "      <td></td>\n",
       "      <td></td>\n",
       "      <td></td>\n",
       "      <td></td>\n",
       "      <td></td>\n",
       "      <td></td>\n",
       "      <td></td>\n",
       "      <td>ITEM 8.01\\nOTHER EVENTS\\nThe Company has adopt...</td>\n",
       "      <td>ITEM 9.01\\nFINANCIAL STATEMENTS AND EXHIBITS.\\...</td>\n",
       "    </tr>\n",
       "  </tbody>\n",
       "</table>\n",
       "<p>5 rows × 45 columns</p>\n",
       "</div>\n",
       "    <div class=\"colab-df-buttons\">\n",
       "\n",
       "  <div class=\"colab-df-container\">\n",
       "    <button class=\"colab-df-convert\" onclick=\"convertToInteractive('df-f287c10a-3367-47a4-bf82-fbe3881bf78b')\"\n",
       "            title=\"Convert this dataframe to an interactive table.\"\n",
       "            style=\"display:none;\">\n",
       "\n",
       "  <svg xmlns=\"http://www.w3.org/2000/svg\" height=\"24px\" viewBox=\"0 -960 960 960\">\n",
       "    <path d=\"M120-120v-720h720v720H120Zm60-500h600v-160H180v160Zm220 220h160v-160H400v160Zm0 220h160v-160H400v160ZM180-400h160v-160H180v160Zm440 0h160v-160H620v160ZM180-180h160v-160H180v160Zm440 0h160v-160H620v160Z\"/>\n",
       "  </svg>\n",
       "    </button>\n",
       "\n",
       "  <style>\n",
       "    .colab-df-container {\n",
       "      display:flex;\n",
       "      gap: 12px;\n",
       "    }\n",
       "\n",
       "    .colab-df-convert {\n",
       "      background-color: #E8F0FE;\n",
       "      border: none;\n",
       "      border-radius: 50%;\n",
       "      cursor: pointer;\n",
       "      display: none;\n",
       "      fill: #1967D2;\n",
       "      height: 32px;\n",
       "      padding: 0 0 0 0;\n",
       "      width: 32px;\n",
       "    }\n",
       "\n",
       "    .colab-df-convert:hover {\n",
       "      background-color: #E2EBFA;\n",
       "      box-shadow: 0px 1px 2px rgba(60, 64, 67, 0.3), 0px 1px 3px 1px rgba(60, 64, 67, 0.15);\n",
       "      fill: #174EA6;\n",
       "    }\n",
       "\n",
       "    .colab-df-buttons div {\n",
       "      margin-bottom: 4px;\n",
       "    }\n",
       "\n",
       "    [theme=dark] .colab-df-convert {\n",
       "      background-color: #3B4455;\n",
       "      fill: #D2E3FC;\n",
       "    }\n",
       "\n",
       "    [theme=dark] .colab-df-convert:hover {\n",
       "      background-color: #434B5C;\n",
       "      box-shadow: 0px 1px 3px 1px rgba(0, 0, 0, 0.15);\n",
       "      filter: drop-shadow(0px 1px 2px rgba(0, 0, 0, 0.3));\n",
       "      fill: #FFFFFF;\n",
       "    }\n",
       "  </style>\n",
       "\n",
       "    <script>\n",
       "      const buttonEl =\n",
       "        document.querySelector('#df-f287c10a-3367-47a4-bf82-fbe3881bf78b button.colab-df-convert');\n",
       "      buttonEl.style.display =\n",
       "        google.colab.kernel.accessAllowed ? 'block' : 'none';\n",
       "\n",
       "      async function convertToInteractive(key) {\n",
       "        const element = document.querySelector('#df-f287c10a-3367-47a4-bf82-fbe3881bf78b');\n",
       "        const dataTable =\n",
       "          await google.colab.kernel.invokeFunction('convertToInteractive',\n",
       "                                                    [key], {});\n",
       "        if (!dataTable) return;\n",
       "\n",
       "        const docLinkHtml = 'Like what you see? Visit the ' +\n",
       "          '<a target=\"_blank\" href=https://colab.research.google.com/notebooks/data_table.ipynb>data table notebook</a>'\n",
       "          + ' to learn more about interactive tables.';\n",
       "        element.innerHTML = '';\n",
       "        dataTable['output_type'] = 'display_data';\n",
       "        await google.colab.output.renderOutput(dataTable, element);\n",
       "        const docLink = document.createElement('div');\n",
       "        docLink.innerHTML = docLinkHtml;\n",
       "        element.appendChild(docLink);\n",
       "      }\n",
       "    </script>\n",
       "  </div>\n",
       "\n",
       "\n",
       "    <div id=\"df-80201d61-7e90-4e77-8868-cb90f375d013\">\n",
       "      <button class=\"colab-df-quickchart\" onclick=\"quickchart('df-80201d61-7e90-4e77-8868-cb90f375d013')\"\n",
       "                title=\"Suggest charts\"\n",
       "                style=\"display:none;\">\n",
       "\n",
       "<svg xmlns=\"http://www.w3.org/2000/svg\" height=\"24px\"viewBox=\"0 0 24 24\"\n",
       "     width=\"24px\">\n",
       "    <g>\n",
       "        <path d=\"M19 3H5c-1.1 0-2 .9-2 2v14c0 1.1.9 2 2 2h14c1.1 0 2-.9 2-2V5c0-1.1-.9-2-2-2zM9 17H7v-7h2v7zm4 0h-2V7h2v10zm4 0h-2v-4h2v4z\"/>\n",
       "    </g>\n",
       "</svg>\n",
       "      </button>\n",
       "\n",
       "<style>\n",
       "  .colab-df-quickchart {\n",
       "      --bg-color: #E8F0FE;\n",
       "      --fill-color: #1967D2;\n",
       "      --hover-bg-color: #E2EBFA;\n",
       "      --hover-fill-color: #174EA6;\n",
       "      --disabled-fill-color: #AAA;\n",
       "      --disabled-bg-color: #DDD;\n",
       "  }\n",
       "\n",
       "  [theme=dark] .colab-df-quickchart {\n",
       "      --bg-color: #3B4455;\n",
       "      --fill-color: #D2E3FC;\n",
       "      --hover-bg-color: #434B5C;\n",
       "      --hover-fill-color: #FFFFFF;\n",
       "      --disabled-bg-color: #3B4455;\n",
       "      --disabled-fill-color: #666;\n",
       "  }\n",
       "\n",
       "  .colab-df-quickchart {\n",
       "    background-color: var(--bg-color);\n",
       "    border: none;\n",
       "    border-radius: 50%;\n",
       "    cursor: pointer;\n",
       "    display: none;\n",
       "    fill: var(--fill-color);\n",
       "    height: 32px;\n",
       "    padding: 0;\n",
       "    width: 32px;\n",
       "  }\n",
       "\n",
       "  .colab-df-quickchart:hover {\n",
       "    background-color: var(--hover-bg-color);\n",
       "    box-shadow: 0 1px 2px rgba(60, 64, 67, 0.3), 0 1px 3px 1px rgba(60, 64, 67, 0.15);\n",
       "    fill: var(--button-hover-fill-color);\n",
       "  }\n",
       "\n",
       "  .colab-df-quickchart-complete:disabled,\n",
       "  .colab-df-quickchart-complete:disabled:hover {\n",
       "    background-color: var(--disabled-bg-color);\n",
       "    fill: var(--disabled-fill-color);\n",
       "    box-shadow: none;\n",
       "  }\n",
       "\n",
       "  .colab-df-spinner {\n",
       "    border: 2px solid var(--fill-color);\n",
       "    border-color: transparent;\n",
       "    border-bottom-color: var(--fill-color);\n",
       "    animation:\n",
       "      spin 1s steps(1) infinite;\n",
       "  }\n",
       "\n",
       "  @keyframes spin {\n",
       "    0% {\n",
       "      border-color: transparent;\n",
       "      border-bottom-color: var(--fill-color);\n",
       "      border-left-color: var(--fill-color);\n",
       "    }\n",
       "    20% {\n",
       "      border-color: transparent;\n",
       "      border-left-color: var(--fill-color);\n",
       "      border-top-color: var(--fill-color);\n",
       "    }\n",
       "    30% {\n",
       "      border-color: transparent;\n",
       "      border-left-color: var(--fill-color);\n",
       "      border-top-color: var(--fill-color);\n",
       "      border-right-color: var(--fill-color);\n",
       "    }\n",
       "    40% {\n",
       "      border-color: transparent;\n",
       "      border-right-color: var(--fill-color);\n",
       "      border-top-color: var(--fill-color);\n",
       "    }\n",
       "    60% {\n",
       "      border-color: transparent;\n",
       "      border-right-color: var(--fill-color);\n",
       "    }\n",
       "    80% {\n",
       "      border-color: transparent;\n",
       "      border-right-color: var(--fill-color);\n",
       "      border-bottom-color: var(--fill-color);\n",
       "    }\n",
       "    90% {\n",
       "      border-color: transparent;\n",
       "      border-bottom-color: var(--fill-color);\n",
       "    }\n",
       "  }\n",
       "</style>\n",
       "\n",
       "      <script>\n",
       "        async function quickchart(key) {\n",
       "          const quickchartButtonEl =\n",
       "            document.querySelector('#' + key + ' button');\n",
       "          quickchartButtonEl.disabled = true;  // To prevent multiple clicks.\n",
       "          quickchartButtonEl.classList.add('colab-df-spinner');\n",
       "          try {\n",
       "            const charts = await google.colab.kernel.invokeFunction(\n",
       "                'suggestCharts', [key], {});\n",
       "          } catch (error) {\n",
       "            console.error('Error during call to suggestCharts:', error);\n",
       "          }\n",
       "          quickchartButtonEl.classList.remove('colab-df-spinner');\n",
       "          quickchartButtonEl.classList.add('colab-df-quickchart-complete');\n",
       "        }\n",
       "        (() => {\n",
       "          let quickchartButtonEl =\n",
       "            document.querySelector('#df-80201d61-7e90-4e77-8868-cb90f375d013 button');\n",
       "          quickchartButtonEl.style.display =\n",
       "            google.colab.kernel.accessAllowed ? 'block' : 'none';\n",
       "        })();\n",
       "      </script>\n",
       "    </div>\n",
       "\n",
       "    </div>\n",
       "  </div>\n"
      ],
      "text/plain": [
       "       cik                   company filing_type filing_date period_of_report  \\\n",
       "0  1000045    NICHOLAS FINANCIAL INC         8-K  2007-01-29       2007-01-29   \n",
       "1  1000180              SANDISK CORP         8-K  2007-02-21       2007-02-15   \n",
       "2  1000180              SANDISK CORP         8-K  2007-01-30       2007-01-30   \n",
       "3  1000209  MEDALLION FINANCIAL CORP         8-K  2007-01-17       2007-01-16   \n",
       "4  1000209  MEDALLION FINANCIAL CORP         8-K  2007-03-19       2007-03-19   \n",
       "\n",
       "    sic state_of_inc state_location fiscal_year_end  \\\n",
       "0  6153           FL             FL            0331   \n",
       "1  3572           DE             CA            1231   \n",
       "2  3572           DE             CA            1231   \n",
       "3  6199           DE             NY            1231   \n",
       "4  6199           DE             NY            1231   \n",
       "\n",
       "                                   filing_html_index  ... item_5.07 item_5.08  \\\n",
       "0  https://www.sec.gov/Archives/edgar/data/100004...  ...                       \n",
       "1  https://www.sec.gov/Archives/edgar/data/100018...  ...                       \n",
       "2  https://www.sec.gov/Archives/edgar/data/100018...  ...                       \n",
       "3  https://www.sec.gov/Archives/edgar/data/100020...  ...                       \n",
       "4  https://www.sec.gov/Archives/edgar/data/100020...  ...                       \n",
       "\n",
       "  item_6.01 item_6.02 item_6.03 item_6.04 item_6.05 item_7.01  \\\n",
       "0                                                               \n",
       "1                                                               \n",
       "2                                                               \n",
       "3                                                               \n",
       "4                                                               \n",
       "\n",
       "                                           item_8.01  \\\n",
       "0                                                      \n",
       "1                                                      \n",
       "2                                                      \n",
       "3                                                      \n",
       "4  ITEM 8.01\\nOTHER EVENTS\\nThe Company has adopt...   \n",
       "\n",
       "                                           item_9.01  \n",
       "0  Item 9.01 Financial Statements and Exhibits\\nE...  \n",
       "1                                                     \n",
       "2  Item 9.01 Financial Statements and Exhibits\\n(...  \n",
       "3  ITEM 9.01. FINANCIAL STATEMENTS AND EXHIBITS.\\...  \n",
       "4  ITEM 9.01\\nFINANCIAL STATEMENTS AND EXHIBITS.\\...  \n",
       "\n",
       "[5 rows x 45 columns]"
      ]
     },
     "execution_count": 25,
     "metadata": {},
     "output_type": "execute_result"
    }
   ],
   "source": [
    "# ==========================\n",
    "# STEP 6: Show & Save\n",
    "# ==========================\n",
    "print(f\"\\nLoaded {len(df_8k)} documents from 8-K folder.\")\n",
    "df_8k.head()"
   ]
  },
  {
   "cell_type": "markdown",
   "metadata": {
    "id": "IYi8Zeuyn4Pv"
   },
   "source": [
    "# Optional: Save to CSV\n",
    "df_8k.to_csv(\"8K_combined_dataset.csv\", index=False)"
   ]
  },
  {
   "cell_type": "code",
   "execution_count": null,
   "metadata": {
    "colab": {
     "base_uri": "https://localhost:8080/"
    },
    "id": "MhADG5_5n89f",
    "outputId": "a0ae4642-038f-400f-bab3-f97dbc17843d"
   },
   "outputs": [
    {
     "name": "stdout",
     "output_type": "stream",
     "text": [
      "Copying file://10Q_combined_dataset.csv [Content-Type=text/csv]...\n",
      "/ [0/1 files][    0.0 B/  1.8 GiB]   0% Done                                    \r",
      "==> NOTE: You are uploading one or more large file(s), which would run\n",
      "significantly faster if you enable parallel composite uploads. This\n",
      "feature can be enabled by editing the\n",
      "\"parallel_composite_upload_threshold\" value in your .boto\n",
      "configuration file. However, note that if you do this large files will\n",
      "be uploaded as `composite objects\n",
      "<https://cloud.google.com/storage/docs/composite-objects>`_,which\n",
      "means that any user who downloads such objects will need to have a\n",
      "compiled crcmod installed (see \"gsutil help crcmod\"). This is because\n",
      "without a compiled crcmod, computing checksums on composite objects is\n",
      "so slow that gsutil disables downloads of composite objects.\n",
      "\n",
      "Resuming upload for file://10Q_combined_dataset.csv\n",
      "-\n",
      "Operation completed over 1 objects/1.8 GiB.                                      \n"
     ]
    }
   ],
   "source": [
    "!gsutil -m cp '10Q_combined_dataset.csv' 'gs://diss_market_data/10Q_combined_dataset.csv'"
   ]
  },
  {
   "cell_type": "code",
   "execution_count": null,
   "metadata": {
    "colab": {
     "base_uri": "https://localhost:8080/"
    },
    "id": "pezuqeu1oDzn",
    "outputId": "24735357-bae0-4d8d-ca8d-687ded86f240"
   },
   "outputs": [
    {
     "name": "stdout",
     "output_type": "stream",
     "text": [
      "Copying file://8K_combined_dataset.csv [Content-Type=text/csv]...\n",
      "| [1/1 files][108.6 MiB/108.6 MiB] 100% Done                                    \n",
      "Operation completed over 1 objects/108.6 MiB.                                    \n"
     ]
    }
   ],
   "source": [
    "!gsutil -m cp '8K_combined_dataset.csv' 'gs://diss_market_data/8K_combined_dataset.csv'"
   ]
  },
  {
   "cell_type": "markdown",
   "metadata": {},
   "source": [
    "# 10-K"
   ]
  },
  {
   "cell_type": "code",
   "execution_count": 1,
   "metadata": {
    "id": "xhjrHIL1hrb0"
   },
   "outputs": [],
   "source": [
    "import pandas as pd\n",
    "import json\n",
    "import gcsfs\n",
    "from tqdm.notebook import tqdm\n",
    "from concurrent.futures import ThreadPoolExecutor"
   ]
  },
  {
   "cell_type": "code",
   "execution_count": 7,
   "metadata": {
    "id": "xJNfaheVhtne"
   },
   "outputs": [],
   "source": [
    "# ==========================\n",
    "# STEP 2: Set GCS Path\n",
    "# ==========================\n",
    "BUCKET_NAME = \"diss_market_data\"\n",
    "FOLDER_PATH = \"EXTRACTED_FILINGS/10-K/\"\n",
    "GCS_PATH = f\"{BUCKET_NAME}/{FOLDER_PATH}\""
   ]
  },
  {
   "cell_type": "code",
   "execution_count": 8,
   "metadata": {
    "id": "IHTPmYAxh1BO"
   },
   "outputs": [],
   "source": [
    "# ==========================\n",
    "# STEP 4: Read Files from GCS\n",
    "# ==========================\n",
    "fs = gcsfs.GCSFileSystem(project='your-gcp-project-id')  # Replace with your GCP project ID"
   ]
  },
  {
   "cell_type": "code",
   "execution_count": 9,
   "metadata": {
    "id": "s6IrkaSAh5xb"
   },
   "outputs": [],
   "source": [
    "# List all JSON files in the 10-Q folder\n",
    "file_list = fs.ls(GCS_PATH)\n",
    "json_files = [file for file in file_list if file.endswith('.json')]"
   ]
  },
  {
   "cell_type": "code",
   "execution_count": 10,
   "metadata": {
    "id": "eD3og7TLjfI5"
   },
   "outputs": [],
   "source": [
    "# ==========================\n",
    "# STEP 5: Parallel File Reading Function\n",
    "# ==========================\n",
    "def load_json_file(file_path):\n",
    "    try:\n",
    "        with fs.open(file_path, 'r') as f:\n",
    "            return json.load(f)\n",
    "    except Exception as e:\n",
    "        print(f\"Failed to load {file_path}: {e}\")\n",
    "        return None"
   ]
  },
  {
   "cell_type": "code",
   "execution_count": 11,
   "metadata": {
    "colab": {
     "base_uri": "https://localhost:8080/",
     "height": 49,
     "referenced_widgets": [
      "4c07bc60a7bc41f5ac4b032811b8f873",
      "773ff1be65a543b0ae8fd3bd32c713fa",
      "6ce07c17bc3e4a29948763780b247167",
      "bc2a68ced44846a499a98ee82d5fc837",
      "7e4a16e10a9c49d1b2e9e33edcd50dc4",
      "f2895de2083147e5ad70a91e3975e9d9",
      "27841e94fd214e6e96da193c82958bc9",
      "3a3d0e5c41b04c5884c89a860164657a",
      "877df1053f8542d89af2b1421ee83cf1",
      "4643279bfae140468f08fdda95340abc",
      "7f59c61ff8274750a96cb4c24dcb0ee4"
     ]
    },
    "id": "l5VlRjIQh72j",
    "outputId": "2a4281be-b966-49f0-bef2-ddc52d1e4e95"
   },
   "outputs": [
    {
     "data": {
      "application/vnd.jupyter.widget-view+json": {
       "model_id": "9b6c3e4a50dd4ebf83471fc82d1fc502",
       "version_major": 2,
       "version_minor": 0
      },
      "text/plain": [
       "Reading 10-Q files:   0%|          | 0/2341 [00:00<?, ?it/s]"
      ]
     },
     "metadata": {},
     "output_type": "display_data"
    }
   ],
   "source": [
    "data_rows = []\n",
    "\n",
    "with ThreadPoolExecutor(max_workers=20) as executor:\n",
    "    for result in tqdm(executor.map(load_json_file, json_files), total=len(json_files), desc=\"Reading 10-Q files\"):\n",
    "        if result is not None:\n",
    "            data_rows.append(result)\n",
    "\n",
    "df = pd.DataFrame(data_rows)"
   ]
  },
  {
   "cell_type": "code",
   "execution_count": 12,
   "metadata": {
    "colab": {
     "base_uri": "https://localhost:8080/"
    },
    "id": "hrlwyGOCiZWH",
    "outputId": "52b1c646-4dde-4d0b-e84f-9cee195563e9"
   },
   "outputs": [
    {
     "name": "stdout",
     "output_type": "stream",
     "text": [
      "\n",
      "Loaded 2341 documents from 10-Q folder.\n"
     ]
    },
    {
     "data": {
      "text/plain": [
       "2341"
      ]
     },
     "execution_count": 12,
     "metadata": {},
     "output_type": "execute_result"
    }
   ],
   "source": [
    "# ==========================\n",
    "# STEP 6: Show & Save\n",
    "# ==========================\n",
    "print(f\"\\nLoaded {len(df)} documents from 10-Q folder.\")\n",
    "len(df)"
   ]
  },
  {
   "cell_type": "code",
   "execution_count": 13,
   "metadata": {
    "id": "gacMeoCck0JO"
   },
   "outputs": [],
   "source": [
    "# Optional: Save to CSV\n",
    "df.to_csv(\"Data/10K_combined_dataset.csv\", index=False)"
   ]
  },
  {
   "cell_type": "code",
   "execution_count": 14,
   "metadata": {
    "colab": {
     "base_uri": "https://localhost:8080/"
    },
    "id": "5R8h8eEbA0QC",
    "outputId": "d4f7fa9f-d289-405c-d041-a4cc8fb2c31e"
   },
   "outputs": [],
   "source": [
    "load_df = pd.read_csv(\"Data/10K_combined_dataset.csv\")"
   ]
  },
  {
   "cell_type": "code",
   "execution_count": 15,
   "metadata": {},
   "outputs": [
    {
     "data": {
      "text/html": [
       "<div>\n",
       "<style scoped>\n",
       "    .dataframe tbody tr th:only-of-type {\n",
       "        vertical-align: middle;\n",
       "    }\n",
       "\n",
       "    .dataframe tbody tr th {\n",
       "        vertical-align: top;\n",
       "    }\n",
       "\n",
       "    .dataframe thead th {\n",
       "        text-align: right;\n",
       "    }\n",
       "</style>\n",
       "<table border=\"1\" class=\"dataframe\">\n",
       "  <thead>\n",
       "    <tr style=\"text-align: right;\">\n",
       "      <th></th>\n",
       "      <th>cik</th>\n",
       "      <th>company</th>\n",
       "      <th>filing_type</th>\n",
       "      <th>filing_date</th>\n",
       "      <th>period_of_report</th>\n",
       "      <th>sic</th>\n",
       "      <th>state_of_inc</th>\n",
       "      <th>state_location</th>\n",
       "      <th>fiscal_year_end</th>\n",
       "      <th>filing_html_index</th>\n",
       "      <th>...</th>\n",
       "      <th>item_9A</th>\n",
       "      <th>item_9B</th>\n",
       "      <th>item_9C</th>\n",
       "      <th>item_10</th>\n",
       "      <th>item_11</th>\n",
       "      <th>item_12</th>\n",
       "      <th>item_13</th>\n",
       "      <th>item_14</th>\n",
       "      <th>item_15</th>\n",
       "      <th>item_16</th>\n",
       "    </tr>\n",
       "  </thead>\n",
       "  <tbody>\n",
       "    <tr>\n",
       "      <th>0</th>\n",
       "      <td>1000697</td>\n",
       "      <td>WATERS CORP /DE/</td>\n",
       "      <td>10-K</td>\n",
       "      <td>2007-03-01</td>\n",
       "      <td>2006-12-31</td>\n",
       "      <td>3826</td>\n",
       "      <td>DE</td>\n",
       "      <td>MA</td>\n",
       "      <td>1231</td>\n",
       "      <td>https://www.sec.gov/Archives/edgar/data/100069...</td>\n",
       "      <td>...</td>\n",
       "      <td>Item 9a:\\nControls and Procedures\\n(a)\\nEvalua...</td>\n",
       "      <td>Item 9b:\\nOther Information\\nNone.\\nPART III</td>\n",
       "      <td>NaN</td>\n",
       "      <td>Item 10:\\nDirectors, Executive Officers and Co...</td>\n",
       "      <td>Item 11:\\nExecutive Compensation\\nThis informa...</td>\n",
       "      <td>Item 12:\\nSecurity Ownership of Certain Benefi...</td>\n",
       "      <td>Item 13:\\nCertain Relationships and Related Tr...</td>\n",
       "      <td>Item 14:\\nPrincipal Accountant Fees and Servic...</td>\n",
       "      <td>Item 15:\\nExhibits and Financial Statement Sch...</td>\n",
       "      <td>NaN</td>\n",
       "    </tr>\n",
       "    <tr>\n",
       "      <th>1</th>\n",
       "      <td>1000697</td>\n",
       "      <td>WATERS CORP /DE/</td>\n",
       "      <td>10-K</td>\n",
       "      <td>2008-02-29</td>\n",
       "      <td>2007-12-31</td>\n",
       "      <td>3826</td>\n",
       "      <td>DE</td>\n",
       "      <td>MA</td>\n",
       "      <td>1231</td>\n",
       "      <td>https://www.sec.gov/Archives/edgar/data/100069...</td>\n",
       "      <td>...</td>\n",
       "      <td>Item 9A:\\nControls and Procedures\\nEvaluation ...</td>\n",
       "      <td>Item 9B:\\nOther Information\\nNone.\\nPART III</td>\n",
       "      <td>NaN</td>\n",
       "      <td>Item 10:\\nDirectors, Executive Officers and Co...</td>\n",
       "      <td>Item 11:\\nExecutive Compensation\\nThis informa...</td>\n",
       "      <td>Item 12:\\nSecurity Ownership of Certain Benefi...</td>\n",
       "      <td>Item 13:\\nCertain Relationships and Related Tr...</td>\n",
       "      <td>Item 14:\\nPrincipal Accountant Fees and Servic...</td>\n",
       "      <td>Item 15:\\nExhibits and Financial Statement Sch...</td>\n",
       "      <td>NaN</td>\n",
       "    </tr>\n",
       "    <tr>\n",
       "      <th>2</th>\n",
       "      <td>1000697</td>\n",
       "      <td>WATERS CORP /DE/</td>\n",
       "      <td>10-K</td>\n",
       "      <td>2009-02-27</td>\n",
       "      <td>2008-12-31</td>\n",
       "      <td>3826</td>\n",
       "      <td>DE</td>\n",
       "      <td>MA</td>\n",
       "      <td>1231</td>\n",
       "      <td>https://www.sec.gov/Archives/edgar/data/100069...</td>\n",
       "      <td>...</td>\n",
       "      <td>Item 9A:\\nControls and Procedures\\nEvaluation ...</td>\n",
       "      <td>Item 9B:\\nOther Information\\nNone.\\nPART III</td>\n",
       "      <td>NaN</td>\n",
       "      <td>Item 10:\\nDirectors, Executive Officers and Co...</td>\n",
       "      <td>Item 11:\\nExecutive Compensation\\nThis informa...</td>\n",
       "      <td>Item 12:\\nSecurity Ownership of Certain Benefi...</td>\n",
       "      <td>Item 13:\\nCertain Relationships and Related Tr...</td>\n",
       "      <td>Item 14:\\nPrincipal Accountant Fees and Servic...</td>\n",
       "      <td>Item 15:\\nExhibits and Financial Statement Sch...</td>\n",
       "      <td>NaN</td>\n",
       "    </tr>\n",
       "    <tr>\n",
       "      <th>3</th>\n",
       "      <td>1000697</td>\n",
       "      <td>WATERS CORP /DE/</td>\n",
       "      <td>10-K</td>\n",
       "      <td>2010-02-26</td>\n",
       "      <td>2009-12-31</td>\n",
       "      <td>3826</td>\n",
       "      <td>DE</td>\n",
       "      <td>MA</td>\n",
       "      <td>1231</td>\n",
       "      <td>https://www.sec.gov/Archives/edgar/data/100069...</td>\n",
       "      <td>...</td>\n",
       "      <td>Item 9A:\\nControls and Procedures\\nEvaluation ...</td>\n",
       "      <td>Item 9B:\\nOther Information\\nNone.\\nPART III</td>\n",
       "      <td>NaN</td>\n",
       "      <td>Item 10:\\nDirectors, Executive Officers and Co...</td>\n",
       "      <td>Item 11:\\nExecutive Compensation\\nThis informa...</td>\n",
       "      <td>Item 12:\\nSecurity Ownership of Certain Benefi...</td>\n",
       "      <td>Item 13:\\nCertain Relationships and Related Tr...</td>\n",
       "      <td>Item 14:\\nPrincipal Accountant Fees and Servic...</td>\n",
       "      <td>Item 15:\\nExhibits, Financial Statement Schedu...</td>\n",
       "      <td>NaN</td>\n",
       "    </tr>\n",
       "    <tr>\n",
       "      <th>4</th>\n",
       "      <td>1000697</td>\n",
       "      <td>WATERS CORP /DE/</td>\n",
       "      <td>10-K</td>\n",
       "      <td>2011-02-25</td>\n",
       "      <td>2010-12-31</td>\n",
       "      <td>3826</td>\n",
       "      <td>DE</td>\n",
       "      <td>MA</td>\n",
       "      <td>1231</td>\n",
       "      <td>https://www.sec.gov/Archives/edgar/data/100069...</td>\n",
       "      <td>...</td>\n",
       "      <td>Item 9A:\\nControls and Procedures\\nEvaluation ...</td>\n",
       "      <td>Item 9B:\\nOther Information\\nNone.\\nPART III</td>\n",
       "      <td>NaN</td>\n",
       "      <td>Item 10:\\nDirectors, Executive Officers and Co...</td>\n",
       "      <td>Item 11:\\nExecutive Compensation\\nThis informa...</td>\n",
       "      <td>Item 12:\\nSecurity Ownership of Certain Benefi...</td>\n",
       "      <td>Item 13:\\nCertain Relationships and Related Tr...</td>\n",
       "      <td>Item 14:\\nPrincipal Accountant Fees and Servic...</td>\n",
       "      <td>Item 15:\\nExhibits, Financial Statement Schedu...</td>\n",
       "      <td>NaN</td>\n",
       "    </tr>\n",
       "  </tbody>\n",
       "</table>\n",
       "<p>5 rows × 36 columns</p>\n",
       "</div>"
      ],
      "text/plain": [
       "       cik           company filing_type filing_date period_of_report   sic  \\\n",
       "0  1000697  WATERS CORP /DE/        10-K  2007-03-01       2006-12-31  3826   \n",
       "1  1000697  WATERS CORP /DE/        10-K  2008-02-29       2007-12-31  3826   \n",
       "2  1000697  WATERS CORP /DE/        10-K  2009-02-27       2008-12-31  3826   \n",
       "3  1000697  WATERS CORP /DE/        10-K  2010-02-26       2009-12-31  3826   \n",
       "4  1000697  WATERS CORP /DE/        10-K  2011-02-25       2010-12-31  3826   \n",
       "\n",
       "  state_of_inc state_location  fiscal_year_end  \\\n",
       "0           DE             MA             1231   \n",
       "1           DE             MA             1231   \n",
       "2           DE             MA             1231   \n",
       "3           DE             MA             1231   \n",
       "4           DE             MA             1231   \n",
       "\n",
       "                                   filing_html_index  ...  \\\n",
       "0  https://www.sec.gov/Archives/edgar/data/100069...  ...   \n",
       "1  https://www.sec.gov/Archives/edgar/data/100069...  ...   \n",
       "2  https://www.sec.gov/Archives/edgar/data/100069...  ...   \n",
       "3  https://www.sec.gov/Archives/edgar/data/100069...  ...   \n",
       "4  https://www.sec.gov/Archives/edgar/data/100069...  ...   \n",
       "\n",
       "                                             item_9A  \\\n",
       "0  Item 9a:\\nControls and Procedures\\n(a)\\nEvalua...   \n",
       "1  Item 9A:\\nControls and Procedures\\nEvaluation ...   \n",
       "2  Item 9A:\\nControls and Procedures\\nEvaluation ...   \n",
       "3  Item 9A:\\nControls and Procedures\\nEvaluation ...   \n",
       "4  Item 9A:\\nControls and Procedures\\nEvaluation ...   \n",
       "\n",
       "                                        item_9B item_9C  \\\n",
       "0  Item 9b:\\nOther Information\\nNone.\\nPART III     NaN   \n",
       "1  Item 9B:\\nOther Information\\nNone.\\nPART III     NaN   \n",
       "2  Item 9B:\\nOther Information\\nNone.\\nPART III     NaN   \n",
       "3  Item 9B:\\nOther Information\\nNone.\\nPART III     NaN   \n",
       "4  Item 9B:\\nOther Information\\nNone.\\nPART III     NaN   \n",
       "\n",
       "                                             item_10  \\\n",
       "0  Item 10:\\nDirectors, Executive Officers and Co...   \n",
       "1  Item 10:\\nDirectors, Executive Officers and Co...   \n",
       "2  Item 10:\\nDirectors, Executive Officers and Co...   \n",
       "3  Item 10:\\nDirectors, Executive Officers and Co...   \n",
       "4  Item 10:\\nDirectors, Executive Officers and Co...   \n",
       "\n",
       "                                             item_11  \\\n",
       "0  Item 11:\\nExecutive Compensation\\nThis informa...   \n",
       "1  Item 11:\\nExecutive Compensation\\nThis informa...   \n",
       "2  Item 11:\\nExecutive Compensation\\nThis informa...   \n",
       "3  Item 11:\\nExecutive Compensation\\nThis informa...   \n",
       "4  Item 11:\\nExecutive Compensation\\nThis informa...   \n",
       "\n",
       "                                             item_12  \\\n",
       "0  Item 12:\\nSecurity Ownership of Certain Benefi...   \n",
       "1  Item 12:\\nSecurity Ownership of Certain Benefi...   \n",
       "2  Item 12:\\nSecurity Ownership of Certain Benefi...   \n",
       "3  Item 12:\\nSecurity Ownership of Certain Benefi...   \n",
       "4  Item 12:\\nSecurity Ownership of Certain Benefi...   \n",
       "\n",
       "                                             item_13  \\\n",
       "0  Item 13:\\nCertain Relationships and Related Tr...   \n",
       "1  Item 13:\\nCertain Relationships and Related Tr...   \n",
       "2  Item 13:\\nCertain Relationships and Related Tr...   \n",
       "3  Item 13:\\nCertain Relationships and Related Tr...   \n",
       "4  Item 13:\\nCertain Relationships and Related Tr...   \n",
       "\n",
       "                                             item_14  \\\n",
       "0  Item 14:\\nPrincipal Accountant Fees and Servic...   \n",
       "1  Item 14:\\nPrincipal Accountant Fees and Servic...   \n",
       "2  Item 14:\\nPrincipal Accountant Fees and Servic...   \n",
       "3  Item 14:\\nPrincipal Accountant Fees and Servic...   \n",
       "4  Item 14:\\nPrincipal Accountant Fees and Servic...   \n",
       "\n",
       "                                             item_15 item_16  \n",
       "0  Item 15:\\nExhibits and Financial Statement Sch...     NaN  \n",
       "1  Item 15:\\nExhibits and Financial Statement Sch...     NaN  \n",
       "2  Item 15:\\nExhibits and Financial Statement Sch...     NaN  \n",
       "3  Item 15:\\nExhibits, Financial Statement Schedu...     NaN  \n",
       "4  Item 15:\\nExhibits, Financial Statement Schedu...     NaN  \n",
       "\n",
       "[5 rows x 36 columns]"
      ]
     },
     "execution_count": 15,
     "metadata": {},
     "output_type": "execute_result"
    }
   ],
   "source": [
    "load_df.head()"
   ]
  },
  {
   "cell_type": "code",
   "execution_count": 17,
   "metadata": {},
   "outputs": [
    {
     "data": {
      "text/plain": [
       "Index(['cik', 'company', 'filing_type', 'filing_date', 'period_of_report',\n",
       "       'sic', 'state_of_inc', 'state_location', 'fiscal_year_end',\n",
       "       'filing_html_index', 'htm_filing_link', 'complete_text_filing_link',\n",
       "       'filename', 'item_1', 'item_1A', 'item_1B', 'item_1C', 'item_2',\n",
       "       'item_3', 'item_4', 'item_5', 'item_6', 'item_7', 'item_7A', 'item_8',\n",
       "       'item_9', 'item_9A', 'item_9B', 'item_9C', 'item_10', 'item_11',\n",
       "       'item_12', 'item_13', 'item_14', 'item_15', 'item_16'],\n",
       "      dtype='object')"
      ]
     },
     "execution_count": 17,
     "metadata": {},
     "output_type": "execute_result"
    }
   ],
   "source": [
    "load_df.keys()"
   ]
  },
  {
   "cell_type": "code",
   "execution_count": 16,
   "metadata": {},
   "outputs": [
    {
     "name": "stdout",
     "output_type": "stream",
     "text": [
      "Copying file://Data/10K_combined_dataset.csv [Content-Type=text/csv]...\n",
      "==> NOTE: You are uploading one or more large file(s), which would run          \n",
      "significantly faster if you enable parallel composite uploads. This\n",
      "feature can be enabled by editing the\n",
      "\"parallel_composite_upload_threshold\" value in your .boto\n",
      "configuration file. However, note that if you do this large files will\n",
      "be uploaded as `composite objects\n",
      "<https://cloud.google.com/storage/docs/composite-objects>`_,which\n",
      "means that any user who downloads such objects will need to have a\n",
      "compiled crcmod installed (see \"gsutil help crcmod\"). This is because\n",
      "without a compiled crcmod, computing checksums on composite objects is\n",
      "so slow that gsutil disables downloads of composite objects.\n",
      "\n",
      "ResumableUploadAbortException: 403 Provided scope(s) are not authorized\n",
      "CommandException: 1 file/object could not be transferred.\n"
     ]
    }
   ],
   "source": [
    "!gsutil -m cp 'Data/10K_combined_dataset.csv' 'gs://diss_market_data/10K_combined_dataset.csv'"
   ]
  },
  {
   "cell_type": "code",
   "execution_count": null,
   "metadata": {},
   "outputs": [],
   "source": []
  }
 ],
 "metadata": {
  "colab": {
   "provenance": []
  },
  "kernelspec": {
   "display_name": "Python 3 (ipykernel)",
   "language": "python",
   "name": "python3"
  },
  "language_info": {
   "codemirror_mode": {
    "name": "ipython",
    "version": 3
   },
   "file_extension": ".py",
   "mimetype": "text/x-python",
   "name": "python",
   "nbconvert_exporter": "python",
   "pygments_lexer": "ipython3",
   "version": "3.10.18"
  },
  "widgets": {
   "application/vnd.jupyter.widget-state+json": {
    "0d245933fdb24984b556969f8d1d4f2b": {
     "model_module": "@jupyter-widgets/controls",
     "model_module_version": "1.5.0",
     "model_name": "HTMLModel",
     "state": {
      "_dom_classes": [],
      "_model_module": "@jupyter-widgets/controls",
      "_model_module_version": "1.5.0",
      "_model_name": "HTMLModel",
      "_view_count": null,
      "_view_module": "@jupyter-widgets/controls",
      "_view_module_version": "1.5.0",
      "_view_name": "HTMLView",
      "description": "",
      "description_tooltip": null,
      "layout": "IPY_MODEL_d50f862e5c9343eeb0bb050cc38938b3",
      "placeholder": "​",
      "style": "IPY_MODEL_f6823d45abac4ddd8c3e5401a9404d10",
      "value": "Reading 8-K files: 100%"
     }
    },
    "121e49bac6204ce2b25e4e209f030771": {
     "model_module": "@jupyter-widgets/base",
     "model_module_version": "1.2.0",
     "model_name": "LayoutModel",
     "state": {
      "_model_module": "@jupyter-widgets/base",
      "_model_module_version": "1.2.0",
      "_model_name": "LayoutModel",
      "_view_count": null,
      "_view_module": "@jupyter-widgets/base",
      "_view_module_version": "1.2.0",
      "_view_name": "LayoutView",
      "align_content": null,
      "align_items": null,
      "align_self": null,
      "border": null,
      "bottom": null,
      "display": null,
      "flex": null,
      "flex_flow": null,
      "grid_area": null,
      "grid_auto_columns": null,
      "grid_auto_flow": null,
      "grid_auto_rows": null,
      "grid_column": null,
      "grid_gap": null,
      "grid_row": null,
      "grid_template_areas": null,
      "grid_template_columns": null,
      "grid_template_rows": null,
      "height": null,
      "justify_content": null,
      "justify_items": null,
      "left": null,
      "margin": null,
      "max_height": null,
      "max_width": null,
      "min_height": null,
      "min_width": null,
      "object_fit": null,
      "object_position": null,
      "order": null,
      "overflow": null,
      "overflow_x": null,
      "overflow_y": null,
      "padding": null,
      "right": null,
      "top": null,
      "visibility": null,
      "width": null
     }
    },
    "27841e94fd214e6e96da193c82958bc9": {
     "model_module": "@jupyter-widgets/controls",
     "model_module_version": "1.5.0",
     "model_name": "DescriptionStyleModel",
     "state": {
      "_model_module": "@jupyter-widgets/controls",
      "_model_module_version": "1.5.0",
      "_model_name": "DescriptionStyleModel",
      "_view_count": null,
      "_view_module": "@jupyter-widgets/base",
      "_view_module_version": "1.2.0",
      "_view_name": "StyleView",
      "description_width": ""
     }
    },
    "3a3d0e5c41b04c5884c89a860164657a": {
     "model_module": "@jupyter-widgets/base",
     "model_module_version": "1.2.0",
     "model_name": "LayoutModel",
     "state": {
      "_model_module": "@jupyter-widgets/base",
      "_model_module_version": "1.2.0",
      "_model_name": "LayoutModel",
      "_view_count": null,
      "_view_module": "@jupyter-widgets/base",
      "_view_module_version": "1.2.0",
      "_view_name": "LayoutView",
      "align_content": null,
      "align_items": null,
      "align_self": null,
      "border": null,
      "bottom": null,
      "display": null,
      "flex": null,
      "flex_flow": null,
      "grid_area": null,
      "grid_auto_columns": null,
      "grid_auto_flow": null,
      "grid_auto_rows": null,
      "grid_column": null,
      "grid_gap": null,
      "grid_row": null,
      "grid_template_areas": null,
      "grid_template_columns": null,
      "grid_template_rows": null,
      "height": null,
      "justify_content": null,
      "justify_items": null,
      "left": null,
      "margin": null,
      "max_height": null,
      "max_width": null,
      "min_height": null,
      "min_width": null,
      "object_fit": null,
      "object_position": null,
      "order": null,
      "overflow": null,
      "overflow_x": null,
      "overflow_y": null,
      "padding": null,
      "right": null,
      "top": null,
      "visibility": null,
      "width": null
     }
    },
    "4643279bfae140468f08fdda95340abc": {
     "model_module": "@jupyter-widgets/base",
     "model_module_version": "1.2.0",
     "model_name": "LayoutModel",
     "state": {
      "_model_module": "@jupyter-widgets/base",
      "_model_module_version": "1.2.0",
      "_model_name": "LayoutModel",
      "_view_count": null,
      "_view_module": "@jupyter-widgets/base",
      "_view_module_version": "1.2.0",
      "_view_name": "LayoutView",
      "align_content": null,
      "align_items": null,
      "align_self": null,
      "border": null,
      "bottom": null,
      "display": null,
      "flex": null,
      "flex_flow": null,
      "grid_area": null,
      "grid_auto_columns": null,
      "grid_auto_flow": null,
      "grid_auto_rows": null,
      "grid_column": null,
      "grid_gap": null,
      "grid_row": null,
      "grid_template_areas": null,
      "grid_template_columns": null,
      "grid_template_rows": null,
      "height": null,
      "justify_content": null,
      "justify_items": null,
      "left": null,
      "margin": null,
      "max_height": null,
      "max_width": null,
      "min_height": null,
      "min_width": null,
      "object_fit": null,
      "object_position": null,
      "order": null,
      "overflow": null,
      "overflow_x": null,
      "overflow_y": null,
      "padding": null,
      "right": null,
      "top": null,
      "visibility": null,
      "width": null
     }
    },
    "4c07bc60a7bc41f5ac4b032811b8f873": {
     "model_module": "@jupyter-widgets/controls",
     "model_module_version": "1.5.0",
     "model_name": "HBoxModel",
     "state": {
      "_dom_classes": [],
      "_model_module": "@jupyter-widgets/controls",
      "_model_module_version": "1.5.0",
      "_model_name": "HBoxModel",
      "_view_count": null,
      "_view_module": "@jupyter-widgets/controls",
      "_view_module_version": "1.5.0",
      "_view_name": "HBoxView",
      "box_style": "",
      "children": [
       "IPY_MODEL_773ff1be65a543b0ae8fd3bd32c713fa",
       "IPY_MODEL_6ce07c17bc3e4a29948763780b247167",
       "IPY_MODEL_bc2a68ced44846a499a98ee82d5fc837"
      ],
      "layout": "IPY_MODEL_7e4a16e10a9c49d1b2e9e33edcd50dc4"
     }
    },
    "68c1ec8b02304d9db2f8218e348851f5": {
     "model_module": "@jupyter-widgets/controls",
     "model_module_version": "1.5.0",
     "model_name": "HTMLModel",
     "state": {
      "_dom_classes": [],
      "_model_module": "@jupyter-widgets/controls",
      "_model_module_version": "1.5.0",
      "_model_name": "HTMLModel",
      "_view_count": null,
      "_view_module": "@jupyter-widgets/controls",
      "_view_module_version": "1.5.0",
      "_view_name": "HTMLView",
      "description": "",
      "description_tooltip": null,
      "layout": "IPY_MODEL_76026ceaeef8422aa75f9f770c13a0b3",
      "placeholder": "​",
      "style": "IPY_MODEL_7462a2ebcdcb46de96c63e68b22eaa77",
      "value": " 39121/39121 [09:24&lt;00:00, 73.02it/s]"
     }
    },
    "6ce07c17bc3e4a29948763780b247167": {
     "model_module": "@jupyter-widgets/controls",
     "model_module_version": "1.5.0",
     "model_name": "FloatProgressModel",
     "state": {
      "_dom_classes": [],
      "_model_module": "@jupyter-widgets/controls",
      "_model_module_version": "1.5.0",
      "_model_name": "FloatProgressModel",
      "_view_count": null,
      "_view_module": "@jupyter-widgets/controls",
      "_view_module_version": "1.5.0",
      "_view_name": "ProgressView",
      "bar_style": "success",
      "description": "",
      "description_tooltip": null,
      "layout": "IPY_MODEL_3a3d0e5c41b04c5884c89a860164657a",
      "max": 7235,
      "min": 0,
      "orientation": "horizontal",
      "style": "IPY_MODEL_877df1053f8542d89af2b1421ee83cf1",
      "value": 7235
     }
    },
    "7112ec1aa22a4acfb49b3164ea86f860": {
     "model_module": "@jupyter-widgets/controls",
     "model_module_version": "1.5.0",
     "model_name": "FloatProgressModel",
     "state": {
      "_dom_classes": [],
      "_model_module": "@jupyter-widgets/controls",
      "_model_module_version": "1.5.0",
      "_model_name": "FloatProgressModel",
      "_view_count": null,
      "_view_module": "@jupyter-widgets/controls",
      "_view_module_version": "1.5.0",
      "_view_name": "ProgressView",
      "bar_style": "success",
      "description": "",
      "description_tooltip": null,
      "layout": "IPY_MODEL_121e49bac6204ce2b25e4e209f030771",
      "max": 39121,
      "min": 0,
      "orientation": "horizontal",
      "style": "IPY_MODEL_a69e432319ee4d139b4aa0dab05372d8",
      "value": 39121
     }
    },
    "7462a2ebcdcb46de96c63e68b22eaa77": {
     "model_module": "@jupyter-widgets/controls",
     "model_module_version": "1.5.0",
     "model_name": "DescriptionStyleModel",
     "state": {
      "_model_module": "@jupyter-widgets/controls",
      "_model_module_version": "1.5.0",
      "_model_name": "DescriptionStyleModel",
      "_view_count": null,
      "_view_module": "@jupyter-widgets/base",
      "_view_module_version": "1.2.0",
      "_view_name": "StyleView",
      "description_width": ""
     }
    },
    "76026ceaeef8422aa75f9f770c13a0b3": {
     "model_module": "@jupyter-widgets/base",
     "model_module_version": "1.2.0",
     "model_name": "LayoutModel",
     "state": {
      "_model_module": "@jupyter-widgets/base",
      "_model_module_version": "1.2.0",
      "_model_name": "LayoutModel",
      "_view_count": null,
      "_view_module": "@jupyter-widgets/base",
      "_view_module_version": "1.2.0",
      "_view_name": "LayoutView",
      "align_content": null,
      "align_items": null,
      "align_self": null,
      "border": null,
      "bottom": null,
      "display": null,
      "flex": null,
      "flex_flow": null,
      "grid_area": null,
      "grid_auto_columns": null,
      "grid_auto_flow": null,
      "grid_auto_rows": null,
      "grid_column": null,
      "grid_gap": null,
      "grid_row": null,
      "grid_template_areas": null,
      "grid_template_columns": null,
      "grid_template_rows": null,
      "height": null,
      "justify_content": null,
      "justify_items": null,
      "left": null,
      "margin": null,
      "max_height": null,
      "max_width": null,
      "min_height": null,
      "min_width": null,
      "object_fit": null,
      "object_position": null,
      "order": null,
      "overflow": null,
      "overflow_x": null,
      "overflow_y": null,
      "padding": null,
      "right": null,
      "top": null,
      "visibility": null,
      "width": null
     }
    },
    "773ff1be65a543b0ae8fd3bd32c713fa": {
     "model_module": "@jupyter-widgets/controls",
     "model_module_version": "1.5.0",
     "model_name": "HTMLModel",
     "state": {
      "_dom_classes": [],
      "_model_module": "@jupyter-widgets/controls",
      "_model_module_version": "1.5.0",
      "_model_name": "HTMLModel",
      "_view_count": null,
      "_view_module": "@jupyter-widgets/controls",
      "_view_module_version": "1.5.0",
      "_view_name": "HTMLView",
      "description": "",
      "description_tooltip": null,
      "layout": "IPY_MODEL_f2895de2083147e5ad70a91e3975e9d9",
      "placeholder": "​",
      "style": "IPY_MODEL_27841e94fd214e6e96da193c82958bc9",
      "value": "Reading 10-Q files: 100%"
     }
    },
    "7e4a16e10a9c49d1b2e9e33edcd50dc4": {
     "model_module": "@jupyter-widgets/base",
     "model_module_version": "1.2.0",
     "model_name": "LayoutModel",
     "state": {
      "_model_module": "@jupyter-widgets/base",
      "_model_module_version": "1.2.0",
      "_model_name": "LayoutModel",
      "_view_count": null,
      "_view_module": "@jupyter-widgets/base",
      "_view_module_version": "1.2.0",
      "_view_name": "LayoutView",
      "align_content": null,
      "align_items": null,
      "align_self": null,
      "border": null,
      "bottom": null,
      "display": null,
      "flex": null,
      "flex_flow": null,
      "grid_area": null,
      "grid_auto_columns": null,
      "grid_auto_flow": null,
      "grid_auto_rows": null,
      "grid_column": null,
      "grid_gap": null,
      "grid_row": null,
      "grid_template_areas": null,
      "grid_template_columns": null,
      "grid_template_rows": null,
      "height": null,
      "justify_content": null,
      "justify_items": null,
      "left": null,
      "margin": null,
      "max_height": null,
      "max_width": null,
      "min_height": null,
      "min_width": null,
      "object_fit": null,
      "object_position": null,
      "order": null,
      "overflow": null,
      "overflow_x": null,
      "overflow_y": null,
      "padding": null,
      "right": null,
      "top": null,
      "visibility": null,
      "width": null
     }
    },
    "7f59c61ff8274750a96cb4c24dcb0ee4": {
     "model_module": "@jupyter-widgets/controls",
     "model_module_version": "1.5.0",
     "model_name": "DescriptionStyleModel",
     "state": {
      "_model_module": "@jupyter-widgets/controls",
      "_model_module_version": "1.5.0",
      "_model_name": "DescriptionStyleModel",
      "_view_count": null,
      "_view_module": "@jupyter-widgets/base",
      "_view_module_version": "1.2.0",
      "_view_name": "StyleView",
      "description_width": ""
     }
    },
    "877df1053f8542d89af2b1421ee83cf1": {
     "model_module": "@jupyter-widgets/controls",
     "model_module_version": "1.5.0",
     "model_name": "ProgressStyleModel",
     "state": {
      "_model_module": "@jupyter-widgets/controls",
      "_model_module_version": "1.5.0",
      "_model_name": "ProgressStyleModel",
      "_view_count": null,
      "_view_module": "@jupyter-widgets/base",
      "_view_module_version": "1.2.0",
      "_view_name": "StyleView",
      "bar_color": null,
      "description_width": ""
     }
    },
    "a220102737404818aad2dd591ec56776": {
     "model_module": "@jupyter-widgets/base",
     "model_module_version": "1.2.0",
     "model_name": "LayoutModel",
     "state": {
      "_model_module": "@jupyter-widgets/base",
      "_model_module_version": "1.2.0",
      "_model_name": "LayoutModel",
      "_view_count": null,
      "_view_module": "@jupyter-widgets/base",
      "_view_module_version": "1.2.0",
      "_view_name": "LayoutView",
      "align_content": null,
      "align_items": null,
      "align_self": null,
      "border": null,
      "bottom": null,
      "display": null,
      "flex": null,
      "flex_flow": null,
      "grid_area": null,
      "grid_auto_columns": null,
      "grid_auto_flow": null,
      "grid_auto_rows": null,
      "grid_column": null,
      "grid_gap": null,
      "grid_row": null,
      "grid_template_areas": null,
      "grid_template_columns": null,
      "grid_template_rows": null,
      "height": null,
      "justify_content": null,
      "justify_items": null,
      "left": null,
      "margin": null,
      "max_height": null,
      "max_width": null,
      "min_height": null,
      "min_width": null,
      "object_fit": null,
      "object_position": null,
      "order": null,
      "overflow": null,
      "overflow_x": null,
      "overflow_y": null,
      "padding": null,
      "right": null,
      "top": null,
      "visibility": null,
      "width": null
     }
    },
    "a69e432319ee4d139b4aa0dab05372d8": {
     "model_module": "@jupyter-widgets/controls",
     "model_module_version": "1.5.0",
     "model_name": "ProgressStyleModel",
     "state": {
      "_model_module": "@jupyter-widgets/controls",
      "_model_module_version": "1.5.0",
      "_model_name": "ProgressStyleModel",
      "_view_count": null,
      "_view_module": "@jupyter-widgets/base",
      "_view_module_version": "1.2.0",
      "_view_name": "StyleView",
      "bar_color": null,
      "description_width": ""
     }
    },
    "bc2a68ced44846a499a98ee82d5fc837": {
     "model_module": "@jupyter-widgets/controls",
     "model_module_version": "1.5.0",
     "model_name": "HTMLModel",
     "state": {
      "_dom_classes": [],
      "_model_module": "@jupyter-widgets/controls",
      "_model_module_version": "1.5.0",
      "_model_name": "HTMLModel",
      "_view_count": null,
      "_view_module": "@jupyter-widgets/controls",
      "_view_module_version": "1.5.0",
      "_view_name": "HTMLView",
      "description": "",
      "description_tooltip": null,
      "layout": "IPY_MODEL_4643279bfae140468f08fdda95340abc",
      "placeholder": "​",
      "style": "IPY_MODEL_7f59c61ff8274750a96cb4c24dcb0ee4",
      "value": " 7235/7235 [02:09&lt;00:00, 56.57it/s]"
     }
    },
    "c9e74812e5224562883a5b4820abb5b2": {
     "model_module": "@jupyter-widgets/controls",
     "model_module_version": "1.5.0",
     "model_name": "HBoxModel",
     "state": {
      "_dom_classes": [],
      "_model_module": "@jupyter-widgets/controls",
      "_model_module_version": "1.5.0",
      "_model_name": "HBoxModel",
      "_view_count": null,
      "_view_module": "@jupyter-widgets/controls",
      "_view_module_version": "1.5.0",
      "_view_name": "HBoxView",
      "box_style": "",
      "children": [
       "IPY_MODEL_0d245933fdb24984b556969f8d1d4f2b",
       "IPY_MODEL_7112ec1aa22a4acfb49b3164ea86f860",
       "IPY_MODEL_68c1ec8b02304d9db2f8218e348851f5"
      ],
      "layout": "IPY_MODEL_a220102737404818aad2dd591ec56776"
     }
    },
    "d50f862e5c9343eeb0bb050cc38938b3": {
     "model_module": "@jupyter-widgets/base",
     "model_module_version": "1.2.0",
     "model_name": "LayoutModel",
     "state": {
      "_model_module": "@jupyter-widgets/base",
      "_model_module_version": "1.2.0",
      "_model_name": "LayoutModel",
      "_view_count": null,
      "_view_module": "@jupyter-widgets/base",
      "_view_module_version": "1.2.0",
      "_view_name": "LayoutView",
      "align_content": null,
      "align_items": null,
      "align_self": null,
      "border": null,
      "bottom": null,
      "display": null,
      "flex": null,
      "flex_flow": null,
      "grid_area": null,
      "grid_auto_columns": null,
      "grid_auto_flow": null,
      "grid_auto_rows": null,
      "grid_column": null,
      "grid_gap": null,
      "grid_row": null,
      "grid_template_areas": null,
      "grid_template_columns": null,
      "grid_template_rows": null,
      "height": null,
      "justify_content": null,
      "justify_items": null,
      "left": null,
      "margin": null,
      "max_height": null,
      "max_width": null,
      "min_height": null,
      "min_width": null,
      "object_fit": null,
      "object_position": null,
      "order": null,
      "overflow": null,
      "overflow_x": null,
      "overflow_y": null,
      "padding": null,
      "right": null,
      "top": null,
      "visibility": null,
      "width": null
     }
    },
    "f2895de2083147e5ad70a91e3975e9d9": {
     "model_module": "@jupyter-widgets/base",
     "model_module_version": "1.2.0",
     "model_name": "LayoutModel",
     "state": {
      "_model_module": "@jupyter-widgets/base",
      "_model_module_version": "1.2.0",
      "_model_name": "LayoutModel",
      "_view_count": null,
      "_view_module": "@jupyter-widgets/base",
      "_view_module_version": "1.2.0",
      "_view_name": "LayoutView",
      "align_content": null,
      "align_items": null,
      "align_self": null,
      "border": null,
      "bottom": null,
      "display": null,
      "flex": null,
      "flex_flow": null,
      "grid_area": null,
      "grid_auto_columns": null,
      "grid_auto_flow": null,
      "grid_auto_rows": null,
      "grid_column": null,
      "grid_gap": null,
      "grid_row": null,
      "grid_template_areas": null,
      "grid_template_columns": null,
      "grid_template_rows": null,
      "height": null,
      "justify_content": null,
      "justify_items": null,
      "left": null,
      "margin": null,
      "max_height": null,
      "max_width": null,
      "min_height": null,
      "min_width": null,
      "object_fit": null,
      "object_position": null,
      "order": null,
      "overflow": null,
      "overflow_x": null,
      "overflow_y": null,
      "padding": null,
      "right": null,
      "top": null,
      "visibility": null,
      "width": null
     }
    },
    "f6823d45abac4ddd8c3e5401a9404d10": {
     "model_module": "@jupyter-widgets/controls",
     "model_module_version": "1.5.0",
     "model_name": "DescriptionStyleModel",
     "state": {
      "_model_module": "@jupyter-widgets/controls",
      "_model_module_version": "1.5.0",
      "_model_name": "DescriptionStyleModel",
      "_view_count": null,
      "_view_module": "@jupyter-widgets/base",
      "_view_module_version": "1.2.0",
      "_view_name": "StyleView",
      "description_width": ""
     }
    }
   }
  }
 },
 "nbformat": 4,
 "nbformat_minor": 4
}
