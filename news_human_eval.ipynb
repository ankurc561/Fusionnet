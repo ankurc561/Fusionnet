{
 "cells": [
  {
   "cell_type": "code",
   "execution_count": 20,
   "id": "bfc4dae6-a4da-4673-99a1-4df4fa41514f",
   "metadata": {},
   "outputs": [],
   "source": [
    "import os\n",
    "import warnings\n",
    "import json\n",
    "from google.cloud import storage\n",
    "from transformers import AutoTokenizer, AutoModelForSequenceClassification\n",
    "from datasets import load_dataset, Dataset\n",
    "import torch\n",
    "from torch.utils.data import DataLoader, TensorDataset\n",
    "import pandas as pd\n",
    "from tqdm import tqdm\n",
    "import re\n",
    "import gcsfs\n",
    "import numpy as np\n",
    "from sklearn.metrics import classification_report, confusion_matrix, ConfusionMatrixDisplay, accuracy_score, f1_score\n",
    "import matplotlib.pyplot as plt\n",
    "from google.cloud import storage, bigquery\n",
    "from datasets import concatenate_datasets\n",
    "from collections import Counter\n",
    "import seaborn as sns\n",
    "os.environ[\"GOOGLE_APPLICATION_CREDENTIALS\"] = \"/mnt/disks/data/diss_bucket_key.json\"\n",
    "# Turn off all warnings\n",
    "warnings.filterwarnings('ignore')"
   ]
  },
  {
   "cell_type": "code",
   "execution_count": 21,
   "id": "21b493de-f184-442f-9c80-245c09779637",
   "metadata": {},
   "outputs": [],
   "source": [
    "os.environ[\"HF_DATASETS_CACHE\"] = \"/mnt/disks/data/hf_cache\"\n",
    "os.environ[\"HF_DATASETS_OFFLINE\"] = \"1\"  # Optional: if you're only working locally\n",
    "os.environ[\"TRANSFORMERS_CACHE\"] = \"/mnt/disks/data/transformers_cache\"\n",
    "os.environ[\"TMPDIR\"] = \"/mnt/disks/data/tmp\""
   ]
  },
  {
   "cell_type": "code",
   "execution_count": 22,
   "id": "fde74cff-e64e-49e4-9456-bc60a1b36a41",
   "metadata": {},
   "outputs": [
    {
     "name": "stdout",
     "output_type": "stream",
     "text": [
      "Number of GPUs available: 1\n",
      "NVIDIA A100-SXM4-40GB\n"
     ]
    }
   ],
   "source": [
    "# Detect number of GPUs\n",
    "gpus = torch.cuda.device_count()\n",
    "print(f\"Number of GPUs available: {gpus}\")\n",
    "print(torch.cuda.get_device_name(0))\n",
    "DEVICE = \"cuda\" if torch.cuda.is_available() else \"cpu\""
   ]
  },
  {
   "cell_type": "code",
   "execution_count": 23,
   "id": "9ce0fe3f-3600-4e35-876b-aaff3fe4c91a",
   "metadata": {},
   "outputs": [],
   "source": [
    "# === Configuration ===\n",
    "MODEL_LOCAL_DIR = \"./deberta_news\"\n",
    "PROJECT_ID = \"bamboo-mercury-462915-f0\"\n",
    "BQ_DATASET = \"edgar_sentiment\"\n",
    "BQ_TABLE = \"news_scores_overlap\"\n",
    "REGION = \"europe-west2\"\n",
    "OUTPUT_DIR = f\"gs://diss_market_data/finbert-finetune-output\"\n",
    "# MODEL_NAME = \"yiyanghkust/finbert-tone\"\n",
    "NUM_LABELS = 3"
   ]
  },
  {
   "cell_type": "code",
   "execution_count": 24,
   "id": "a69d75a4-f764-453d-8ace-2ab0fef1556a",
   "metadata": {},
   "outputs": [
    {
     "name": "stdout",
     "output_type": "stream",
     "text": [
      "Retrieved 12667 rows from filings training table edgar_sentiment.news_scores_overlap\n"
     ]
    }
   ],
   "source": [
    "# === Extract data from BigQuery for training ===\n",
    "bq_client = bigquery.Client()\n",
    "query = f\"\"\"(SELECT article, sentiment_score, sentiment_label FROM `{PROJECT_ID}.{BQ_DATASET}.{BQ_TABLE}`\n",
    "        where sentiment_label IN ('Positive', 'Neutral'))\n",
    "        UNION ALL\n",
    "        (SELECT article, sentiment_score, sentiment_label FROM `{PROJECT_ID}.{BQ_DATASET}.{BQ_TABLE}`\n",
    "        where sentiment_label IN ('Negative') LIMIT 4500)\n",
    "        \"\"\"\n",
    "df_news = bq_client.query(query).to_dataframe()\n",
    "print(f\"Retrieved {len(df_news)} rows from filings training table {BQ_DATASET}.{BQ_TABLE}\")"
   ]
  },
  {
   "cell_type": "code",
   "execution_count": 25,
   "id": "387c2a7f-e5c3-400a-ae82-e515cc91520a",
   "metadata": {},
   "outputs": [],
   "source": [
    "# === Environment Variables for HPC ===\n",
    "os.environ[\"GOOGLE_CLOUD_PROJECT\"] = PROJECT_ID\n",
    "os.environ[\"TOKENIZERS_PARALLELISM\"] = \"false\"\n",
    "os.environ[\"WANDB_DISABLED\"] = \"true\"\n",
    "os.environ[\"WANDB_MODE\"] = \"dryrun\"\n",
    "os.environ[\"NCCL_DEBUG\"] = \"INFO\"\n",
    "os.environ[\"NCCL_P2P_DISABLE\"] = \"1\""
   ]
  },
  {
   "cell_type": "code",
   "execution_count": 26,
   "id": "19f9e3b9-837a-4ca5-a24a-c4c0592ffe64",
   "metadata": {},
   "outputs": [],
   "source": [
    "# Gemini Labeled Filings in chunks\n",
    "label_map = {\"Negative\": 2, \"Neutral\": 0, \"Positive\": 1}\n",
    "df_news['label'] = df_news['sentiment_label'].map(label_map)\n",
    "df1 = df_news[['article', 'label']].rename(columns={'article': 'text'})\n",
    "df_final = pd.concat([df1])"
   ]
  },
  {
   "cell_type": "code",
   "execution_count": 27,
   "id": "6d3ba24f-851f-49a9-bc91-3e8fcad1257c",
   "metadata": {},
   "outputs": [],
   "source": [
    "# 1. Create a single Hugging Face Dataset from df_final\n",
    "ds = Dataset.from_pandas(df_final[['text', 'label']], preserve_index=False)\n",
    "\n",
    "# 2. Split into train/test (here 80% train, 20% eval)\n",
    "split = ds.train_test_split(test_size=0.2, seed=42, shuffle=True)\n",
    "\n",
    "# 3. Assign\n",
    "train_dataset_temp = split['train']\n",
    "eval_dataset  = split['test']"
   ]
  },
  {
   "cell_type": "code",
   "execution_count": 28,
   "id": "ee67b013-b102-4bf3-b0aa-041d71fa034b",
   "metadata": {},
   "outputs": [],
   "source": [
    "df = eval_dataset.to_pandas()"
   ]
  },
  {
   "cell_type": "code",
   "execution_count": 29,
   "id": "0baf45c7-68da-4270-82be-9a475e8efbcf",
   "metadata": {},
   "outputs": [
    {
     "data": {
      "text/html": [
       "<div>\n",
       "<style scoped>\n",
       "    .dataframe tbody tr th:only-of-type {\n",
       "        vertical-align: middle;\n",
       "    }\n",
       "\n",
       "    .dataframe tbody tr th {\n",
       "        vertical-align: top;\n",
       "    }\n",
       "\n",
       "    .dataframe thead th {\n",
       "        text-align: right;\n",
       "    }\n",
       "</style>\n",
       "<table border=\"1\" class=\"dataframe\">\n",
       "  <thead>\n",
       "    <tr style=\"text-align: right;\">\n",
       "      <th></th>\n",
       "      <th>text</th>\n",
       "      <th>label</th>\n",
       "    </tr>\n",
       "  </thead>\n",
       "  <tbody>\n",
       "    <tr>\n",
       "      <th>0</th>\n",
       "      <td>telephones are national and regulators were co...</td>\n",
       "      <td>2</td>\n",
       "    </tr>\n",
       "    <tr>\n",
       "      <th>1</th>\n",
       "      <td>dighton capital management, a geneva - based h...</td>\n",
       "      <td>1</td>\n",
       "    </tr>\n",
       "    <tr>\n",
       "      <th>2</th>\n",
       "      <td>demand for oil tankers will match supply by th...</td>\n",
       "      <td>1</td>\n",
       "    </tr>\n",
       "    <tr>\n",
       "      <th>3</th>\n",
       "      <td>show. thai oil pcl has hired barclays plc, hsb...</td>\n",
       "      <td>0</td>\n",
       "    </tr>\n",
       "    <tr>\n",
       "      <th>4</th>\n",
       "      <td>00056, and u. s. v. jiau, 11 - cr - 00161, u. ...</td>\n",
       "      <td>2</td>\n",
       "    </tr>\n",
       "  </tbody>\n",
       "</table>\n",
       "</div>"
      ],
      "text/plain": [
       "                                                text  label\n",
       "0  telephones are national and regulators were co...      2\n",
       "1  dighton capital management, a geneva - based h...      1\n",
       "2  demand for oil tankers will match supply by th...      1\n",
       "3  show. thai oil pcl has hired barclays plc, hsb...      0\n",
       "4  00056, and u. s. v. jiau, 11 - cr - 00161, u. ...      2"
      ]
     },
     "execution_count": 29,
     "metadata": {},
     "output_type": "execute_result"
    }
   ],
   "source": [
    "df.head()"
   ]
  },
  {
   "cell_type": "code",
   "execution_count": null,
   "id": "a7c648d4-1dea-4536-8f90-d8fb0b428fc3",
   "metadata": {},
   "outputs": [
    {
     "name": "stdout",
     "output_type": "stream",
     "text": [
      "label\n",
      "0    45\n",
      "1    45\n",
      "2    45\n",
      "Name: count, dtype: int64\n"
     ]
    }
   ],
   "source": [
    "human_eval_df = (\n",
    "    df.groupby(\"label\", group_keys=False)\n",
    "      .apply(lambda x: x.sample(n=45, random_state=42))\n",
    ")\n",
    "\n",
    "print(human_eval_df[\"label\"].value_counts())\n",
    "# -- Saving the file to review --\n",
    "human_eval_df.to_csv(\"news_human_eval.csv\", index=False)"
   ]
  },
  {
   "cell_type": "code",
   "execution_count": 31,
   "id": "21ee5b0c-259d-4a67-9fe9-d34b8700c4fa",
   "metadata": {},
   "outputs": [
    {
     "data": {
      "text/plain": [
       "DebertaV2ForSequenceClassification(\n",
       "  (deberta): DebertaV2Model(\n",
       "    (embeddings): DebertaV2Embeddings(\n",
       "      (word_embeddings): Embedding(128100, 768, padding_idx=0)\n",
       "      (LayerNorm): LayerNorm((768,), eps=1e-07, elementwise_affine=True)\n",
       "      (dropout): Dropout(p=0.1, inplace=False)\n",
       "    )\n",
       "    (encoder): DebertaV2Encoder(\n",
       "      (layer): ModuleList(\n",
       "        (0-11): 12 x DebertaV2Layer(\n",
       "          (attention): DebertaV2Attention(\n",
       "            (self): DisentangledSelfAttention(\n",
       "              (query_proj): Linear(in_features=768, out_features=768, bias=True)\n",
       "              (key_proj): Linear(in_features=768, out_features=768, bias=True)\n",
       "              (value_proj): Linear(in_features=768, out_features=768, bias=True)\n",
       "              (pos_dropout): Dropout(p=0.1, inplace=False)\n",
       "              (dropout): Dropout(p=0.1, inplace=False)\n",
       "            )\n",
       "            (output): DebertaV2SelfOutput(\n",
       "              (dense): Linear(in_features=768, out_features=768, bias=True)\n",
       "              (LayerNorm): LayerNorm((768,), eps=1e-07, elementwise_affine=True)\n",
       "              (dropout): Dropout(p=0.1, inplace=False)\n",
       "            )\n",
       "          )\n",
       "          (intermediate): DebertaV2Intermediate(\n",
       "            (dense): Linear(in_features=768, out_features=3072, bias=True)\n",
       "            (intermediate_act_fn): GELUActivation()\n",
       "          )\n",
       "          (output): DebertaV2Output(\n",
       "            (dense): Linear(in_features=3072, out_features=768, bias=True)\n",
       "            (LayerNorm): LayerNorm((768,), eps=1e-07, elementwise_affine=True)\n",
       "            (dropout): Dropout(p=0.1, inplace=False)\n",
       "          )\n",
       "        )\n",
       "      )\n",
       "      (rel_embeddings): Embedding(512, 768)\n",
       "      (LayerNorm): LayerNorm((768,), eps=1e-07, elementwise_affine=True)\n",
       "    )\n",
       "  )\n",
       "  (pooler): ContextPooler(\n",
       "    (dense): Linear(in_features=768, out_features=768, bias=True)\n",
       "    (dropout): Dropout(p=0, inplace=False)\n",
       "  )\n",
       "  (classifier): Linear(in_features=768, out_features=3, bias=True)\n",
       "  (dropout): Dropout(p=0.1, inplace=False)\n",
       ")"
      ]
     },
     "execution_count": 31,
     "metadata": {},
     "output_type": "execute_result"
    }
   ],
   "source": [
    "# ------------------------ Load Model -----------------------------\n",
    "tokenizer = AutoTokenizer.from_pretrained(MODEL_LOCAL_DIR)\n",
    "model = AutoModelForSequenceClassification.from_pretrained(MODEL_LOCAL_DIR).to(DEVICE)\n",
    "model.eval()"
   ]
  },
  {
   "cell_type": "code",
   "execution_count": 32,
   "id": "a9d1cd7d-0a9f-4496-9967-6c2b426cb6bb",
   "metadata": {},
   "outputs": [],
   "source": [
    "# ------------------------ Tokenize ------------------------\n",
    "texts = human_eval_df[\"text\"].tolist()\n",
    "labels = human_eval_df[\"label\"].tolist()\n",
    "\n",
    "encodings = tokenizer(\n",
    "    texts,\n",
    "    truncation=True,\n",
    "    padding=True,\n",
    "    max_length=256,\n",
    "    return_tensors=\"pt\"\n",
    ")\n",
    "\n",
    "input_ids = encodings[\"input_ids\"]\n",
    "attention_mask = encodings[\"attention_mask\"]\n",
    "labels_tensor = torch.tensor(labels)\n",
    "\n",
    "dataset = TensorDataset(input_ids, attention_mask, labels_tensor)\n",
    "loader = DataLoader(dataset, batch_size=16)"
   ]
  },
  {
   "cell_type": "code",
   "execution_count": 33,
   "id": "0479b5cf-54ee-48ac-a126-b0414b8481aa",
   "metadata": {},
   "outputs": [],
   "source": [
    "# ------------------------ Evaluate ------------------------\n",
    "all_preds = []\n",
    "all_labels = []\n",
    "\n",
    "with torch.no_grad():\n",
    "    for batch in loader:\n",
    "        input_ids_batch, attention_mask_batch, labels_batch = [b.to(DEVICE) for b in batch]\n",
    "\n",
    "        outputs = model(input_ids=input_ids_batch, attention_mask=attention_mask_batch)\n",
    "        preds = torch.argmax(outputs.logits, dim=1)\n",
    "\n",
    "        all_preds.extend(preds.cpu().numpy())\n",
    "        all_labels.extend(labels_batch.cpu().numpy())"
   ]
  },
  {
   "cell_type": "code",
   "execution_count": 34,
   "id": "0679be9c-ae63-4853-a9b0-1ae72b0f71af",
   "metadata": {},
   "outputs": [
    {
     "name": "stdout",
     "output_type": "stream",
     "text": [
      "Accuracy: 0.8518518518518519\n",
      "Weighted F1: 0.850\n",
      "              precision    recall  f1-score   support\n",
      "\n",
      "           0     0.8500    0.7556    0.8000        45\n",
      "           1     0.8444    0.8444    0.8444        45\n",
      "           2     0.8600    0.9556    0.9053        45\n",
      "\n",
      "    accuracy                         0.8519       135\n",
      "   macro avg     0.8515    0.8519    0.8499       135\n",
      "weighted avg     0.8515    0.8519    0.8499       135\n",
      "\n"
     ]
    }
   ],
   "source": [
    "# ------------------------ Metrics ------------------------\n",
    "print(\"Accuracy:\", accuracy_score(all_labels, all_preds))\n",
    "print(\"Weighted F1: {:.3f}\".format(f1_score(all_labels, all_preds, average=\"weighted\")))\n",
    "print(classification_report(all_labels, all_preds, digits=4))"
   ]
  },
  {
   "cell_type": "code",
   "execution_count": 39,
   "id": "cdebb62a-29ec-4422-87f0-bfb299a06872",
   "metadata": {},
   "outputs": [
    {
     "data": {
      "image/png": "[encoded data removed]",
      "text/plain": [
       "<Figure size 910x770 with 2 Axes>"
      ]
     },
     "metadata": {},
     "output_type": "display_data"
    },
    {
     "data": {
      "text/plain": [
       "'confusion_matrix_human_reviewed_news.png'"
      ]
     },
     "execution_count": 39,
     "metadata": {},
     "output_type": "execute_result"
    }
   ],
   "source": [
    "# ------------------ Confusion Matrix ------------------\n",
    "cm = confusion_matrix(all_labels, all_preds)\n",
    "labels_sorted = sorted(set(labels))  # [0, 1, 2]\n",
    "\n",
    "def plot_cm(cm_mat, labels, title, normalised=False, cmap_name=\"coolwarm\",\n",
    "            savepath=None, show=True, dpi=300):\n",
    "    fig, ax = plt.subplots(figsize=(6.5, 5.5), dpi=140, constrained_layout=True)\n",
    "    disp = ConfusionMatrixDisplay(confusion_matrix=cm_mat, display_labels=labels)\n",
    "    disp.plot(ax=ax, cmap=cmap_name, colorbar=True,\n",
    "              values_format=\".2f\" if normalised else \"d\")\n",
    "\n",
    "    ax.set_title(title, pad=12)\n",
    "    ax.set_xlabel(\"Predicted label\")\n",
    "    ax.set_ylabel(\"True label\")\n",
    "    ax.tick_params(axis=\"x\", labelrotation=0)\n",
    "\n",
    "    # Auto filename if none provided\n",
    "    if savepath is None:\n",
    "        base = re.sub(r\"[^A-Za-z0-9_.-]+\", \"_\", title.strip().lower())\n",
    "        suffix = \"_normalised\" if normalised else \"\"\n",
    "        savepath = f\"{base}{suffix}.png\"\n",
    "\n",
    "    # Save BEFORE showing\n",
    "    fig.savefig(savepath, dpi=dpi, bbox_inches=\"tight\", pad_inches=0.1)\n",
    "\n",
    "    if show:\n",
    "        plt.show()\n",
    "\n",
    "    plt.close(fig)\n",
    "    return savepath\n",
    "\n",
    "plot_cm(cm, labels_sorted, \"Confusion Matrix - Human Reviewed - News\",\n",
    "        normalised=False, savepath=\"confusion_matrix_human_reviewed_news.png\")"
   ]
  },
  {
   "cell_type": "code",
   "execution_count": null,
   "id": "3373196c-d0bc-4204-8f44-55a64d4a5d1c",
   "metadata": {},
   "outputs": [],
   "source": []
  }
 ],
 "metadata": {
  "kernelspec": {
   "display_name": "Python (fusionnet)",
   "language": "python",
   "name": "fusionnet"
  },
  "language_info": {
   "codemirror_mode": {
    "name": "ipython",
    "version": 3
   },
   "file_extension": ".py",
   "mimetype": "text/x-python",
   "name": "python",
   "nbconvert_exporter": "python",
   "pygments_lexer": "ipython3",
   "version": "3.10.18"
  }
 },
 "nbformat": 4,
 "nbformat_minor": 5
}
