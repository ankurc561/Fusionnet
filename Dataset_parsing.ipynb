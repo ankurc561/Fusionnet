{
  "nbformat": 4,
  "nbformat_minor": 0,
  "metadata": {
    "colab": {
      "provenance": []
    },
    "kernelspec": {
      "name": "python3",
      "display_name": "Python 3"
    },
    "language_info": {
      "name": "python"
    }
  },
  "cells": [
    {
      "cell_type": "code",
      "source": [
        "!pip install -U datasets"
      ],
      "metadata": {
        "id": "lFvBnI97VmfY"
      },
      "execution_count": null,
      "outputs": []
    },
    {
      "cell_type": "code",
      "source": [
        "from datasets import load_dataset\n",
        "ds = load_dataset(\"eloukas/edgar-corpus\", \"full\", split=\"train\")\n"
      ],
      "metadata": {
        "id": "KeSD3x1kZUQO"
      },
      "execution_count": null,
      "outputs": []
    },
    {
      "cell_type": "markdown",
      "source": [
        "##Inspect schema"
      ],
      "metadata": {
        "id": "vw7atbroZdUS"
      }
    },
    {
      "cell_type": "code",
      "source": [
        "ds.features           # dict of column names & types\n",
        "ds.column_names       # list of columns: ['filename', 'cik', 'year', 'section_1', …]"
      ],
      "metadata": {
        "id": "gEr0R3uhZZoC"
      },
      "execution_count": null,
      "outputs": []
    },
    {
      "cell_type": "markdown",
      "source": [
        "##Preview examples"
      ],
      "metadata": {
        "id": "UWP7DrtVZfSi"
      }
    },
    {
      "cell_type": "code",
      "source": [
        "ds[0]                 # dict of the first example\n",
        "ds[:5]                # list of first 5 examples"
      ],
      "metadata": {
        "id": "ZcCu3vYkZbX6"
      },
      "execution_count": null,
      "outputs": []
    },
    {
      "cell_type": "markdown",
      "source": [
        "##Filtering"
      ],
      "metadata": {
        "id": "V8WIQ-CyZigU"
      }
    },
    {
      "cell_type": "code",
      "source": [
        "# Keep only filings from year 2020\n",
        "ds_2020 = ds.filter(lambda ex: ex[\"year\"] == \"2020\")"
      ],
      "metadata": {
        "id": "glrVhN2qZjyB"
      },
      "execution_count": null,
      "outputs": []
    },
    {
      "cell_type": "markdown",
      "source": [
        "##Selecting columns"
      ],
      "metadata": {
        "id": "h7zhc8RzZlGH"
      }
    },
    {
      "cell_type": "code",
      "source": [
        "ds_subset = ds.remove_columns([\"section_2\", \"section_3\", …])"
      ],
      "metadata": {
        "id": "1aBhKl-3Znfi"
      },
      "execution_count": null,
      "outputs": []
    },
    {
      "cell_type": "markdown",
      "source": [
        "##Mapping transformations"
      ],
      "metadata": {
        "id": "GnfdsdOZZoax"
      }
    },
    {
      "cell_type": "code",
      "source": [
        "# Create a new field with concatenated MD&A and Risk Factors\n",
        "def concat_sections(ex):\n",
        "    ex[\"mdna_rf\"] = ex[\"section_7\"] + \" \" + ex[\"section_7A\"]\n",
        "    return ex\n",
        "ds2 = ds.map(concat_sections, batched=False)"
      ],
      "metadata": {
        "id": "789mSmqMZpka"
      },
      "execution_count": null,
      "outputs": []
    },
    {
      "cell_type": "markdown",
      "source": [
        "##Batching for inference"
      ],
      "metadata": {
        "id": "1rniQBvsZqos"
      }
    },
    {
      "cell_type": "code",
      "source": [
        "for batch in ds.to_iterable(batch_size=16):\n",
        "    texts = batch[\"section_7\"]\n",
        "    # run FinBERT on these 16 texts"
      ],
      "metadata": {
        "id": "NcRicdizZsdf"
      },
      "execution_count": null,
      "outputs": []
    },
    {
      "cell_type": "markdown",
      "source": [
        "##Conversion to pandas (for small subsets)"
      ],
      "metadata": {
        "id": "Ii0wkCA1Zt_-"
      }
    },
    {
      "cell_type": "code",
      "source": [
        "df = ds_2020.select(range(200)).to_pandas()"
      ],
      "metadata": {
        "id": "9NwwzH_RZtm3"
      },
      "execution_count": null,
      "outputs": []
    }
  ]
}