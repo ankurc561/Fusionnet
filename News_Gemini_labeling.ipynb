{
 "cells": [
  {
   "cell_type": "code",
   "execution_count": 1,
   "id": "2cf2f7bc-cc17-4c3d-921c-a4b98eb0c03e",
   "metadata": {
    "id": "e1764a82-10eb-46d9-8c6c-d3aa57f2935b"
   },
   "outputs": [],
   "source": [
    "from datasets import load_dataset,load_from_disk\n",
    "from google.cloud import storage, bigquery\n",
    "from google import genai\n",
    "import os\n",
    "import json\n",
    "import re\n",
    "import time\n",
    "from tqdm.auto import tqdm\n",
    "from datetime import datetime, timezone\n",
    "from tenacity import retry, stop_after_attempt, wait_random_exponential, retry_if_exception_type\n",
    "from google.api_core.exceptions import ResourceExhausted, ServiceUnavailable\n",
    "import json\n",
    "from itertools import islice\n",
    "from concurrent.futures import ThreadPoolExecutor, as_completed\n",
    "from transformers import AutoTokenizer\n",
    "import warnings"
   ]
  },
  {
   "cell_type": "code",
   "execution_count": 2,
   "id": "5fd6a29a-9148-46cc-bc98-eb5f106f9d23",
   "metadata": {},
   "outputs": [],
   "source": [
    "os.environ[\"GOOGLE_APPLICATION_CREDENTIALS\"] = \"/mnt/disks/data/diss_bucket_key.json\"\n",
    "# Turn off all warnings\n",
    "warnings.filterwarnings('ignore')"
   ]
  },
  {
   "cell_type": "code",
   "execution_count": 3,
   "id": "cf8b81d8-b3ae-4e9c-8b28-134d6eb55598",
   "metadata": {},
   "outputs": [],
   "source": [
    "# Set your parameters\n",
    "BUCKET_NAME = \"diss_market_data\"\n",
    "PROJECT_ID  = \"bamboo-mercury-462915-f0\"\n",
    "BQ_DATASET  = \"edgar_sentiment\"\n",
    "BQ_TABLE    = \"news_scores_overlap\"\n",
    "REGION      = \"europe-west2\"\n",
    "MAX_ARTICLES = 8000  # Limit for testing\n",
    "BATCH_SIZE = 2\n",
    "\n",
    "# Clients\n",
    "storage_client = storage.Client(project=PROJECT_ID)\n",
    "bq_client      = bigquery.Client(project=PROJECT_ID)\n",
    "genai_client   = genai.Client(vertexai=True, project=PROJECT_ID, location=\"us-central1\")\n",
    "bucket = storage_client.bucket(BUCKET_NAME)"
   ]
  },
  {
   "cell_type": "code",
   "execution_count": 4,
   "id": "be44f8d6-145d-4d35-b90d-d0e3d8fa53dd",
   "metadata": {},
   "outputs": [],
   "source": [
    "dataset = load_dataset(\"danidanou/Bloomberg_Financial_News\")"
   ]
  },
  {
   "cell_type": "code",
   "execution_count": 5,
   "id": "1eb8050f-daa6-4376-b3d8-d5623ca84fd9",
   "metadata": {},
   "outputs": [],
   "source": [
    "# shuffle once\n",
    "ds = dataset['train'].shuffle(seed=42)"
   ]
  },
  {
   "cell_type": "code",
   "execution_count": 6,
   "id": "3bf5a414-8422-4772-9b9b-13e59ab794b0",
   "metadata": {},
   "outputs": [
    {
     "data": {
      "text/plain": [
       "Table(TableReference(DatasetReference('bamboo-mercury-462915-f0', 'edgar_sentiment'), 'news_scores_overlap'))"
      ]
     },
     "execution_count": 6,
     "metadata": {},
     "output_type": "execute_result"
    }
   ],
   "source": [
    "# Ensure dataset exists\n",
    "dataset_ref = bigquery.Dataset(f\"{PROJECT_ID}.{BQ_DATASET}\")\n",
    "dataset_ref.location = \"europe-west2\"    # London region\n",
    "bq_client.create_dataset(dataset_ref, exists_ok=True)\n",
    "\n",
    "# === Prepare BigQuery Table ===\n",
    "table_id = f\"{PROJECT_ID}.{BQ_DATASET}.{BQ_TABLE}\"\n",
    "schema = [\n",
    "    bigquery.SchemaField(\"name\", \"STRING\"),\n",
    "    bigquery.SchemaField(\"article\", \"STRING\"),\n",
    "    bigquery.SchemaField(\"sentiment_label\", \"STRING\"),\n",
    "    bigquery.SchemaField(\"sentiment_score\", \"FLOAT\"),\n",
    "    bigquery.SchemaField(\"explanation\", \"STRING\"),  # ✅ New field\n",
    "]\n",
    "bq_client.create_table(bigquery.Table(table_id, schema=schema), exists_ok=True)"
   ]
  },
  {
   "cell_type": "code",
   "execution_count": 7,
   "id": "4c6962ab-a7b0-42a3-b92a-f68740eda7b9",
   "metadata": {},
   "outputs": [],
   "source": [
    "# === Get existing processed names ===\n",
    "query = f\"SELECT DISTINCT name FROM `{table_id}`\"\n",
    "processed_names = {\n",
    "    row[\"name\"] for row in bq_client.query(query).result()\n",
    "}"
   ]
  },
  {
   "cell_type": "code",
   "execution_count": 8,
   "id": "5c8e1eaf-c799-4cd5-91b6-3f42a0e4f9a3",
   "metadata": {},
   "outputs": [],
   "source": [
    "# Load FinBERT tokenizer\n",
    "finbert_tokenizer = AutoTokenizer.from_pretrained(\"yiyanghkust/finbert-tone\")\n",
    "\n",
    "def chunk_article_with_overlap(article, tokenizer, max_tokens=512, stride=384):\n",
    "    \"\"\"\n",
    "    Chunk text using overlapping sliding window of FinBERT tokens.\n",
    "    \"\"\"\n",
    "    tokens = tokenizer(article, return_offsets_mapping=True, truncation=False)\n",
    "    input_ids = tokens[\"input_ids\"]\n",
    "    chunks = []\n",
    "\n",
    "    for start in range(0, len(input_ids), stride):\n",
    "        end = start + max_tokens\n",
    "        chunk_ids = input_ids[start:end]\n",
    "        chunk_text = tokenizer.decode(chunk_ids, skip_special_tokens=True)\n",
    "        chunks.append(chunk_text)\n",
    "        if end >= len(input_ids):\n",
    "            break\n",
    "\n",
    "    return chunks"
   ]
  },
  {
   "cell_type": "code",
   "execution_count": 9,
   "id": "d47f36ac-2770-4ae6-bbb1-92320fdc3663",
   "metadata": {},
   "outputs": [],
   "source": [
    "def analyze_sentiment_single_chunk(chunk):\n",
    "    prompt = f\"\"\"\n",
    "You're a financial sentiment analyst. For the following news chunk, classify the sentiment as **Positive**, **Neutral**, or **Negative**, give a **score** between -1.0 and +1.0, and explain your reasoning in one or two sentences.\n",
    "\n",
    "Respond exactly in this format:\n",
    "\n",
    "Sentiment: <label>  \n",
    "Score: <score>  \n",
    "Explanation: <brief rationale>\n",
    "\n",
    "Chunk:\n",
    "{chunk}\n",
    "\"\"\"\n",
    "    resp = genai_client.models.generate_content(\n",
    "        model=\"gemini-2.0-flash\", contents=[prompt]\n",
    "    )\n",
    "    return resp.text.strip()"
   ]
  },
  {
   "cell_type": "code",
   "execution_count": 10,
   "id": "20ecf8e8-1aac-4789-95ba-51e2fcd05da7",
   "metadata": {},
   "outputs": [],
   "source": [
    "def parse_single_response_with_explanation(resp):\n",
    "    label_match = re.search(r\"Sentiment:\\s*(\\w+)\", resp)\n",
    "    score_match = re.search(r\"Score:\\s*([-+]?\\d*\\.?\\d+)\", resp)\n",
    "    explanation_match = re.search(r\"Explanation:\\s*(.+)\", resp, re.DOTALL)\n",
    "\n",
    "    label = label_match.group(1).capitalize() if label_match else \"Unknown\"\n",
    "    score = float(score_match.group(1)) if score_match else 0.0\n",
    "    explanation = explanation_match.group(1).strip() if explanation_match else \"None\"\n",
    "\n",
    "    return label, score, explanation"
   ]
  },
  {
   "cell_type": "code",
   "execution_count": 11,
   "id": "baaf85fc-d380-4731-b209-c3a861287174",
   "metadata": {},
   "outputs": [
    {
     "data": {
      "application/vnd.jupyter.widget-view+json": {
       "model_id": "26531018ff214973885766bf6b14a7b5",
       "version_major": 2,
       "version_minor": 0
      },
      "text/plain": [
       "Processing overlapping chunks:   0%|          | 0/8000 [00:00<?, ?it/s]"
      ]
     },
     "metadata": {},
     "output_type": "display_data"
    },
    {
     "name": "stdout",
     "output_type": "stream",
     "text": [
      "[WARN] Retry 1 on chunk news_5041_chunk0 failed: 429 RESOURCE_EXHAUSTED. {'error': {'code': 429, 'message': 'Resource exhausted. Please try again later. Please refer to https://cloud.google.com/vertex-ai/generative-ai/docs/error-code-429 for more details.', 'status': 'RESOURCE_EXHAUSTED'}}\n",
      "[WARN] Retry 2 on chunk news_5041_chunk0 failed: 429 RESOURCE_EXHAUSTED. {'error': {'code': 429, 'message': 'Resource exhausted. Please try again later. Please refer to https://cloud.google.com/vertex-ai/generative-ai/docs/error-code-429 for more details.', 'status': 'RESOURCE_EXHAUSTED'}}\n",
      "[WARN] Retry 1 on chunk news_5094_chunk1 failed: 429 RESOURCE_EXHAUSTED. {'error': {'code': 429, 'message': 'Resource exhausted. Please try again later. Please refer to https://cloud.google.com/vertex-ai/generative-ai/docs/error-code-429 for more details.', 'status': 'RESOURCE_EXHAUSTED'}}\n",
      "[WARN] Retry 2 on chunk news_5094_chunk1 failed: 429 RESOURCE_EXHAUSTED. {'error': {'code': 429, 'message': 'Resource exhausted. Please try again later. Please refer to https://cloud.google.com/vertex-ai/generative-ai/docs/error-code-429 for more details.', 'status': 'RESOURCE_EXHAUSTED'}}\n",
      "[WARN] Retry 1 on chunk news_5151_chunk0 failed: 429 RESOURCE_EXHAUSTED. {'error': {'code': 429, 'message': 'Resource exhausted. Please try again later. Please refer to https://cloud.google.com/vertex-ai/generative-ai/docs/error-code-429 for more details.', 'status': 'RESOURCE_EXHAUSTED'}}\n",
      "[WARN] Retry 1 on chunk news_5154_chunk0 failed: 429 RESOURCE_EXHAUSTED. {'error': {'code': 429, 'message': 'Resource exhausted. Please try again later. Please refer to https://cloud.google.com/vertex-ai/generative-ai/docs/error-code-429 for more details.', 'status': 'RESOURCE_EXHAUSTED'}}\n",
      "[WARN] Retry 1 on chunk news_5208_chunk3 failed: 429 RESOURCE_EXHAUSTED. {'error': {'code': 429, 'message': 'Resource exhausted. Please try again later. Please refer to https://cloud.google.com/vertex-ai/generative-ai/docs/error-code-429 for more details.', 'status': 'RESOURCE_EXHAUSTED'}}\n",
      "[WARN] Retry 1 on chunk news_5209_chunk1 failed: 429 RESOURCE_EXHAUSTED. {'error': {'code': 429, 'message': 'Resource exhausted. Please try again later. Please refer to https://cloud.google.com/vertex-ai/generative-ai/docs/error-code-429 for more details.', 'status': 'RESOURCE_EXHAUSTED'}}\n",
      "[WARN] Retry 1 on chunk news_5266_chunk0 failed: 429 RESOURCE_EXHAUSTED. {'error': {'code': 429, 'message': 'Resource exhausted. Please try again later. Please refer to https://cloud.google.com/vertex-ai/generative-ai/docs/error-code-429 for more details.', 'status': 'RESOURCE_EXHAUSTED'}}\n",
      "[WARN] Retry 2 on chunk news_5266_chunk0 failed: 429 RESOURCE_EXHAUSTED. {'error': {'code': 429, 'message': 'Resource exhausted. Please try again later. Please refer to https://cloud.google.com/vertex-ai/generative-ai/docs/error-code-429 for more details.', 'status': 'RESOURCE_EXHAUSTED'}}\n",
      "[WARN] Retry 1 on chunk news_5321_chunk0 failed: 429 RESOURCE_EXHAUSTED. {'error': {'code': 429, 'message': 'Resource exhausted. Please try again later. Please refer to https://cloud.google.com/vertex-ai/generative-ai/docs/error-code-429 for more details.', 'status': 'RESOURCE_EXHAUSTED'}}\n",
      "[WARN] Retry 2 on chunk news_5321_chunk0 failed: 429 RESOURCE_EXHAUSTED. {'error': {'code': 429, 'message': 'Resource exhausted. Please try again later. Please refer to https://cloud.google.com/vertex-ai/generative-ai/docs/error-code-429 for more details.', 'status': 'RESOURCE_EXHAUSTED'}}\n",
      "[WARN] Retry 1 on chunk news_5391_chunk0 failed: 429 RESOURCE_EXHAUSTED. {'error': {'code': 429, 'message': 'Resource exhausted. Please try again later. Please refer to https://cloud.google.com/vertex-ai/generative-ai/docs/error-code-429 for more details.', 'status': 'RESOURCE_EXHAUSTED'}}\n",
      "[WARN] Retry 1 on chunk news_5393_chunk1 failed: 429 RESOURCE_EXHAUSTED. {'error': {'code': 429, 'message': 'Resource exhausted. Please try again later. Please refer to https://cloud.google.com/vertex-ai/generative-ai/docs/error-code-429 for more details.', 'status': 'RESOURCE_EXHAUSTED'}}\n",
      "[WARN] Retry 1 on chunk news_5453_chunk2 failed: 429 RESOURCE_EXHAUSTED. {'error': {'code': 429, 'message': 'Resource exhausted. Please try again later. Please refer to https://cloud.google.com/vertex-ai/generative-ai/docs/error-code-429 for more details.', 'status': 'RESOURCE_EXHAUSTED'}}\n",
      "[WARN] Retry 1 on chunk news_5516_chunk0 failed: 429 RESOURCE_EXHAUSTED. {'error': {'code': 429, 'message': 'Resource exhausted. Please try again later. Please refer to https://cloud.google.com/vertex-ai/generative-ai/docs/error-code-429 for more details.', 'status': 'RESOURCE_EXHAUSTED'}}\n",
      "[WARN] Retry 1 on chunk news_5518_chunk2 failed: 429 RESOURCE_EXHAUSTED. {'error': {'code': 429, 'message': 'Resource exhausted. Please try again later. Please refer to https://cloud.google.com/vertex-ai/generative-ai/docs/error-code-429 for more details.', 'status': 'RESOURCE_EXHAUSTED'}}\n",
      "[WARN] Retry 1 on chunk news_5566_chunk3 failed: 429 RESOURCE_EXHAUSTED. {'error': {'code': 429, 'message': 'Resource exhausted. Please try again later. Please refer to https://cloud.google.com/vertex-ai/generative-ai/docs/error-code-429 for more details.', 'status': 'RESOURCE_EXHAUSTED'}}\n",
      "[WARN] Retry 1 on chunk news_5568_chunk0 failed: 429 RESOURCE_EXHAUSTED. {'error': {'code': 429, 'message': 'Resource exhausted. Please try again later. Please refer to https://cloud.google.com/vertex-ai/generative-ai/docs/error-code-429 for more details.', 'status': 'RESOURCE_EXHAUSTED'}}\n",
      "[WARN] Retry 1 on chunk news_5633_chunk0 failed: 429 RESOURCE_EXHAUSTED. {'error': {'code': 429, 'message': 'Resource exhausted. Please try again later. Please refer to https://cloud.google.com/vertex-ai/generative-ai/docs/error-code-429 for more details.', 'status': 'RESOURCE_EXHAUSTED'}}\n",
      "[WARN] Retry 1 on chunk news_5634_chunk2 failed: 429 RESOURCE_EXHAUSTED. {'error': {'code': 429, 'message': 'Resource exhausted. Please try again later. Please refer to https://cloud.google.com/vertex-ai/generative-ai/docs/error-code-429 for more details.', 'status': 'RESOURCE_EXHAUSTED'}}\n",
      "[WARN] Retry 1 on chunk news_5700_chunk0 failed: 429 RESOURCE_EXHAUSTED. {'error': {'code': 429, 'message': 'Resource exhausted. Please try again later. Please refer to https://cloud.google.com/vertex-ai/generative-ai/docs/error-code-429 for more details.', 'status': 'RESOURCE_EXHAUSTED'}}\n",
      "[WARN] Retry 1 on chunk news_5765_chunk0 failed: 429 RESOURCE_EXHAUSTED. {'error': {'code': 429, 'message': 'Resource exhausted. Please try again later. Please refer to https://cloud.google.com/vertex-ai/generative-ai/docs/error-code-429 for more details.', 'status': 'RESOURCE_EXHAUSTED'}}\n",
      "[WARN] Retry 1 on chunk news_5830_chunk1 failed: 429 RESOURCE_EXHAUSTED. {'error': {'code': 429, 'message': 'Resource exhausted. Please try again later. Please refer to https://cloud.google.com/vertex-ai/generative-ai/docs/error-code-429 for more details.', 'status': 'RESOURCE_EXHAUSTED'}}\n",
      "[WARN] Retry 2 on chunk news_5830_chunk1 failed: 429 RESOURCE_EXHAUSTED. {'error': {'code': 429, 'message': 'Resource exhausted. Please try again later. Please refer to https://cloud.google.com/vertex-ai/generative-ai/docs/error-code-429 for more details.', 'status': 'RESOURCE_EXHAUSTED'}}\n",
      "[WARN] Retry 1 on chunk news_5882_chunk0 failed: 429 RESOURCE_EXHAUSTED. {'error': {'code': 429, 'message': 'Resource exhausted. Please try again later. Please refer to https://cloud.google.com/vertex-ai/generative-ai/docs/error-code-429 for more details.', 'status': 'RESOURCE_EXHAUSTED'}}\n",
      "[WARN] Retry 1 on chunk news_5886_chunk0 failed: 429 RESOURCE_EXHAUSTED. {'error': {'code': 429, 'message': 'Resource exhausted. Please try again later. Please refer to https://cloud.google.com/vertex-ai/generative-ai/docs/error-code-429 for more details.', 'status': 'RESOURCE_EXHAUSTED'}}\n",
      "[WARN] Retry 1 on chunk news_5948_chunk1 failed: 429 RESOURCE_EXHAUSTED. {'error': {'code': 429, 'message': 'Resource exhausted. Please try again later. Please refer to https://cloud.google.com/vertex-ai/generative-ai/docs/error-code-429 for more details.', 'status': 'RESOURCE_EXHAUSTED'}}\n",
      "[WARN] Retry 1 on chunk news_6012_chunk3 failed: 429 RESOURCE_EXHAUSTED. {'error': {'code': 429, 'message': 'Resource exhausted. Please try again later. Please refer to https://cloud.google.com/vertex-ai/generative-ai/docs/error-code-429 for more details.', 'status': 'RESOURCE_EXHAUSTED'}}\n",
      "[WARN] Retry 1 on chunk news_6012_chunk4 failed: 429 RESOURCE_EXHAUSTED. {'error': {'code': 429, 'message': 'Resource exhausted. Please try again later. Please refer to https://cloud.google.com/vertex-ai/generative-ai/docs/error-code-429 for more details.', 'status': 'RESOURCE_EXHAUSTED'}}\n",
      "[WARN] Retry 1 on chunk news_6068_chunk2 failed: 429 RESOURCE_EXHAUSTED. {'error': {'code': 429, 'message': 'Resource exhausted. Please try again later. Please refer to https://cloud.google.com/vertex-ai/generative-ai/docs/error-code-429 for more details.', 'status': 'RESOURCE_EXHAUSTED'}}\n",
      "[WARN] Retry 1 on chunk news_6141_chunk0 failed: 429 RESOURCE_EXHAUSTED. {'error': {'code': 429, 'message': 'Resource exhausted. Please try again later. Please refer to https://cloud.google.com/vertex-ai/generative-ai/docs/error-code-429 for more details.', 'status': 'RESOURCE_EXHAUSTED'}}\n",
      "[WARN] Retry 1 on chunk news_6144_chunk0 failed: 429 RESOURCE_EXHAUSTED. {'error': {'code': 429, 'message': 'Resource exhausted. Please try again later. Please refer to https://cloud.google.com/vertex-ai/generative-ai/docs/error-code-429 for more details.', 'status': 'RESOURCE_EXHAUSTED'}}\n",
      "[WARN] Retry 1 on chunk news_6201_chunk0 failed: 429 RESOURCE_EXHAUSTED. {'error': {'code': 429, 'message': 'Resource exhausted. Please try again later. Please refer to https://cloud.google.com/vertex-ai/generative-ai/docs/error-code-429 for more details.', 'status': 'RESOURCE_EXHAUSTED'}}\n",
      "[WARN] Retry 1 on chunk news_6201_chunk2 failed: 429 RESOURCE_EXHAUSTED. {'error': {'code': 429, 'message': 'Resource exhausted. Please try again later. Please refer to https://cloud.google.com/vertex-ai/generative-ai/docs/error-code-429 for more details.', 'status': 'RESOURCE_EXHAUSTED'}}\n",
      "[WARN] Retry 1 on chunk news_6276_chunk8 failed: 429 RESOURCE_EXHAUSTED. {'error': {'code': 429, 'message': 'Resource exhausted. Please try again later. Please refer to https://cloud.google.com/vertex-ai/generative-ai/docs/error-code-429 for more details.', 'status': 'RESOURCE_EXHAUSTED'}}\n",
      "[WARN] Retry 1 on chunk news_6277_chunk2 failed: 429 RESOURCE_EXHAUSTED. {'error': {'code': 429, 'message': 'Resource exhausted. Please try again later. Please refer to https://cloud.google.com/vertex-ai/generative-ai/docs/error-code-429 for more details.', 'status': 'RESOURCE_EXHAUSTED'}}\n",
      "[WARN] Retry 1 on chunk news_6331_chunk0 failed: 429 RESOURCE_EXHAUSTED. {'error': {'code': 429, 'message': 'Resource exhausted. Please try again later. Please refer to https://cloud.google.com/vertex-ai/generative-ai/docs/error-code-429 for more details.', 'status': 'RESOURCE_EXHAUSTED'}}\n",
      "[WARN] Retry 1 on chunk news_6404_chunk1 failed: 429 RESOURCE_EXHAUSTED. {'error': {'code': 429, 'message': 'Resource exhausted. Please try again later. Please refer to https://cloud.google.com/vertex-ai/generative-ai/docs/error-code-429 for more details.', 'status': 'RESOURCE_EXHAUSTED'}}\n",
      "[WARN] Retry 2 on chunk news_6404_chunk1 failed: 429 RESOURCE_EXHAUSTED. {'error': {'code': 429, 'message': 'Resource exhausted. Please try again later. Please refer to https://cloud.google.com/vertex-ai/generative-ai/docs/error-code-429 for more details.', 'status': 'RESOURCE_EXHAUSTED'}}\n",
      "[WARN] Retry 1 on chunk news_6456_chunk0 failed: 429 RESOURCE_EXHAUSTED. {'error': {'code': 429, 'message': 'Resource exhausted. Please try again later. Please refer to https://cloud.google.com/vertex-ai/generative-ai/docs/error-code-429 for more details.', 'status': 'RESOURCE_EXHAUSTED'}}\n",
      "[WARN] Retry 2 on chunk news_6456_chunk0 failed: 429 RESOURCE_EXHAUSTED. {'error': {'code': 429, 'message': 'Resource exhausted. Please try again later. Please refer to https://cloud.google.com/vertex-ai/generative-ai/docs/error-code-429 for more details.', 'status': 'RESOURCE_EXHAUSTED'}}\n",
      "[WARN] Retry 1 on chunk news_6506_chunk0 failed: 429 RESOURCE_EXHAUSTED. {'error': {'code': 429, 'message': 'Resource exhausted. Please try again later. Please refer to https://cloud.google.com/vertex-ai/generative-ai/docs/error-code-429 for more details.', 'status': 'RESOURCE_EXHAUSTED'}}\n",
      "[WARN] Retry 2 on chunk news_6506_chunk0 failed: 429 RESOURCE_EXHAUSTED. {'error': {'code': 429, 'message': 'Resource exhausted. Please try again later. Please refer to https://cloud.google.com/vertex-ai/generative-ai/docs/error-code-429 for more details.', 'status': 'RESOURCE_EXHAUSTED'}}\n",
      "[WARN] Retry 1 on chunk news_6571_chunk3 failed: 429 RESOURCE_EXHAUSTED. {'error': {'code': 429, 'message': 'Resource exhausted. Please try again later. Please refer to https://cloud.google.com/vertex-ai/generative-ai/docs/error-code-429 for more details.', 'status': 'RESOURCE_EXHAUSTED'}}\n",
      "[WARN] Retry 1 on chunk news_6639_chunk0 failed: 429 RESOURCE_EXHAUSTED. {'error': {'code': 429, 'message': 'Resource exhausted. Please try again later. Please refer to https://cloud.google.com/vertex-ai/generative-ai/docs/error-code-429 for more details.', 'status': 'RESOURCE_EXHAUSTED'}}\n",
      "[WARN] Retry 1 on chunk news_6641_chunk2 failed: 429 RESOURCE_EXHAUSTED. {'error': {'code': 429, 'message': 'Resource exhausted. Please try again later. Please refer to https://cloud.google.com/vertex-ai/generative-ai/docs/error-code-429 for more details.', 'status': 'RESOURCE_EXHAUSTED'}}\n",
      "[WARN] Retry 1 on chunk news_6695_chunk0 failed: 429 RESOURCE_EXHAUSTED. {'error': {'code': 429, 'message': 'Resource exhausted. Please try again later. Please refer to https://cloud.google.com/vertex-ai/generative-ai/docs/error-code-429 for more details.', 'status': 'RESOURCE_EXHAUSTED'}}\n",
      "[WARN] Retry 2 on chunk news_6695_chunk0 failed: 429 RESOURCE_EXHAUSTED. {'error': {'code': 429, 'message': 'Resource exhausted. Please try again later. Please refer to https://cloud.google.com/vertex-ai/generative-ai/docs/error-code-429 for more details.', 'status': 'RESOURCE_EXHAUSTED'}}\n",
      "[WARN] Retry 1 on chunk news_6752_chunk0 failed: 429 RESOURCE_EXHAUSTED. {'error': {'code': 429, 'message': 'Resource exhausted. Please try again later. Please refer to https://cloud.google.com/vertex-ai/generative-ai/docs/error-code-429 for more details.', 'status': 'RESOURCE_EXHAUSTED'}}\n",
      "[WARN] Retry 2 on chunk news_6752_chunk0 failed: 429 RESOURCE_EXHAUSTED. {'error': {'code': 429, 'message': 'Resource exhausted. Please try again later. Please refer to https://cloud.google.com/vertex-ai/generative-ai/docs/error-code-429 for more details.', 'status': 'RESOURCE_EXHAUSTED'}}\n",
      "[WARN] Retry 1 on chunk news_6812_chunk1 failed: 429 RESOURCE_EXHAUSTED. {'error': {'code': 429, 'message': 'Resource exhausted. Please try again later. Please refer to https://cloud.google.com/vertex-ai/generative-ai/docs/error-code-429 for more details.', 'status': 'RESOURCE_EXHAUSTED'}}\n",
      "[WARN] Retry 2 on chunk news_6812_chunk1 failed: 429 RESOURCE_EXHAUSTED. {'error': {'code': 429, 'message': 'Resource exhausted. Please try again later. Please refer to https://cloud.google.com/vertex-ai/generative-ai/docs/error-code-429 for more details.', 'status': 'RESOURCE_EXHAUSTED'}}\n",
      "[WARN] Retry 1 on chunk news_6872_chunk0 failed: 429 RESOURCE_EXHAUSTED. {'error': {'code': 429, 'message': 'Resource exhausted. Please try again later. Please refer to https://cloud.google.com/vertex-ai/generative-ai/docs/error-code-429 for more details.', 'status': 'RESOURCE_EXHAUSTED'}}\n",
      "[WARN] Retry 1 on chunk news_6873_chunk0 failed: 429 RESOURCE_EXHAUSTED. {'error': {'code': 429, 'message': 'Resource exhausted. Please try again later. Please refer to https://cloud.google.com/vertex-ai/generative-ai/docs/error-code-429 for more details.', 'status': 'RESOURCE_EXHAUSTED'}}\n",
      "[WARN] Retry 1 on chunk news_6938_chunk0 failed: 429 RESOURCE_EXHAUSTED. {'error': {'code': 429, 'message': 'Resource exhausted. Please try again later. Please refer to https://cloud.google.com/vertex-ai/generative-ai/docs/error-code-429 for more details.', 'status': 'RESOURCE_EXHAUSTED'}}\n",
      "[WARN] Retry 2 on chunk news_6938_chunk0 failed: 429 RESOURCE_EXHAUSTED. {'error': {'code': 429, 'message': 'Resource exhausted. Please try again later. Please refer to https://cloud.google.com/vertex-ai/generative-ai/docs/error-code-429 for more details.', 'status': 'RESOURCE_EXHAUSTED'}}\n",
      "[WARN] Retry 1 on chunk news_6993_chunk1 failed: 429 RESOURCE_EXHAUSTED. {'error': {'code': 429, 'message': 'Resource exhausted. Please try again later. Please refer to https://cloud.google.com/vertex-ai/generative-ai/docs/error-code-429 for more details.', 'status': 'RESOURCE_EXHAUSTED'}}\n",
      "[WARN] Retry 1 on chunk news_7051_chunk0 failed: 429 RESOURCE_EXHAUSTED. {'error': {'code': 429, 'message': 'Resource exhausted. Please try again later. Please refer to https://cloud.google.com/vertex-ai/generative-ai/docs/error-code-429 for more details.', 'status': 'RESOURCE_EXHAUSTED'}}\n",
      "[WARN] Retry 1 on chunk news_7051_chunk1 failed: 429 RESOURCE_EXHAUSTED. {'error': {'code': 429, 'message': 'Resource exhausted. Please try again later. Please refer to https://cloud.google.com/vertex-ai/generative-ai/docs/error-code-429 for more details.', 'status': 'RESOURCE_EXHAUSTED'}}\n",
      "[WARN] Retry 1 on chunk news_7098_chunk0 failed: 429 RESOURCE_EXHAUSTED. {'error': {'code': 429, 'message': 'Resource exhausted. Please try again later. Please refer to https://cloud.google.com/vertex-ai/generative-ai/docs/error-code-429 for more details.', 'status': 'RESOURCE_EXHAUSTED'}}\n",
      "[WARN] Retry 1 on chunk news_7161_chunk0 failed: 429 RESOURCE_EXHAUSTED. {'error': {'code': 429, 'message': 'Resource exhausted. Please try again later. Please refer to https://cloud.google.com/vertex-ai/generative-ai/docs/error-code-429 for more details.', 'status': 'RESOURCE_EXHAUSTED'}}\n",
      "[WARN] Retry 2 on chunk news_7161_chunk0 failed: 429 RESOURCE_EXHAUSTED. {'error': {'code': 429, 'message': 'Resource exhausted. Please try again later. Please refer to https://cloud.google.com/vertex-ai/generative-ai/docs/error-code-429 for more details.', 'status': 'RESOURCE_EXHAUSTED'}}\n",
      "[WARN] Retry 1 on chunk news_7222_chunk0 failed: 429 RESOURCE_EXHAUSTED. {'error': {'code': 429, 'message': 'Resource exhausted. Please try again later. Please refer to https://cloud.google.com/vertex-ai/generative-ai/docs/error-code-429 for more details.', 'status': 'RESOURCE_EXHAUSTED'}}\n",
      "[WARN] Retry 1 on chunk news_7305_chunk0 failed: 429 RESOURCE_EXHAUSTED. {'error': {'code': 429, 'message': 'Resource exhausted. Please try again later. Please refer to https://cloud.google.com/vertex-ai/generative-ai/docs/error-code-429 for more details.', 'status': 'RESOURCE_EXHAUSTED'}}\n",
      "[WARN] Retry 1 on chunk news_7373_chunk0 failed: 429 RESOURCE_EXHAUSTED. {'error': {'code': 429, 'message': 'Resource exhausted. Please try again later. Please refer to https://cloud.google.com/vertex-ai/generative-ai/docs/error-code-429 for more details.', 'status': 'RESOURCE_EXHAUSTED'}}\n",
      "[WARN] Retry 2 on chunk news_7373_chunk0 failed: 429 RESOURCE_EXHAUSTED. {'error': {'code': 429, 'message': 'Resource exhausted. Please try again later. Please refer to https://cloud.google.com/vertex-ai/generative-ai/docs/error-code-429 for more details.', 'status': 'RESOURCE_EXHAUSTED'}}\n",
      "[WARN] Retry 1 on chunk news_7436_chunk1 failed: 429 RESOURCE_EXHAUSTED. {'error': {'code': 429, 'message': 'Resource exhausted. Please try again later. Please refer to https://cloud.google.com/vertex-ai/generative-ai/docs/error-code-429 for more details.', 'status': 'RESOURCE_EXHAUSTED'}}\n",
      "[WARN] Retry 1 on chunk news_7436_chunk3 failed: 429 RESOURCE_EXHAUSTED. {'error': {'code': 429, 'message': 'Resource exhausted. Please try again later. Please refer to https://cloud.google.com/vertex-ai/generative-ai/docs/error-code-429 for more details.', 'status': 'RESOURCE_EXHAUSTED'}}\n",
      "[WARN] Retry 1 on chunk news_7490_chunk1 failed: 429 RESOURCE_EXHAUSTED. {'error': {'code': 429, 'message': 'Resource exhausted. Please try again later. Please refer to https://cloud.google.com/vertex-ai/generative-ai/docs/error-code-429 for more details.', 'status': 'RESOURCE_EXHAUSTED'}}\n",
      "[WARN] Retry 1 on chunk news_7560_chunk2 failed: 429 RESOURCE_EXHAUSTED. {'error': {'code': 429, 'message': 'Resource exhausted. Please try again later. Please refer to https://cloud.google.com/vertex-ai/generative-ai/docs/error-code-429 for more details.', 'status': 'RESOURCE_EXHAUSTED'}}\n",
      "[WARN] Retry 1 on chunk news_7667_chunk0 failed: 429 RESOURCE_EXHAUSTED. {'error': {'code': 429, 'message': 'Resource exhausted. Please try again later. Please refer to https://cloud.google.com/vertex-ai/generative-ai/docs/error-code-429 for more details.', 'status': 'RESOURCE_EXHAUSTED'}}\n",
      "[WARN] Retry 1 on chunk news_7716_chunk0 failed: 429 RESOURCE_EXHAUSTED. {'error': {'code': 429, 'message': 'Resource exhausted. Please try again later. Please refer to https://cloud.google.com/vertex-ai/generative-ai/docs/error-code-429 for more details.', 'status': 'RESOURCE_EXHAUSTED'}}\n",
      "[WARN] Retry 1 on chunk news_7716_chunk1 failed: 429 RESOURCE_EXHAUSTED. {'error': {'code': 429, 'message': 'Resource exhausted. Please try again later. Please refer to https://cloud.google.com/vertex-ai/generative-ai/docs/error-code-429 for more details.', 'status': 'RESOURCE_EXHAUSTED'}}\n",
      "[WARN] Retry 1 on chunk news_7779_chunk0 failed: 429 RESOURCE_EXHAUSTED. {'error': {'code': 429, 'message': 'Resource exhausted. Please try again later. Please refer to https://cloud.google.com/vertex-ai/generative-ai/docs/error-code-429 for more details.', 'status': 'RESOURCE_EXHAUSTED'}}\n",
      "Inserted final 16 rows.\n"
     ]
    }
   ],
   "source": [
    "rows_to_insert = []\n",
    "BATCH_INSERT_SIZE = 20\n",
    "\n",
    "for i in tqdm(range(0, min(len(ds), MAX_ARTICLES)), desc=\"Processing overlapping chunks\"):\n",
    "    article = ds[i][\"Article\"]\n",
    "    name_base = f\"news_{i}\"\n",
    "    chunks = chunk_article_with_overlap(article, tokenizer=finbert_tokenizer)\n",
    "\n",
    "    for j, chunk in enumerate(chunks):\n",
    "        chunk_name = f\"{name_base}_chunk{j}\"\n",
    "        if chunk_name in processed_names:\n",
    "            continue\n",
    "\n",
    "        MAX_RETRIES = 5\n",
    "        DELAY_SEC = 15\n",
    "        for attempt in range(1, MAX_RETRIES + 1):\n",
    "            try:\n",
    "                resp = analyze_sentiment_single_chunk(chunk)\n",
    "                label, score, explanation = parse_single_response_with_explanation(resp)\n",
    "                break\n",
    "            except Exception as e:\n",
    "                if attempt < MAX_RETRIES:\n",
    "                    print(f\"[WARN] Retry {attempt} on chunk {chunk_name} failed: {e}\")\n",
    "                    time.sleep(DELAY_SEC)\n",
    "                else:\n",
    "                    raise\n",
    "\n",
    "        rows_to_insert.append({\n",
    "            \"name\": chunk_name,\n",
    "            \"article\": chunk,\n",
    "            \"sentiment_label\": label,\n",
    "            \"sentiment_score\": score,\n",
    "            \"explanation\": explanation,\n",
    "        })\n",
    "\n",
    "        if len(rows_to_insert) >= BATCH_INSERT_SIZE:\n",
    "            bq_client.insert_rows_json(table_id, rows_to_insert)\n",
    "            processed_names.update(row[\"name\"] for row in rows_to_insert)\n",
    "            rows_to_insert = []\n",
    "\n",
    "# Final flush\n",
    "if rows_to_insert:\n",
    "    bq_client.insert_rows_json(table_id, rows_to_insert)\n",
    "    print(f\"Inserted final {len(rows_to_insert)} rows.\")\n"
   ]
  },
  {
   "cell_type": "code",
   "execution_count": null,
   "id": "6f64fe30-a99f-49f1-8415-9202d46b2801",
   "metadata": {},
   "outputs": [],
   "source": []
  }
 ],
 "metadata": {
  "environment": {
   "kernel": "conda-env-pytorch-pytorch",
   "name": "workbench-notebooks.m131",
   "type": "gcloud",
   "uri": "us-docker.pkg.dev/deeplearning-platform-release/gcr.io/workbench-notebooks:m131"
  },
  "kernelspec": {
   "display_name": "Python (fusionnet)",
   "language": "python",
   "name": "fusionnet"
  },
  "language_info": {
   "codemirror_mode": {
    "name": "ipython",
    "version": 3
   },
   "file_extension": ".py",
   "mimetype": "text/x-python",
   "name": "python",
   "nbconvert_exporter": "python",
   "pygments_lexer": "ipython3",
   "version": "3.10.18"
  }
 },
 "nbformat": 4,
 "nbformat_minor": 5
}
